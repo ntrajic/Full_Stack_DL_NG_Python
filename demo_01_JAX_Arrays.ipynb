{
 "cells": [
  {
   "cell_type": "code",
   "execution_count": null,
   "metadata": {
    "id": "KI2hSp0AegZj"
   },
   "outputs": [],
   "source": []
  },
  {
   "cell_type": "markdown",
   "metadata": {
    "id": "TbcjawU4egvz"
   },
   "source": [
    "# TODO Recording:\n",
    "\n",
    "- Before starting recording make sure you show enabling line numbers\n",
    "- Also make sure that the current runtime is GPU"
   ]
  },
  {
   "cell_type": "markdown",
   "metadata": {
    "id": "IhjtMiolOAIT",
    "papermill": {
     "duration": 0.021974,
     "end_time": "2021-07-27T14:50:00.304537",
     "exception": false,
     "start_time": "2021-07-27T14:50:00.282563",
     "status": "completed"
    },
    "tags": []
   },
   "source": [
    "# What is JAX?\n",
    "\n",
    "**JAX** is a framework that is specifically suited for Machine Learning Research. A few points about JAX:\n",
    "1. It's just like `numpy` but uses a compiler (XLA) to compile native Numpy code, and runs on acceleartors (GPU/TPU)\n",
    "2. For automatic differentiation, JAX uses `Autograd`. It automatically differentiates native Python and Numpy code.\n",
    "3. JAX is used to express numerical programs as compositions but with certain constraints e.g. JAX transformation and compilation are designed to work only on Python functions that are functionally pure. A function is pure if it always returns the same value when invoked with same arguments, and the function has no-side affect e.g. chaning the state of a non-local variables\n",
    "4. In terms of syntax, JAX is very very similar to numpy but there are subtle differences that you should be aware of. \n"
   ]
  },
  {
   "cell_type": "code",
   "execution_count": 1,
   "metadata": {
    "colab": {
     "base_uri": "https://localhost:8080/"
    },
    "id": "pmB2I22uFvqo",
    "outputId": "8ef11764-db23-4164-ffdb-20036d77583d"
   },
   "outputs": [
    {
     "name": "stdout",
     "output_type": "stream",
     "text": [
      "Looking in indexes: https://pypi.org/simple, https://us-python.pkg.dev/colab-wheels/public/simple/\n",
      "Requirement already satisfied: jax in /usr/local/lib/python3.7/dist-packages (0.3.14)\n",
      "Requirement already satisfied: opt-einsum in /usr/local/lib/python3.7/dist-packages (from jax) (3.3.0)\n",
      "Requirement already satisfied: numpy>=1.19 in /usr/local/lib/python3.7/dist-packages (from jax) (1.21.6)\n",
      "Requirement already satisfied: etils[epath] in /usr/local/lib/python3.7/dist-packages (from jax) (0.6.0)\n",
      "Requirement already satisfied: absl-py in /usr/local/lib/python3.7/dist-packages (from jax) (1.2.0)\n",
      "Requirement already satisfied: typing-extensions in /usr/local/lib/python3.7/dist-packages (from jax) (4.1.1)\n",
      "Requirement already satisfied: scipy>=1.5 in /usr/local/lib/python3.7/dist-packages (from jax) (1.7.3)\n",
      "Requirement already satisfied: importlib_resources in /usr/local/lib/python3.7/dist-packages (from etils[epath]->jax) (5.8.0)\n",
      "Requirement already satisfied: zipp in /usr/local/lib/python3.7/dist-packages (from etils[epath]->jax) (3.8.1)\n"
     ]
    }
   ],
   "source": [
    "!pip install jax"
   ]
  },
  {
   "cell_type": "code",
   "execution_count": 1,
   "metadata": {
    "id": "GKSEBzAdFvqp"
   },
   "outputs": [],
   "source": [
    "import jax\n",
    "import numpy as np\n",
    "import jax.numpy as jnp\n",
    "\n",
    "from jax import random"
   ]
  },
  {
   "cell_type": "code",
   "execution_count": 2,
   "metadata": {
    "colab": {
     "base_uri": "https://localhost:8080/",
     "height": 35
    },
    "id": "mWlbBfqYFvqp",
    "outputId": "522f0934-c6e8-4bec-f124-296dbced870e"
   },
   "outputs": [
    {
     "data": {
      "application/vnd.google.colaboratory.intrinsic+json": {
       "type": "string"
      },
      "text/plain": [
       "'0.3.14'"
      ]
     },
     "execution_count": 2,
     "metadata": {},
     "output_type": "execute_result"
    }
   ],
   "source": [
    "jax.__version__"
   ]
  },
  {
   "cell_type": "markdown",
   "metadata": {
    "id": "LzZftb0R5ULl"
   },
   "source": [
    "# NumPy arrays vs JAX arrays\n",
    "\n",
    "`jax numpy` is very very similar to `numpy` in terms of API. *Most of the operations* that you do in numpy are also available in jax numpy with similar semantics. I am just listing down a few operations to showcase this but there are many more. Please check the [docs](https://jax.readthedocs.io/en/latest/jax.numpy.html) to see the list of functions that are available.\n",
    "\n",
    "**Note:** Not all Numpy functions are implemented in JAX numpy (..yet)"
   ]
  },
  {
   "cell_type": "markdown",
   "metadata": {
    "id": "KbB9gid35yF5"
   },
   "source": [
    "Here we are comparing numpy arrays with Jax arrays"
   ]
  },
  {
   "cell_type": "code",
   "execution_count": 3,
   "metadata": {
    "colab": {
     "base_uri": "https://localhost:8080/"
    },
    "id": "y2Zs0cX5SGUU",
    "outputId": "62621610-0cf2-419c-ff43-554ddf5ed2bb"
   },
   "outputs": [
    {
     "data": {
      "text/plain": [
       "array([1, 2, 3, 4, 5])"
      ]
     },
     "execution_count": 3,
     "metadata": {},
     "output_type": "execute_result"
    }
   ],
   "source": [
    "array_np = np.array([1, 2, 3, 4, 5])\n",
    "array_np"
   ]
  },
  {
   "cell_type": "code",
   "execution_count": 4,
   "metadata": {
    "colab": {
     "base_uri": "https://localhost:8080/"
    },
    "id": "mgrPDpDMSPaC",
    "outputId": "805241c4-5c27-413d-e0ec-e1bd5719d0a2"
   },
   "outputs": [
    {
     "data": {
      "text/plain": [
       "DeviceArray([1, 2, 3, 4, 5], dtype=int32)"
      ]
     },
     "execution_count": 4,
     "metadata": {},
     "output_type": "execute_result"
    }
   ],
   "source": [
    "array_jax = jnp.array([1, 2, 3, 4, 5])\n",
    "array_jax"
   ]
  },
  {
   "cell_type": "markdown",
   "metadata": {
    "id": "ldxfR6B86AVt"
   },
   "source": [
    "data types are passed explicitly\n",
    "\n"
   ]
  },
  {
   "cell_type": "code",
   "execution_count": 5,
   "metadata": {
    "colab": {
     "base_uri": "https://localhost:8080/"
    },
    "id": "BZDwU-61PjIT",
    "outputId": "1e202316-69f9-4787-9d84-a861c73237ee"
   },
   "outputs": [
    {
     "data": {
      "text/plain": [
       "array([1, 2, 3, 4, 5], dtype=int32)"
      ]
     },
     "execution_count": 5,
     "metadata": {},
     "output_type": "execute_result"
    }
   ],
   "source": [
    "array_np = np.array([1, 2, 3, 4, 5], dtype = np.int32)\n",
    "array_np"
   ]
  },
  {
   "cell_type": "code",
   "execution_count": 6,
   "metadata": {
    "colab": {
     "base_uri": "https://localhost:8080/"
    },
    "id": "N6_VmhiSQJgX",
    "outputId": "17fa2b94-612e-429b-eea4-257b1868c681"
   },
   "outputs": [
    {
     "data": {
      "text/plain": [
       "DeviceArray([1, 2, 3, 4, 5], dtype=int32)"
      ]
     },
     "execution_count": 6,
     "metadata": {},
     "output_type": "execute_result"
    }
   ],
   "source": [
    "array_jax = jnp.array([1, 2, 3, 4, 5], dtype = jnp.int32)\n",
    "array_jax"
   ]
  },
  {
   "cell_type": "markdown",
   "metadata": {
    "id": "E55KosSoOAIY",
    "papermill": {
     "duration": 0.023864,
     "end_time": "2021-07-27T14:50:02.602414",
     "exception": false,
     "start_time": "2021-07-27T14:50:02.578550",
     "status": "completed"
    },
    "tags": []
   },
   "source": [
    "# DeviceArray\n",
    "\n",
    "`array_np` is an object of **`ndarray`** while `array_jax` is an object of **`DeviceArray`**. \n",
    "\n",
    "Following are the points that you should know about **`DeviceArray`**:\n",
    "1. It is the core underlying JAX array object, similar to `ndarray` but with subtle differences\n",
    "2. Unlike `ndarray`, `DeviceArray` is backed by a memory buffer on a single device (CPU/GPU/TPU)\n",
    "3. It is **device-agnostic** i.e. JAX doesn't need to track the device on which the array is present, and can avoid data transfers\n",
    "4. Because it is device agnostic, this makes it easy to run the same JAX code on CPU, GPU, or TPU with no code changes\n",
    "5. `DeviceArray` is **lazy** i.e. the value of a JAX `DeviceArray` isn't immediately available and is only pulled when requested.\n",
    "6. Even though `DeviceArray` is lazy, you can still do operations like inspecting the shape or type of a DeviceArray without waiting for the computation that produced it to complete. We can even pass it to another JAX computation.\n",
    "\n",
    "The two properties **lazy evaluation**, and being **device-agnostic** give **`DeviceArray`** a huge advantage and greatly improve the performance of computations we perform using JAX"
   ]
  },
  {
   "cell_type": "code",
   "execution_count": 7,
   "metadata": {
    "colab": {
     "base_uri": "https://localhost:8080/"
    },
    "id": "bUTbbcUqQzug",
    "outputId": "bbe640a5-ebc0-4ff0-8ab2-c1753670be2f"
   },
   "outputs": [
    {
     "name": "stdout",
     "output_type": "stream",
     "text": [
      "Type of Numpy Array : <class 'numpy.ndarray'>\n",
      "Type of JAX Array : <class 'jaxlib.xla_extension.DeviceArray'>\n"
     ]
    }
   ],
   "source": [
    "print('Type of Numpy Array :', type(array_np))\n",
    "print('Type of JAX Array :', type(array_jax))"
   ]
  },
  {
   "cell_type": "code",
   "execution_count": 8,
   "metadata": {
    "colab": {
     "base_uri": "https://localhost:8080/"
    },
    "id": "xoorb1b4R-hX",
    "outputId": "ba4c3b9a-1eb2-4908-c29e-8afb59b771c5"
   },
   "outputs": [
    {
     "data": {
      "text/plain": [
       "(array([0, 1, 2, 3, 4, 5, 6, 7, 8, 9]),\n",
       " DeviceArray([0, 1, 2, 3, 4, 5, 6, 7, 8, 9], dtype=int32))"
      ]
     },
     "execution_count": 8,
     "metadata": {},
     "output_type": "execute_result"
    }
   ],
   "source": [
    "array_np = np.arange(10)\n",
    "array_jax = jnp.arange(10)\n",
    "\n",
    "array_np, array_jax"
   ]
  },
  {
   "cell_type": "code",
   "execution_count": 9,
   "metadata": {
    "colab": {
     "base_uri": "https://localhost:8080/"
    },
    "id": "UzPJhu0-Uaut",
    "outputId": "9ea4fdc1-3ac7-4515-aa56-fb4522b331f9"
   },
   "outputs": [
    {
     "data": {
      "text/plain": [
       "(array([ 1.,  2.,  3.,  4.,  5.,  6.,  7.,  8.,  9., 10.]),\n",
       " DeviceArray([ 1.       ,  2.       ,  3.       ,  4.       ,  5.       ,\n",
       "               6.       ,  7.0000005,  8.       ,  9.       , 10.       ],            dtype=float32))"
      ]
     },
     "execution_count": 9,
     "metadata": {},
     "output_type": "execute_result"
    }
   ],
   "source": [
    "array_np = np.linspace(1, 10, 10)\n",
    "array_jax = jnp.linspace(1, 10, 10)\n",
    "\n",
    "array_np, array_jax"
   ]
  },
  {
   "cell_type": "markdown",
   "metadata": {
    "id": "yEnyD4Yf8ajD"
   },
   "source": [
    "Sum and mean works in both numpy and JAX arrays same way"
   ]
  },
  {
   "cell_type": "code",
   "execution_count": 10,
   "metadata": {
    "colab": {
     "base_uri": "https://localhost:8080/"
    },
    "id": "zPnoPtbQwqcp",
    "outputId": "73624526-451f-493d-de84-7e2c3f2f71d1"
   },
   "outputs": [
    {
     "name": "stdout",
     "output_type": "stream",
     "text": [
      "Sum of numpy array elements : 55.0\n",
      "Sum of JAX array elements : 55.0\n"
     ]
    }
   ],
   "source": [
    "print('Sum of numpy array elements :', array_np.sum())\n",
    "print('Sum of JAX array elements :', array_jax.sum())"
   ]
  },
  {
   "cell_type": "code",
   "execution_count": 11,
   "metadata": {
    "colab": {
     "base_uri": "https://localhost:8080/"
    },
    "id": "ARzWoSmTwqYb",
    "outputId": "172d78e1-f0c6-46e9-d002-5e6681866fb3"
   },
   "outputs": [
    {
     "name": "stdout",
     "output_type": "stream",
     "text": [
      "Sum of numpy array elements : 5.5\n",
      "Sum of JAX array elements : 5.5\n"
     ]
    }
   ],
   "source": [
    "print('Mean of numpy array elements :', array_np.mean())\n",
    "print('Mean of JAX array elements :', array_jax.mean())"
   ]
  },
  {
   "cell_type": "markdown",
   "metadata": {
    "id": "Jh6qisjJOAIa",
    "papermill": {
     "duration": 0.022622,
     "end_time": "2021-07-27T14:50:02.648079",
     "exception": false,
     "start_time": "2021-07-27T14:50:02.625457",
     "status": "completed"
    },
    "tags": []
   },
   "source": [
    "Some of other operations are also comapred like transpose,reshape,Matrix multiplication"
   ]
  },
  {
   "cell_type": "code",
   "execution_count": 12,
   "metadata": {
    "colab": {
     "base_uri": "https://localhost:8080/"
    },
    "id": "bG095gINcqZw",
    "outputId": "beb1d65f-181f-462f-ed22-c501e62bba5b"
   },
   "outputs": [
    {
     "name": "stdout",
     "output_type": "stream",
     "text": [
      "Numpy array:\n",
      " [[1 2 3]\n",
      " [4 5 6]]\n",
      "\n",
      "Numpy array transposed:\n",
      " [[1 4]\n",
      " [2 5]\n",
      " [3 6]]\n"
     ]
    }
   ],
   "source": [
    "array_np = np.array([[1, 2, 3], [4, 5, 6]])\n",
    "print('Numpy array:\\n', array_np)\n",
    "\n",
    "array_np_transposed = array_np.T\n",
    "print('\\nNumpy array transposed:\\n', array_np_transposed)"
   ]
  },
  {
   "cell_type": "code",
   "execution_count": 13,
   "metadata": {
    "colab": {
     "base_uri": "https://localhost:8080/"
    },
    "id": "VnhPIPsTvcbY",
    "outputId": "22bc9ed7-0c95-4068-9d9a-e0bddc4b9a03"
   },
   "outputs": [
    {
     "name": "stdout",
     "output_type": "stream",
     "text": [
      "JAX array:\n",
      " [[1 2 3]\n",
      " [4 5 6]]\n",
      "\n",
      "JAX array transposed:\n",
      " [[1 4]\n",
      " [2 5]\n",
      " [3 6]]\n"
     ]
    }
   ],
   "source": [
    "array_jax = jnp.array([[1, 2, 3], [4, 5, 6]])\n",
    "print('JAX array:\\n', array_jax)\n",
    "\n",
    "array_jax_transposed = array_jax.T\n",
    "print('\\nJAX array transposed:\\n', array_jax_transposed )"
   ]
  },
  {
   "cell_type": "code",
   "execution_count": 14,
   "metadata": {
    "colab": {
     "base_uri": "https://localhost:8080/"
    },
    "execution": {
     "iopub.execute_input": "2021-07-27T14:50:02.781677Z",
     "iopub.status.busy": "2021-07-27T14:50:02.780777Z",
     "iopub.status.idle": "2021-07-27T14:50:02.801286Z",
     "shell.execute_reply": "2021-07-27T14:50:02.802021Z",
     "shell.execute_reply.started": "2021-07-21T11:33:00.176707Z"
    },
    "id": "kSSM15ezOAIb",
    "outputId": "ceee92a8-61e8-4c48-8f7f-c0bc797097c6",
    "papermill": {
     "duration": 0.048342,
     "end_time": "2021-07-27T14:50:02.802267",
     "exception": false,
     "start_time": "2021-07-27T14:50:02.753925",
     "status": "completed"
    },
    "tags": []
   },
   "outputs": [
    {
     "name": "stdout",
     "output_type": "stream",
     "text": [
      "Original shape of Numpy array: (2, 3)\n",
      "Original shape of JAX array: (2, 3)\n",
      "\n",
      "New shape of Numpy array: (1, 6)\n",
      "New shape of JAX array: (1, 6)\n"
     ]
    }
   ],
   "source": [
    "print('Original shape of Numpy array:', array_np.shape)\n",
    "print('Original shape of JAX array:', array_jax.shape)\n",
    "\n",
    "array_np_reshaped = array_np.reshape(1, -1)\n",
    "array_jax_reshaped = array_jax.reshape(1, -1)\n",
    "\n",
    "print('\\nNew shape of Numpy array:', array_np_reshaped.shape)\n",
    "print('New shape of JAX array:', array_jax_reshaped.shape)"
   ]
  },
  {
   "cell_type": "markdown",
   "metadata": {
    "id": "VciNtS6NkfOo"
   },
   "source": [
    "NumPy is deeply integrated with Python and can operate on Python lists"
   ]
  },
  {
   "cell_type": "code",
   "execution_count": 15,
   "metadata": {
    "colab": {
     "base_uri": "https://localhost:8080/"
    },
    "id": "mQPNYIYMkCFO",
    "outputId": "0e237bbb-9e16-4cca-f34f-deb41647ebfa"
   },
   "outputs": [
    {
     "data": {
      "text/plain": [
       "15"
      ]
     },
     "execution_count": 15,
     "metadata": {},
     "output_type": "execute_result"
    }
   ],
   "source": [
    "np.sum([2, 3, 4, 6])"
   ]
  },
  {
   "cell_type": "markdown",
   "metadata": {
    "id": "sqINUEj4kcA9"
   },
   "source": [
    "JAX does not work on Python lists. This has to do with the fact that lists and tuples can perform poorly when used with the JIT compiler in JAX, so JAX just does not support Python structures"
   ]
  },
  {
   "cell_type": "code",
   "execution_count": 16,
   "metadata": {
    "colab": {
     "base_uri": "https://localhost:8080/",
     "height": 510
    },
    "id": "_sgOrIenkWzh",
    "outputId": "df516798-df86-4204-9f20-c6f172b8db83"
   },
   "outputs": [
    {
     "ename": "TypeError",
     "evalue": "ignored",
     "output_type": "error",
     "traceback": [
      "\u001b[0;31m---------------------------------------------------------------------------\u001b[0m",
      "\u001b[0;31mUnfilteredStackTrace\u001b[0m                      Traceback (most recent call last)",
      "\u001b[0;32m<ipython-input-16-8b20fbab9c91>\u001b[0m in \u001b[0;36m<module>\u001b[0;34m()\u001b[0m\n\u001b[0;32m----> 1\u001b[0;31m \u001b[0mjnp\u001b[0m\u001b[0;34m.\u001b[0m\u001b[0msum\u001b[0m\u001b[0;34m(\u001b[0m\u001b[0;34m[\u001b[0m\u001b[0;36m2\u001b[0m\u001b[0;34m,\u001b[0m \u001b[0;36m3\u001b[0m\u001b[0;34m,\u001b[0m \u001b[0;36m4\u001b[0m\u001b[0;34m,\u001b[0m \u001b[0;36m6\u001b[0m\u001b[0;34m]\u001b[0m\u001b[0;34m)\u001b[0m\u001b[0;34m\u001b[0m\u001b[0;34m\u001b[0m\u001b[0m\n\u001b[0m",
      "\u001b[0;32m/usr/local/lib/python3.7/dist-packages/jax/_src/numpy/reductions.py\u001b[0m in \u001b[0;36msum\u001b[0;34m(a, axis, dtype, out, keepdims, initial, where)\u001b[0m\n\u001b[1;32m    173\u001b[0m   return _reduce_sum(a, axis=_ensure_optional_axes(axis), dtype=dtype, out=out,\n\u001b[0;32m--> 174\u001b[0;31m                      keepdims=keepdims, initial=initial, where=where)\n\u001b[0m\u001b[1;32m    175\u001b[0m \u001b[0;34m\u001b[0m\u001b[0m\n",
      "\u001b[0;32m/usr/local/lib/python3.7/dist-packages/jax/_src/traceback_util.py\u001b[0m in \u001b[0;36mreraise_with_filtered_traceback\u001b[0;34m(*args, **kwargs)\u001b[0m\n\u001b[1;32m    161\u001b[0m     \u001b[0;32mtry\u001b[0m\u001b[0;34m:\u001b[0m\u001b[0;34m\u001b[0m\u001b[0;34m\u001b[0m\u001b[0m\n\u001b[0;32m--> 162\u001b[0;31m       \u001b[0;32mreturn\u001b[0m \u001b[0mfun\u001b[0m\u001b[0;34m(\u001b[0m\u001b[0;34m*\u001b[0m\u001b[0margs\u001b[0m\u001b[0;34m,\u001b[0m \u001b[0;34m**\u001b[0m\u001b[0mkwargs\u001b[0m\u001b[0;34m)\u001b[0m\u001b[0;34m\u001b[0m\u001b[0;34m\u001b[0m\u001b[0m\n\u001b[0m\u001b[1;32m    163\u001b[0m     \u001b[0;32mexcept\u001b[0m \u001b[0mException\u001b[0m \u001b[0;32mas\u001b[0m \u001b[0me\u001b[0m\u001b[0;34m:\u001b[0m\u001b[0;34m\u001b[0m\u001b[0;34m\u001b[0m\u001b[0m\n",
      "\u001b[0;32m/usr/local/lib/python3.7/dist-packages/jax/_src/api.py\u001b[0m in \u001b[0;36mcache_miss\u001b[0;34m(*args, **kwargs)\u001b[0m\n\u001b[1;32m    524\u001b[0m         \u001b[0mdevice\u001b[0m\u001b[0;34m=\u001b[0m\u001b[0mdevice\u001b[0m\u001b[0;34m,\u001b[0m \u001b[0mbackend\u001b[0m\u001b[0;34m=\u001b[0m\u001b[0mbackend\u001b[0m\u001b[0;34m,\u001b[0m \u001b[0mname\u001b[0m\u001b[0;34m=\u001b[0m\u001b[0mflat_fun\u001b[0m\u001b[0;34m.\u001b[0m\u001b[0m__name__\u001b[0m\u001b[0;34m,\u001b[0m\u001b[0;34m\u001b[0m\u001b[0;34m\u001b[0m\u001b[0m\n\u001b[0;32m--> 525\u001b[0;31m         donated_invars=donated_invars, inline=inline, keep_unused=keep_unused)\n\u001b[0m\u001b[1;32m    526\u001b[0m     \u001b[0mout_pytree_def\u001b[0m \u001b[0;34m=\u001b[0m \u001b[0mout_tree\u001b[0m\u001b[0;34m(\u001b[0m\u001b[0;34m)\u001b[0m\u001b[0;34m\u001b[0m\u001b[0;34m\u001b[0m\u001b[0m\n",
      "\u001b[0;32m/usr/local/lib/python3.7/dist-packages/jax/core.py\u001b[0m in \u001b[0;36mbind\u001b[0;34m(self, fun, *args, **params)\u001b[0m\n\u001b[1;32m   1835\u001b[0m   \u001b[0;32mdef\u001b[0m \u001b[0mbind\u001b[0m\u001b[0;34m(\u001b[0m\u001b[0mself\u001b[0m\u001b[0;34m,\u001b[0m \u001b[0mfun\u001b[0m\u001b[0;34m,\u001b[0m \u001b[0;34m*\u001b[0m\u001b[0margs\u001b[0m\u001b[0;34m,\u001b[0m \u001b[0;34m**\u001b[0m\u001b[0mparams\u001b[0m\u001b[0;34m)\u001b[0m\u001b[0;34m:\u001b[0m\u001b[0;34m\u001b[0m\u001b[0;34m\u001b[0m\u001b[0m\n\u001b[0;32m-> 1836\u001b[0;31m     \u001b[0;32mreturn\u001b[0m \u001b[0mcall_bind\u001b[0m\u001b[0;34m(\u001b[0m\u001b[0mself\u001b[0m\u001b[0;34m,\u001b[0m \u001b[0mfun\u001b[0m\u001b[0;34m,\u001b[0m \u001b[0;34m*\u001b[0m\u001b[0margs\u001b[0m\u001b[0;34m,\u001b[0m \u001b[0;34m**\u001b[0m\u001b[0mparams\u001b[0m\u001b[0;34m)\u001b[0m\u001b[0;34m\u001b[0m\u001b[0;34m\u001b[0m\u001b[0m\n\u001b[0m\u001b[1;32m   1837\u001b[0m \u001b[0;34m\u001b[0m\u001b[0m\n",
      "\u001b[0;32m/usr/local/lib/python3.7/dist-packages/jax/core.py\u001b[0m in \u001b[0;36mcall_bind\u001b[0;34m(primitive, fun, *args, **params)\u001b[0m\n\u001b[1;32m   1851\u001b[0m   \u001b[0mfun_\u001b[0m \u001b[0;34m=\u001b[0m \u001b[0mlu\u001b[0m\u001b[0;34m.\u001b[0m\u001b[0mannotate\u001b[0m\u001b[0;34m(\u001b[0m\u001b[0mfun_\u001b[0m\u001b[0;34m,\u001b[0m \u001b[0mfun\u001b[0m\u001b[0;34m.\u001b[0m\u001b[0min_type\u001b[0m\u001b[0;34m)\u001b[0m\u001b[0;34m\u001b[0m\u001b[0;34m\u001b[0m\u001b[0m\n\u001b[0;32m-> 1852\u001b[0;31m   \u001b[0mouts\u001b[0m \u001b[0;34m=\u001b[0m \u001b[0mtop_trace\u001b[0m\u001b[0;34m.\u001b[0m\u001b[0mprocess_call\u001b[0m\u001b[0;34m(\u001b[0m\u001b[0mprimitive\u001b[0m\u001b[0;34m,\u001b[0m \u001b[0mfun_\u001b[0m\u001b[0;34m,\u001b[0m \u001b[0mtracers\u001b[0m\u001b[0;34m,\u001b[0m \u001b[0mparams\u001b[0m\u001b[0;34m)\u001b[0m\u001b[0;34m\u001b[0m\u001b[0;34m\u001b[0m\u001b[0m\n\u001b[0m\u001b[1;32m   1853\u001b[0m   \u001b[0;32mreturn\u001b[0m \u001b[0mmap\u001b[0m\u001b[0;34m(\u001b[0m\u001b[0mfull_lower\u001b[0m\u001b[0;34m,\u001b[0m \u001b[0mapply_todos\u001b[0m\u001b[0;34m(\u001b[0m\u001b[0menv_trace_todo\u001b[0m\u001b[0;34m(\u001b[0m\u001b[0;34m)\u001b[0m\u001b[0;34m,\u001b[0m \u001b[0mouts\u001b[0m\u001b[0;34m)\u001b[0m\u001b[0;34m)\u001b[0m\u001b[0;34m\u001b[0m\u001b[0;34m\u001b[0m\u001b[0m\n",
      "\u001b[0;32m/usr/local/lib/python3.7/dist-packages/jax/core.py\u001b[0m in \u001b[0;36mprocess_call\u001b[0;34m(self, primitive, f, tracers, params)\u001b[0m\n\u001b[1;32m    682\u001b[0m   \u001b[0;32mdef\u001b[0m \u001b[0mprocess_call\u001b[0m\u001b[0;34m(\u001b[0m\u001b[0mself\u001b[0m\u001b[0;34m,\u001b[0m \u001b[0mprimitive\u001b[0m\u001b[0;34m,\u001b[0m \u001b[0mf\u001b[0m\u001b[0;34m,\u001b[0m \u001b[0mtracers\u001b[0m\u001b[0;34m,\u001b[0m \u001b[0mparams\u001b[0m\u001b[0;34m)\u001b[0m\u001b[0;34m:\u001b[0m\u001b[0;34m\u001b[0m\u001b[0;34m\u001b[0m\u001b[0m\n\u001b[0;32m--> 683\u001b[0;31m     \u001b[0;32mreturn\u001b[0m \u001b[0mprimitive\u001b[0m\u001b[0;34m.\u001b[0m\u001b[0mimpl\u001b[0m\u001b[0;34m(\u001b[0m\u001b[0mf\u001b[0m\u001b[0;34m,\u001b[0m \u001b[0;34m*\u001b[0m\u001b[0mtracers\u001b[0m\u001b[0;34m,\u001b[0m \u001b[0;34m**\u001b[0m\u001b[0mparams\u001b[0m\u001b[0;34m)\u001b[0m\u001b[0;34m\u001b[0m\u001b[0;34m\u001b[0m\u001b[0m\n\u001b[0m\u001b[1;32m    684\u001b[0m   \u001b[0mprocess_map\u001b[0m \u001b[0;34m=\u001b[0m \u001b[0mprocess_call\u001b[0m\u001b[0;34m\u001b[0m\u001b[0;34m\u001b[0m\u001b[0m\n",
      "\u001b[0;32m/usr/local/lib/python3.7/dist-packages/jax/_src/dispatch.py\u001b[0m in \u001b[0;36m_xla_call_impl\u001b[0;34m(***failed resolving arguments***)\u001b[0m\n\u001b[1;32m    196\u001b[0m   compiled_fun = xla_callable(fun, device, backend, name, donated_invars,\n\u001b[0;32m--> 197\u001b[0;31m                               keep_unused, *arg_specs)\n\u001b[0m\u001b[1;32m    198\u001b[0m   \u001b[0;32mtry\u001b[0m\u001b[0;34m:\u001b[0m\u001b[0;34m\u001b[0m\u001b[0;34m\u001b[0m\u001b[0m\n",
      "\u001b[0;32m/usr/local/lib/python3.7/dist-packages/jax/linear_util.py\u001b[0m in \u001b[0;36mmemoized_fun\u001b[0;34m(fun, *args)\u001b[0m\n\u001b[1;32m    285\u001b[0m     \u001b[0;32melse\u001b[0m\u001b[0;34m:\u001b[0m\u001b[0;34m\u001b[0m\u001b[0;34m\u001b[0m\u001b[0m\n\u001b[0;32m--> 286\u001b[0;31m       \u001b[0mans\u001b[0m \u001b[0;34m=\u001b[0m \u001b[0mcall\u001b[0m\u001b[0;34m(\u001b[0m\u001b[0mfun\u001b[0m\u001b[0;34m,\u001b[0m \u001b[0;34m*\u001b[0m\u001b[0margs\u001b[0m\u001b[0;34m)\u001b[0m\u001b[0;34m\u001b[0m\u001b[0;34m\u001b[0m\u001b[0m\n\u001b[0m\u001b[1;32m    287\u001b[0m       \u001b[0mcache\u001b[0m\u001b[0;34m[\u001b[0m\u001b[0mkey\u001b[0m\u001b[0;34m]\u001b[0m \u001b[0;34m=\u001b[0m \u001b[0;34m(\u001b[0m\u001b[0mans\u001b[0m\u001b[0;34m,\u001b[0m \u001b[0mfun\u001b[0m\u001b[0;34m.\u001b[0m\u001b[0mstores\u001b[0m\u001b[0;34m)\u001b[0m\u001b[0;34m\u001b[0m\u001b[0;34m\u001b[0m\u001b[0m\n",
      "\u001b[0;32m/usr/local/lib/python3.7/dist-packages/jax/_src/dispatch.py\u001b[0m in \u001b[0;36m_xla_callable_uncached\u001b[0;34m(fun, device, backend, name, donated_invars, keep_unused, *arg_specs)\u001b[0m\n\u001b[1;32m    245\u001b[0m   return lower_xla_callable(fun, device, backend, name, donated_invars, False,\n\u001b[0;32m--> 246\u001b[0;31m                             keep_unused, *arg_specs).compile().unsafe_call\n\u001b[0m\u001b[1;32m    247\u001b[0m \u001b[0;34m\u001b[0m\u001b[0m\n",
      "\u001b[0;32m/usr/local/lib/python3.7/dist-packages/jax/_src/profiler.py\u001b[0m in \u001b[0;36mwrapper\u001b[0;34m(*args, **kwargs)\u001b[0m\n\u001b[1;32m    311\u001b[0m     \u001b[0;32mwith\u001b[0m \u001b[0mTraceAnnotation\u001b[0m\u001b[0;34m(\u001b[0m\u001b[0mname\u001b[0m\u001b[0;34m,\u001b[0m \u001b[0;34m**\u001b[0m\u001b[0mdecorator_kwargs\u001b[0m\u001b[0;34m)\u001b[0m\u001b[0;34m:\u001b[0m\u001b[0;34m\u001b[0m\u001b[0;34m\u001b[0m\u001b[0m\n\u001b[0;32m--> 312\u001b[0;31m       \u001b[0;32mreturn\u001b[0m \u001b[0mfunc\u001b[0m\u001b[0;34m(\u001b[0m\u001b[0;34m*\u001b[0m\u001b[0margs\u001b[0m\u001b[0;34m,\u001b[0m \u001b[0;34m**\u001b[0m\u001b[0mkwargs\u001b[0m\u001b[0;34m)\u001b[0m\u001b[0;34m\u001b[0m\u001b[0;34m\u001b[0m\u001b[0m\n\u001b[0m\u001b[1;32m    313\u001b[0m     \u001b[0;32mreturn\u001b[0m \u001b[0mwrapper\u001b[0m\u001b[0;34m\u001b[0m\u001b[0;34m\u001b[0m\u001b[0m\n",
      "\u001b[0;32m/usr/local/lib/python3.7/dist-packages/jax/_src/dispatch.py\u001b[0m in \u001b[0;36mlower_xla_callable\u001b[0;34m(fun, device, backend, name, donated_invars, always_lower, keep_unused, *arg_specs)\u001b[0m\n\u001b[1;32m    290\u001b[0m     jaxpr, out_type, consts = pe.trace_to_jaxpr_final2(\n\u001b[0;32m--> 291\u001b[0;31m         fun, pe.debug_info_final(fun, \"jit\"))\n\u001b[0m\u001b[1;32m    292\u001b[0m   \u001b[0mout_avals\u001b[0m\u001b[0;34m,\u001b[0m \u001b[0mkept_outputs\u001b[0m \u001b[0;34m=\u001b[0m \u001b[0mutil\u001b[0m\u001b[0;34m.\u001b[0m\u001b[0munzip2\u001b[0m\u001b[0;34m(\u001b[0m\u001b[0mout_type\u001b[0m\u001b[0;34m)\u001b[0m\u001b[0;34m\u001b[0m\u001b[0;34m\u001b[0m\u001b[0m\n",
      "\u001b[0;32m/usr/local/lib/python3.7/dist-packages/jax/_src/profiler.py\u001b[0m in \u001b[0;36mwrapper\u001b[0;34m(*args, **kwargs)\u001b[0m\n\u001b[1;32m    311\u001b[0m     \u001b[0;32mwith\u001b[0m \u001b[0mTraceAnnotation\u001b[0m\u001b[0;34m(\u001b[0m\u001b[0mname\u001b[0m\u001b[0;34m,\u001b[0m \u001b[0;34m**\u001b[0m\u001b[0mdecorator_kwargs\u001b[0m\u001b[0;34m)\u001b[0m\u001b[0;34m:\u001b[0m\u001b[0;34m\u001b[0m\u001b[0;34m\u001b[0m\u001b[0m\n\u001b[0;32m--> 312\u001b[0;31m       \u001b[0;32mreturn\u001b[0m \u001b[0mfunc\u001b[0m\u001b[0;34m(\u001b[0m\u001b[0;34m*\u001b[0m\u001b[0margs\u001b[0m\u001b[0;34m,\u001b[0m \u001b[0;34m**\u001b[0m\u001b[0mkwargs\u001b[0m\u001b[0;34m)\u001b[0m\u001b[0;34m\u001b[0m\u001b[0;34m\u001b[0m\u001b[0m\n\u001b[0m\u001b[1;32m    313\u001b[0m     \u001b[0;32mreturn\u001b[0m \u001b[0mwrapper\u001b[0m\u001b[0;34m\u001b[0m\u001b[0;34m\u001b[0m\u001b[0m\n",
      "\u001b[0;32m/usr/local/lib/python3.7/dist-packages/jax/interpreters/partial_eval.py\u001b[0m in \u001b[0;36mtrace_to_jaxpr_final2\u001b[0;34m(fun, debug_info)\u001b[0m\n\u001b[1;32m   1958\u001b[0m     \u001b[0;32mwith\u001b[0m \u001b[0mcore\u001b[0m\u001b[0;34m.\u001b[0m\u001b[0mnew_sublevel\u001b[0m\u001b[0;34m(\u001b[0m\u001b[0;34m)\u001b[0m\u001b[0;34m:\u001b[0m\u001b[0;34m\u001b[0m\u001b[0;34m\u001b[0m\u001b[0m\n\u001b[0;32m-> 1959\u001b[0;31m       \u001b[0mjaxpr\u001b[0m\u001b[0;34m,\u001b[0m \u001b[0mout_type\u001b[0m\u001b[0;34m,\u001b[0m \u001b[0mconsts\u001b[0m \u001b[0;34m=\u001b[0m \u001b[0mtrace_to_subjaxpr_dynamic2\u001b[0m\u001b[0;34m(\u001b[0m\u001b[0mfun\u001b[0m\u001b[0;34m,\u001b[0m \u001b[0mmain\u001b[0m\u001b[0;34m)\u001b[0m\u001b[0;34m\u001b[0m\u001b[0;34m\u001b[0m\u001b[0m\n\u001b[0m\u001b[1;32m   1960\u001b[0m     \u001b[0;32mdel\u001b[0m \u001b[0mfun\u001b[0m\u001b[0;34m,\u001b[0m \u001b[0mmain\u001b[0m\u001b[0;34m\u001b[0m\u001b[0;34m\u001b[0m\u001b[0m\n",
      "\u001b[0;32m/usr/local/lib/python3.7/dist-packages/jax/interpreters/partial_eval.py\u001b[0m in \u001b[0;36mtrace_to_subjaxpr_dynamic2\u001b[0;34m(fun, main)\u001b[0m\n\u001b[1;32m   1919\u001b[0m     \u001b[0min_tracers_\u001b[0m \u001b[0;34m=\u001b[0m \u001b[0;34m[\u001b[0m\u001b[0mt\u001b[0m \u001b[0;32mfor\u001b[0m \u001b[0mt\u001b[0m\u001b[0;34m,\u001b[0m \u001b[0mkeep\u001b[0m \u001b[0;32min\u001b[0m \u001b[0mzip\u001b[0m\u001b[0;34m(\u001b[0m\u001b[0min_tracers\u001b[0m\u001b[0;34m,\u001b[0m \u001b[0mkeep_inputs\u001b[0m\u001b[0;34m)\u001b[0m \u001b[0;32mif\u001b[0m \u001b[0mkeep\u001b[0m\u001b[0;34m]\u001b[0m\u001b[0;34m\u001b[0m\u001b[0;34m\u001b[0m\u001b[0m\n\u001b[0;32m-> 1920\u001b[0;31m     \u001b[0mans\u001b[0m \u001b[0;34m=\u001b[0m \u001b[0mfun\u001b[0m\u001b[0;34m.\u001b[0m\u001b[0mcall_wrapped\u001b[0m\u001b[0;34m(\u001b[0m\u001b[0;34m*\u001b[0m\u001b[0min_tracers_\u001b[0m\u001b[0;34m)\u001b[0m\u001b[0;34m\u001b[0m\u001b[0;34m\u001b[0m\u001b[0m\n\u001b[0m\u001b[1;32m   1921\u001b[0m     \u001b[0mout_tracers\u001b[0m \u001b[0;34m=\u001b[0m \u001b[0mmap\u001b[0m\u001b[0;34m(\u001b[0m\u001b[0mtrace\u001b[0m\u001b[0;34m.\u001b[0m\u001b[0mfull_raise\u001b[0m\u001b[0;34m,\u001b[0m \u001b[0mans\u001b[0m\u001b[0;34m)\u001b[0m\u001b[0;34m\u001b[0m\u001b[0;34m\u001b[0m\u001b[0m\n",
      "\u001b[0;32m/usr/local/lib/python3.7/dist-packages/jax/linear_util.py\u001b[0m in \u001b[0;36mcall_wrapped\u001b[0;34m(self, *args, **kwargs)\u001b[0m\n\u001b[1;32m    167\u001b[0m     \u001b[0;32mtry\u001b[0m\u001b[0;34m:\u001b[0m\u001b[0;34m\u001b[0m\u001b[0;34m\u001b[0m\u001b[0m\n\u001b[0;32m--> 168\u001b[0;31m       \u001b[0mans\u001b[0m \u001b[0;34m=\u001b[0m \u001b[0mself\u001b[0m\u001b[0;34m.\u001b[0m\u001b[0mf\u001b[0m\u001b[0;34m(\u001b[0m\u001b[0;34m*\u001b[0m\u001b[0margs\u001b[0m\u001b[0;34m,\u001b[0m \u001b[0;34m**\u001b[0m\u001b[0mdict\u001b[0m\u001b[0;34m(\u001b[0m\u001b[0mself\u001b[0m\u001b[0;34m.\u001b[0m\u001b[0mparams\u001b[0m\u001b[0;34m,\u001b[0m \u001b[0;34m**\u001b[0m\u001b[0mkwargs\u001b[0m\u001b[0;34m)\u001b[0m\u001b[0;34m)\u001b[0m\u001b[0;34m\u001b[0m\u001b[0;34m\u001b[0m\u001b[0m\n\u001b[0m\u001b[1;32m    169\u001b[0m     \u001b[0;32mexcept\u001b[0m\u001b[0;34m:\u001b[0m\u001b[0;34m\u001b[0m\u001b[0;34m\u001b[0m\u001b[0m\n",
      "\u001b[0;32m/usr/local/lib/python3.7/dist-packages/jax/_src/numpy/reductions.py\u001b[0m in \u001b[0;36m_reduce_sum\u001b[0;34m(a, axis, dtype, out, keepdims, initial, where)\u001b[0m\n\u001b[1;32m    167\u001b[0m                     \u001b[0maxis\u001b[0m\u001b[0;34m=\u001b[0m\u001b[0maxis\u001b[0m\u001b[0;34m,\u001b[0m \u001b[0mdtype\u001b[0m\u001b[0;34m=\u001b[0m\u001b[0mdtype\u001b[0m\u001b[0;34m,\u001b[0m \u001b[0mout\u001b[0m\u001b[0;34m=\u001b[0m\u001b[0mout\u001b[0m\u001b[0;34m,\u001b[0m \u001b[0mkeepdims\u001b[0m\u001b[0;34m=\u001b[0m\u001b[0mkeepdims\u001b[0m\u001b[0;34m,\u001b[0m\u001b[0;34m\u001b[0m\u001b[0;34m\u001b[0m\u001b[0m\n\u001b[0;32m--> 168\u001b[0;31m                     initial=initial, where_=where, parallel_reduce=lax.psum)\n\u001b[0m\u001b[1;32m    169\u001b[0m \u001b[0;34m\u001b[0m\u001b[0m\n",
      "\u001b[0;32m/usr/local/lib/python3.7/dist-packages/jax/_src/numpy/reductions.py\u001b[0m in \u001b[0;36m_reduction\u001b[0;34m(a, name, np_fun, op, init_val, has_identity, preproc, bool_op, upcast_f16_for_computation, axis, dtype, out, keepdims, initial, where_, parallel_reduce)\u001b[0m\n\u001b[1;32m     71\u001b[0m     \u001b[0;32mraise\u001b[0m \u001b[0mNotImplementedError\u001b[0m\u001b[0;34m(\u001b[0m\u001b[0;34mf\"The 'out' argument to jnp.{name} is not supported.\"\u001b[0m\u001b[0;34m)\u001b[0m\u001b[0;34m\u001b[0m\u001b[0;34m\u001b[0m\u001b[0m\n\u001b[0;32m---> 72\u001b[0;31m   \u001b[0m_check_arraylike\u001b[0m\u001b[0;34m(\u001b[0m\u001b[0mname\u001b[0m\u001b[0;34m,\u001b[0m \u001b[0ma\u001b[0m\u001b[0;34m)\u001b[0m\u001b[0;34m\u001b[0m\u001b[0;34m\u001b[0m\u001b[0m\n\u001b[0m\u001b[1;32m     73\u001b[0m   \u001b[0mlax_internal\u001b[0m\u001b[0;34m.\u001b[0m\u001b[0m_check_user_dtype_supported\u001b[0m\u001b[0;34m(\u001b[0m\u001b[0mdtype\u001b[0m\u001b[0;34m,\u001b[0m \u001b[0mname\u001b[0m\u001b[0;34m)\u001b[0m\u001b[0;34m\u001b[0m\u001b[0;34m\u001b[0m\u001b[0m\n",
      "\u001b[0;32m/usr/local/lib/python3.7/dist-packages/jax/_src/numpy/util.py\u001b[0m in \u001b[0;36m_check_arraylike\u001b[0;34m(fun_name, *args)\u001b[0m\n\u001b[1;32m    311\u001b[0m     \u001b[0mmsg\u001b[0m \u001b[0;34m=\u001b[0m \u001b[0;34m\"{} requires ndarray or scalar arguments, got {} at position {}.\"\u001b[0m\u001b[0;34m\u001b[0m\u001b[0;34m\u001b[0m\u001b[0m\n\u001b[0;32m--> 312\u001b[0;31m     \u001b[0;32mraise\u001b[0m \u001b[0mTypeError\u001b[0m\u001b[0;34m(\u001b[0m\u001b[0mmsg\u001b[0m\u001b[0;34m.\u001b[0m\u001b[0mformat\u001b[0m\u001b[0;34m(\u001b[0m\u001b[0mfun_name\u001b[0m\u001b[0;34m,\u001b[0m \u001b[0mtype\u001b[0m\u001b[0;34m(\u001b[0m\u001b[0marg\u001b[0m\u001b[0;34m)\u001b[0m\u001b[0;34m,\u001b[0m \u001b[0mpos\u001b[0m\u001b[0;34m)\u001b[0m\u001b[0;34m)\u001b[0m\u001b[0;34m\u001b[0m\u001b[0;34m\u001b[0m\u001b[0m\n\u001b[0m\u001b[1;32m    313\u001b[0m \u001b[0;34m\u001b[0m\u001b[0m\n",
      "\u001b[0;31mUnfilteredStackTrace\u001b[0m: TypeError: sum requires ndarray or scalar arguments, got <class 'list'> at position 0.\n\nThe stack trace below excludes JAX-internal frames.\nThe preceding is the original exception that occurred, unmodified.\n\n--------------------",
      "\nThe above exception was the direct cause of the following exception:\n",
      "\u001b[0;31mTypeError\u001b[0m                                 Traceback (most recent call last)",
      "\u001b[0;32m<ipython-input-16-8b20fbab9c91>\u001b[0m in \u001b[0;36m<module>\u001b[0;34m()\u001b[0m\n\u001b[0;32m----> 1\u001b[0;31m \u001b[0mjnp\u001b[0m\u001b[0;34m.\u001b[0m\u001b[0msum\u001b[0m\u001b[0;34m(\u001b[0m\u001b[0;34m[\u001b[0m\u001b[0;36m2\u001b[0m\u001b[0;34m,\u001b[0m \u001b[0;36m3\u001b[0m\u001b[0;34m,\u001b[0m \u001b[0;36m4\u001b[0m\u001b[0;34m,\u001b[0m \u001b[0;36m6\u001b[0m\u001b[0;34m]\u001b[0m\u001b[0;34m)\u001b[0m\u001b[0;34m\u001b[0m\u001b[0;34m\u001b[0m\u001b[0m\n\u001b[0m",
      "\u001b[0;32m/usr/local/lib/python3.7/dist-packages/jax/_src/numpy/reductions.py\u001b[0m in \u001b[0;36msum\u001b[0;34m(a, axis, dtype, out, keepdims, initial, where)\u001b[0m\n\u001b[1;32m    172\u001b[0m         out=None, keepdims=None, initial=None, where=None):\n\u001b[1;32m    173\u001b[0m   return _reduce_sum(a, axis=_ensure_optional_axes(axis), dtype=dtype, out=out,\n\u001b[0;32m--> 174\u001b[0;31m                      keepdims=keepdims, initial=initial, where=where)\n\u001b[0m\u001b[1;32m    175\u001b[0m \u001b[0;34m\u001b[0m\u001b[0m\n\u001b[1;32m    176\u001b[0m \u001b[0;34m\u001b[0m\u001b[0m\n",
      "\u001b[0;32m/usr/local/lib/python3.7/dist-packages/jax/_src/numpy/reductions.py\u001b[0m in \u001b[0;36m_reduce_sum\u001b[0;34m(a, axis, dtype, out, keepdims, initial, where)\u001b[0m\n\u001b[1;32m    166\u001b[0m                     \u001b[0mbool_op\u001b[0m\u001b[0;34m=\u001b[0m\u001b[0mlax\u001b[0m\u001b[0;34m.\u001b[0m\u001b[0mbitwise_or\u001b[0m\u001b[0;34m,\u001b[0m \u001b[0mupcast_f16_for_computation\u001b[0m\u001b[0;34m=\u001b[0m\u001b[0;32mTrue\u001b[0m\u001b[0;34m,\u001b[0m\u001b[0;34m\u001b[0m\u001b[0;34m\u001b[0m\u001b[0m\n\u001b[1;32m    167\u001b[0m                     \u001b[0maxis\u001b[0m\u001b[0;34m=\u001b[0m\u001b[0maxis\u001b[0m\u001b[0;34m,\u001b[0m \u001b[0mdtype\u001b[0m\u001b[0;34m=\u001b[0m\u001b[0mdtype\u001b[0m\u001b[0;34m,\u001b[0m \u001b[0mout\u001b[0m\u001b[0;34m=\u001b[0m\u001b[0mout\u001b[0m\u001b[0;34m,\u001b[0m \u001b[0mkeepdims\u001b[0m\u001b[0;34m=\u001b[0m\u001b[0mkeepdims\u001b[0m\u001b[0;34m,\u001b[0m\u001b[0;34m\u001b[0m\u001b[0;34m\u001b[0m\u001b[0m\n\u001b[0;32m--> 168\u001b[0;31m                     initial=initial, where_=where, parallel_reduce=lax.psum)\n\u001b[0m\u001b[1;32m    169\u001b[0m \u001b[0;34m\u001b[0m\u001b[0m\n\u001b[1;32m    170\u001b[0m \u001b[0;34m@\u001b[0m\u001b[0m_wraps\u001b[0m\u001b[0;34m(\u001b[0m\u001b[0mnp\u001b[0m\u001b[0;34m.\u001b[0m\u001b[0msum\u001b[0m\u001b[0;34m,\u001b[0m \u001b[0mskip_params\u001b[0m\u001b[0;34m=\u001b[0m\u001b[0;34m[\u001b[0m\u001b[0;34m'out'\u001b[0m\u001b[0;34m]\u001b[0m\u001b[0;34m)\u001b[0m\u001b[0;34m\u001b[0m\u001b[0;34m\u001b[0m\u001b[0m\n",
      "\u001b[0;32m/usr/local/lib/python3.7/dist-packages/jax/_src/numpy/reductions.py\u001b[0m in \u001b[0;36m_reduction\u001b[0;34m(a, name, np_fun, op, init_val, has_identity, preproc, bool_op, upcast_f16_for_computation, axis, dtype, out, keepdims, initial, where_, parallel_reduce)\u001b[0m\n\u001b[1;32m     70\u001b[0m   \u001b[0;32mif\u001b[0m \u001b[0mout\u001b[0m \u001b[0;32mis\u001b[0m \u001b[0;32mnot\u001b[0m \u001b[0;32mNone\u001b[0m\u001b[0;34m:\u001b[0m\u001b[0;34m\u001b[0m\u001b[0;34m\u001b[0m\u001b[0m\n\u001b[1;32m     71\u001b[0m     \u001b[0;32mraise\u001b[0m \u001b[0mNotImplementedError\u001b[0m\u001b[0;34m(\u001b[0m\u001b[0;34mf\"The 'out' argument to jnp.{name} is not supported.\"\u001b[0m\u001b[0;34m)\u001b[0m\u001b[0;34m\u001b[0m\u001b[0;34m\u001b[0m\u001b[0m\n\u001b[0;32m---> 72\u001b[0;31m   \u001b[0m_check_arraylike\u001b[0m\u001b[0;34m(\u001b[0m\u001b[0mname\u001b[0m\u001b[0;34m,\u001b[0m \u001b[0ma\u001b[0m\u001b[0;34m)\u001b[0m\u001b[0;34m\u001b[0m\u001b[0;34m\u001b[0m\u001b[0m\n\u001b[0m\u001b[1;32m     73\u001b[0m   \u001b[0mlax_internal\u001b[0m\u001b[0;34m.\u001b[0m\u001b[0m_check_user_dtype_supported\u001b[0m\u001b[0;34m(\u001b[0m\u001b[0mdtype\u001b[0m\u001b[0;34m,\u001b[0m \u001b[0mname\u001b[0m\u001b[0;34m)\u001b[0m\u001b[0;34m\u001b[0m\u001b[0;34m\u001b[0m\u001b[0m\n\u001b[1;32m     74\u001b[0m   \u001b[0maxis\u001b[0m \u001b[0;34m=\u001b[0m \u001b[0mcore\u001b[0m\u001b[0;34m.\u001b[0m\u001b[0mconcrete_or_error\u001b[0m\u001b[0;34m(\u001b[0m\u001b[0;32mNone\u001b[0m\u001b[0;34m,\u001b[0m \u001b[0maxis\u001b[0m\u001b[0;34m,\u001b[0m \u001b[0;34mf\"axis argument to jnp.{name}().\"\u001b[0m\u001b[0;34m)\u001b[0m\u001b[0;34m\u001b[0m\u001b[0;34m\u001b[0m\u001b[0m\n",
      "\u001b[0;32m/usr/local/lib/python3.7/dist-packages/jax/_src/numpy/util.py\u001b[0m in \u001b[0;36m_check_arraylike\u001b[0;34m(fun_name, *args)\u001b[0m\n\u001b[1;32m    310\u001b[0m                     if not _arraylike(arg))\n\u001b[1;32m    311\u001b[0m     \u001b[0mmsg\u001b[0m \u001b[0;34m=\u001b[0m \u001b[0;34m\"{} requires ndarray or scalar arguments, got {} at position {}.\"\u001b[0m\u001b[0;34m\u001b[0m\u001b[0;34m\u001b[0m\u001b[0m\n\u001b[0;32m--> 312\u001b[0;31m     \u001b[0;32mraise\u001b[0m \u001b[0mTypeError\u001b[0m\u001b[0;34m(\u001b[0m\u001b[0mmsg\u001b[0m\u001b[0;34m.\u001b[0m\u001b[0mformat\u001b[0m\u001b[0;34m(\u001b[0m\u001b[0mfun_name\u001b[0m\u001b[0;34m,\u001b[0m \u001b[0mtype\u001b[0m\u001b[0;34m(\u001b[0m\u001b[0marg\u001b[0m\u001b[0;34m)\u001b[0m\u001b[0;34m,\u001b[0m \u001b[0mpos\u001b[0m\u001b[0;34m)\u001b[0m\u001b[0;34m)\u001b[0m\u001b[0;34m\u001b[0m\u001b[0;34m\u001b[0m\u001b[0m\n\u001b[0m\u001b[1;32m    313\u001b[0m \u001b[0;34m\u001b[0m\u001b[0m\n\u001b[1;32m    314\u001b[0m \u001b[0;34m\u001b[0m\u001b[0m\n",
      "\u001b[0;31mTypeError\u001b[0m: sum requires ndarray or scalar arguments, got <class 'list'> at position 0."
     ]
    }
   ],
   "source": [
    "jnp.sum([2, 3, 4, 6])"
   ]
  },
  {
   "cell_type": "markdown",
   "metadata": {
    "id": "y224xoRHOAId",
    "papermill": {
     "duration": 0.024741,
     "end_time": "2021-07-27T14:50:03.114099",
     "exception": false,
     "start_time": "2021-07-27T14:50:03.089358",
     "status": "completed"
    },
    "tags": []
   },
   "source": [
    "Now, let's take a look at some of the things that you can do in Numpy but not in Jax-numpy and vice-versa"
   ]
  },
  {
   "cell_type": "markdown",
   "metadata": {
    "id": "hz5flHEqOAIe",
    "papermill": {
     "duration": 0.026031,
     "end_time": "2021-07-27T14:50:03.165876",
     "exception": false,
     "start_time": "2021-07-27T14:50:03.139845",
     "status": "completed"
    },
    "tags": []
   },
   "source": [
    "# Immutability\n",
    "\n",
    "JAX arrays are **immutable**, just like [**TensorFlow tensors**](https://www.kaggle.com/aakashnain/tf-jax-tutorials-part1). Meaning, JAX arrays don't support `item assignment` as you do in `ndarray`. Let's take an example!"
   ]
  },
  {
   "cell_type": "code",
   "execution_count": 16,
   "metadata": {
    "colab": {
     "base_uri": "https://localhost:8080/"
    },
    "id": "AwwC0HHPd5DW",
    "outputId": "f570039d-f567-459b-e660-a11234668266"
   },
   "outputs": [
    {
     "data": {
      "text/plain": [
       "(array([0, 1, 2, 3, 4, 5, 6, 7, 8, 9], dtype=int32),\n",
       " DeviceArray([0, 1, 2, 3, 4, 5, 6, 7, 8, 9], dtype=int32))"
      ]
     },
     "execution_count": 16,
     "metadata": {},
     "output_type": "execute_result"
    }
   ],
   "source": [
    "array_np = np.arange(10, dtype = np.int32)\n",
    "array_jax = jnp.arange(10, dtype = jnp.int32)\n",
    "\n",
    "array_np, array_jax"
   ]
  },
  {
   "cell_type": "code",
   "execution_count": 17,
   "metadata": {
    "colab": {
     "base_uri": "https://localhost:8080/"
    },
    "id": "cQmvaGnK2hMl",
    "outputId": "256e2b52-319a-4f8b-9ffc-7646fd3d3d93"
   },
   "outputs": [
    {
     "data": {
      "text/plain": [
       "array([    0,     1,     2,     3, 22222,     5,     6,     7,     8,\n",
       "           9], dtype=int32)"
      ]
     },
     "execution_count": 17,
     "metadata": {},
     "output_type": "execute_result"
    }
   ],
   "source": [
    "array_np[4] = 22222\n",
    "\n",
    "array_np"
   ]
  },
  {
   "cell_type": "markdown",
   "metadata": {
    "id": "HAmE2DpAEw36"
   },
   "source": [
    "Item assignment not supported in JAX array"
   ]
  },
  {
   "cell_type": "code",
   "execution_count": 19,
   "metadata": {
    "colab": {
     "base_uri": "https://localhost:8080/",
     "height": 321
    },
    "id": "ruz41WUf3Auh",
    "outputId": "ab7f0e69-bf02-4d70-e449-8e98123b75a9"
   },
   "outputs": [
    {
     "ename": "TypeError",
     "evalue": "ignored",
     "output_type": "error",
     "traceback": [
      "\u001b[0;31m---------------------------------------------------------------------------\u001b[0m",
      "\u001b[0;31mTypeError\u001b[0m                                 Traceback (most recent call last)",
      "\u001b[0;32m<ipython-input-19-f2ab23f42c74>\u001b[0m in \u001b[0;36m<module>\u001b[0;34m()\u001b[0m\n\u001b[0;32m----> 1\u001b[0;31m \u001b[0marray_jax\u001b[0m\u001b[0;34m[\u001b[0m\u001b[0;36m4\u001b[0m\u001b[0;34m]\u001b[0m \u001b[0;34m=\u001b[0m \u001b[0;36m22222\u001b[0m\u001b[0;34m\u001b[0m\u001b[0;34m\u001b[0m\u001b[0m\n\u001b[0m",
      "\u001b[0;32m/usr/local/lib/python3.7/dist-packages/jax/_src/numpy/lax_numpy.py\u001b[0m in \u001b[0;36m_unimplemented_setitem\u001b[0;34m(self, i, x)\u001b[0m\n\u001b[1;32m   4595\u001b[0m          \u001b[0;34m\"or another .at[] method: \"\u001b[0m\u001b[0;34m\u001b[0m\u001b[0;34m\u001b[0m\u001b[0m\n\u001b[1;32m   4596\u001b[0m          \"https://jax.readthedocs.io/en/latest/_autosummary/jax.numpy.ndarray.at.html\")\n\u001b[0;32m-> 4597\u001b[0;31m   \u001b[0;32mraise\u001b[0m \u001b[0mTypeError\u001b[0m\u001b[0;34m(\u001b[0m\u001b[0mmsg\u001b[0m\u001b[0;34m.\u001b[0m\u001b[0mformat\u001b[0m\u001b[0;34m(\u001b[0m\u001b[0mtype\u001b[0m\u001b[0;34m(\u001b[0m\u001b[0mself\u001b[0m\u001b[0;34m)\u001b[0m\u001b[0;34m)\u001b[0m\u001b[0;34m)\u001b[0m\u001b[0;34m\u001b[0m\u001b[0;34m\u001b[0m\u001b[0m\n\u001b[0m\u001b[1;32m   4598\u001b[0m \u001b[0;34m\u001b[0m\u001b[0m\n\u001b[1;32m   4599\u001b[0m \u001b[0;32mdef\u001b[0m \u001b[0m_operator_round\u001b[0m\u001b[0;34m(\u001b[0m\u001b[0mnumber\u001b[0m\u001b[0;34m,\u001b[0m \u001b[0mndigits\u001b[0m\u001b[0;34m=\u001b[0m\u001b[0;32mNone\u001b[0m\u001b[0;34m)\u001b[0m\u001b[0;34m:\u001b[0m\u001b[0;34m\u001b[0m\u001b[0;34m\u001b[0m\u001b[0m\n",
      "\u001b[0;31mTypeError\u001b[0m: '<class 'jaxlib.xla_extension.DeviceArray'>' object does not support item assignment. JAX arrays are immutable. Instead of ``x[idx] = y``, use ``x = x.at[idx].set(y)`` or another .at[] method: https://jax.readthedocs.io/en/latest/_autosummary/jax.numpy.ndarray.at.html"
     ]
    }
   ],
   "source": [
    "array_jax[4] = 22222"
   ]
  },
  {
   "cell_type": "code",
   "execution_count": 18,
   "metadata": {
    "colab": {
     "base_uri": "https://localhost:8080/"
    },
    "execution": {
     "iopub.execute_input": "2021-07-27T14:50:03.225396Z",
     "iopub.status.busy": "2021-07-27T14:50:03.224560Z",
     "iopub.status.idle": "2021-07-27T14:50:03.243198Z",
     "shell.execute_reply": "2021-07-27T14:50:03.242525Z",
     "shell.execute_reply.started": "2021-07-21T11:33:08.427786Z"
    },
    "id": "4UMg4Kn4OAIe",
    "outputId": "8f195a70-6ea2-4e4f-c967-77732e8568e7",
    "papermill": {
     "duration": 0.052066,
     "end_time": "2021-07-27T14:50:03.243370",
     "exception": false,
     "start_time": "2021-07-27T14:50:03.191304",
     "status": "completed"
    },
    "tags": []
   },
   "outputs": [
    {
     "data": {
      "text/plain": [
       "DeviceArray([   0,    1,    2,    3, 2222,    5,    6,    7,    8,    9], dtype=int32)"
      ]
     },
     "execution_count": 18,
     "metadata": {},
     "output_type": "execute_result"
    }
   ],
   "source": [
    "array_jax_modified = array_jax.at[4].set(2222)\n",
    "\n",
    "array_jax_modified"
   ]
  },
  {
   "cell_type": "code",
   "execution_count": 19,
   "metadata": {
    "colab": {
     "base_uri": "https://localhost:8080/"
    },
    "id": "spmf7lviLkGo",
    "outputId": "d6f49e4b-d263-48e1-ecff-0004b5ea5827"
   },
   "outputs": [
    {
     "data": {
      "text/plain": [
       "DeviceArray([0, 1, 2, 3, 4, 5, 6, 7, 8, 9], dtype=int32)"
      ]
     },
     "execution_count": 19,
     "metadata": {},
     "output_type": "execute_result"
    }
   ],
   "source": [
    "array_jax"
   ]
  },
  {
   "cell_type": "markdown",
   "metadata": {
    "id": "0-ZfSU9lOAIe",
    "papermill": {
     "duration": 0.025056,
     "end_time": "2021-07-27T14:50:03.294268",
     "exception": false,
     "start_time": "2021-07-27T14:50:03.269212",
     "status": "completed"
    },
    "tags": []
   },
   "source": [
    " **Why immutability?** JAX relies on **pure functions** to JIT compile code to get greatly improved performance.\n",
    " \n",
    "JAX uses this immutability of arrays in order to optimize the computation graph for your scientific operations. This requires that JAX should be able to fuse operations, eliminate dependencies, and parallelize operations. Allowing item-assignment or in-place updates makes this kind of graph optimization very difficult."
   ]
  },
  {
   "cell_type": "code",
   "execution_count": 20,
   "metadata": {
    "colab": {
     "base_uri": "https://localhost:8080/"
    },
    "execution": {
     "iopub.execute_input": "2021-07-27T14:50:03.504345Z",
     "iopub.status.busy": "2021-07-27T14:50:03.503390Z",
     "iopub.status.idle": "2021-07-27T14:50:03.569331Z",
     "shell.execute_reply": "2021-07-27T14:50:03.569839Z",
     "shell.execute_reply.started": "2021-07-21T11:34:16.529997Z"
    },
    "id": "3hhW3lYrOAIf",
    "outputId": "f4e06da3-8674-4b06-fa54-efe3615bc0d2",
    "papermill": {
     "duration": 0.101754,
     "end_time": "2021-07-27T14:50:03.570110",
     "exception": false,
     "start_time": "2021-07-27T14:50:03.468356",
     "status": "completed"
    },
    "tags": []
   },
   "outputs": [
    {
     "name": "stdout",
     "output_type": "stream",
     "text": [
      "[ 0  1  2  3  4 15  6  7  8  9]\n",
      "[ 0  1  2  3  4 10  6  7  8  9]\n"
     ]
    }
   ],
   "source": [
    "print(array_jax.at[5].add(10))\n",
    "\n",
    "print(array_jax.at[5].mul(2))"
   ]
  },
  {
   "cell_type": "markdown",
   "metadata": {
    "id": "ywZ_io46OAIg",
    "papermill": {
     "duration": 0.026832,
     "end_time": "2021-07-27T14:50:03.624640",
     "exception": false,
     "start_time": "2021-07-27T14:50:03.597808",
     "status": "completed"
    },
    "tags": []
   },
   "source": [
    "# Asynchronous dispatch\n",
    "\n",
    "One of the biggest differences between `ndarrays` and `DeviceArrays` is in their execution and their availability. JAX uses asynchronous dispatch to hide Python overheads. Let's take an example to understand what it means."
   ]
  },
  {
   "cell_type": "code",
   "execution_count": 21,
   "metadata": {
    "colab": {
     "base_uri": "https://localhost:8080/"
    },
    "execution": {
     "iopub.execute_input": "2021-07-27T14:50:03.682372Z",
     "iopub.status.busy": "2021-07-27T14:50:03.681589Z",
     "iopub.status.idle": "2021-07-27T14:50:05.032931Z",
     "shell.execute_reply": "2021-07-27T14:50:05.031686Z",
     "shell.execute_reply.started": "2021-07-21T11:34:18.778158Z"
    },
    "id": "L5SIFGkJOAIg",
    "outputId": "247b2b5b-687d-43d9-9b9a-2f05c8952e25",
    "papermill": {
     "duration": 1.381698,
     "end_time": "2021-07-27T14:50:05.033286",
     "exception": false,
     "start_time": "2021-07-27T14:50:03.651588",
     "status": "completed"
    },
    "tags": []
   },
   "outputs": [
    {
     "name": "stdout",
     "output_type": "stream",
     "text": [
      "Shape of numpy array:  (10000, 10000)\n",
      "Shape of JAX array:  (10000, 10000)\n"
     ]
    }
   ],
   "source": [
    "array_np = np.random.normal(size = (10000, 10000)).astype(np.float32)\n",
    "array_jax = jax.random.normal(jax.random.PRNGKey(0), (10000, 10000), dtype = jnp.float32) \n",
    "\n",
    "print('Shape of numpy array: ', array_np.shape)\n",
    "print('Shape of JAX array: ', array_jax.shape)"
   ]
  },
  {
   "cell_type": "code",
   "execution_count": 22,
   "metadata": {
    "colab": {
     "base_uri": "https://localhost:8080/"
    },
    "id": "-S94NGf7OWMH",
    "outputId": "3c952974-3767-460d-a337-eba9f04b71cd"
   },
   "outputs": [
    {
     "name": "stdout",
     "output_type": "stream",
     "text": [
      "CPU times: user 45.1 s, sys: 101 ms, total: 45.2 s\n",
      "Wall time: 23 s\n",
      "Completed NumPy operation\n"
     ]
    }
   ],
   "source": [
    "%time np.matmul(array_np, array_np)\n",
    "\n",
    "print('Completed NumPy operation')"
   ]
  },
  {
   "cell_type": "markdown",
   "metadata": {
    "id": "KUx2V1yBJZ7_"
   },
   "source": [
    "During warm up it takes a bit more time.Subsequent runs are faster than 1st run"
   ]
  },
  {
   "cell_type": "code",
   "execution_count": 24,
   "metadata": {
    "colab": {
     "base_uri": "https://localhost:8080/"
    },
    "id": "VS4Wdv9WNDwo",
    "outputId": "5776884b-f84d-4779-cf85-64ae5aaf6571"
   },
   "outputs": [
    {
     "name": "stdout",
     "output_type": "stream",
     "text": [
      "CPU times: user 1.51 ms, sys: 11 µs, total: 1.53 ms\n",
      "Wall time: 1.42 ms\n",
      "Completed JAX operation?\n"
     ]
    }
   ],
   "source": [
    "%time jnp.matmul(array_jax, array_jax)\n",
    "\n",
    "print('Completed JAX operation')"
   ]
  },
  {
   "cell_type": "markdown",
   "metadata": {
    "id": "nnHoo6zPOAIg",
    "papermill": {
     "duration": 0.050665,
     "end_time": "2021-07-27T14:50:05.135088",
     "exception": false,
     "start_time": "2021-07-27T14:50:05.084423",
     "status": "completed"
    },
    "tags": []
   },
   "source": [
    "Now, let's do some computation on each array to see what happens and how much time does each computation take"
   ]
  },
  {
   "cell_type": "markdown",
   "metadata": {
    "id": "LVc8fHKkOAIh",
    "papermill": {
     "duration": 0.044369,
     "end_time": "2021-07-27T14:50:13.263685",
     "exception": false,
     "start_time": "2021-07-27T14:50:13.219316",
     "status": "completed"
    },
    "tags": []
   },
   "source": [
    "Wow! Seems that the `DeviceArray` computation finished in no time. This is where you should remember this:\n",
    "1. Unlike the result of `ndarray`, the result of the computation done on DeviceArray isn't available yet. This is a **future** value that will be available on the accelerator \n",
    "2. You can retrieve the value of this computation by **printing** it or by converting it into a plain old numpy `ndarray`\n",
    "3. The above timing for DeviceArray is the time taken to **dispatch** the work, not the time taken for actual computation\n",
    "4. Asynchronous dispatch is useful since it allows Python code to “run ahead” of an accelerator device, keeping Python code out of the critical path. Provided the Python code enqueues work on the device faster than it can be executed, and that Python code does not actually need to inspect the output of a computation on the host, then a Python program can enqueue arbitrary amounts of work and avoid having the accelerator wait.\n",
    "5. To measure the true cost of any such operation:\n",
    "     - Either convert it to plain numpy ndarray (not preferred)\n",
    "     - Use `block_until_ready()` to wait for the computation that produced it to complete (preferred way for benchmarking)\n",
    "     \n",
    "Let's take a look at the above two methods again to measure the correct computation time"
   ]
  },
  {
   "cell_type": "code",
   "execution_count": 43,
   "metadata": {
    "colab": {
     "base_uri": "https://localhost:8080/"
    },
    "id": "Ly0U6X5rXnZS",
    "outputId": "24c644ba-4cdb-4512-b506-94614021a65f"
   },
   "outputs": [
    {
     "name": "stdout",
     "output_type": "stream",
     "text": [
      "CPU times: user 693 ms, sys: 0 ns, total: 693 ms\n",
      "Wall time: 691 ms\n"
     ]
    },
    {
     "data": {
      "text/plain": [
       "array([[ -90.649605 ,   13.972294 ,  -95.644356 , ...,   23.926107 ,\n",
       "         133.53967  ,   53.144093 ],\n",
       "       [  44.89995  ,  -33.371754 ,   94.96752  , ..., -100.38466  ,\n",
       "         -56.9396   , -217.22105  ],\n",
       "       [ -45.115227 , -185.57512  , -189.55267  , ..., -213.17244  ,\n",
       "          11.189074 ,   18.810091 ],\n",
       "       ...,\n",
       "       [  57.29252  ,   89.313675 ,   96.97262  , ...,  -26.702463 ,\n",
       "          32.321266 ,  159.42375  ],\n",
       "       [  92.361015 ,   29.874603 ,  -63.730263 , ...,   41.16846  ,\n",
       "         154.73875  ,   85.76176  ],\n",
       "       [   7.0634017,   81.06211  ,  145.52782  , ...,   73.70803  ,\n",
       "         -43.59744  ,  -10.067663 ]], dtype=float32)"
      ]
     },
     "execution_count": 43,
     "metadata": {},
     "output_type": "execute_result"
    }
   ],
   "source": [
    "%time np.asarray(jnp.matmul(array_jax, array_jax))"
   ]
  },
  {
   "cell_type": "code",
   "execution_count": 44,
   "metadata": {
    "colab": {
     "base_uri": "https://localhost:8080/"
    },
    "id": "elKA-a4HN4bs",
    "outputId": "0fcdd433-123d-4dd0-8fd4-990f9d27a2a8"
   },
   "outputs": [
    {
     "name": "stdout",
     "output_type": "stream",
     "text": [
      "CPU times: user 4.59 ms, sys: 0 ns, total: 4.59 ms\n",
      "Wall time: 593 ms\n"
     ]
    },
    {
     "data": {
      "text/plain": [
       "DeviceArray([[ -90.649605 ,   13.972294 ,  -95.644356 , ...,\n",
       "                23.926107 ,  133.53967  ,   53.144093 ],\n",
       "             [  44.89995  ,  -33.371754 ,   94.96752  , ...,\n",
       "              -100.38466  ,  -56.9396   , -217.22105  ],\n",
       "             [ -45.115227 , -185.57512  , -189.55267  , ...,\n",
       "              -213.17244  ,   11.189074 ,   18.810091 ],\n",
       "             ...,\n",
       "             [  57.29252  ,   89.313675 ,   96.97262  , ...,\n",
       "               -26.702463 ,   32.321266 ,  159.42375  ],\n",
       "             [  92.361015 ,   29.874603 ,  -63.730263 , ...,\n",
       "                41.16846  ,  154.73875  ,   85.76176  ],\n",
       "             [   7.0634017,   81.06211  ,  145.52782  , ...,\n",
       "                73.70803  ,  -43.59744  ,  -10.067663 ]], dtype=float32)"
      ]
     },
     "execution_count": 44,
     "metadata": {},
     "output_type": "execute_result"
    }
   ],
   "source": [
    "%time jnp.matmul(array_jax, array_jax).block_until_ready()"
   ]
  },
  {
   "cell_type": "code",
   "execution_count": 25,
   "metadata": {
    "colab": {
     "base_uri": "https://localhost:8080/"
    },
    "id": "MJPKyaWQSYYJ",
    "outputId": "67b1a3e6-c67b-4683-dd43-e0f0ae4aeae3"
   },
   "outputs": [
    {
     "name": "stdout",
     "output_type": "stream",
     "text": [
      "5 loops, best of 5: 11.9 s per loop\n"
     ]
    }
   ],
   "source": [
    "%timeit -n5 np.dot(array_np, array_np.T)"
   ]
  },
  {
   "cell_type": "code",
   "execution_count": 26,
   "metadata": {
    "colab": {
     "base_uri": "https://localhost:8080/"
    },
    "id": "qYjOqHP4SLjh",
    "outputId": "7c3e38dc-9abe-4bcb-8de2-db14916aafec"
   },
   "outputs": [
    {
     "name": "stdout",
     "output_type": "stream",
     "text": [
      "The slowest run took 3547.42 times longer than the fastest. This could mean that an intermediate result is being cached.\n",
      "5 loops, best of 5: 138 µs per loop\n"
     ]
    }
   ],
   "source": [
    "%timeit -n5 jnp.dot(array_jax, array_jax.T)"
   ]
  },
  {
   "cell_type": "code",
   "execution_count": 27,
   "metadata": {
    "colab": {
     "base_uri": "https://localhost:8080/"
    },
    "id": "OzcBs4HuSMfj",
    "outputId": "51854426-0ce1-469c-96f8-2292c2cf90a8"
   },
   "outputs": [
    {
     "name": "stdout",
     "output_type": "stream",
     "text": [
      "5 loops, best of 5: 267 ms per loop\n"
     ]
    }
   ],
   "source": [
    "# Runs on the GPU with transfer overhead\n",
    "\n",
    "%timeit -n5 jnp.dot(array_np, array_np.T)"
   ]
  },
  {
   "cell_type": "code",
   "execution_count": 28,
   "metadata": {
    "colab": {
     "base_uri": "https://localhost:8080/"
    },
    "id": "K-YBQB21SNPi",
    "outputId": "ecac2bf8-79a5-470a-9e94-82682750d1fa"
   },
   "outputs": [
    {
     "name": "stdout",
     "output_type": "stream",
     "text": [
      "The slowest run took 3403.05 times longer than the fastest. This could mean that an intermediate result is being cached.\n",
      "5 loops, best of 5: 145 µs per loop\n"
     ]
    }
   ],
   "source": [
    "from jax import device_put\n",
    "\n",
    "array_np_gpu = device_put(array_np)\n",
    "\n",
    "%timeit -n5 jnp.dot(array_np_gpu, array_np_gpu.T)"
   ]
  },
  {
   "cell_type": "markdown",
   "metadata": {
    "id": "oGlTF0zWOAIi",
    "papermill": {
     "duration": 0.029162,
     "end_time": "2021-07-27T14:50:39.666297",
     "exception": false,
     "start_time": "2021-07-27T14:50:39.637135",
     "status": "completed"
    },
    "tags": []
   },
   "source": [
    "# Types promotion\n",
    "\n",
    "This is another aspect to keep in mind. `dtype` promotion in JAX is less aggressve as compared to numpy. A few things:\n",
    "1. JAX always prefers the precision of the JAX value when promoting a Python scalar\n",
    "2. JAX always prefers the type of the floating-point or complex type when promoting an integer or boolean type against floating or complex type\n",
    "3. JAX uses floating point promotion rules that are more suited to modern accelerator devices like GPUs/TPUs\n",
    "\n",
    "Let's take an example to see these in action"
   ]
  },
  {
   "cell_type": "markdown",
   "metadata": {
    "id": "5DUIZjB1nfVR"
   },
   "source": [
    "Numpy promoting to int64 from int16"
   ]
  },
  {
   "cell_type": "code",
   "execution_count": 46,
   "metadata": {
    "colab": {
     "base_uri": "https://localhost:8080/"
    },
    "id": "aQIzToLYn5ES",
    "outputId": "bd3ef3af-29c0-48bb-bee7-e7b0ff8e7c5f"
   },
   "outputs": [
    {
     "data": {
      "text/plain": [
       "dtype('int16')"
      ]
     },
     "execution_count": 46,
     "metadata": {},
     "output_type": "execute_result"
    }
   ],
   "source": [
    "np.int16(128).dtype"
   ]
  },
  {
   "cell_type": "code",
   "execution_count": 47,
   "metadata": {
    "colab": {
     "base_uri": "https://localhost:8080/"
    },
    "id": "exmSmxZfeKp-",
    "outputId": "d83efe5d-b9f4-4a1b-dab7-3e09b65e0311"
   },
   "outputs": [
    {
     "data": {
      "text/plain": [
       "dtype('int64')"
      ]
     },
     "execution_count": 47,
     "metadata": {},
     "output_type": "execute_result"
    }
   ],
   "source": [
    "(np.int16(128) + 4).dtype"
   ]
  },
  {
   "cell_type": "markdown",
   "metadata": {
    "id": "wMf_hiZVnm_d"
   },
   "source": [
    "\n",
    "jnp.int16(128) + 4 will return int16 rather than promoting to int64 as in NumPy."
   ]
  },
  {
   "cell_type": "code",
   "execution_count": 48,
   "metadata": {
    "colab": {
     "base_uri": "https://localhost:8080/"
    },
    "id": "98-heAKheaZU",
    "outputId": "cdc51759-bd2b-472e-bdab-27fd88f19cbd"
   },
   "outputs": [
    {
     "data": {
      "text/plain": [
       "dtype('int16')"
      ]
     },
     "execution_count": 48,
     "metadata": {},
     "output_type": "execute_result"
    }
   ],
   "source": [
    "(jnp.int16(128) + 4).dtype"
   ]
  },
  {
   "cell_type": "markdown",
   "metadata": {
    "id": "ZeSLpQIXJwiV"
   },
   "source": [
    "Comparing Numpy and JAX casting.\n",
    "Implicit numpy casting gives:  float64\n",
    "Implicit JAX casting gives:  float32"
   ]
  },
  {
   "cell_type": "code",
   "execution_count": 49,
   "metadata": {
    "colab": {
     "base_uri": "https://localhost:8080/"
    },
    "id": "t-H738Xdg4cy",
    "outputId": "80deaa8f-d03e-49d6-e4ce-885586965632"
   },
   "outputs": [
    {
     "data": {
      "text/plain": [
       "array([8, 0, 5, 0, 8, 3, 6, 7, 8, 7], dtype=int32)"
      ]
     },
     "execution_count": 49,
     "metadata": {},
     "output_type": "execute_result"
    }
   ],
   "source": [
    "array_int_np = np.random.randint(10, size = 10, dtype = np.int32)\n",
    "\n",
    "array_int_np"
   ]
  },
  {
   "cell_type": "code",
   "execution_count": 50,
   "metadata": {
    "colab": {
     "base_uri": "https://localhost:8080/"
    },
    "id": "K38UDVmcix7E",
    "outputId": "fd5c0e3f-b0fa-4f8d-acb0-6ef21fac30f2"
   },
   "outputs": [
    {
     "data": {
      "text/plain": [
       "dtype('float64')"
      ]
     },
     "execution_count": 50,
     "metadata": {},
     "output_type": "execute_result"
    }
   ],
   "source": [
    "(array_int_np + 5.0).dtype"
   ]
  },
  {
   "cell_type": "code",
   "execution_count": 51,
   "metadata": {
    "colab": {
     "base_uri": "https://localhost:8080/"
    },
    "execution": {
     "iopub.execute_input": "2021-07-27T14:50:39.817397Z",
     "iopub.status.busy": "2021-07-27T14:50:39.816365Z",
     "iopub.status.idle": "2021-07-27T14:50:40.152182Z",
     "shell.execute_reply": "2021-07-27T14:50:40.151521Z",
     "shell.execute_reply.started": "2021-07-21T11:34:52.455203Z"
    },
    "id": "WKpBGyi7OAIj",
    "outputId": "4648570e-ba6b-4e7f-c034-b59184f0885b",
    "papermill": {
     "duration": 0.369089,
     "end_time": "2021-07-27T14:50:40.152348",
     "exception": false,
     "start_time": "2021-07-27T14:50:39.783259",
     "status": "completed"
    },
    "tags": []
   },
   "outputs": [
    {
     "data": {
      "text/plain": [
       "DeviceArray([8, 1, 8, 1, 2, 0, 3, 4, 1, 3], dtype=int32)"
      ]
     },
     "execution_count": 51,
     "metadata": {},
     "output_type": "execute_result"
    }
   ],
   "source": [
    "array_int_jax = jax.random.randint(jax.random.PRNGKey(0),\n",
    "                            minval = 0,\n",
    "                            maxval = 9,\n",
    "                            shape = [10],\n",
    "                            dtype = jnp.int32\n",
    "                           )\n",
    "\n",
    "array_int_jax"
   ]
  },
  {
   "cell_type": "code",
   "execution_count": 52,
   "metadata": {
    "colab": {
     "base_uri": "https://localhost:8080/"
    },
    "id": "Qoid9DBDOAIk",
    "outputId": "2073eb23-d478-4ce4-e0c3-aee26f63b99d",
    "papermill": {
     "duration": 0.036349,
     "end_time": "2021-07-27T14:50:40.498398",
     "exception": false,
     "start_time": "2021-07-27T14:50:40.462049",
     "status": "completed"
    },
    "tags": []
   },
   "outputs": [
    {
     "data": {
      "text/plain": [
       "dtype('float32')"
      ]
     },
     "execution_count": 52,
     "metadata": {},
     "output_type": "execute_result"
    }
   ],
   "source": [
    "(array_int_jax + 5.0).dtype"
   ]
  },
  {
   "cell_type": "code",
   "execution_count": null,
   "metadata": {
    "id": "UPJjBkhenIXI"
   },
   "outputs": [],
   "source": []
  }
 ],
 "metadata": {
  "accelerator": "GPU",
  "colab": {
   "collapsed_sections": [],
   "name": "demo_01_JAXArrays.ipynb",
   "provenance": []
  },
  "gpuClass": "standard",
  "kernelspec": {
   "display_name": "Python 3 (ipykernel)",
   "language": "python",
   "name": "python3"
  },
  "language_info": {
   "codemirror_mode": {
    "name": "ipython",
    "version": 3
   },
   "file_extension": ".py",
   "mimetype": "text/x-python",
   "name": "python",
   "nbconvert_exporter": "python",
   "pygments_lexer": "ipython3",
   "version": "3.8.5"
  },
  "papermill": {
   "default_parameters": {},
   "duration": 51.986104,
   "end_time": "2021-07-27T14:50:42.615016",
   "environment_variables": {},
   "exception": null,
   "input_path": "__notebook__.ipynb",
   "output_path": "__notebook__.ipynb",
   "parameters": {},
   "start_time": "2021-07-27T14:49:50.628912",
   "version": "2.3.3"
  }
 },
 "nbformat": 4,
 "nbformat_minor": 5
}
