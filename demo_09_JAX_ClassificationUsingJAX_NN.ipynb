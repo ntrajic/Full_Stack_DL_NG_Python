{
  "cells": [
    {
      "cell_type": "markdown",
      "source": [
        "# Classification using a neural network\n",
        "\n",
        "Dataset: https://www.kaggle.com/easonlai/sample-insurance-claim-prediction-dataset?select=insurance2.csv"
      ],
      "metadata": {
        "id": "LZQPdrg_g-Sc"
      }
    },
    {
      "cell_type": "code",
      "execution_count": 40,
      "metadata": {
        "id": "4I38QhpG-H_3"
      },
      "outputs": [],
      "source": [
        "import jax\n",
        "import pandas as pd\n",
        "import matplotlib.pyplot as plt\n",
        "import jax.numpy as jnp\n",
        "\n",
        "from jax import grad, jit, random\n",
        "from sklearn.preprocessing import StandardScaler\n",
        "from sklearn.metrics import accuracy_score\n",
        "from sklearn.model_selection import train_test_split"
      ]
    },
    {
      "cell_type": "code",
      "execution_count": 1,
      "metadata": {
        "colab": {
          "base_uri": "https://localhost:8080/"
        },
        "id": "yBpI1bgaDXVy",
        "outputId": "c7cf3bea-c788-4adc-beff-51e5755b4aab"
      },
      "outputs": [
        {
          "output_type": "stream",
          "name": "stdout",
          "text": [
            "Mounted at /content/drive\n"
          ]
        }
      ],
      "source": [
        "from google.colab import drive \n",
        "\n",
        "drive.mount('/content/drive')"
      ]
    },
    {
      "cell_type": "code",
      "execution_count": 5,
      "metadata": {
        "colab": {
          "base_uri": "https://localhost:8080/",
          "height": 206
        },
        "id": "tfHtGSBbKANE",
        "outputId": "2d9affef-dd6c-41b9-b4a9-7adc37fbe4ca"
      },
      "outputs": [
        {
          "output_type": "execute_result",
          "data": {
            "text/plain": [
              "   age  sex     bmi  children  smoker  region  insuranceclaim      charges\n",
              "0   19    1  27.900         0       1       3               1  16884.92400\n",
              "1   18    0  33.770         1       0       2               1   1725.55230\n",
              "2   28    0  33.000         3       0       2               0   4449.46200\n",
              "3   33    0  22.705         0       0       1               0  21984.47061\n",
              "4   32    0  28.880         0       0       1               1   3866.85520"
            ],
            "text/html": [
              "\n",
              "  <div id=\"df-e2047bfa-162e-4bf3-a698-38a7aa296812\">\n",
              "    <div class=\"colab-df-container\">\n",
              "      <div>\n",
              "<style scoped>\n",
              "    .dataframe tbody tr th:only-of-type {\n",
              "        vertical-align: middle;\n",
              "    }\n",
              "\n",
              "    .dataframe tbody tr th {\n",
              "        vertical-align: top;\n",
              "    }\n",
              "\n",
              "    .dataframe thead th {\n",
              "        text-align: right;\n",
              "    }\n",
              "</style>\n",
              "<table border=\"1\" class=\"dataframe\">\n",
              "  <thead>\n",
              "    <tr style=\"text-align: right;\">\n",
              "      <th></th>\n",
              "      <th>age</th>\n",
              "      <th>sex</th>\n",
              "      <th>bmi</th>\n",
              "      <th>children</th>\n",
              "      <th>smoker</th>\n",
              "      <th>region</th>\n",
              "      <th>insuranceclaim</th>\n",
              "      <th>charges</th>\n",
              "    </tr>\n",
              "  </thead>\n",
              "  <tbody>\n",
              "    <tr>\n",
              "      <th>0</th>\n",
              "      <td>19</td>\n",
              "      <td>1</td>\n",
              "      <td>27.900</td>\n",
              "      <td>0</td>\n",
              "      <td>1</td>\n",
              "      <td>3</td>\n",
              "      <td>1</td>\n",
              "      <td>16884.92400</td>\n",
              "    </tr>\n",
              "    <tr>\n",
              "      <th>1</th>\n",
              "      <td>18</td>\n",
              "      <td>0</td>\n",
              "      <td>33.770</td>\n",
              "      <td>1</td>\n",
              "      <td>0</td>\n",
              "      <td>2</td>\n",
              "      <td>1</td>\n",
              "      <td>1725.55230</td>\n",
              "    </tr>\n",
              "    <tr>\n",
              "      <th>2</th>\n",
              "      <td>28</td>\n",
              "      <td>0</td>\n",
              "      <td>33.000</td>\n",
              "      <td>3</td>\n",
              "      <td>0</td>\n",
              "      <td>2</td>\n",
              "      <td>0</td>\n",
              "      <td>4449.46200</td>\n",
              "    </tr>\n",
              "    <tr>\n",
              "      <th>3</th>\n",
              "      <td>33</td>\n",
              "      <td>0</td>\n",
              "      <td>22.705</td>\n",
              "      <td>0</td>\n",
              "      <td>0</td>\n",
              "      <td>1</td>\n",
              "      <td>0</td>\n",
              "      <td>21984.47061</td>\n",
              "    </tr>\n",
              "    <tr>\n",
              "      <th>4</th>\n",
              "      <td>32</td>\n",
              "      <td>0</td>\n",
              "      <td>28.880</td>\n",
              "      <td>0</td>\n",
              "      <td>0</td>\n",
              "      <td>1</td>\n",
              "      <td>1</td>\n",
              "      <td>3866.85520</td>\n",
              "    </tr>\n",
              "  </tbody>\n",
              "</table>\n",
              "</div>\n",
              "      <button class=\"colab-df-convert\" onclick=\"convertToInteractive('df-e2047bfa-162e-4bf3-a698-38a7aa296812')\"\n",
              "              title=\"Convert this dataframe to an interactive table.\"\n",
              "              style=\"display:none;\">\n",
              "        \n",
              "  <svg xmlns=\"http://www.w3.org/2000/svg\" height=\"24px\"viewBox=\"0 0 24 24\"\n",
              "       width=\"24px\">\n",
              "    <path d=\"M0 0h24v24H0V0z\" fill=\"none\"/>\n",
              "    <path d=\"M18.56 5.44l.94 2.06.94-2.06 2.06-.94-2.06-.94-.94-2.06-.94 2.06-2.06.94zm-11 1L8.5 8.5l.94-2.06 2.06-.94-2.06-.94L8.5 2.5l-.94 2.06-2.06.94zm10 10l.94 2.06.94-2.06 2.06-.94-2.06-.94-.94-2.06-.94 2.06-2.06.94z\"/><path d=\"M17.41 7.96l-1.37-1.37c-.4-.4-.92-.59-1.43-.59-.52 0-1.04.2-1.43.59L10.3 9.45l-7.72 7.72c-.78.78-.78 2.05 0 2.83L4 21.41c.39.39.9.59 1.41.59.51 0 1.02-.2 1.41-.59l7.78-7.78 2.81-2.81c.8-.78.8-2.07 0-2.86zM5.41 20L4 18.59l7.72-7.72 1.47 1.35L5.41 20z\"/>\n",
              "  </svg>\n",
              "      </button>\n",
              "      \n",
              "  <style>\n",
              "    .colab-df-container {\n",
              "      display:flex;\n",
              "      flex-wrap:wrap;\n",
              "      gap: 12px;\n",
              "    }\n",
              "\n",
              "    .colab-df-convert {\n",
              "      background-color: #E8F0FE;\n",
              "      border: none;\n",
              "      border-radius: 50%;\n",
              "      cursor: pointer;\n",
              "      display: none;\n",
              "      fill: #1967D2;\n",
              "      height: 32px;\n",
              "      padding: 0 0 0 0;\n",
              "      width: 32px;\n",
              "    }\n",
              "\n",
              "    .colab-df-convert:hover {\n",
              "      background-color: #E2EBFA;\n",
              "      box-shadow: 0px 1px 2px rgba(60, 64, 67, 0.3), 0px 1px 3px 1px rgba(60, 64, 67, 0.15);\n",
              "      fill: #174EA6;\n",
              "    }\n",
              "\n",
              "    [theme=dark] .colab-df-convert {\n",
              "      background-color: #3B4455;\n",
              "      fill: #D2E3FC;\n",
              "    }\n",
              "\n",
              "    [theme=dark] .colab-df-convert:hover {\n",
              "      background-color: #434B5C;\n",
              "      box-shadow: 0px 1px 3px 1px rgba(0, 0, 0, 0.15);\n",
              "      filter: drop-shadow(0px 1px 2px rgba(0, 0, 0, 0.3));\n",
              "      fill: #FFFFFF;\n",
              "    }\n",
              "  </style>\n",
              "\n",
              "      <script>\n",
              "        const buttonEl =\n",
              "          document.querySelector('#df-e2047bfa-162e-4bf3-a698-38a7aa296812 button.colab-df-convert');\n",
              "        buttonEl.style.display =\n",
              "          google.colab.kernel.accessAllowed ? 'block' : 'none';\n",
              "\n",
              "        async function convertToInteractive(key) {\n",
              "          const element = document.querySelector('#df-e2047bfa-162e-4bf3-a698-38a7aa296812');\n",
              "          const dataTable =\n",
              "            await google.colab.kernel.invokeFunction('convertToInteractive',\n",
              "                                                     [key], {});\n",
              "          if (!dataTable) return;\n",
              "\n",
              "          const docLinkHtml = 'Like what you see? Visit the ' +\n",
              "            '<a target=\"_blank\" href=https://colab.research.google.com/notebooks/data_table.ipynb>data table notebook</a>'\n",
              "            + ' to learn more about interactive tables.';\n",
              "          element.innerHTML = '';\n",
              "          dataTable['output_type'] = 'display_data';\n",
              "          await google.colab.output.renderOutput(dataTable, element);\n",
              "          const docLink = document.createElement('div');\n",
              "          docLink.innerHTML = docLinkHtml;\n",
              "          element.appendChild(docLink);\n",
              "        }\n",
              "      </script>\n",
              "    </div>\n",
              "  </div>\n",
              "  "
            ]
          },
          "metadata": {},
          "execution_count": 5
        }
      ],
      "source": [
        "insurance_claim_data = pd.read_csv('/content/drive/MyDrive/jax_datasets/insurance_data.csv')\n",
        "\n",
        "insurance_claim_data.head()"
      ]
    },
    {
      "cell_type": "markdown",
      "metadata": {
        "id": "tXnF6VtdGulR"
      },
      "source": [
        "Target balance is checked. Dataset is quite balanced"
      ]
    },
    {
      "cell_type": "code",
      "execution_count": 6,
      "metadata": {
        "colab": {
          "base_uri": "https://localhost:8080/"
        },
        "id": "Ze4wcjPnRv3x",
        "outputId": "68f95ff8-7274-4056-cd12-494ced03f5fa"
      },
      "outputs": [
        {
          "output_type": "execute_result",
          "data": {
            "text/plain": [
              "1    783\n",
              "0    555\n",
              "Name: insuranceclaim, dtype: int64"
            ]
          },
          "metadata": {},
          "execution_count": 6
        }
      ],
      "source": [
        "insurance_claim_data['insuranceclaim'].value_counts()"
      ]
    },
    {
      "cell_type": "markdown",
      "metadata": {
        "id": "xGNtq05IGyFK"
      },
      "source": [
        "Separate predictor and target dataframes are created"
      ]
    },
    {
      "cell_type": "code",
      "execution_count": 7,
      "metadata": {
        "id": "dE6vDmurLEQ0"
      },
      "outputs": [],
      "source": [
        "X = insurance_claim_data.drop('insuranceclaim', axis = 1)\n",
        "\n",
        "y = insurance_claim_data['insuranceclaim']"
      ]
    },
    {
      "cell_type": "markdown",
      "metadata": {
        "id": "1vb5B0QgG2Z4"
      },
      "source": [
        "Data is split into Train(0.7) and Test set(0.3)"
      ]
    },
    {
      "cell_type": "code",
      "execution_count": 8,
      "metadata": {
        "id": "Jr-e2quuKqvn",
        "colab": {
          "base_uri": "https://localhost:8080/"
        },
        "outputId": "22260ddb-b69c-493b-caef-a4b9803d34e4"
      },
      "outputs": [
        {
          "output_type": "execute_result",
          "data": {
            "text/plain": [
              "((936, 7), (402, 7), (936,), (402,))"
            ]
          },
          "metadata": {},
          "execution_count": 8
        }
      ],
      "source": [
        "X_train, X_test, y_train, y_test = train_test_split(X, y, test_size = 0.3, \n",
        "                                                    stratify = y)\n",
        "\n",
        "X_train.shape, X_test.shape, y_train.shape, y_test.shape"
      ]
    },
    {
      "cell_type": "markdown",
      "metadata": {
        "id": "A_h_910zG7-H"
      },
      "source": [
        "Dataframes containing only numerical columns are separated out for scaling"
      ]
    },
    {
      "cell_type": "code",
      "execution_count": 9,
      "metadata": {
        "id": "v53p2wIMMjAq"
      },
      "outputs": [],
      "source": [
        "X_train_numerical = X_train[['age', 'bmi','children','charges']]\n",
        "\n",
        "X_test_numerical = X_test[['age', 'bmi','children','charges']]"
      ]
    },
    {
      "cell_type": "markdown",
      "metadata": {
        "id": "4Ir3hWpLG9q_"
      },
      "source": [
        "Dataframes containing only categorical columns are separated out to avoid scaling. Note that feature 'region' is dropped to avoid one hot encoding of this feature(only for reducing preprocessing steps).In the dataframe, this feature is ordinally encoded(should be one hot encoded)."
      ]
    },
    {
      "cell_type": "code",
      "execution_count": 10,
      "metadata": {
        "id": "cfbE-os7NXYd"
      },
      "outputs": [],
      "source": [
        "X_train_categorical = X_train[['sex', 'smoker']]\n",
        "\n",
        "X_test_categorical = X_test[['sex', 'smoker']]"
      ]
    },
    {
      "cell_type": "markdown",
      "metadata": {
        "id": "McF63CY4HMmI"
      },
      "source": [
        "Training and testing numeric predictor dataframes are scaled"
      ]
    },
    {
      "cell_type": "code",
      "execution_count": 11,
      "metadata": {
        "id": "I78XGTZMMKXV"
      },
      "outputs": [],
      "source": [
        "scaler = StandardScaler()\n",
        "\n",
        "X_train_numerical = pd.DataFrame(scaler.fit_transform(X_train_numerical), \n",
        "                                 columns = X_train_numerical.columns)\n",
        "\n",
        "X_test_numerical = pd.DataFrame(scaler.transform(X_test_numerical),\n",
        "                                columns = X_test_numerical.columns)"
      ]
    },
    {
      "cell_type": "code",
      "execution_count": 13,
      "metadata": {
        "colab": {
          "base_uri": "https://localhost:8080/",
          "height": 206
        },
        "id": "EDgUHFFCOXgt",
        "outputId": "6aab42bd-8aa2-4820-a043-c9e87e0a4885"
      },
      "outputs": [
        {
          "output_type": "execute_result",
          "data": {
            "text/plain": [
              "   sex  smoker       age       bmi  children   charges\n",
              "0    1       1  1.655873 -0.611119 -0.895933  1.347079\n",
              "1    0       0 -1.184197  3.231165 -0.076194 -0.901567\n",
              "2    1       0 -1.539206  1.388839 -0.895933 -0.969844\n",
              "3    1       0  1.513870 -1.578259 -0.895933  0.029444\n",
              "4    1       1  1.726875 -0.626718 -0.895933  1.379353"
            ],
            "text/html": [
              "\n",
              "  <div id=\"df-72a22894-f3d4-4f76-9b25-46b6855a283f\">\n",
              "    <div class=\"colab-df-container\">\n",
              "      <div>\n",
              "<style scoped>\n",
              "    .dataframe tbody tr th:only-of-type {\n",
              "        vertical-align: middle;\n",
              "    }\n",
              "\n",
              "    .dataframe tbody tr th {\n",
              "        vertical-align: top;\n",
              "    }\n",
              "\n",
              "    .dataframe thead th {\n",
              "        text-align: right;\n",
              "    }\n",
              "</style>\n",
              "<table border=\"1\" class=\"dataframe\">\n",
              "  <thead>\n",
              "    <tr style=\"text-align: right;\">\n",
              "      <th></th>\n",
              "      <th>sex</th>\n",
              "      <th>smoker</th>\n",
              "      <th>age</th>\n",
              "      <th>bmi</th>\n",
              "      <th>children</th>\n",
              "      <th>charges</th>\n",
              "    </tr>\n",
              "  </thead>\n",
              "  <tbody>\n",
              "    <tr>\n",
              "      <th>0</th>\n",
              "      <td>1</td>\n",
              "      <td>1</td>\n",
              "      <td>1.655873</td>\n",
              "      <td>-0.611119</td>\n",
              "      <td>-0.895933</td>\n",
              "      <td>1.347079</td>\n",
              "    </tr>\n",
              "    <tr>\n",
              "      <th>1</th>\n",
              "      <td>0</td>\n",
              "      <td>0</td>\n",
              "      <td>-1.184197</td>\n",
              "      <td>3.231165</td>\n",
              "      <td>-0.076194</td>\n",
              "      <td>-0.901567</td>\n",
              "    </tr>\n",
              "    <tr>\n",
              "      <th>2</th>\n",
              "      <td>1</td>\n",
              "      <td>0</td>\n",
              "      <td>-1.539206</td>\n",
              "      <td>1.388839</td>\n",
              "      <td>-0.895933</td>\n",
              "      <td>-0.969844</td>\n",
              "    </tr>\n",
              "    <tr>\n",
              "      <th>3</th>\n",
              "      <td>1</td>\n",
              "      <td>0</td>\n",
              "      <td>1.513870</td>\n",
              "      <td>-1.578259</td>\n",
              "      <td>-0.895933</td>\n",
              "      <td>0.029444</td>\n",
              "    </tr>\n",
              "    <tr>\n",
              "      <th>4</th>\n",
              "      <td>1</td>\n",
              "      <td>1</td>\n",
              "      <td>1.726875</td>\n",
              "      <td>-0.626718</td>\n",
              "      <td>-0.895933</td>\n",
              "      <td>1.379353</td>\n",
              "    </tr>\n",
              "  </tbody>\n",
              "</table>\n",
              "</div>\n",
              "      <button class=\"colab-df-convert\" onclick=\"convertToInteractive('df-72a22894-f3d4-4f76-9b25-46b6855a283f')\"\n",
              "              title=\"Convert this dataframe to an interactive table.\"\n",
              "              style=\"display:none;\">\n",
              "        \n",
              "  <svg xmlns=\"http://www.w3.org/2000/svg\" height=\"24px\"viewBox=\"0 0 24 24\"\n",
              "       width=\"24px\">\n",
              "    <path d=\"M0 0h24v24H0V0z\" fill=\"none\"/>\n",
              "    <path d=\"M18.56 5.44l.94 2.06.94-2.06 2.06-.94-2.06-.94-.94-2.06-.94 2.06-2.06.94zm-11 1L8.5 8.5l.94-2.06 2.06-.94-2.06-.94L8.5 2.5l-.94 2.06-2.06.94zm10 10l.94 2.06.94-2.06 2.06-.94-2.06-.94-.94-2.06-.94 2.06-2.06.94z\"/><path d=\"M17.41 7.96l-1.37-1.37c-.4-.4-.92-.59-1.43-.59-.52 0-1.04.2-1.43.59L10.3 9.45l-7.72 7.72c-.78.78-.78 2.05 0 2.83L4 21.41c.39.39.9.59 1.41.59.51 0 1.02-.2 1.41-.59l7.78-7.78 2.81-2.81c.8-.78.8-2.07 0-2.86zM5.41 20L4 18.59l7.72-7.72 1.47 1.35L5.41 20z\"/>\n",
              "  </svg>\n",
              "      </button>\n",
              "      \n",
              "  <style>\n",
              "    .colab-df-container {\n",
              "      display:flex;\n",
              "      flex-wrap:wrap;\n",
              "      gap: 12px;\n",
              "    }\n",
              "\n",
              "    .colab-df-convert {\n",
              "      background-color: #E8F0FE;\n",
              "      border: none;\n",
              "      border-radius: 50%;\n",
              "      cursor: pointer;\n",
              "      display: none;\n",
              "      fill: #1967D2;\n",
              "      height: 32px;\n",
              "      padding: 0 0 0 0;\n",
              "      width: 32px;\n",
              "    }\n",
              "\n",
              "    .colab-df-convert:hover {\n",
              "      background-color: #E2EBFA;\n",
              "      box-shadow: 0px 1px 2px rgba(60, 64, 67, 0.3), 0px 1px 3px 1px rgba(60, 64, 67, 0.15);\n",
              "      fill: #174EA6;\n",
              "    }\n",
              "\n",
              "    [theme=dark] .colab-df-convert {\n",
              "      background-color: #3B4455;\n",
              "      fill: #D2E3FC;\n",
              "    }\n",
              "\n",
              "    [theme=dark] .colab-df-convert:hover {\n",
              "      background-color: #434B5C;\n",
              "      box-shadow: 0px 1px 3px 1px rgba(0, 0, 0, 0.15);\n",
              "      filter: drop-shadow(0px 1px 2px rgba(0, 0, 0, 0.3));\n",
              "      fill: #FFFFFF;\n",
              "    }\n",
              "  </style>\n",
              "\n",
              "      <script>\n",
              "        const buttonEl =\n",
              "          document.querySelector('#df-72a22894-f3d4-4f76-9b25-46b6855a283f button.colab-df-convert');\n",
              "        buttonEl.style.display =\n",
              "          google.colab.kernel.accessAllowed ? 'block' : 'none';\n",
              "\n",
              "        async function convertToInteractive(key) {\n",
              "          const element = document.querySelector('#df-72a22894-f3d4-4f76-9b25-46b6855a283f');\n",
              "          const dataTable =\n",
              "            await google.colab.kernel.invokeFunction('convertToInteractive',\n",
              "                                                     [key], {});\n",
              "          if (!dataTable) return;\n",
              "\n",
              "          const docLinkHtml = 'Like what you see? Visit the ' +\n",
              "            '<a target=\"_blank\" href=https://colab.research.google.com/notebooks/data_table.ipynb>data table notebook</a>'\n",
              "            + ' to learn more about interactive tables.';\n",
              "          element.innerHTML = '';\n",
              "          dataTable['output_type'] = 'display_data';\n",
              "          await google.colab.output.renderOutput(dataTable, element);\n",
              "          const docLink = document.createElement('div');\n",
              "          docLink.innerHTML = docLinkHtml;\n",
              "          element.appendChild(docLink);\n",
              "        }\n",
              "      </script>\n",
              "    </div>\n",
              "  </div>\n",
              "  "
            ]
          },
          "metadata": {},
          "execution_count": 13
        }
      ],
      "source": [
        "X_train_categorical.reset_index(drop = True, inplace = True)\n",
        "X_train_numerical.reset_index(drop = True, inplace = True)\n",
        "\n",
        "X_train = pd.concat([X_train_categorical, X_train_numerical], axis = 1)\n",
        "\n",
        "X_train.head()"
      ]
    },
    {
      "cell_type": "markdown",
      "metadata": {
        "id": "oxkLiqN9HTcq"
      },
      "source": [
        "Finally categorical columns are merged with scaled numeric columns using corresponding dataframes for both Training and Testing sets"
      ]
    },
    {
      "cell_type": "code",
      "execution_count": 14,
      "metadata": {
        "id": "kQPG4VQJnsnL",
        "colab": {
          "base_uri": "https://localhost:8080/",
          "height": 206
        },
        "outputId": "a3a1c417-5d34-4091-da11-92774159ce68"
      },
      "outputs": [
        {
          "output_type": "execute_result",
          "data": {
            "text/plain": [
              "   sex  smoker       age       bmi  children   charges\n",
              "0    1       0  0.874854  1.099847 -0.895933 -0.291199\n",
              "1    1       1 -1.468204  0.656506  0.743546  1.978705\n",
              "2    0       1  0.519845  1.352715  0.743546  2.640691\n",
              "3    1       0 -0.403178 -0.652169 -0.076194 -0.684040\n",
              "4    0       0  0.022833  0.558807 -0.076194 -0.548555"
            ],
            "text/html": [
              "\n",
              "  <div id=\"df-c9b36d4d-7369-4972-a533-d232c5af4bd6\">\n",
              "    <div class=\"colab-df-container\">\n",
              "      <div>\n",
              "<style scoped>\n",
              "    .dataframe tbody tr th:only-of-type {\n",
              "        vertical-align: middle;\n",
              "    }\n",
              "\n",
              "    .dataframe tbody tr th {\n",
              "        vertical-align: top;\n",
              "    }\n",
              "\n",
              "    .dataframe thead th {\n",
              "        text-align: right;\n",
              "    }\n",
              "</style>\n",
              "<table border=\"1\" class=\"dataframe\">\n",
              "  <thead>\n",
              "    <tr style=\"text-align: right;\">\n",
              "      <th></th>\n",
              "      <th>sex</th>\n",
              "      <th>smoker</th>\n",
              "      <th>age</th>\n",
              "      <th>bmi</th>\n",
              "      <th>children</th>\n",
              "      <th>charges</th>\n",
              "    </tr>\n",
              "  </thead>\n",
              "  <tbody>\n",
              "    <tr>\n",
              "      <th>0</th>\n",
              "      <td>1</td>\n",
              "      <td>0</td>\n",
              "      <td>0.874854</td>\n",
              "      <td>1.099847</td>\n",
              "      <td>-0.895933</td>\n",
              "      <td>-0.291199</td>\n",
              "    </tr>\n",
              "    <tr>\n",
              "      <th>1</th>\n",
              "      <td>1</td>\n",
              "      <td>1</td>\n",
              "      <td>-1.468204</td>\n",
              "      <td>0.656506</td>\n",
              "      <td>0.743546</td>\n",
              "      <td>1.978705</td>\n",
              "    </tr>\n",
              "    <tr>\n",
              "      <th>2</th>\n",
              "      <td>0</td>\n",
              "      <td>1</td>\n",
              "      <td>0.519845</td>\n",
              "      <td>1.352715</td>\n",
              "      <td>0.743546</td>\n",
              "      <td>2.640691</td>\n",
              "    </tr>\n",
              "    <tr>\n",
              "      <th>3</th>\n",
              "      <td>1</td>\n",
              "      <td>0</td>\n",
              "      <td>-0.403178</td>\n",
              "      <td>-0.652169</td>\n",
              "      <td>-0.076194</td>\n",
              "      <td>-0.684040</td>\n",
              "    </tr>\n",
              "    <tr>\n",
              "      <th>4</th>\n",
              "      <td>0</td>\n",
              "      <td>0</td>\n",
              "      <td>0.022833</td>\n",
              "      <td>0.558807</td>\n",
              "      <td>-0.076194</td>\n",
              "      <td>-0.548555</td>\n",
              "    </tr>\n",
              "  </tbody>\n",
              "</table>\n",
              "</div>\n",
              "      <button class=\"colab-df-convert\" onclick=\"convertToInteractive('df-c9b36d4d-7369-4972-a533-d232c5af4bd6')\"\n",
              "              title=\"Convert this dataframe to an interactive table.\"\n",
              "              style=\"display:none;\">\n",
              "        \n",
              "  <svg xmlns=\"http://www.w3.org/2000/svg\" height=\"24px\"viewBox=\"0 0 24 24\"\n",
              "       width=\"24px\">\n",
              "    <path d=\"M0 0h24v24H0V0z\" fill=\"none\"/>\n",
              "    <path d=\"M18.56 5.44l.94 2.06.94-2.06 2.06-.94-2.06-.94-.94-2.06-.94 2.06-2.06.94zm-11 1L8.5 8.5l.94-2.06 2.06-.94-2.06-.94L8.5 2.5l-.94 2.06-2.06.94zm10 10l.94 2.06.94-2.06 2.06-.94-2.06-.94-.94-2.06-.94 2.06-2.06.94z\"/><path d=\"M17.41 7.96l-1.37-1.37c-.4-.4-.92-.59-1.43-.59-.52 0-1.04.2-1.43.59L10.3 9.45l-7.72 7.72c-.78.78-.78 2.05 0 2.83L4 21.41c.39.39.9.59 1.41.59.51 0 1.02-.2 1.41-.59l7.78-7.78 2.81-2.81c.8-.78.8-2.07 0-2.86zM5.41 20L4 18.59l7.72-7.72 1.47 1.35L5.41 20z\"/>\n",
              "  </svg>\n",
              "      </button>\n",
              "      \n",
              "  <style>\n",
              "    .colab-df-container {\n",
              "      display:flex;\n",
              "      flex-wrap:wrap;\n",
              "      gap: 12px;\n",
              "    }\n",
              "\n",
              "    .colab-df-convert {\n",
              "      background-color: #E8F0FE;\n",
              "      border: none;\n",
              "      border-radius: 50%;\n",
              "      cursor: pointer;\n",
              "      display: none;\n",
              "      fill: #1967D2;\n",
              "      height: 32px;\n",
              "      padding: 0 0 0 0;\n",
              "      width: 32px;\n",
              "    }\n",
              "\n",
              "    .colab-df-convert:hover {\n",
              "      background-color: #E2EBFA;\n",
              "      box-shadow: 0px 1px 2px rgba(60, 64, 67, 0.3), 0px 1px 3px 1px rgba(60, 64, 67, 0.15);\n",
              "      fill: #174EA6;\n",
              "    }\n",
              "\n",
              "    [theme=dark] .colab-df-convert {\n",
              "      background-color: #3B4455;\n",
              "      fill: #D2E3FC;\n",
              "    }\n",
              "\n",
              "    [theme=dark] .colab-df-convert:hover {\n",
              "      background-color: #434B5C;\n",
              "      box-shadow: 0px 1px 3px 1px rgba(0, 0, 0, 0.15);\n",
              "      filter: drop-shadow(0px 1px 2px rgba(0, 0, 0, 0.3));\n",
              "      fill: #FFFFFF;\n",
              "    }\n",
              "  </style>\n",
              "\n",
              "      <script>\n",
              "        const buttonEl =\n",
              "          document.querySelector('#df-c9b36d4d-7369-4972-a533-d232c5af4bd6 button.colab-df-convert');\n",
              "        buttonEl.style.display =\n",
              "          google.colab.kernel.accessAllowed ? 'block' : 'none';\n",
              "\n",
              "        async function convertToInteractive(key) {\n",
              "          const element = document.querySelector('#df-c9b36d4d-7369-4972-a533-d232c5af4bd6');\n",
              "          const dataTable =\n",
              "            await google.colab.kernel.invokeFunction('convertToInteractive',\n",
              "                                                     [key], {});\n",
              "          if (!dataTable) return;\n",
              "\n",
              "          const docLinkHtml = 'Like what you see? Visit the ' +\n",
              "            '<a target=\"_blank\" href=https://colab.research.google.com/notebooks/data_table.ipynb>data table notebook</a>'\n",
              "            + ' to learn more about interactive tables.';\n",
              "          element.innerHTML = '';\n",
              "          dataTable['output_type'] = 'display_data';\n",
              "          await google.colab.output.renderOutput(dataTable, element);\n",
              "          const docLink = document.createElement('div');\n",
              "          docLink.innerHTML = docLinkHtml;\n",
              "          element.appendChild(docLink);\n",
              "        }\n",
              "      </script>\n",
              "    </div>\n",
              "  </div>\n",
              "  "
            ]
          },
          "metadata": {},
          "execution_count": 14
        }
      ],
      "source": [
        "X_test_categorical.reset_index(drop = True, inplace = True)\n",
        "X_test_numerical.reset_index(drop = True, inplace = True)\n",
        "\n",
        "X_test = pd.concat([X_test_categorical, X_test_numerical], axis = 1)\n",
        "\n",
        "X_test.head()"
      ]
    },
    {
      "cell_type": "code",
      "execution_count": 15,
      "metadata": {
        "id": "Rn5rrdhOQCeN"
      },
      "outputs": [],
      "source": [
        "X_train, X_test, y_train, y_test = jnp.array(X_train.to_numpy(), dtype = jnp.float32),\\\n",
        "                                   jnp.array(X_test.to_numpy(), dtype = jnp.float32),\\\n",
        "                                   jnp.array(y_train.to_numpy(), dtype = jnp.float32),\\\n",
        "                                   jnp.array(y_test.to_numpy(), dtype = jnp.float32)"
      ]
    },
    {
      "cell_type": "code",
      "execution_count": 111,
      "metadata": {
        "id": "R4MZsYkQU7oD"
      },
      "outputs": [],
      "source": [
        "n_features = X_train.shape[1]\n",
        "\n",
        "def initialize_params(layer_sizes):\n",
        "  params = []\n",
        "\n",
        "  for n_in, n_out in zip(layer_sizes[:-1], layer_sizes[1:]):\n",
        "    params.append(dict(\n",
        "        weights = random.normal(key = random.PRNGKey(111), shape = (n_in, n_out)) * jnp.sqrt(2/n_in),\n",
        "        biases = jnp.ones(shape = (n_out, ))\n",
        "      )\n",
        "    )\n",
        "  return params\n",
        "\n",
        "params = initialize_params([n_features, 8, 16, 1])"
      ]
    },
    {
      "cell_type": "markdown",
      "metadata": {
        "id": "fIhLSMZtPPGk"
      },
      "source": [
        "The shapes of our parameters(layer-wise) are checked using tree_map"
      ]
    },
    {
      "cell_type": "code",
      "execution_count": 112,
      "metadata": {
        "colab": {
          "base_uri": "https://localhost:8080/"
        },
        "id": "f7jN0jx58Gxj",
        "outputId": "75626455-7275-44b0-d2e8-6af79b1b8331"
      },
      "outputs": [
        {
          "output_type": "execute_result",
          "data": {
            "text/plain": [
              "[{'biases': (8,), 'weights': (6, 8)},\n",
              " {'biases': (16,), 'weights': (8, 16)},\n",
              " {'biases': (1,), 'weights': (16, 1)}]"
            ]
          },
          "metadata": {},
          "execution_count": 112
        }
      ],
      "source": [
        "jax.tree_map(lambda x: x.shape, params)"
      ]
    },
    {
      "cell_type": "markdown",
      "metadata": {
        "id": "hLVvc_4UKYxD"
      },
      "source": [
        "Loss function is negative log loss (binary cross entropy loss).\n",
        "\n",
        "For hidden layers, RELU actiavtion is applied. Only For last layer,Sigmoid activation is applied.\n",
        "\n",
        "Bounding the probabilities within (0,1) to avoid ln(0) using clip in loss function definition."
      ]
    },
    {
      "cell_type": "code",
      "execution_count": 114,
      "metadata": {
        "id": "wavqVSU2S6BX"
      },
      "outputs": [],
      "source": [
        "def predict_y(params, X, activation = lambda x: x):\n",
        "    \n",
        "    *hidden, last = params\n",
        "    \n",
        "    for layer in hidden:\n",
        "      X = jax.nn.relu(jnp.matmul(X, layer['weights']) + layer['biases'])\n",
        "\n",
        "    return activation(jnp.matmul(X, last['weights']) + last['biases']).squeeze()\n",
        "\n",
        "\n",
        "def loss_fn(params, X, y, eps = 1e-14):\n",
        "    p = predict_y(params, X, jax.nn.sigmoid)\n",
        "    p = jnp.clip(p, eps, 1 - eps)\n",
        "\n",
        "    error = -(y * jnp.log(p) + (1 - y) * jnp.log(1 - p))\n",
        "\n",
        "    return jnp.mean(error)"
      ]
    },
    {
      "cell_type": "markdown",
      "metadata": {
        "id": "Xa2s-yxgKp6j"
      },
      "source": [
        "Function for updating parameters (using tree_map) are defined. "
      ]
    },
    {
      "cell_type": "code",
      "execution_count": 115,
      "metadata": {
        "id": "kRupdn3z_jCk"
      },
      "outputs": [],
      "source": [
        "def update(params, X, y, lr):\n",
        "\n",
        "  grads = jax.grad(loss_fn)(params, X, y)\n",
        "\n",
        "  return jax.tree_map(\n",
        "      lambda p, g: p - lr * g, params, grads\n",
        "  )"
      ]
    },
    {
      "cell_type": "markdown",
      "metadata": {
        "id": "fPXjvse4OvDj"
      },
      "source": [
        "The training loop is started.Note that we are jitting the update parameters function for faster execution"
      ]
    },
    {
      "cell_type": "code",
      "execution_count": 116,
      "metadata": {
        "colab": {
          "base_uri": "https://localhost:8080/"
        },
        "id": "6WmFuoe5FMKo",
        "outputId": "166f7423-3366-4516-d904-70ec5d4f453a"
      },
      "outputs": [
        {
          "output_type": "stream",
          "name": "stdout",
          "text": [
            "Iteration 500 Loss: 0.5723114\n",
            "Iteration 1000 Loss: 0.5130784\n",
            "Iteration 1500 Loss: 0.4780112\n",
            "Iteration 2000 Loss: 0.45291576\n",
            "Iteration 2500 Loss: 0.43352214\n",
            "Iteration 3000 Loss: 0.41750625\n",
            "Iteration 3500 Loss: 0.40351832\n",
            "Iteration 4000 Loss: 0.39146635\n",
            "Iteration 4500 Loss: 0.38108984\n",
            "Iteration 5000 Loss: 0.3719359\n",
            "Iteration 5500 Loss: 0.3637844\n",
            "Iteration 6000 Loss: 0.3564156\n",
            "Iteration 6500 Loss: 0.34971622\n",
            "Iteration 7000 Loss: 0.34370378\n",
            "Iteration 7500 Loss: 0.338142\n",
            "Iteration 8000 Loss: 0.33292326\n",
            "Iteration 8500 Loss: 0.32811627\n",
            "Iteration 9000 Loss: 0.32364443\n",
            "Iteration 9500 Loss: 0.31945953\n",
            "Iteration 10000 Loss: 0.31548342\n"
          ]
        }
      ],
      "source": [
        "loss_history = []\n",
        "\n",
        "for i in range(10000):\n",
        "    loss = loss_fn(params, X_train, y_train, eps = 1e-14)\n",
        "\n",
        "    if (i + 1) % 500 == 0:\n",
        "      print('Iteration', i + 1, 'Loss:', loss)\n",
        "\n",
        "    loss_history.append(loss)\n",
        "\n",
        "    params = jit(update)(params, X_train, y_train, lr = 0.001)"
      ]
    },
    {
      "cell_type": "code",
      "execution_count": 117,
      "metadata": {
        "colab": {
          "base_uri": "https://localhost:8080/",
          "height": 531
        },
        "id": "KiEGgwVJDiTa",
        "outputId": "cfd1f1b8-36f4-4c93-dccb-68851365520a"
      },
      "outputs": [
        {
          "output_type": "execute_result",
          "data": {
            "text/plain": [
              "[<matplotlib.lines.Line2D at 0x7faf543e2090>]"
            ]
          },
          "metadata": {},
          "execution_count": 117
        },
        {
          "output_type": "display_data",
          "data": {
            "text/plain": [
              "<Figure size 864x576 with 1 Axes>"
            ],
            "image/png": "[encoded data removed]"
          },
          "metadata": {
            "needs_background": "light"
          }
        }
      ],
      "source": [
        "_, ax = plt.subplots(figsize = (12, 8))\n",
        "\n",
        "ax.set(xlabel = 'Iteration', ylabel = 'Loss value', title = 'Training Loss vs Iterations')\n",
        "\n",
        "plt.plot(loss_history)"
      ]
    },
    {
      "cell_type": "markdown",
      "metadata": {
        "id": "MtH0WLoVL65t"
      },
      "source": [
        "Predict probabilities values are obtained for testing set"
      ]
    },
    {
      "cell_type": "code",
      "execution_count": 118,
      "metadata": {
        "colab": {
          "base_uri": "https://localhost:8080/"
        },
        "id": "jyA2oo6PEsUR",
        "outputId": "23c0dbbe-afea-43c8-9f41-f645599de683"
      },
      "outputs": [
        {
          "output_type": "execute_result",
          "data": {
            "text/plain": [
              "DeviceArray([0.99143374, 0.834376  , 0.9207733 , 0.09695256, 0.8014716 ],            dtype=float32)"
            ]
          },
          "metadata": {},
          "execution_count": 118
        }
      ],
      "source": [
        "y_pred_proba = predict_y(params, X_test, jax.nn.sigmoid)\n",
        "\n",
        "y_pred_proba[:5]"
      ]
    },
    {
      "cell_type": "markdown",
      "metadata": {
        "id": "pEzZcBfPMAUl"
      },
      "source": [
        "Prediction on test data is done.Classification report containing accuracy metrics with initial values of parameters"
      ]
    },
    {
      "cell_type": "code",
      "execution_count": 119,
      "metadata": {
        "colab": {
          "base_uri": "https://localhost:8080/"
        },
        "id": "aZbGrB70E5oU",
        "outputId": "1b4bb437-0df9-4a8e-85e7-ef829d3c7fc2"
      },
      "outputs": [
        {
          "output_type": "stream",
          "name": "stdout",
          "text": [
            "[1. 1. 1. 0. 1.]\n",
            "0.8606965174129353\n"
          ]
        }
      ],
      "source": [
        "y_pred = jnp.array(y_pred_proba)\n",
        "y_pred = jnp.where(y_pred < 0.5, 0., 1.0)\n",
        "\n",
        "print(y_pred[:5])\n",
        "\n",
        "print(accuracy_score(y_test, y_pred))"
      ]
    },
    {
      "cell_type": "code",
      "source": [
        ""
      ],
      "metadata": {
        "id": "l8ZYuXiQkROe"
      },
      "execution_count": 50,
      "outputs": []
    }
  ],
  "metadata": {
    "accelerator": "GPU",
    "colab": {
      "collapsed_sections": [],
      "name": "demo_09_ClassificationUsingJAX_NN.ipynb",
      "provenance": []
    },
    "kernelspec": {
      "display_name": "Python 3",
      "language": "python",
      "name": "python3"
    },
    "language_info": {
      "codemirror_mode": {
        "name": "ipython",
        "version": 3
      },
      "file_extension": ".py",
      "mimetype": "text/x-python",
      "name": "python",
      "nbconvert_exporter": "python",
      "pygments_lexer": "ipython3",
      "version": "3.8.5"
    }
  },
  "nbformat": 4,
  "nbformat_minor": 0
}