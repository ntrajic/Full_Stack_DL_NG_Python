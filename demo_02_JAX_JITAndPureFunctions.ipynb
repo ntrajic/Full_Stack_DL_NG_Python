{
  "cells": [
    {
      "cell_type": "code",
      "execution_count": 1,
      "metadata": {
        "execution": {
          "iopub.execute_input": "2021-07-31T10:21:34.153801Z",
          "iopub.status.busy": "2021-07-31T10:21:34.152722Z",
          "iopub.status.idle": "2021-07-31T10:21:35.804601Z",
          "shell.execute_reply": "2021-07-31T10:21:35.803952Z",
          "shell.execute_reply.started": "2021-07-31T07:22:56.261463Z"
        },
        "id": "a7f98f81",
        "papermill": {
          "duration": 1.667183,
          "end_time": "2021-07-31T10:21:35.804793",
          "exception": false,
          "start_time": "2021-07-31T10:21:34.137610",
          "status": "completed"
        },
        "tags": []
      },
      "outputs": [],
      "source": [
        "import jax\n",
        "import numpy as np\n",
        "import jax.numpy as jnp\n",
        "\n",
        "from jax import jit\n",
        "from jax import lax"
      ],
      "id": "a7f98f81"
    },
    {
      "cell_type": "code",
      "execution_count": 2,
      "metadata": {
        "id": "HHvW28GQzf0x"
      },
      "outputs": [],
      "source": [
        "def some_computation(x):\n",
        "    return x + 2 * x*x + 3 * x*x*x"
      ],
      "id": "HHvW28GQzf0x"
    },
    {
      "cell_type": "code",
      "execution_count": 3,
      "metadata": {
        "colab": {
          "base_uri": "https://localhost:8080/"
        },
        "id": "32lHZXnvzi7z",
        "outputId": "b96348db-f8b6-4bf6-9399-432afcfc7ffb"
      },
      "outputs": [
        {
          "output_type": "stream",
          "name": "stdout",
          "text": [
            "5 loops, best of 5: 465 ms per loop\n"
          ]
        }
      ],
      "source": [
        "x_np = np.random.normal(size = (10000, 10000)).astype(np.float32)\n",
        "\n",
        "%timeit -n5 some_computation(x_np)"
      ],
      "id": "32lHZXnvzi7z"
    },
    {
      "cell_type": "code",
      "execution_count": 6,
      "metadata": {
        "colab": {
          "base_uri": "https://localhost:8080/"
        },
        "id": "tTwN_FpxziYX",
        "outputId": "e8cd00ad-f1a4-44b6-bfc5-73cd0cf1c114"
      },
      "outputs": [
        {
          "output_type": "stream",
          "name": "stdout",
          "text": [
            "The slowest run took 6.31 times longer than the fastest. This could mean that an intermediate result is being cached.\n",
            "5 loops, best of 5: 5.26 ms per loop\n"
          ]
        }
      ],
      "source": [
        "x_jax = jax.random.normal(jax.random.PRNGKey(0), (10000, 10000), dtype = jnp.float32)\n",
        "\n",
        "%timeit -n5 some_computation(x_jax)"
      ],
      "id": "tTwN_FpxziYX"
    },
    {
      "cell_type": "code",
      "execution_count": 7,
      "metadata": {
        "colab": {
          "base_uri": "https://localhost:8080/"
        },
        "id": "1r5Tbnkb1KV2",
        "outputId": "3dd74503-7c85-464c-93e4-001182289826"
      },
      "outputs": [
        {
          "output_type": "stream",
          "name": "stdout",
          "text": [
            "5 loops, best of 5: 3.79 ms per loop\n"
          ]
        }
      ],
      "source": [
        "some_computation_jax = jit(some_computation)\n",
        "\n",
        "%timeit -n5 some_computation_jax(x_jax).block_until_ready()"
      ],
      "id": "1r5Tbnkb1KV2"
    },
    {
      "cell_type": "code",
      "execution_count": 8,
      "metadata": {
        "id": "dkhi7CYq1KIQ"
      },
      "outputs": [],
      "source": [
        "@jit\n",
        "def some_computation_jax_decorated(x):\n",
        "    return x + 2 * x*x + 3 * x*x*x"
      ],
      "id": "dkhi7CYq1KIQ"
    },
    {
      "cell_type": "code",
      "execution_count": 9,
      "metadata": {
        "colab": {
          "base_uri": "https://localhost:8080/"
        },
        "id": "jJP5XV-W1J6U",
        "outputId": "4526fa90-c718-41d9-9cfa-93a0b990d9ab"
      },
      "outputs": [
        {
          "output_type": "stream",
          "name": "stdout",
          "text": [
            "5 loops, best of 5: 3.77 ms per loop\n"
          ]
        }
      ],
      "source": [
        "%timeit -n5 some_computation_jax_decorated(x_jax).block_until_ready()"
      ],
      "id": "jJP5XV-W1J6U"
    },
    {
      "cell_type": "markdown",
      "metadata": {
        "id": "uxjIC9dC7w9O"
      },
      "source": [
        "# Tracer Objects\n",
        "\n",
        "Notice that the print statements execute, but rather than printing the data we passed to the function, though, it prints tracer objects that stand-in for them.\n",
        "\n",
        "These tracer objects are what jax.jit uses to extract the sequence of operations specified by the function. Basic tracers are stand-ins that encode the *shape* and *dtype* of the arrays, but are agnostic to the values. This recorded sequence of computations can then be efficiently applied within XLA to new inputs with the same shape and dtype, without having to re-execute the Python code.\n",
        "\n",
        "When we call the compiled function again on matching inputs, no re-compilation is required and nothing is printed because the result is computed in compiled XLA rather than in Python."
      ],
      "id": "uxjIC9dC7w9O"
    },
    {
      "cell_type": "code",
      "execution_count": 10,
      "metadata": {
        "id": "bgce4MQ52npr"
      },
      "outputs": [],
      "source": [
        "@jit\n",
        "def some_function(x, y):\n",
        "\n",
        "  print('Running some_fn()')\n",
        "\n",
        "  print(f'x = {x}')\n",
        "  print(f'y = {y}')\n",
        "\n",
        "  result = jnp.dot(x, y)\n",
        "\n",
        "  print(f'result = {result}')\n",
        "\n",
        "  return result"
      ],
      "id": "bgce4MQ52npr"
    },
    {
      "cell_type": "code",
      "execution_count": 11,
      "metadata": {
        "colab": {
          "base_uri": "https://localhost:8080/"
        },
        "id": "PkqO36yq2nYn",
        "outputId": "255a54b3-0982-411a-c1d9-bd7e43376c5e"
      },
      "outputs": [
        {
          "output_type": "stream",
          "name": "stdout",
          "text": [
            "Running some_fn()\n",
            "x = Traced<ShapedArray(float32[10000,10000])>with<DynamicJaxprTrace(level=0/1)>\n",
            "y = Traced<ShapedArray(float32[10000,10000])>with<DynamicJaxprTrace(level=0/1)>\n",
            "result = Traced<ShapedArray(float32[10000,10000])>with<DynamicJaxprTrace(level=0/1)>\n"
          ]
        },
        {
          "output_type": "execute_result",
          "data": {
            "text/plain": [
              "DeviceArray([[ 1.00604980e+04, -9.98899002e+01, -1.03874687e+02, ...,\n",
              "              -1.23548485e+02,  4.76367607e+01, -1.07481445e+02],\n",
              "             [-9.98899002e+01,  9.81833301e+03,  1.29423080e+02, ...,\n",
              "               2.41555939e+01, -5.59050674e+01, -1.96277191e+02],\n",
              "             [-1.03874687e+02,  1.29423080e+02,  1.01703213e+04, ...,\n",
              "              -2.91882648e+01, -1.04302149e+01,  3.90430717e+01],\n",
              "             ...,\n",
              "             [-1.23548485e+02,  2.41555939e+01, -2.91882648e+01, ...,\n",
              "               1.00786758e+04, -5.32248650e+01,  4.03949499e+00],\n",
              "             [ 4.76367607e+01, -5.59050674e+01, -1.04302149e+01, ...,\n",
              "              -5.32248650e+01,  9.87220312e+03, -1.78523216e+01],\n",
              "             [-1.07481445e+02, -1.96277191e+02,  3.90430717e+01, ...,\n",
              "               4.03949499e+00, -1.78523216e+01,  1.01478525e+04]],            dtype=float32)"
            ]
          },
          "metadata": {},
          "execution_count": 11
        }
      ],
      "source": [
        "# Inputs shape both (10000, 10000)\n",
        "\n",
        "some_function(x_jax, x_jax.T)"
      ],
      "id": "PkqO36yq2nYn"
    },
    {
      "cell_type": "code",
      "execution_count": 12,
      "metadata": {
        "colab": {
          "base_uri": "https://localhost:8080/"
        },
        "id": "shyd_9Ql2nF5",
        "outputId": "fdf342ad-eeeb-40f2-ef90-61d453156ba4"
      },
      "outputs": [
        {
          "output_type": "execute_result",
          "data": {
            "text/plain": [
              "DeviceArray([[ 1.01733340e+04,  1.20691864e+02,  2.18645535e+01, ...,\n",
              "               1.54326508e+02, -3.17743263e+01, -3.51457520e+01],\n",
              "             [ 1.20691864e+02,  9.92143555e+03,  2.49563065e+01, ...,\n",
              "              -1.72294632e+02,  1.29981737e+01, -7.11319494e+00],\n",
              "             [ 2.18645535e+01,  2.49563065e+01,  1.01241816e+04, ...,\n",
              "              -2.22840881e+01, -6.63894424e+01, -4.59337234e+00],\n",
              "             ...,\n",
              "             [ 1.54326508e+02, -1.72294632e+02, -2.22840881e+01, ...,\n",
              "               9.96794141e+03, -4.44877481e+00, -2.06930981e+01],\n",
              "             [-3.17743263e+01,  1.29981737e+01, -6.63894424e+01, ...,\n",
              "              -4.44877481e+00,  1.00113545e+04,  1.69023773e+02],\n",
              "             [-3.51457520e+01, -7.11319494e+00, -4.59337234e+00, ...,\n",
              "              -2.06930981e+01,  1.69023773e+02,  1.01222676e+04]],            dtype=float32)"
            ]
          },
          "metadata": {},
          "execution_count": 12
        }
      ],
      "source": [
        "# Inputs shape both (10000, 10000)\n",
        "\n",
        "some_function(x_jax.T, x_jax)"
      ],
      "id": "shyd_9Ql2nF5"
    },
    {
      "cell_type": "code",
      "source": [
        "x_jax_100 = jax.random.normal(jax.random.PRNGKey(0), (100, 100), dtype = jnp.float32)\n",
        "\n",
        "# Inputs shape both (100, 100), same dtype as earlier compiled function\n",
        "\n",
        "some_function(x_jax_100.T, x_jax_100)"
      ],
      "metadata": {
        "colab": {
          "base_uri": "https://localhost:8080/"
        },
        "id": "K7KZuHuMhqTU",
        "outputId": "f20b6201-c27c-460c-9ed4-a743222ee66f"
      },
      "id": "K7KZuHuMhqTU",
      "execution_count": 13,
      "outputs": [
        {
          "output_type": "stream",
          "name": "stdout",
          "text": [
            "Running some_fn()\n",
            "x = Traced<ShapedArray(float32[100,100])>with<DynamicJaxprTrace(level=0/1)>\n",
            "y = Traced<ShapedArray(float32[100,100])>with<DynamicJaxprTrace(level=0/1)>\n",
            "result = Traced<ShapedArray(float32[100,100])>with<DynamicJaxprTrace(level=0/1)>\n"
          ]
        },
        {
          "output_type": "execute_result",
          "data": {
            "text/plain": [
              "DeviceArray([[130.1622   , -11.1545315,   6.395634 , ...,  -0.6379199,\n",
              "               -1.0903095,  -3.4633865],\n",
              "             [-11.1545315,  81.10213  ,  -8.001425 , ...,   7.4121494,\n",
              "               18.26979  ,  13.440549 ],\n",
              "             [  6.395634 ,  -8.001425 , 107.0456   , ...,   4.493244 ,\n",
              "                9.876643 ,  15.961442 ],\n",
              "             ...,\n",
              "             [ -0.6379199,   7.4121494,   4.493244 , ..., 103.51143  ,\n",
              "                1.7205739,   6.656181 ],\n",
              "             [ -1.0903095,  18.26979  ,   9.876643 , ...,   1.7205739,\n",
              "               99.39847  ,   6.9601545],\n",
              "             [ -3.4633865,  13.440549 ,  15.961442 , ...,   6.656181 ,\n",
              "                6.9601545,  89.10493  ]], dtype=float32)"
            ]
          },
          "metadata": {},
          "execution_count": 13
        }
      ]
    },
    {
      "cell_type": "code",
      "source": [
        "y_jax_100 = jax.random.normal(jax.random.PRNGKey(1), (100, 100), dtype = jnp.float32)\n",
        "\n",
        "# Inputs shape both (100, 100), same dtype as earlier compiled function\n",
        "\n",
        "some_function(y_jax_100.T, y_jax_100)"
      ],
      "metadata": {
        "colab": {
          "base_uri": "https://localhost:8080/"
        },
        "id": "3kWTQQobhzp8",
        "outputId": "b3919fae-5a15-4bfe-aedb-3f463e84df61"
      },
      "id": "3kWTQQobhzp8",
      "execution_count": 14,
      "outputs": [
        {
          "output_type": "execute_result",
          "data": {
            "text/plain": [
              "DeviceArray([[ 85.39795  ,   6.7500253, -19.024044 , ...,  11.312255 ,\n",
              "               17.6198   ,   4.2592945],\n",
              "             [  6.7500253,  97.65387  ,  -4.9124317, ...,  11.003968 ,\n",
              "               15.469701 ,   7.7840524],\n",
              "             [-19.024044 ,  -4.9124317, 119.65793  , ..., -10.738948 ,\n",
              "               27.536476 ,   7.1068816],\n",
              "             ...,\n",
              "             [ 11.312255 ,  11.003968 , -10.738948 , ..., 109.41342  ,\n",
              "               15.596954 ,   4.2096057],\n",
              "             [ 17.6198   ,  15.469701 ,  27.536476 , ...,  15.596954 ,\n",
              "              111.3831   ,  34.37196  ],\n",
              "             [  4.2592945,   7.7840524,   7.1068816, ...,   4.2096057,\n",
              "               34.37196  ,  92.73889  ]], dtype=float32)"
            ]
          },
          "metadata": {},
          "execution_count": 14
        }
      ]
    },
    {
      "cell_type": "code",
      "source": [
        "x_jax_100_int = jnp.eye(100, dtype = jnp.int32)\n",
        "\n",
        "# Inputs shape both (100, 100), dtype is different int32\n",
        "\n",
        "some_function(x_jax_100_int.T, x_jax_100_int)"
      ],
      "metadata": {
        "colab": {
          "base_uri": "https://localhost:8080/"
        },
        "id": "YASpyqywh7Jl",
        "outputId": "6a242dfb-46d7-4d9a-cfac-25f57fde04ee"
      },
      "id": "YASpyqywh7Jl",
      "execution_count": 23,
      "outputs": [
        {
          "output_type": "execute_result",
          "data": {
            "text/plain": [
              "DeviceArray([[1, 0, 0, ..., 0, 0, 0],\n",
              "             [0, 1, 0, ..., 0, 0, 0],\n",
              "             [0, 0, 1, ..., 0, 0, 0],\n",
              "             ...,\n",
              "             [0, 0, 0, ..., 1, 0, 0],\n",
              "             [0, 0, 0, ..., 0, 1, 0],\n",
              "             [0, 0, 0, ..., 0, 0, 1]], dtype=int32)"
            ]
          },
          "metadata": {},
          "execution_count": 23
        }
      ]
    },
    {
      "cell_type": "markdown",
      "metadata": {
        "id": "a3881acd",
        "papermill": {
          "duration": 0.012324,
          "end_time": "2021-07-31T10:21:34.125253",
          "exception": false,
          "start_time": "2021-07-31T10:21:34.112929",
          "status": "completed"
        },
        "tags": []
      },
      "source": [
        "# Pure Functions\n",
        "\n",
        "According to [Wikipedia](https://en.wikipedia.org/wiki/Pure_function), a function is pure if:\n",
        "1. The function returns the same values when invoked with the same inputs\n",
        "2. There are no side effects observed on a function call\n",
        "\n",
        "JAX [pure functions](https://jax.readthedocs.io/en/latest/notebooks/Common_Gotchas_in_JAX.html#pure-functions):\n",
        "\n",
        "- No control flow statements that depend on values\n",
        "- It cannot use or change global state (variables outside its scope, global variables)\n",
        "- It cannot have an I/O stream - so no printing, asking for input, or accessing the time\n",
        "- It cannot have a mutable function as an argument (which a concurrent process could modify)\n",
        "\n",
        "\n",
        "If you use JIT with impure functions, in some cases you will get some kind of observable error and you'll be able to fix your code. But it is also possible that JITing impure functions silently gives you wrong results"
      ],
      "id": "a3881acd"
    },
    {
      "cell_type": "markdown",
      "metadata": {
        "id": "2mc5QtTEz17V"
      },
      "source": [
        "# Impure Functions: I/O\n",
        "\n",
        "Pure functions can be impure because of the presence of input output statements\n",
        "\n",
        "The side-effects i.e print('Return input value at output') appear during the first run but are not printed for subsequent runs\n",
        "\n",
        "The external stream that your function depends on is an external state. \n",
        "Your function is still dependent on an external state. The print statement! It is using the standard output stream to print. What if the stream isn't available on the subsequent calls for whatsoever reason? That will violate the first principle of \"returning the same thing\" when called with the same inputs.\n",
        "\n",
        "\n",
        "\n"
      ],
      "id": "2mc5QtTEz17V"
    },
    {
      "cell_type": "code",
      "execution_count": null,
      "metadata": {
        "colab": {
          "base_uri": "https://localhost:8080/"
        },
        "id": "_EPRatY7wy-W",
        "outputId": "9976fc10-a6b0-4612-a494-d918a56d406c"
      },
      "outputs": [
        {
          "name": "stdout",
          "output_type": "stream",
          "text": [
            "Return input value at output\n"
          ]
        },
        {
          "data": {
            "text/plain": [
              "DeviceArray(2., dtype=float32, weak_type=True)"
            ]
          },
          "execution_count": 17,
          "metadata": {},
          "output_type": "execute_result"
        }
      ],
      "source": [
        "def return_same_value(x):\n",
        "  print('Return input value at output')   \n",
        "  return x\n",
        "\n",
        "jit(return_same_value)(2.)"
      ],
      "id": "_EPRatY7wy-W"
    },
    {
      "cell_type": "markdown",
      "metadata": {
        "id": "5CAhI9S90MkU"
      },
      "source": [
        "Subsequent runs with parameters of same type and shape may not show the side-effect\n",
        "This is because JAX now invokes a cached compilation of the function"
      ],
      "id": "5CAhI9S90MkU"
    },
    {
      "cell_type": "code",
      "execution_count": null,
      "metadata": {
        "colab": {
          "base_uri": "https://localhost:8080/"
        },
        "id": "0hRCKjJgxr05",
        "outputId": "3a16663d-4133-4ce9-d6c8-ed461d6910ea"
      },
      "outputs": [
        {
          "data": {
            "text/plain": [
              "DeviceArray(6., dtype=float32, weak_type=True)"
            ]
          },
          "execution_count": 18,
          "metadata": {},
          "output_type": "execute_result"
        }
      ],
      "source": [
        "jit(return_same_value)(6.)"
      ],
      "id": "0hRCKjJgxr05"
    },
    {
      "cell_type": "markdown",
      "metadata": {
        "id": "SKHs9LNx0TS7"
      },
      "source": [
        "JAX re-runs the Python function when the type or shape of the argument changes and side effects reappear"
      ],
      "id": "SKHs9LNx0TS7"
    },
    {
      "cell_type": "code",
      "execution_count": null,
      "metadata": {
        "colab": {
          "base_uri": "https://localhost:8080/"
        },
        "id": "fhmPd0_XyHWi",
        "outputId": "b7a53206-dfd7-40c4-fe89-867460deca71"
      },
      "outputs": [
        {
          "name": "stdout",
          "output_type": "stream",
          "text": [
            "Return input value at output\n"
          ]
        },
        {
          "data": {
            "text/plain": [
              "DeviceArray(6, dtype=int32, weak_type=True)"
            ]
          },
          "execution_count": 19,
          "metadata": {},
          "output_type": "execute_result"
        }
      ],
      "source": [
        "jit(return_same_value)(6)"
      ],
      "id": "fhmPd0_XyHWi"
    },
    {
      "cell_type": "markdown",
      "metadata": {
        "id": "eea5341a",
        "papermill": {
          "duration": 0.011998,
          "end_time": "2021-07-31T10:21:35.829446",
          "exception": false,
          "start_time": "2021-07-31T10:21:35.817448",
          "status": "completed"
        },
        "tags": []
      },
      "source": [
        "# Impure Functions: Globals"
      ],
      "id": "eea5341a"
    },
    {
      "cell_type": "markdown",
      "metadata": {
        "id": "8hNWRkPN2bH1"
      },
      "source": [
        "\n",
        "   Defining a function that relies on the global variable g for\n",
        "   computation\n",
        "    "
      ],
      "id": "8hNWRkPN2bH1"
    },
    {
      "cell_type": "code",
      "execution_count": null,
      "metadata": {
        "id": "xIbCzcMl2Y0U"
      },
      "outputs": [],
      "source": [
        "power = 5\n",
        "\n",
        "def power_of(x):\n",
        "    \n",
        "    return x**power"
      ],
      "id": "xIbCzcMl2Y0U"
    },
    {
      "cell_type": "code",
      "execution_count": null,
      "metadata": {
        "colab": {
          "base_uri": "https://localhost:8080/"
        },
        "id": "iXSYZpYBD65A",
        "outputId": "add79295-836b-45bb-8826-4c72964be11e"
      },
      "outputs": [
        {
          "data": {
            "text/plain": [
              "32"
            ]
          },
          "execution_count": 24,
          "metadata": {},
          "output_type": "execute_result"
        }
      ],
      "source": [
        "x = 2\n",
        "\n",
        "x_5 = power_of(x)\n",
        "\n",
        "x_5"
      ],
      "id": "iXSYZpYBD65A"
    },
    {
      "cell_type": "code",
      "execution_count": null,
      "metadata": {
        "colab": {
          "base_uri": "https://localhost:8080/"
        },
        "id": "0YD1AoUREC-K",
        "outputId": "bf68b23d-7eee-4a32-a391-a96492b9cbd2"
      },
      "outputs": [
        {
          "data": {
            "text/plain": [
              "1024"
            ]
          },
          "execution_count": 25,
          "metadata": {},
          "output_type": "execute_result"
        }
      ],
      "source": [
        "power = 10\n",
        "\n",
        "x_10 = power_of(x)\n",
        "\n",
        "x_10"
      ],
      "id": "0YD1AoUREC-K"
    },
    {
      "cell_type": "markdown",
      "metadata": {
        "id": "d2_7AwCG3_0W"
      },
      "source": [
        "We will `JIT` the function so that it runs as a JAX transformed\n",
        "function and not like a normal python function"
      ],
      "id": "d2_7AwCG3_0W"
    },
    {
      "cell_type": "code",
      "execution_count": null,
      "metadata": {
        "colab": {
          "base_uri": "https://localhost:8080/"
        },
        "id": "6_KbC-mq4HpI",
        "outputId": "2e990a1a-4a9e-4d63-c2bb-9b0528071ba7"
      },
      "outputs": [
        {
          "data": {
            "text/plain": [
              "DeviceArray(32, dtype=int32, weak_type=True)"
            ]
          },
          "execution_count": 26,
          "metadata": {},
          "output_type": "execute_result"
        }
      ],
      "source": [
        "power = 5\n",
        "\n",
        "x_5 = jit(power_of)(x)\n",
        "\n",
        "x_5"
      ],
      "id": "6_KbC-mq4HpI"
    },
    {
      "cell_type": "markdown",
      "metadata": {
        "id": "E9bv01-Wa94b"
      },
      "source": [
        "Expected value of x_10 below is 32 but 1024 is obtained"
      ],
      "id": "E9bv01-Wa94b"
    },
    {
      "cell_type": "code",
      "execution_count": null,
      "metadata": {
        "colab": {
          "base_uri": "https://localhost:8080/"
        },
        "id": "wPrzrXZf4nRJ",
        "outputId": "92f46bbc-36d0-4240-bac7-302d40485c7f"
      },
      "outputs": [
        {
          "data": {
            "text/plain": [
              "DeviceArray(32, dtype=int32, weak_type=True)"
            ]
          },
          "execution_count": 27,
          "metadata": {},
          "output_type": "execute_result"
        }
      ],
      "source": [
        "power = 10\n",
        "\n",
        "x_10 = jit(power_of)(x)\n",
        "\n",
        "x_10"
      ],
      "id": "wPrzrXZf4nRJ"
    },
    {
      "cell_type": "markdown",
      "metadata": {
        "id": "a8324b3c",
        "papermill": {
          "duration": 0.012324,
          "end_time": "2021-07-31T10:21:36.132635",
          "exception": false,
          "start_time": "2021-07-31T10:21:36.120311",
          "status": "completed"
        },
        "tags": []
      },
      "source": [
        "When you `jit` your function, JAX tracing kicks in. On the first call, the results would be as expected, but on the subsequent function calls you will get the **`cached`** results unless:\n",
        "1. The type of the argument has changed or\n",
        "2. The shape of the argument has changed\n",
        "\n",
        "Let's see it in action"
      ],
      "id": "a8324b3c"
    },
    {
      "cell_type": "code",
      "execution_count": null,
      "metadata": {
        "colab": {
          "base_uri": "https://localhost:8080/"
        },
        "id": "EoyGI0tMAah_",
        "outputId": "6915157d-f134-4963-8c83-bbb069c21c94"
      },
      "outputs": [
        {
          "data": {
            "text/plain": [
              "DeviceArray(1024., dtype=float32, weak_type=True)"
            ]
          },
          "execution_count": 28,
          "metadata": {},
          "output_type": "execute_result"
        }
      ],
      "source": [
        "x = 2.0\n",
        "\n",
        "x_10 = jit(power_of)(x)\n",
        "\n",
        "x_10"
      ],
      "id": "EoyGI0tMAah_"
    },
    {
      "cell_type": "code",
      "execution_count": null,
      "metadata": {
        "colab": {
          "base_uri": "https://localhost:8080/"
        },
        "id": "354RkIQQCz3b",
        "outputId": "c593237d-dd08-4d53-acfc-32ff69ee31ec"
      },
      "outputs": [
        {
          "data": {
            "text/plain": [
              "DeviceArray([1024], dtype=int32)"
            ]
          },
          "execution_count": 29,
          "metadata": {},
          "output_type": "execute_result"
        }
      ],
      "source": [
        "x = jnp.array([2])\n",
        "\n",
        "x_10 = jit(power_of)(x)\n",
        "\n",
        "x_10"
      ],
      "id": "354RkIQQCz3b"
    },
    {
      "cell_type": "markdown",
      "metadata": {
        "id": "1d2950c9",
        "papermill": {
          "duration": 0.012779,
          "end_time": "2021-07-31T10:21:36.366283",
          "exception": false,
          "start_time": "2021-07-31T10:21:36.353504",
          "status": "completed"
        },
        "tags": []
      },
      "source": [
        "# Impure Functions: Iterators\n",
        "\n",
        "We will take a very simple example to see the side effect. We will add numbers from `0 to 5` but in two different ways:\n",
        "\n",
        "1. Passing an actual array of numbers to a function\n",
        "2. Passing an **`iterator`** object to the same function"
      ],
      "id": "1d2950c9"
    },
    {
      "cell_type": "code",
      "execution_count": null,
      "metadata": {
        "colab": {
          "base_uri": "https://localhost:8080/"
        },
        "id": "FUcs1hxXKQXJ",
        "outputId": "b6ba9f8d-8843-41f0-eb12-ed5ac587197d"
      },
      "outputs": [
        {
          "data": {
            "text/plain": [
              "DeviceArray([0, 1, 2, 3, 4], dtype=int32)"
            ]
          },
          "execution_count": 30,
          "metadata": {},
          "output_type": "execute_result"
        }
      ],
      "source": [
        "array_jax = jnp.arange(5)\n",
        "\n",
        "array_jax"
      ],
      "id": "FUcs1hxXKQXJ"
    },
    {
      "cell_type": "code",
      "execution_count": null,
      "metadata": {
        "colab": {
          "base_uri": "https://localhost:8080/"
        },
        "id": "JRRl5HcEKpGh",
        "outputId": "37847a6b-fa72-4b6e-a678-c354e10609c6"
      },
      "outputs": [
        {
          "data": {
            "text/plain": [
              "DeviceArray(10, dtype=int32)"
            ]
          },
          "execution_count": 31,
          "metadata": {},
          "output_type": "execute_result"
        }
      ],
      "source": [
        "lax.fori_loop(0, 5, lambda i, x: x + array_jax[i], 0)"
      ],
      "id": "JRRl5HcEKpGh"
    },
    {
      "cell_type": "markdown",
      "metadata": {
        "id": "nZLyFpVkoC35"
      },
      "source": [
        "It is not recommended to use iterators in any JAX function you want to jit or in any control-flow primitive. The reason is that an iterator is a python object which introduces state to retrieve the next element. Therefore, it is incompatible with JAX functional programming model. "
      ],
      "id": "nZLyFpVkoC35"
    },
    {
      "cell_type": "code",
      "execution_count": null,
      "metadata": {
        "colab": {
          "base_uri": "https://localhost:8080/"
        },
        "id": "3l3OyVHJnMSD",
        "outputId": "47395fb3-0289-4788-c959-b690d1dd7c00"
      },
      "outputs": [
        {
          "name": "stdout",
          "output_type": "stream",
          "text": [
            "0\n"
          ]
        }
      ],
      "source": [
        "iterator = iter(range(5))\n",
        "\n",
        "print(lax.fori_loop(0, 5, lambda i, x: x + next(iterator), 0))"
      ],
      "id": "3l3OyVHJnMSD"
    },
    {
      "cell_type": "markdown",
      "metadata": {
        "id": "f3ba0402",
        "papermill": {
          "duration": 0.013107,
          "end_time": "2021-07-31T10:21:36.504988",
          "exception": false,
          "start_time": "2021-07-31T10:21:36.491881",
          "status": "completed"
        },
        "tags": []
      },
      "source": [
        "Why the result turned out to be zero in the second case?<br>\n",
        "This is because an `iterator` introduces an **external state** to retrieve the next value."
      ],
      "id": "f3ba0402"
    },
    {
      "cell_type": "markdown",
      "metadata": {
        "id": "25cb825e",
        "papermill": {
          "duration": 0.0142,
          "end_time": "2021-07-31T10:21:36.624824",
          "exception": false,
          "start_time": "2021-07-31T10:21:36.610624",
          "status": "completed"
        },
        "tags": []
      },
      "source": [
        "# Pure functions with stateful objects\n",
        "A Python function can be functionally pure even if it actually uses stateful objects internally, as long as it does not read or write external state:"
      ],
      "id": "25cb825e"
    },
    {
      "cell_type": "code",
      "execution_count": null,
      "metadata": {
        "colab": {
          "base_uri": "https://localhost:8080/"
        },
        "id": "qqaEgyZ-VeMG",
        "outputId": "3b6ceca8-eeab-4657-ed91-15600efed19c"
      },
      "outputs": [
        {
          "data": {
            "text/plain": [
              "[DeviceArray(0, dtype=int32),\n",
              " DeviceArray(1, dtype=int32),\n",
              " DeviceArray(2, dtype=int32),\n",
              " DeviceArray(3, dtype=int32),\n",
              " DeviceArray(4, dtype=int32)]"
            ]
          },
          "execution_count": 33,
          "metadata": {},
          "output_type": "execute_result"
        }
      ],
      "source": [
        "def pure_uses_internal_state(array):\n",
        "    array_list = []\n",
        "    for i in range(len(array)):\n",
        "        array_list.append(array[i])\n",
        "    return array_list\n",
        "\n",
        "array = jnp.arange(5)\n",
        "\n",
        "jit(pure_uses_internal_state)(array)"
      ],
      "id": "qqaEgyZ-VeMG"
    },
    {
      "cell_type": "markdown",
      "metadata": {
        "id": "rFIXjimuX0ZT"
      },
      "source": [
        "Second call to the fucntion with different value"
      ],
      "id": "rFIXjimuX0ZT"
    },
    {
      "cell_type": "code",
      "execution_count": null,
      "metadata": {
        "colab": {
          "base_uri": "https://localhost:8080/"
        },
        "id": "0sTEGggWW0bi",
        "outputId": "8de61f66-236f-45f5-a455-ada63187d5b8"
      },
      "outputs": [
        {
          "data": {
            "text/plain": [
              "[DeviceArray(0, dtype=int32),\n",
              " DeviceArray(1, dtype=int32),\n",
              " DeviceArray(2, dtype=int32),\n",
              " DeviceArray(3, dtype=int32),\n",
              " DeviceArray(4, dtype=int32),\n",
              " DeviceArray(5, dtype=int32),\n",
              " DeviceArray(6, dtype=int32),\n",
              " DeviceArray(7, dtype=int32),\n",
              " DeviceArray(8, dtype=int32),\n",
              " DeviceArray(9, dtype=int32)]"
            ]
          },
          "execution_count": 34,
          "metadata": {},
          "output_type": "execute_result"
        }
      ],
      "source": [
        "array = jnp.arange(10)\n",
        "\n",
        "jit(pure_uses_internal_state)(array)"
      ],
      "id": "0sTEGggWW0bi"
    },
    {
      "cell_type": "markdown",
      "metadata": {
        "id": "adcb3ca3",
        "papermill": {
          "duration": 0.013768,
          "end_time": "2021-07-31T10:21:36.732682",
          "exception": false,
          "start_time": "2021-07-31T10:21:36.718914",
          "status": "completed"
        },
        "tags": []
      },
      "source": [
        "So, to keep things **pure**, remember not to use anything inside a function that depends on any **external state**, including the IO as well. If you do that, transforming the function would give you unexpected results, and you would end up wasting a lot of time debugging your code when the transformed function returns a cached result, which is ironical because pure functions are easy to debug"
      ],
      "id": "adcb3ca3"
    },
    {
      "cell_type": "code",
      "execution_count": null,
      "metadata": {
        "id": "f305b380",
        "papermill": {
          "duration": 0.013758,
          "end_time": "2021-07-31T10:21:36.816183",
          "exception": false,
          "start_time": "2021-07-31T10:21:36.802425",
          "status": "completed"
        },
        "tags": []
      },
      "outputs": [],
      "source": [
        ""
      ],
      "id": "f305b380"
    }
  ],
  "metadata": {
    "accelerator": "GPU",
    "colab": {
      "name": "demo_02_JITAndPureFunctions.ipynb",
      "provenance": [],
      "collapsed_sections": []
    },
    "gpuClass": "standard",
    "kernelspec": {
      "display_name": "Python 3",
      "language": "python",
      "name": "python3"
    },
    "language_info": {
      "codemirror_mode": {
        "name": "ipython",
        "version": 3
      },
      "file_extension": ".py",
      "mimetype": "text/x-python",
      "name": "python",
      "nbconvert_exporter": "python",
      "pygments_lexer": "ipython3",
      "version": "3.8.5"
    },
    "papermill": {
      "default_parameters": {},
      "duration": 11.890622,
      "end_time": "2021-07-31T10:21:38.166234",
      "environment_variables": {},
      "exception": null,
      "input_path": "__notebook__.ipynb",
      "output_path": "__notebook__.ipynb",
      "parameters": {},
      "start_time": "2021-07-31T10:21:26.275612",
      "version": "2.3.3"
    }
  },
  "nbformat": 4,
  "nbformat_minor": 5
}