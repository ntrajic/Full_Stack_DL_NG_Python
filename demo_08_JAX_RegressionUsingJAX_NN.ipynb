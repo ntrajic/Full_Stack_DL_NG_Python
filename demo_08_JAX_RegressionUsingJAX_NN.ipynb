{
  "cells": [
    {
      "cell_type": "markdown",
      "metadata": {
        "id": "Y6FHDZAj5n-0"
      },
      "source": [
        "# Regression using a fully-connected neural network"
      ]
    },
    {
      "cell_type": "code",
      "execution_count": 1,
      "metadata": {
        "id": "gEXebQ1HTJqv"
      },
      "outputs": [],
      "source": [
        "import numpy as np\n",
        "import matplotlib.pyplot as plt\n",
        "\n",
        "import jax\n",
        "import jax.numpy as jnp\n",
        "from jax import grad, jit, random\n",
        "\n",
        "from jax.tree_util import tree_map\n",
        "from sklearn.preprocessing import StandardScaler\n",
        "from sklearn.model_selection import train_test_split\n",
        "from sklearn.metrics import r2_score"
      ]
    },
    {
      "cell_type": "markdown",
      "metadata": {
        "id": "huOi8jnp73_D"
      },
      "source": [
        "We are defining a function for initialising parameters of the neural network. Weights are random normal initialised and biases are set as ones.No. of units in each layer is set as \n",
        "First layer-No. of features\n",
        "Second layer-10 units\n",
        "Third layer-15 units\n",
        "Final layer-1 unit"
      ]
    },
    {
      "cell_type": "code",
      "execution_count": 2,
      "metadata": {
        "colab": {
          "base_uri": "https://localhost:8080/"
        },
        "id": "LuKhLJugaI5b",
        "outputId": "29368cff-7bb7-4db7-df56-950c79dd504e"
      },
      "outputs": [
        {
          "output_type": "execute_result",
          "data": {
            "text/plain": [
              "[{'biases': DeviceArray([1., 1., 1., 1., 1., 1., 1., 1., 1., 1., 1., 1., 1., 1., 1.,\n",
              "               1., 1., 1., 1., 1., 1., 1., 1., 1., 1., 1., 1., 1., 1., 1.,\n",
              "               1., 1., 1., 1., 1., 1., 1., 1., 1., 1., 1., 1., 1., 1., 1.,\n",
              "               1., 1., 1., 1., 1., 1., 1., 1., 1., 1., 1., 1., 1., 1., 1.,\n",
              "               1., 1., 1., 1.], dtype=float32),\n",
              "  'weights': DeviceArray([[-1.53604090e+00, -1.89735606e-01, -1.18447506e+00,\n",
              "                -1.13840115e+00, -9.05207813e-01, -2.37497211e-01,\n",
              "                 1.43144894e+00, -1.09022760e+00,  2.68712950e+00,\n",
              "                -7.24671125e-01, -9.04856741e-01,  3.01313221e-01,\n",
              "                -7.41258502e-01,  7.90248871e-01, -1.32069731e+00,\n",
              "                -2.07883167e+00, -6.76190257e-01, -1.71853149e+00,\n",
              "                -1.91885745e-03,  4.19938326e-01, -1.19879842e+00,\n",
              "                -4.50422168e-01,  1.76409185e+00,  1.69879094e-01,\n",
              "                 9.93085265e-01,  2.96389103e-01, -2.94202828e+00,\n",
              "                -1.57609522e+00,  1.49294976e-02,  7.07824588e-01,\n",
              "                -7.13914812e-01, -2.47055236e-02,  1.11099863e+00,\n",
              "                 1.80910635e+00,  2.88322508e-01,  5.16986191e-01,\n",
              "                 2.81278944e+00,  1.54210579e+00,  1.84394515e+00,\n",
              "                -2.35415673e+00,  6.70930296e-02,  2.06428304e-01,\n",
              "                -9.65497136e-01, -1.69110703e+00,  1.12731755e-01,\n",
              "                -3.80126429e+00, -1.56472504e-01,  9.02369097e-02,\n",
              "                -1.35585511e+00, -1.45678473e+00, -1.58072126e+00,\n",
              "                -4.39584367e-02, -2.38305950e+00,  7.24000156e-01,\n",
              "                -1.04102778e+00,  1.63447428e+00,  3.63244295e-01,\n",
              "                 1.39434791e+00,  7.68953562e-01,  5.28407991e-01,\n",
              "                 2.03059053e+00,  5.92617810e-01,  2.01440051e-01,\n",
              "                -2.09601927e+00]], dtype=float32)},\n",
              " {'biases': DeviceArray([1., 1., 1., 1., 1., 1., 1., 1., 1., 1., 1., 1., 1., 1., 1.,\n",
              "               1., 1., 1., 1., 1., 1., 1., 1., 1., 1., 1., 1., 1., 1., 1.,\n",
              "               1., 1., 1., 1., 1., 1., 1., 1., 1., 1., 1., 1., 1., 1., 1.,\n",
              "               1., 1., 1., 1., 1., 1., 1., 1., 1., 1., 1., 1., 1., 1., 1.,\n",
              "               1., 1., 1., 1., 1., 1., 1., 1., 1., 1., 1., 1., 1., 1., 1.,\n",
              "               1., 1., 1., 1., 1., 1., 1., 1., 1., 1., 1., 1., 1., 1., 1.,\n",
              "               1., 1., 1., 1., 1., 1., 1., 1., 1., 1., 1., 1., 1., 1., 1.,\n",
              "               1., 1., 1., 1., 1., 1., 1., 1., 1., 1., 1., 1., 1., 1., 1.,\n",
              "               1., 1., 1., 1., 1., 1., 1., 1.], dtype=float32),\n",
              "  'weights': DeviceArray([[ 0.20196858,  0.27074242,  0.24299864, ..., -0.00311577,\n",
              "                 0.14802147, -0.07884854],\n",
              "               [ 0.04208771,  0.03304745,  0.00966445, ...,  0.0324451 ,\n",
              "                -0.21076366,  0.10588294],\n",
              "               [-0.01090269, -0.08727863, -0.09159984, ...,  0.09769876,\n",
              "                -0.19353446, -0.01625603],\n",
              "               ...,\n",
              "               [ 0.47831467, -0.18520944, -0.23492436, ..., -0.23902643,\n",
              "                 0.16182142,  0.01973587],\n",
              "               [ 0.2940908 , -0.18236418,  0.16747227, ..., -0.08908807,\n",
              "                 0.04364897,  0.22971562],\n",
              "               [-0.10497407,  0.10576313,  0.00874588, ..., -0.34591514,\n",
              "                 0.00401424,  0.05604873]], dtype=float32)},\n",
              " {'biases': DeviceArray([1.], dtype=float32),\n",
              "  'weights': DeviceArray([[ 0.00877462],\n",
              "               [ 0.09622157],\n",
              "               [ 0.05052087],\n",
              "               [ 0.08222215],\n",
              "               [ 0.33720112],\n",
              "               [ 0.10823686],\n",
              "               [-0.10014602],\n",
              "               [-0.02520276],\n",
              "               [-0.0424921 ],\n",
              "               [-0.13019215],\n",
              "               [-0.26178285],\n",
              "               [ 0.00091211],\n",
              "               [-0.10239137],\n",
              "               [-0.09102254],\n",
              "               [ 0.14643419],\n",
              "               [ 0.09079868],\n",
              "               [ 0.11224337],\n",
              "               [-0.06741278],\n",
              "               [-0.23764677],\n",
              "               [-0.11250055],\n",
              "               [-0.04857662],\n",
              "               [ 0.10556736],\n",
              "               [ 0.11176196],\n",
              "               [ 0.20054059],\n",
              "               [ 0.03355924],\n",
              "               [ 0.13879755],\n",
              "               [-0.07471479],\n",
              "               [-0.17057016],\n",
              "               [ 0.15299426],\n",
              "               [-0.13295913],\n",
              "               [-0.06111325],\n",
              "               [-0.12030963],\n",
              "               [-0.02575966],\n",
              "               [-0.04395179],\n",
              "               [-0.00844744],\n",
              "               [ 0.06238507],\n",
              "               [-0.04662737],\n",
              "               [ 0.05115169],\n",
              "               [-0.10904257],\n",
              "               [ 0.18887417],\n",
              "               [ 0.11137552],\n",
              "               [ 0.20817243],\n",
              "               [-0.17613608],\n",
              "               [-0.11210374],\n",
              "               [-0.08407161],\n",
              "               [-0.08045029],\n",
              "               [ 0.25169313],\n",
              "               [-0.19451565],\n",
              "               [ 0.12063469],\n",
              "               [ 0.0163648 ],\n",
              "               [-0.12568583],\n",
              "               [ 0.03156501],\n",
              "               [ 0.19951424],\n",
              "               [ 0.12317386],\n",
              "               [-0.04776962],\n",
              "               [ 0.12078599],\n",
              "               [ 0.03752171],\n",
              "               [ 0.02933431],\n",
              "               [-0.2797562 ],\n",
              "               [ 0.17173381],\n",
              "               [-0.14625965],\n",
              "               [ 0.13373457],\n",
              "               [ 0.1781721 ],\n",
              "               [ 0.11222376],\n",
              "               [ 0.03642729],\n",
              "               [ 0.09424165],\n",
              "               [-0.14395143],\n",
              "               [-0.08285538],\n",
              "               [-0.01227012],\n",
              "               [-0.09602957],\n",
              "               [-0.08480146],\n",
              "               [ 0.2767692 ],\n",
              "               [-0.18809547],\n",
              "               [-0.19835605],\n",
              "               [-0.03369469],\n",
              "               [-0.02427267],\n",
              "               [-0.06115413],\n",
              "               [-0.01834604],\n",
              "               [ 0.06493294],\n",
              "               [ 0.17164555],\n",
              "               [ 0.0414758 ],\n",
              "               [-0.08045813],\n",
              "               [-0.07966787],\n",
              "               [ 0.05388497],\n",
              "               [ 0.00321373],\n",
              "               [-0.06250755],\n",
              "               [ 0.10648566],\n",
              "               [ 0.01118475],\n",
              "               [ 0.09997469],\n",
              "               [-0.03219511],\n",
              "               [-0.06827178],\n",
              "               [ 0.05453505],\n",
              "               [-0.10145261],\n",
              "               [-0.05802329],\n",
              "               [ 0.13837296],\n",
              "               [-0.05127532],\n",
              "               [-0.0418012 ],\n",
              "               [-0.02197641],\n",
              "               [-0.03273547],\n",
              "               [ 0.09020067],\n",
              "               [ 0.02688194],\n",
              "               [ 0.126999  ],\n",
              "               [-0.06326477],\n",
              "               [ 0.09130052],\n",
              "               [ 0.12068485],\n",
              "               [ 0.07277422],\n",
              "               [-0.07910167],\n",
              "               [ 0.03126667],\n",
              "               [-0.01919953],\n",
              "               [-0.01710772],\n",
              "               [ 0.07164439],\n",
              "               [ 0.24790028],\n",
              "               [ 0.0635668 ],\n",
              "               [ 0.11129945],\n",
              "               [-0.00537708],\n",
              "               [ 0.13513625],\n",
              "               [-0.02147283],\n",
              "               [ 0.09655687],\n",
              "               [-0.0474629 ],\n",
              "               [ 0.19358745],\n",
              "               [ 0.23294154],\n",
              "               [-0.00631402],\n",
              "               [-0.11673969],\n",
              "               [-0.16343576],\n",
              "               [-0.2983281 ],\n",
              "               [-0.01207748],\n",
              "               [-0.16155308],\n",
              "               [-0.05559677]], dtype=float32)}]"
            ]
          },
          "metadata": {},
          "execution_count": 2
        }
      ],
      "source": [
        "def initialize_params(layer_sizes):\n",
        "  params = []\n",
        "  for n_in, n_out in zip(layer_sizes[:-1], layer_sizes[1:]):\n",
        "    params.append(dict(\n",
        "        weights = random.normal(key = random.PRNGKey(111), shape = (n_in, n_out)) * jnp.sqrt(2/n_in),\n",
        "        biases = jnp.ones(shape = (n_out, ))\n",
        "      )\n",
        "    )\n",
        "  return params\n",
        "\n",
        "params = initialize_params([1, 64, 128, 1])\n",
        "\n",
        "params"
      ]
    },
    {
      "cell_type": "markdown",
      "metadata": {
        "id": "V96oP8tzlxXO"
      },
      "source": [
        "The shapes of our parameters(layer-wise) are checked using tree_map"
      ]
    },
    {
      "cell_type": "code",
      "execution_count": 3,
      "metadata": {
        "colab": {
          "base_uri": "https://localhost:8080/"
        },
        "id": "aoM0ktKuaOFH",
        "outputId": "1e6b9968-61a7-429d-9d56-7eca2d6a4b44"
      },
      "outputs": [
        {
          "output_type": "execute_result",
          "data": {
            "text/plain": [
              "[{'biases': (64,), 'weights': (1, 64)},\n",
              " {'biases': (128,), 'weights': (64, 128)},\n",
              " {'biases': (1,), 'weights': (128, 1)}]"
            ]
          },
          "metadata": {},
          "execution_count": 3
        }
      ],
      "source": [
        "jax.tree_map(lambda x: x.shape, params)"
      ]
    },
    {
      "cell_type": "markdown",
      "metadata": {
        "id": "RX0SddtOmQPY"
      },
      "source": [
        "Prediction and loss functions are defined. Loss function is mean squared error.For hidden layers, RELU activation is applied. "
      ]
    },
    {
      "cell_type": "code",
      "execution_count": 75,
      "metadata": {
        "id": "D71N7LRraXHw"
      },
      "outputs": [],
      "source": [
        "def predict_y(params, X):\n",
        "\n",
        "    *hidden, last = params\n",
        "\n",
        "    for layer in hidden:\n",
        "      X = jax.nn.relu(jnp.matmul(X, layer['weights']) + layer['biases'])\n",
        "    \n",
        "    result = (jnp.matmul(X, last['weights']) + last['biases'])\n",
        "\n",
        "    return (jnp.matmul(X, last['weights']) + last['biases'])"
      ]
    },
    {
      "cell_type": "code",
      "source": [
        "def loss_fn(params, X, y):\n",
        "\n",
        "    p = predict_y(params, X)\n",
        "    error = (predict_y(params, X) - y) ** 2\n",
        "\n",
        "    return jnp.mean(error)"
      ],
      "metadata": {
        "id": "VFL2JiZ7Ymk0"
      },
      "execution_count": 76,
      "outputs": []
    },
    {
      "cell_type": "markdown",
      "metadata": {
        "id": "aFtnVSnnnIZr"
      },
      "source": [
        "Function for updating parameters (using tree_map) are defined."
      ]
    },
    {
      "cell_type": "code",
      "execution_count": 77,
      "metadata": {
        "id": "bZpeDcA_bX-1"
      },
      "outputs": [],
      "source": [
        "def update(params, X, y, lr):\n",
        "\n",
        "  grads = jax.grad(loss_fn)(params, X, y)\n",
        "\n",
        "  return jax.tree_map(\n",
        "      lambda p, g: p - lr * g, params, grads\n",
        "  )"
      ]
    },
    {
      "cell_type": "markdown",
      "metadata": {
        "id": "xJ3tBw5xnPvw"
      },
      "source": [
        "# TODO Recording:\n",
        "\n",
        "- Start with the first function for y in the cell below\n",
        "- Execute all the code till the end\n",
        "- Scroll back up to this cell, and change the y function to the second polynomial function\n",
        "- Execute the code till the end\n",
        "- Repeat for the 3rd sin function"
      ]
    },
    {
      "cell_type": "code",
      "source": [
        "# y = 5 * x + 9 + np.random.normal(size=(256, 1), scale = 1.5)\n",
        "\n",
        "# y = 5 * x**2 + 9 * x + 1 + np.random.normal(size=(256, 1), scale = 1.5)\n",
        "\n",
        "# y = jnp.sin(x) + np.random.normal(size=(256, 1), scale = 1.5)"
      ],
      "metadata": {
        "id": "WugsrjnJdrYj"
      },
      "execution_count": 78,
      "outputs": []
    },
    {
      "cell_type": "code",
      "source": [
        "x = np.random.normal(size=(256, 1))\n",
        "\n",
        "y = 5 * x + 9 + np.random.normal(size=(256, 1), scale = 1.5)"
      ],
      "metadata": {
        "id": "TnidaVAeXgzL"
      },
      "execution_count": 79,
      "outputs": []
    },
    {
      "cell_type": "code",
      "source": [
        "plt.scatter(x, y)"
      ],
      "metadata": {
        "colab": {
          "base_uri": "https://localhost:8080/",
          "height": 283
        },
        "id": "3l2Q1oxqX57O",
        "outputId": "182470a1-1368-48e3-9e5e-1bf63173e566"
      },
      "execution_count": 80,
      "outputs": [
        {
          "output_type": "execute_result",
          "data": {
            "text/plain": [
              "<matplotlib.collections.PathCollection at 0x7faad609f350>"
            ]
          },
          "metadata": {},
          "execution_count": 80
        },
        {
          "output_type": "display_data",
          "data": {
            "text/plain": [
              "<Figure size 432x288 with 1 Axes>"
            ],
            "image/png": "[encoded data removed]"
          },
          "metadata": {
            "needs_background": "light"
          }
        }
      ]
    },
    {
      "cell_type": "code",
      "source": [
        "params = initialize_params([1, 64, 128, 1])"
      ],
      "metadata": {
        "id": "e_UcZs3Nd7X9"
      },
      "execution_count": 81,
      "outputs": []
    },
    {
      "cell_type": "code",
      "execution_count": 82,
      "metadata": {
        "colab": {
          "base_uri": "https://localhost:8080/"
        },
        "id": "ct28dVeubjtD",
        "outputId": "2de481f1-7fb1-4617-ed1a-c6713ceb921b"
      },
      "outputs": [
        {
          "output_type": "stream",
          "name": "stdout",
          "text": [
            "Iteration 500 Loss: 2.4881797\n",
            "Iteration 1000 Loss: 2.3228922\n",
            "Iteration 1500 Loss: 2.2254996\n",
            "Iteration 2000 Loss: 2.162554\n",
            "Iteration 2500 Loss: 2.1262984\n",
            "Iteration 3000 Loss: 2.102062\n",
            "Iteration 3500 Loss: 2.0841043\n",
            "Iteration 4000 Loss: 2.068963\n",
            "Iteration 4500 Loss: 2.0560985\n",
            "Iteration 5000 Loss: 2.045859\n"
          ]
        }
      ],
      "source": [
        "loss_history = []\n",
        "\n",
        "for i in range(5000):\n",
        "\n",
        "    loss = loss_fn(params, x, y)\n",
        "\n",
        "    if (i + 1) % 500 == 0:\n",
        "      print('Iteration', i + 1, 'Loss:', loss)\n",
        "    \n",
        "    loss_history.append(loss)\n",
        "\n",
        "    params = jit(update)(params, x, y, lr = 0.0001)"
      ]
    },
    {
      "cell_type": "code",
      "execution_count": 83,
      "metadata": {
        "id": "th6RT2fZTQU8",
        "colab": {
          "base_uri": "https://localhost:8080/",
          "height": 283
        },
        "outputId": "d96e82b7-b8d7-4bcd-aeee-1871849a338c"
      },
      "outputs": [
        {
          "output_type": "execute_result",
          "data": {
            "text/plain": [
              "<matplotlib.legend.Legend at 0x7faad60ac790>"
            ]
          },
          "metadata": {},
          "execution_count": 83
        },
        {
          "output_type": "display_data",
          "data": {
            "text/plain": [
              "<Figure size 432x288 with 1 Axes>"
            ],
            "image/png": "[encoded data removed]"
          },
          "metadata": {
            "needs_background": "light"
          }
        }
      ],
      "source": [
        "plt.scatter(x, y)\n",
        "plt.scatter(x, predict_y(params, x), label='Predicted values')\n",
        "plt.legend()"
      ]
    },
    {
      "cell_type": "code",
      "source": [
        ""
      ],
      "metadata": {
        "id": "W0L6VU7-bomK"
      },
      "execution_count": null,
      "outputs": []
    }
  ],
  "metadata": {
    "accelerator": "GPU",
    "colab": {
      "collapsed_sections": [],
      "name": "demo_08_RegressionUsingJAX_NN.ipynb",
      "provenance": []
    },
    "kernelspec": {
      "display_name": "Python 3",
      "language": "python",
      "name": "python3"
    },
    "language_info": {
      "codemirror_mode": {
        "name": "ipython",
        "version": 3
      },
      "file_extension": ".py",
      "mimetype": "text/x-python",
      "name": "python",
      "nbconvert_exporter": "python",
      "pygments_lexer": "ipython3",
      "version": "3.8.5"
    }
  },
  "nbformat": 4,
  "nbformat_minor": 0
}