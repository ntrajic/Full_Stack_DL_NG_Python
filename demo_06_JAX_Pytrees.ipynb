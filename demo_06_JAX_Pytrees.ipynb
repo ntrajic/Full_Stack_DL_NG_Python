{
  "cells": [
    {
      "cell_type": "markdown",
      "metadata": {
        "id": "nB1UsIrczNaX"
      },
      "source": [
        "Importing required libraries and modules"
      ],
      "id": "nB1UsIrczNaX"
    },
    {
      "cell_type": "code",
      "execution_count": 3,
      "metadata": {
        "_cell_guid": "b1076dfc-b9ad-4769-8c92-a6c4dae69d19",
        "_uuid": "8f2839f25d086af736a60e9eeb907d3b93b6e0e5",
        "execution": {
          "iopub.execute_input": "2021-12-02T18:50:32.593392Z",
          "iopub.status.busy": "2021-12-02T18:50:32.592421Z",
          "iopub.status.idle": "2021-12-02T18:50:34.288188Z",
          "shell.execute_reply": "2021-12-02T18:50:34.287454Z",
          "shell.execute_reply.started": "2021-12-02T18:11:13.293702Z"
        },
        "id": "d242d883",
        "papermill": {
          "duration": 1.728941,
          "end_time": "2021-12-02T18:50:34.288359",
          "exception": false,
          "start_time": "2021-12-02T18:50:32.559418",
          "status": "completed"
        },
        "tags": []
      },
      "outputs": [],
      "source": [
        "import jax\n",
        "import collections\n",
        "import numpy as np\n",
        "import jax.numpy as jnp\n",
        "\n",
        "from jax.tree_util import tree_structure\n",
        "from jax.tree_util import tree_flatten, tree_unflatten"
      ],
      "id": "d242d883"
    },
    {
      "cell_type": "markdown",
      "metadata": {
        "id": "07b5c89b",
        "papermill": {
          "duration": 0.019638,
          "end_time": "2021-12-02T18:50:34.327928",
          "exception": false,
          "start_time": "2021-12-02T18:50:34.308290",
          "status": "completed"
        },
        "tags": []
      },
      "source": [
        "# Pytrees\n",
        "\n",
        "[docs](https://jax.readthedocs.io/en/latest/pytrees.html)\n",
        "\n",
        "A *pytree* refers to a tree-like structure built out of container-like Python objects. \n",
        "\n",
        "Classes are considered container-like if they are in the pytree registry, which by default includes **list**, **tuples**, **dictionaries**, **namedtuple**, **OrderedDict**, and **None**\n",
        "\n",
        "Pytrees have a nested recursive structure. Every node in the Pytree is one of the following:\n",
        "\n",
        "- a leaf\n",
        "- a pytree"
      ],
      "id": "07b5c89b"
    },
    {
      "cell_type": "code",
      "execution_count": 4,
      "metadata": {
        "colab": {
          "base_uri": "https://localhost:8080/"
        },
        "id": "gpEgy3gehkU8",
        "outputId": "5ba77c92-703b-42c5-fa3b-323c34357e1a"
      },
      "outputs": [
        {
          "output_type": "execute_result",
          "data": {
            "text/plain": [
              "['a', 'b', 'c']"
            ]
          },
          "metadata": {},
          "execution_count": 4
        }
      ],
      "source": [
        "list_pytree = ['a', 'b', 'c']\n",
        "\n",
        "leaves = jax.tree_leaves(list_pytree)\n",
        "leaves"
      ],
      "id": "gpEgy3gehkU8"
    },
    {
      "cell_type": "code",
      "source": [
        "list_pytree = ['a', 'b', ('Alice', 'Bob')]\n",
        "\n",
        "leaves = jax.tree_leaves(list_pytree)\n",
        "leaves"
      ],
      "metadata": {
        "colab": {
          "base_uri": "https://localhost:8080/"
        },
        "id": "39JB-n1a1wqL",
        "outputId": "76c96ced-854a-4c17-a674-82435bf42d3f"
      },
      "id": "39JB-n1a1wqL",
      "execution_count": 5,
      "outputs": [
        {
          "output_type": "execute_result",
          "data": {
            "text/plain": [
              "['a', 'b', 'Alice', 'Bob']"
            ]
          },
          "metadata": {},
          "execution_count": 5
        }
      ]
    },
    {
      "cell_type": "markdown",
      "metadata": {
        "id": "rDCn7P78rT_3"
      },
      "source": [
        "Looking at the tree structure. The `*` correspond to the position of the leaves in the Pytree"
      ],
      "id": "rDCn7P78rT_3"
    },
    {
      "cell_type": "code",
      "execution_count": 6,
      "metadata": {
        "colab": {
          "base_uri": "https://localhost:8080/"
        },
        "id": "iAi45vPdg3W9",
        "outputId": "143b69ea-1cd7-40f1-db1d-79209c9be86a"
      },
      "outputs": [
        {
          "output_type": "execute_result",
          "data": {
            "text/plain": [
              "PyTreeDef([*, *, (*, *)])"
            ]
          },
          "metadata": {},
          "execution_count": 6
        }
      ],
      "source": [
        "tree_structure(list_pytree)"
      ],
      "id": "iAi45vPdg3W9"
    },
    {
      "cell_type": "code",
      "source": [
        "dict_pytree = {'x': 1, 'y': 33, 'z': 3343.33}\n",
        "leaves = jax.tree_leaves(dict_pytree)\n",
        "\n",
        "leaves"
      ],
      "metadata": {
        "colab": {
          "base_uri": "https://localhost:8080/"
        },
        "id": "Lsc7DBkj2TQX",
        "outputId": "846f1022-f09a-4822-d564-ad88ac700876"
      },
      "id": "Lsc7DBkj2TQX",
      "execution_count": 7,
      "outputs": [
        {
          "output_type": "execute_result",
          "data": {
            "text/plain": [
              "[1, 33, 3343.33]"
            ]
          },
          "metadata": {},
          "execution_count": 7
        }
      ]
    },
    {
      "cell_type": "code",
      "source": [
        "tree_structure(dict_pytree)"
      ],
      "metadata": {
        "colab": {
          "base_uri": "https://localhost:8080/"
        },
        "id": "i7NNZMeD2kUR",
        "outputId": "6e28b104-e923-4cc5-ed06-55f18023dc59"
      },
      "id": "i7NNZMeD2kUR",
      "execution_count": 8,
      "outputs": [
        {
          "output_type": "execute_result",
          "data": {
            "text/plain": [
              "PyTreeDef({'x': *, 'y': *, 'z': *})"
            ]
          },
          "metadata": {},
          "execution_count": 8
        }
      ]
    },
    {
      "cell_type": "code",
      "source": [
        "tuple_pytree = ('a', 'b', {'x': 1, 'y': 33})\n",
        "\n",
        "leaves = jax.tree_leaves(tuple_pytree)\n",
        "leaves"
      ],
      "metadata": {
        "colab": {
          "base_uri": "https://localhost:8080/"
        },
        "id": "km1UAL0G2A1u",
        "outputId": "d11cc755-0080-48bd-b946-41906507a410"
      },
      "id": "km1UAL0G2A1u",
      "execution_count": 9,
      "outputs": [
        {
          "output_type": "execute_result",
          "data": {
            "text/plain": [
              "['a', 'b', 1, 33]"
            ]
          },
          "metadata": {},
          "execution_count": 9
        }
      ]
    },
    {
      "cell_type": "code",
      "source": [
        "tree_structure(tuple_pytree)"
      ],
      "metadata": {
        "colab": {
          "base_uri": "https://localhost:8080/"
        },
        "id": "9n7flqO52goh",
        "outputId": "a2155652-7017-48ad-b2c2-e049dc96c7f7"
      },
      "id": "9n7flqO52goh",
      "execution_count": 10,
      "outputs": [
        {
          "output_type": "execute_result",
          "data": {
            "text/plain": [
              "PyTreeDef((*, *, {'x': *, 'y': *}))"
            ]
          },
          "metadata": {},
          "execution_count": 10
        }
      ]
    },
    {
      "cell_type": "markdown",
      "metadata": {
        "id": "ZQxsdnfHpAIY"
      },
      "source": [
        "a list that represents pytree\n",
        "can contain objects of any type.Note that dictionary keys are shown as is and values are leaves"
      ],
      "id": "ZQxsdnfHpAIY"
    },
    {
      "cell_type": "code",
      "execution_count": 11,
      "metadata": {
        "colab": {
          "base_uri": "https://localhost:8080/"
        },
        "id": "adPTcj59h8-3",
        "outputId": "fd7fef69-f310-4748-d8d1-71a96eeeeeff"
      },
      "outputs": [
        {
          "output_type": "stream",
          "name": "stdout",
          "text": [
            "Number of Leaves: 10\n",
            "Leaves: ['a', 'b', 'c', 1, 2, 3.0, 4.0, 2, 3, 4]\n",
            "Tree structure: PyTreeDef([*, *, *, [*, *], (*, *), {'x': *, 'y': (*, *)}])\n"
          ]
        }
      ],
      "source": [
        "complex_pytree = ['a', 'b', 'c', [1, 2], (3., 4.), {'x': 2, 'y': (3, 4)}]\n",
        "leaves = jax.tree_leaves(complex_pytree)\n",
        "\n",
        "print('Number of Leaves:', len(leaves))\n",
        "print('Leaves:', leaves)\n",
        "print('Tree structure:', tree_structure(complex_pytree))"
      ],
      "id": "adPTcj59h8-3"
    },
    {
      "cell_type": "markdown",
      "metadata": {
        "id": "zg_J-yYbpH0u"
      },
      "source": [
        "Similarly we can define pytree using a tuple as well.'()' is not considered as leaf."
      ],
      "id": "zg_J-yYbpH0u"
    },
    {
      "cell_type": "code",
      "execution_count": 12,
      "metadata": {
        "colab": {
          "base_uri": "https://localhost:8080/"
        },
        "id": "RZCX0iHqonCm",
        "outputId": "c584ea40-c5e5-4d42-8ec6-3bcdfcb2669c"
      },
      "outputs": [
        {
          "output_type": "stream",
          "name": "stdout",
          "text": [
            "Number of Leaves: 7\n",
            "Leaves: ['a', 'b', 'c', 1.0, 2.0, 3.0, 4.0]\n",
            "Tree structure: PyTreeDef((*, *, *, [*, *], (*, *), ()))\n"
          ]
        }
      ],
      "source": [
        "complex_pytree = ('a', 'b', 'c', [1., 2.], (3., 4.), ())\n",
        "leaves = jax.tree_leaves(complex_pytree)\n",
        "\n",
        "print('Number of Leaves:', len(leaves))\n",
        "print('Leaves:', leaves)\n",
        "print('Tree structure:', tree_structure(complex_pytree))"
      ],
      "id": "RZCX0iHqonCm"
    },
    {
      "cell_type": "code",
      "execution_count": 13,
      "metadata": {
        "colab": {
          "base_uri": "https://localhost:8080/"
        },
        "id": "dhDoxaeIpgQ-",
        "outputId": "accce3de-d9f4-4524-e643-70730b00d4ab"
      },
      "outputs": [
        {
          "output_type": "stream",
          "name": "stdout",
          "text": [
            "Number of Leaves: 6\n",
            "Leaves: [1.0, 2.0, 3.0, 4.0, 5.0, 6.0]\n",
            "Tree structure: PyTreeDef({'x': *, 'y': (*, *), 'z': [*, *, *]})\n"
          ]
        }
      ],
      "source": [
        "complex_pytree = {'x': 1., 'y': (2., 3.), 'z' : [4., 5., 6.]}\n",
        "leaves = jax.tree_leaves(complex_pytree)\n",
        "\n",
        "print('Number of Leaves:', len(leaves))\n",
        "print('Leaves:', leaves)\n",
        "print('Tree structure:', tree_structure(complex_pytree))"
      ],
      "id": "dhDoxaeIpgQ-"
    },
    {
      "cell_type": "code",
      "source": [
        "complex_pytree = {'x': 1., 'y': jnp.array((2., 3.)), 'z' : jnp.array([4., 5., 6.])}\n",
        "leaves = jax.tree_leaves(complex_pytree)\n",
        "\n",
        "print('Number of Leaves:', len(leaves))\n",
        "print('Leaves:', leaves)\n",
        "print('Tree structure:', tree_structure(complex_pytree))"
      ],
      "metadata": {
        "colab": {
          "base_uri": "https://localhost:8080/"
        },
        "id": "gc7_6mzw4D3e",
        "outputId": "0804b79c-86fc-4051-b883-ea954cd798a8"
      },
      "id": "gc7_6mzw4D3e",
      "execution_count": 14,
      "outputs": [
        {
          "output_type": "stream",
          "name": "stderr",
          "text": [
            "WARNING:absl:No GPU/TPU found, falling back to CPU. (Set TF_CPP_MIN_LOG_LEVEL=0 and rerun for more info.)\n"
          ]
        },
        {
          "output_type": "stream",
          "name": "stdout",
          "text": [
            "Number of Leaves: 3\n",
            "Leaves: [1.0, DeviceArray([2., 3.], dtype=float32), DeviceArray([4., 5., 6.], dtype=float32)]\n",
            "Tree structure: PyTreeDef({'x': *, 'y': *, 'z': *})\n"
          ]
        }
      ]
    },
    {
      "cell_type": "markdown",
      "metadata": {
        "id": "W-MktFvs3hWU"
      },
      "source": [
        "So, in short, a pytree is just a composition of **nodes**(container-like Python objects) and **leaves**(all other Python objects). JAX also lets you register custom types as pytrees (we will take a few examples of this later on)\n",
        "We can *flatten* the tree at each level, get the leaves, and the original tree structure as well. Let's see it in action"
      ],
      "id": "W-MktFvs3hWU"
    },
    {
      "cell_type": "code",
      "execution_count": 15,
      "metadata": {
        "colab": {
          "base_uri": "https://localhost:8080/"
        },
        "id": "rvlCdZ7-rk5c",
        "outputId": "a1b180f3-418d-4597-c47e-c209e7a3b969"
      },
      "outputs": [
        {
          "output_type": "stream",
          "name": "stdout",
          "text": [
            "Leaves: [1.0, 2.0, 3.0, 4.0, 5.0, 6.0]\n",
            "Tree structure: PyTreeDef({'x': *, 'y': (*, *), 'z': [*, *, *]})\n"
          ]
        }
      ],
      "source": [
        "complex_pytree = {'x': 1., 'y': (2., 3.), 'z' : [4., 5., 6.]}\n",
        "\n",
        "tree_leaves, tree_structure = tree_flatten(complex_pytree)\n",
        "print('Leaves:', tree_leaves)\n",
        "print('Tree structure:', tree_structure)"
      ],
      "id": "rvlCdZ7-rk5c"
    },
    {
      "cell_type": "markdown",
      "metadata": {
        "id": "mFywWfjfwjN0"
      },
      "source": [
        "Transforming the flat value of tree leaves using an element-wise numeric transformer"
      ],
      "id": "mFywWfjfwjN0"
    },
    {
      "cell_type": "code",
      "execution_count": 16,
      "metadata": {
        "colab": {
          "base_uri": "https://localhost:8080/"
        },
        "id": "jrcW0_SIwh6N",
        "outputId": "9348a8cf-736f-44ac-a46a-ac6eae0462ef"
      },
      "outputs": [
        {
          "output_type": "execute_result",
          "data": {
            "text/plain": [
              "[1.0, 4.0, 9.0, 16.0, 25.0, 36.0]"
            ]
          },
          "metadata": {},
          "execution_count": 16
        }
      ],
      "source": [
        "transformed_leaves = list(map(lambda v: v ** 2, tree_leaves))\n",
        "\n",
        "transformed_leaves "
      ],
      "id": "jrcW0_SIwh6N"
    },
    {
      "cell_type": "code",
      "execution_count": 17,
      "metadata": {
        "colab": {
          "base_uri": "https://localhost:8080/"
        },
        "id": "miSXmjEUu7kr",
        "outputId": "9a219a5c-c09a-4a06-b2a3-47ee1039574f"
      },
      "outputs": [
        {
          "output_type": "stream",
          "name": "stdout",
          "text": [
            "Original Pytree:    {'x': 1.0, 'y': (2.0, 3.0), 'z': [4.0, 5.0, 6.0]}\n",
            "Transformed Pytree: {'x': 1.0, 'y': (4.0, 9.0), 'z': [16.0, 25.0, 36.0]}\n"
          ]
        }
      ],
      "source": [
        "reconstructed_complex_tree = tree_unflatten(treedef = tree_structure, leaves = transformed_leaves)\n",
        "\n",
        "print('Original Pytree:   ',  complex_pytree)\n",
        "print('Transformed Pytree:', reconstructed_complex_tree)"
      ],
      "id": "miSXmjEUu7kr"
    },
    {
      "cell_type": "markdown",
      "metadata": {
        "id": "PJyUidp2ucFw"
      },
      "source": [
        "We can(should) use `tree_map(...)` for doing operations on leaves as it is a much better way to achieve it. The above example is to showcase that you can do it in a way where you want more control over the operations applied to different leaves of the tree"
      ],
      "id": "PJyUidp2ucFw"
    },
    {
      "cell_type": "code",
      "execution_count": 18,
      "metadata": {
        "colab": {
          "base_uri": "https://localhost:8080/"
        },
        "id": "WQyxUKqeYE28",
        "outputId": "7d6be8d1-ba6f-48de-960e-64c2542741c8"
      },
      "outputs": [
        {
          "output_type": "execute_result",
          "data": {
            "text/plain": [
              "{'x': 1.0, 'y': (4.0, 9.0), 'z': [16.0, 25.0, 36.0]}"
            ]
          },
          "metadata": {},
          "execution_count": 18
        }
      ],
      "source": [
        "transformed_leaves = jax.tree_map(lambda x: x**2, complex_pytree)\n",
        "\n",
        "transformed_leaves "
      ],
      "id": "WQyxUKqeYE28"
    },
    {
      "cell_type": "code",
      "source": [
        "copy_of_complex_pytree = complex_pytree\n",
        "\n",
        "print(complex_pytree)\n",
        "print(copy_of_complex_pytree)\n",
        "\n",
        "print('*' * 50)\n",
        "\n",
        "print(jax.tree_map(lambda x, y: x + y, complex_pytree, copy_of_complex_pytree))"
      ],
      "metadata": {
        "colab": {
          "base_uri": "https://localhost:8080/"
        },
        "id": "0scGrMhp5vPs",
        "outputId": "3e3bd1c6-9c8c-44ce-cfcd-0f108986c77e"
      },
      "id": "0scGrMhp5vPs",
      "execution_count": 19,
      "outputs": [
        {
          "output_type": "stream",
          "name": "stdout",
          "text": [
            "{'x': 1.0, 'y': (2.0, 3.0), 'z': [4.0, 5.0, 6.0]}\n",
            "{'x': 1.0, 'y': (2.0, 3.0), 'z': [4.0, 5.0, 6.0]}\n",
            "**************************************************\n",
            "{'x': 2.0, 'y': (4.0, 6.0), 'z': [8.0, 10.0, 12.0]}\n"
          ]
        }
      ]
    },
    {
      "cell_type": "markdown",
      "metadata": {
        "id": "b2t9RxBnxwQU"
      },
      "source": [
        "Reconstructing the transformed tree , using the original tree's structure"
      ],
      "id": "b2t9RxBnxwQU"
    },
    {
      "cell_type": "markdown",
      "metadata": {
        "id": "N7PUFVafRA5S"
      },
      "source": [
        "By default, pytree containers can be lists, tuples, dicts, namedtuple, None, OrderedDict. \n",
        "\n",
        "Other types of values, including numeric and ndarray values, are treated as leaves. An object is also treated as a leaf as is a DeviceArray\n",
        "\n",
        "jax.tree_utils treats None as a node without children, not as a leaf."
      ],
      "id": "N7PUFVafRA5S"
    },
    {
      "cell_type": "code",
      "execution_count": 21,
      "metadata": {
        "colab": {
          "base_uri": "https://localhost:8080/"
        },
        "id": "DPKBHKuTQu2I",
        "outputId": "2b2f457d-3c58-41b8-f704-b271f469ccdc"
      },
      "outputs": [
        {
          "output_type": "stream",
          "name": "stdout",
          "text": [
            "Original=None\n",
            "  flat=[]\n",
            "  tree=PyTreeDef(None)\n",
            "  unflattened=None\n",
            "Original=1.0\n",
            "  flat=[1.0]\n",
            "  tree=PyTreeDef(*)\n",
            "  unflattened=1.0\n",
            "Original=<object object at 0x7f4653268a10>\n",
            "  flat=[<object object at 0x7f4653268a10>]\n",
            "  tree=PyTreeDef(*)\n",
            "  unflattened=<object object at 0x7f4653268a10>\n",
            "Original=[1. 1. 1.]\n",
            "  flat=[DeviceArray([1., 1., 1.], dtype=float32)]\n",
            "  tree=PyTreeDef(*)\n",
            "  unflattened=[1. 1. 1.]\n"
          ]
        }
      ],
      "source": [
        "containers_or_not = [\n",
        "    None,\n",
        "    1.,\n",
        "    object(),\n",
        "    jnp.ones(3),\n",
        "]\n",
        "\n",
        "def show_example(container):\n",
        "\n",
        "  leaves, structure = tree_flatten(container)\n",
        "  unflattened = tree_unflatten(structure , leaves)\n",
        "\n",
        "  print('Original={}\\n  flat={}\\n  tree={}\\n  unflattened={}'.format(\n",
        "      container, leaves, structure, unflattened))\n",
        "\n",
        "for not_container in containers_or_not:\n",
        "  show_example(not_container)"
      ],
      "id": "DPKBHKuTQu2I"
    },
    {
      "cell_type": "markdown",
      "metadata": {
        "id": "31c76931",
        "papermill": {
          "duration": 0.020922,
          "end_time": "2021-12-02T18:50:34.833797",
          "exception": false,
          "start_time": "2021-12-02T18:50:34.812875",
          "status": "completed"
        },
        "tags": []
      },
      "source": [
        "We saw that Pytree are container-like Python objects like lists, tuples, dicts, etc. But what if you want to extend this set of Python objects treated as pytree nodes? For example, what if you want to treat your class as a Pytree node? \n",
        "\n",
        "Well, if you think about it, to treat a class as a pytree node, we need to:\n",
        "1. Tell JAX that you want to treat it as a node and not a leaf by registering it in the internal registry.\n",
        "2. Because this is a custom object, JAX doesn't know how to `flatten` and `unflatten` it, we need to tell JAX this as well\n",
        "3. There are cases when we need to compare two `treedef` structures for equality. Hence we need to make sure that adding a custom object doesn't break the equality check.\n",
        "\n",
        "Let's look at an example.\n",
        "We are creating Special Container for storing Customer specific attributes as x,y,z.\n",
        "By default, any part of a structured value that is not recognized as an internal pytree node (i.e. container-like) is treated as a leaf:\n",
        "\n"
      ],
      "id": "31c76931"
    },
    {
      "cell_type": "code",
      "execution_count": 22,
      "metadata": {
        "colab": {
          "base_uri": "https://localhost:8080/"
        },
        "id": "Xgq-35UZhZf6",
        "outputId": "2af3e69a-a22b-49c9-b6d6-83743fe8b077"
      },
      "outputs": [
        {
          "output_type": "stream",
          "name": "stdout",
          "text": [
            "Original=Triplet(name=John,x=10.0, y=20.0, z=30.0)\n",
            "  flat=[Triplet(name=John,x=10.0, y=20.0, z=30.0)]\n",
            "  tree=PyTreeDef(*)\n",
            "  unflattened=Triplet(name=John,x=10.0, y=20.0, z=30.0)\n"
          ]
        }
      ],
      "source": [
        "class Triplet():\n",
        "\n",
        "  def __init__(self, name, x, y, z):\n",
        "    self.name = name\n",
        "    self.x = x\n",
        "    self.y = y\n",
        "    self.z = z\n",
        "\n",
        "  def __repr__(self):\n",
        "    return 'Triplet(name={},x={}, y={}, z={})'.format(self.name, self.x, self.y, self.z)\n",
        "\n",
        "\n",
        "show_example(Triplet('John', 10., 20., 30.))"
      ],
      "id": "Xgq-35UZhZf6"
    },
    {
      "cell_type": "markdown",
      "metadata": {
        "id": "UTNZZw020Xln"
      },
      "source": [
        "The set of Python types that are considered internal pytree nodes is extensible, through a global registry of types, and values of registered types are traversed recursively. To register a new type, you can use register_pytree_node(). Details can be referred from this link-\n",
        "https://jax.readthedocs.io/en/latest/pytrees.html#extending-pytrees"
      ],
      "id": "UTNZZw020Xln"
    },
    {
      "cell_type": "code",
      "source": [
        "from jax.tree_util import register_pytree_node"
      ],
      "metadata": {
        "id": "oB60KQMZNtSc"
      },
      "id": "oB60KQMZNtSc",
      "execution_count": 23,
      "outputs": []
    },
    {
      "cell_type": "code",
      "source": [
        "def triplet_flatten(v):\n",
        "  children = (v.x, v.y, v.z)\n",
        "  aux_data = v.name\n",
        "\n",
        "  return (children, aux_data)\n",
        "\n",
        "def triplet_unflatten(aux_data, children):\n",
        "  return Triplet(aux_data, *children)\n",
        "\n",
        "register_pytree_node(\n",
        "    Triplet,\n",
        "    triplet_flatten,    \n",
        "    triplet_unflatten   \n",
        ")"
      ],
      "metadata": {
        "id": "MOxkoD7sN-vm"
      },
      "id": "MOxkoD7sN-vm",
      "execution_count": 26,
      "outputs": []
    },
    {
      "cell_type": "code",
      "execution_count": 28,
      "metadata": {
        "colab": {
          "base_uri": "https://localhost:8080/"
        },
        "id": "7QP1uG2rkWQb",
        "outputId": "e3abee32-b7b3-4a97-f943-3287135c4c22"
      },
      "outputs": [
        {
          "output_type": "stream",
          "name": "stdout",
          "text": [
            "Original=Triplet(name=John,x=10.0, y=20.0, z=30.0)\n",
            "  flat=[10.0, 20.0, 30.0]\n",
            "  tree=PyTreeDef(CustomNode(<class '__main__.Triplet'>[John], [*, *, *]))\n",
            "  unflattened=Triplet(name=John,x=10.0, y=20.0, z=30.0)\n"
          ]
        }
      ],
      "source": [
        "show_example(Triplet('John', 10., 20., 30.))"
      ],
      "id": "7QP1uG2rkWQb"
    },
    {
      "cell_type": "markdown",
      "metadata": {
        "id": "s5-nvH7d2Pj5"
      },
      "source": [
        "Another customer container can be instantiated and details are displayed."
      ],
      "id": "s5-nvH7d2Pj5"
    },
    {
      "cell_type": "code",
      "execution_count": 29,
      "metadata": {
        "colab": {
          "base_uri": "https://localhost:8080/"
        },
        "id": "1Rq4O3VBluTS",
        "outputId": "a00a7f20-949f-41e4-e016-d976d4520e82"
      },
      "outputs": [
        {
          "output_type": "stream",
          "name": "stdout",
          "text": [
            "Original=Triplet(name=Jane,x=25.0, y=40.0, z=70.0)\n",
            "  flat=[25.0, 40.0, 70.0]\n",
            "  tree=PyTreeDef(CustomNode(<class '__main__.Triplet'>[Jane], [*, *, *]))\n",
            "  unflattened=Triplet(name=Jane,x=25.0, y=40.0, z=70.0)\n"
          ]
        }
      ],
      "source": [
        "show_example(Triplet('Jane', 25., 40., 70.))"
      ],
      "id": "1Rq4O3VBluTS"
    },
    {
      "cell_type": "markdown",
      "metadata": {
        "id": "gvs9b3gLwHy_"
      },
      "source": [
        "Adding a specific no. to attributes for both customers"
      ],
      "id": "gvs9b3gLwHy_"
    },
    {
      "cell_type": "code",
      "execution_count": 32,
      "metadata": {
        "colab": {
          "base_uri": "https://localhost:8080/"
        },
        "id": "KC_FXmCjvsKT",
        "outputId": "ea2083f7-7fab-4c17-963f-9e3d2a47988d"
      },
      "outputs": [
        {
          "output_type": "execute_result",
          "data": {
            "text/plain": [
              "[Triplet(name=John,x=20.0, y=30.0, z=40.0),\n",
              " Triplet(name=Jane,x=35.0, y=50.0, z=80.0)]"
            ]
          },
          "metadata": {},
          "execution_count": 32
        }
      ],
      "source": [
        "jax.tree_map(lambda x: x + 10, [\n",
        "    Triplet('John', 10., 20., 30.),\n",
        "    Triplet('Jane', 25., 40., 70.)\n",
        "])"
      ],
      "id": "KC_FXmCjvsKT"
    },
    {
      "cell_type": "markdown",
      "metadata": {
        "id": "66a32a31",
        "papermill": {
          "duration": 0.024673,
          "end_time": "2021-12-02T18:50:39.340086",
          "exception": false,
          "start_time": "2021-12-02T18:50:39.315413",
          "status": "completed"
        },
        "tags": []
      },
      "source": [
        "\n",
        "# References\n",
        "\n",
        "1. https://jax.readthedocs.io/en/latest/pytrees.html\n",
        "2. https://jax.readthedocs.io/en/latest/jax-101/05.1-pytrees.html"
      ],
      "id": "66a32a31"
    }
  ],
  "metadata": {
    "colab": {
      "collapsed_sections": [],
      "name": "demo_06_Pytrees.ipynb",
      "provenance": []
    },
    "kernelspec": {
      "display_name": "Python 3",
      "language": "python",
      "name": "python3"
    },
    "language_info": {
      "codemirror_mode": {
        "name": "ipython",
        "version": 3
      },
      "file_extension": ".py",
      "mimetype": "text/x-python",
      "name": "python",
      "nbconvert_exporter": "python",
      "pygments_lexer": "ipython3",
      "version": "3.8.5"
    },
    "papermill": {
      "default_parameters": {},
      "duration": 19.753701,
      "end_time": "2021-12-02T18:50:42.771291",
      "environment_variables": {},
      "exception": null,
      "input_path": "__notebook__.ipynb",
      "output_path": "__notebook__.ipynb",
      "parameters": {},
      "start_time": "2021-12-02T18:50:23.017590",
      "version": "2.3.3"
    }
  },
  "nbformat": 4,
  "nbformat_minor": 5
}