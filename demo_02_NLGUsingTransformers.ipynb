{
  "cells": [
    {
      "cell_type": "markdown",
      "metadata": {
        "id": "PuNGrPMFyhAF"
      },
      "source": [
        "### TODO Recording:\n",
        "\n",
        "##### Show HuggingFace\n",
        "\n",
        "- Go to https://huggingface.co/\n",
        "- Click on Models, Datasets, Spaces, Docs on top and show\n",
        "- Back to Models, search for t5-small\n",
        "- Show the model card\n",
        "\n",
        "##### Show data\n",
        "\n",
        "- Go to https://github.com/tuetschek/e2e-dataset\n",
        "\n",
        "\n",
        "##### Colab\n",
        "- Go to https://colab.research.google.com and show that we are logged in\n",
        "- Create a new notebook and give it the right name\n",
        "- Click on the folder icon on the left and upload the data there trainset.csv\n",
        "- Collapse the left sidebar\n",
        "- Click on Runtime and show that we are using a GPU\n",
        "- Now we can start the notebook"
      ]
    },
    {
      "cell_type": "code",
      "execution_count": 1,
      "metadata": {
        "colab": {
          "base_uri": "https://localhost:8080/"
        },
        "id": "pgmrRJXfGMVm",
        "outputId": "5f054f55-4a26-47de-9b0a-d319f8c4d550"
      },
      "outputs": [
        {
          "name": "stdout",
          "output_type": "stream",
          "text": [
            "Requirement already satisfied: transformers in c:\\users\\nik-i7\\miniconda3\\envs\\pilotpythonproject\\lib\\site-packages (4.34.0)\n",
            "Requirement already satisfied: filelock in c:\\users\\nik-i7\\miniconda3\\envs\\pilotpythonproject\\lib\\site-packages (from transformers) (3.13.1)\n",
            "Requirement already satisfied: huggingface-hub<1.0,>=0.16.4 in c:\\users\\nik-i7\\miniconda3\\envs\\pilotpythonproject\\lib\\site-packages (from transformers) (0.16.4)\n",
            "Requirement already satisfied: numpy>=1.17 in c:\\users\\nik-i7\\miniconda3\\envs\\pilotpythonproject\\lib\\site-packages (from transformers) (1.23.5)\n",
            "Requirement already satisfied: packaging>=20.0 in c:\\users\\nik-i7\\miniconda3\\envs\\pilotpythonproject\\lib\\site-packages (from transformers) (21.3)\n",
            "Requirement already satisfied: pyyaml>=5.1 in c:\\users\\nik-i7\\miniconda3\\envs\\pilotpythonproject\\lib\\site-packages (from transformers) (6.0.1)\n",
            "Requirement already satisfied: regex!=2019.12.17 in c:\\users\\nik-i7\\miniconda3\\envs\\pilotpythonproject\\lib\\site-packages (from transformers) (2023.8.8)\n",
            "Requirement already satisfied: requests in c:\\users\\nik-i7\\miniconda3\\envs\\pilotpythonproject\\lib\\site-packages (from transformers) (2.28.1)\n",
            "Requirement already satisfied: tokenizers<0.15,>=0.14 in c:\\users\\nik-i7\\miniconda3\\envs\\pilotpythonproject\\lib\\site-packages (from transformers) (0.14.0)\n",
            "Requirement already satisfied: safetensors>=0.3.1 in c:\\users\\nik-i7\\miniconda3\\envs\\pilotpythonproject\\lib\\site-packages (from transformers) (0.4.1)\n",
            "Requirement already satisfied: tqdm>=4.27 in c:\\users\\nik-i7\\miniconda3\\envs\\pilotpythonproject\\lib\\site-packages (from transformers) (4.66.1)\n",
            "Requirement already satisfied: fsspec in c:\\users\\nik-i7\\miniconda3\\envs\\pilotpythonproject\\lib\\site-packages (from huggingface-hub<1.0,>=0.16.4->transformers) (2023.6.0)\n",
            "Requirement already satisfied: typing-extensions>=3.7.4.3 in c:\\users\\nik-i7\\miniconda3\\envs\\pilotpythonproject\\lib\\site-packages (from huggingface-hub<1.0,>=0.16.4->transformers) (4.7.1)\n",
            "Requirement already satisfied: pyparsing!=3.0.5,>=2.0.2 in c:\\users\\nik-i7\\miniconda3\\envs\\pilotpythonproject\\lib\\site-packages (from packaging>=20.0->transformers) (2.4.7)\n",
            "Requirement already satisfied: colorama in c:\\users\\nik-i7\\miniconda3\\envs\\pilotpythonproject\\lib\\site-packages (from tqdm>=4.27->transformers) (0.4.4)\n",
            "Requirement already satisfied: charset-normalizer<3,>=2 in c:\\users\\nik-i7\\miniconda3\\envs\\pilotpythonproject\\lib\\site-packages (from requests->transformers) (2.0.4)\n",
            "Requirement already satisfied: idna<4,>=2.5 in c:\\users\\nik-i7\\miniconda3\\envs\\pilotpythonproject\\lib\\site-packages (from requests->transformers) (2.10)\n",
            "Requirement already satisfied: urllib3<1.27,>=1.21.1 in c:\\users\\nik-i7\\miniconda3\\envs\\pilotpythonproject\\lib\\site-packages (from requests->transformers) (1.26.16)\n",
            "Requirement already satisfied: certifi>=2017.4.17 in c:\\users\\nik-i7\\miniconda3\\envs\\pilotpythonproject\\lib\\site-packages (from requests->transformers) (2021.5.30)\n"
          ]
        },
        {
          "name": "stderr",
          "output_type": "stream",
          "text": [
            "WARNING: Ignoring invalid distribution -illow (c:\\users\\nik-i7\\miniconda3\\envs\\pilotpythonproject\\lib\\site-packages)\n",
            "WARNING: Ignoring invalid distribution -ywin32 (c:\\users\\nik-i7\\miniconda3\\envs\\pilotpythonproject\\lib\\site-packages)\n",
            "WARNING: Ignoring invalid distribution -illow (c:\\users\\nik-i7\\miniconda3\\envs\\pilotpythonproject\\lib\\site-packages)\n",
            "WARNING: Ignoring invalid distribution -ywin32 (c:\\users\\nik-i7\\miniconda3\\envs\\pilotpythonproject\\lib\\site-packages)\n",
            "\n",
            "[notice] A new release of pip is available: 23.2.1 -> 24.0\n",
            "[notice] To update, run: python.exe -m pip install --upgrade pip\n"
          ]
        },
        {
          "name": "stdout",
          "output_type": "stream",
          "text": [
            "Requirement already satisfied: sentencepiece in c:\\users\\nik-i7\\miniconda3\\envs\\pilotpythonproject\\lib\\site-packages (0.1.99)\n"
          ]
        },
        {
          "name": "stderr",
          "output_type": "stream",
          "text": [
            "WARNING: Ignoring invalid distribution -illow (c:\\users\\nik-i7\\miniconda3\\envs\\pilotpythonproject\\lib\\site-packages)\n",
            "WARNING: Ignoring invalid distribution -ywin32 (c:\\users\\nik-i7\\miniconda3\\envs\\pilotpythonproject\\lib\\site-packages)\n",
            "WARNING: Ignoring invalid distribution -illow (c:\\users\\nik-i7\\miniconda3\\envs\\pilotpythonproject\\lib\\site-packages)\n",
            "WARNING: Ignoring invalid distribution -ywin32 (c:\\users\\nik-i7\\miniconda3\\envs\\pilotpythonproject\\lib\\site-packages)\n",
            "\n",
            "[notice] A new release of pip is available: 23.2.1 -> 24.0\n",
            "[notice] To update, run: python.exe -m pip install --upgrade pip\n"
          ]
        },
        {
          "name": "stdout",
          "output_type": "stream",
          "text": [
            "Collecting rouge-score\n",
            "  Downloading rouge_score-0.1.2.tar.gz (17 kB)\n",
            "  Preparing metadata (setup.py): started\n",
            "  Preparing metadata (setup.py): finished with status 'done'\n",
            "Requirement already satisfied: absl-py in c:\\users\\nik-i7\\miniconda3\\envs\\pilotpythonproject\\lib\\site-packages (from rouge-score) (1.0.0)\n",
            "Requirement already satisfied: nltk in c:\\users\\nik-i7\\miniconda3\\envs\\pilotpythonproject\\lib\\site-packages (from rouge-score) (3.6.5)\n",
            "Requirement already satisfied: numpy in c:\\users\\nik-i7\\miniconda3\\envs\\pilotpythonproject\\lib\\site-packages (from rouge-score) (1.23.5)\n",
            "Requirement already satisfied: six>=1.14.0 in c:\\users\\nik-i7\\miniconda3\\envs\\pilotpythonproject\\lib\\site-packages (from rouge-score) (1.16.0)\n",
            "Requirement already satisfied: click in c:\\users\\nik-i7\\miniconda3\\envs\\pilotpythonproject\\lib\\site-packages (from nltk->rouge-score) (8.1.3)\n",
            "Requirement already satisfied: joblib in c:\\users\\nik-i7\\miniconda3\\envs\\pilotpythonproject\\lib\\site-packages (from nltk->rouge-score) (1.3.2)\n",
            "Requirement already satisfied: regex>=2021.8.3 in c:\\users\\nik-i7\\miniconda3\\envs\\pilotpythonproject\\lib\\site-packages (from nltk->rouge-score) (2023.8.8)\n",
            "Requirement already satisfied: tqdm in c:\\users\\nik-i7\\miniconda3\\envs\\pilotpythonproject\\lib\\site-packages (from nltk->rouge-score) (4.66.1)\n",
            "Requirement already satisfied: colorama in c:\\users\\nik-i7\\miniconda3\\envs\\pilotpythonproject\\lib\\site-packages (from click->nltk->rouge-score) (0.4.4)\n",
            "Building wheels for collected packages: rouge-score\n",
            "  Building wheel for rouge-score (setup.py): started\n",
            "  Building wheel for rouge-score (setup.py): finished with status 'done'\n",
            "  Created wheel for rouge-score: filename=rouge_score-0.1.2-py3-none-any.whl size=24960 sha256=969284116ac1ebad06ea1fe2be1126b4b131841f809d4604c95a17be97cb38db\n",
            "  Stored in directory: c:\\users\\nik-i7\\appdata\\local\\pip\\cache\\wheels\\24\\55\\6f\\ebfc4cb176d1c9665da4e306e1705496206d08215c1acd9dde\n",
            "Successfully built rouge-score\n",
            "Installing collected packages: rouge-score\n",
            "Successfully installed rouge-score-0.1.2\n"
          ]
        },
        {
          "name": "stderr",
          "output_type": "stream",
          "text": [
            "WARNING: Ignoring invalid distribution -illow (c:\\users\\nik-i7\\miniconda3\\envs\\pilotpythonproject\\lib\\site-packages)\n",
            "WARNING: Ignoring invalid distribution -ywin32 (c:\\users\\nik-i7\\miniconda3\\envs\\pilotpythonproject\\lib\\site-packages)\n",
            "WARNING: Ignoring invalid distribution -illow (c:\\users\\nik-i7\\miniconda3\\envs\\pilotpythonproject\\lib\\site-packages)\n",
            "WARNING: Ignoring invalid distribution -ywin32 (c:\\users\\nik-i7\\miniconda3\\envs\\pilotpythonproject\\lib\\site-packages)\n",
            "\n",
            "[notice] A new release of pip is available: 23.2.1 -> 24.0\n",
            "[notice] To update, run: python.exe -m pip install --upgrade pip\n"
          ]
        }
      ],
      "source": [
        "!pip install transformers\n",
        "!pip install sentencepiece\n",
        "!pip install rouge-score"
      ]
    },
    {
      "cell_type": "code",
      "execution_count": 2,
      "metadata": {
        "colab": {
          "base_uri": "https://localhost:8080/",
          "height": 35
        },
        "id": "cIOZoZbqJLBi",
        "outputId": "633cd458-54e0-4622-df9d-4cf083842398"
      },
      "outputs": [
        {
          "name": "stderr",
          "output_type": "stream",
          "text": [
            "c:\\Users\\Nik-i7\\miniconda3\\envs\\PilotPythonProject\\lib\\site-packages\\numpy\\_distributor_init.py:30: UserWarning: loaded more than 1 DLL from .libs:\n",
            "c:\\Users\\Nik-i7\\miniconda3\\envs\\PilotPythonProject\\lib\\site-packages\\numpy\\.libs\\libopenblas.FB5AE2TYXYH2IJRDKGDGQ3XBKLKTF43H.gfortran-win_amd64.dll\n",
            "c:\\Users\\Nik-i7\\miniconda3\\envs\\PilotPythonProject\\lib\\site-packages\\numpy\\.libs\\libopenblas64__v0.3.21-gcc_10_3_0.dll\n",
            "  warnings.warn(\"loaded more than 1 DLL from .libs:\"\n"
          ]
        },
        {
          "data": {
            "text/plain": [
              "'4.34.0'"
            ]
          },
          "execution_count": 2,
          "metadata": {},
          "output_type": "execute_result"
        }
      ],
      "source": [
        "import transformers\n",
        "\n",
        "transformers.__version__"
      ]
    },
    {
      "cell_type": "markdown",
      "metadata": {
        "id": "VhEd8Liyyz_-"
      },
      "source": [
        "Importing required libraries"
      ]
    },
    {
      "cell_type": "code",
      "execution_count": 3,
      "metadata": {
        "id": "J4cHlkl3G4RO"
      },
      "outputs": [],
      "source": [
        "import torch\n",
        "\n",
        "import pandas as pd\n",
        "\n",
        "from transformers import T5Tokenizer, T5ForConditionalGeneration\n",
        "\n",
        "from transformers.optimization import  Adafactor\n",
        "\n",
        "from rouge_score import rouge_scorer"
      ]
    },
    {
      "cell_type": "markdown",
      "metadata": {
        "id": "xthRnSGwzOnR"
      },
      "source": [
        "Loading our dataset specific to NLG\n",
        "Link for the dataset-https://github.com/tuetschek/e2e-dataset"
      ]
    },
    {
      "cell_type": "code",
      "execution_count": 6,
      "metadata": {
        "colab": {
          "base_uri": "https://localhost:8080/",
          "height": 677
        },
        "id": "jE7ZXfMVGOfb",
        "outputId": "fbb9c44f-1626-411e-bed8-c7476c04b372"
      },
      "outputs": [
        {
          "data": {
            "text/html": [
              "<div>\n",
              "<style scoped>\n",
              "    .dataframe tbody tr th:only-of-type {\n",
              "        vertical-align: middle;\n",
              "    }\n",
              "\n",
              "    .dataframe tbody tr th {\n",
              "        vertical-align: top;\n",
              "    }\n",
              "\n",
              "    .dataframe thead th {\n",
              "        text-align: right;\n",
              "    }\n",
              "</style>\n",
              "<table border=\"1\" class=\"dataframe\">\n",
              "  <thead>\n",
              "    <tr style=\"text-align: right;\">\n",
              "      <th></th>\n",
              "      <th>mr</th>\n",
              "      <th>ref</th>\n",
              "    </tr>\n",
              "  </thead>\n",
              "  <tbody>\n",
              "    <tr>\n",
              "      <th>38616</th>\n",
              "      <td>name[Strada], eatType[pub], food[Japanese], cu...</td>\n",
              "      <td>Strada is a five star sushi restaurant located...</td>\n",
              "    </tr>\n",
              "    <tr>\n",
              "      <th>14677</th>\n",
              "      <td>name[Alimentum], food[Chinese], priceRange[hig...</td>\n",
              "      <td>The Alimentum is a Chinese food restaurant wit...</td>\n",
              "    </tr>\n",
              "    <tr>\n",
              "      <th>32197</th>\n",
              "      <td>name[Aromi], eatType[coffee shop], food[Fast f...</td>\n",
              "      <td>Aromi is a family-friendly coffee shop that se...</td>\n",
              "    </tr>\n",
              "    <tr>\n",
              "      <th>25545</th>\n",
              "      <td>name[The Rice Boat], food[English], customer r...</td>\n",
              "      <td>The Rice Boat is an English food serving place...</td>\n",
              "    </tr>\n",
              "    <tr>\n",
              "      <th>32422</th>\n",
              "      <td>name[Travellers Rest Beefeater], eatType[resta...</td>\n",
              "      <td>A restaurant called Travellers Rest Beefeater ...</td>\n",
              "    </tr>\n",
              "    <tr>\n",
              "      <th>22897</th>\n",
              "      <td>name[Blue Spice], food[Fast food], priceRange[...</td>\n",
              "      <td>The Blue Spice offers Fast food in riverside f...</td>\n",
              "    </tr>\n",
              "    <tr>\n",
              "      <th>39410</th>\n",
              "      <td>name[The Wrestlers], food[English], priceRange...</td>\n",
              "      <td>The Wrestlers is an English food serving estab...</td>\n",
              "    </tr>\n",
              "    <tr>\n",
              "      <th>9651</th>\n",
              "      <td>name[The Cambridge Blue], eatType[restaurant],...</td>\n",
              "      <td>Come sit down at The Cambridge Blue for some E...</td>\n",
              "    </tr>\n",
              "    <tr>\n",
              "      <th>29372</th>\n",
              "      <td>name[Alimentum], food[English], priceRange[mor...</td>\n",
              "      <td>Alimentum is situated near the Yippee Noodle B...</td>\n",
              "    </tr>\n",
              "    <tr>\n",
              "      <th>32793</th>\n",
              "      <td>name[The Eagle], priceRange[£20-25], customer ...</td>\n",
              "      <td>The Eagle is on the riverside. It costs £20 - ...</td>\n",
              "    </tr>\n",
              "    <tr>\n",
              "      <th>28920</th>\n",
              "      <td>name[Cotto], eatType[coffee shop], food[Italia...</td>\n",
              "      <td>Near The Portland Arms down to the riverside i...</td>\n",
              "    </tr>\n",
              "    <tr>\n",
              "      <th>23581</th>\n",
              "      <td>name[Green Man], food[Fast food], priceRange[h...</td>\n",
              "      <td>Green Man is located next to the river outside...</td>\n",
              "    </tr>\n",
              "    <tr>\n",
              "      <th>24781</th>\n",
              "      <td>name[The Phoenix], food[Chinese], priceRange[h...</td>\n",
              "      <td>The Phoenix is a high-priced Chinese restauran...</td>\n",
              "    </tr>\n",
              "    <tr>\n",
              "      <th>27037</th>\n",
              "      <td>name[Fitzbillies], priceRange[£20-25], custome...</td>\n",
              "      <td>Fitzbillies is a kids-friendly place with a hi...</td>\n",
              "    </tr>\n",
              "    <tr>\n",
              "      <th>10693</th>\n",
              "      <td>name[Fitzbillies], food[Japanese], priceRange[...</td>\n",
              "      <td>Near The Six Bells with a price range of less ...</td>\n",
              "    </tr>\n",
              "    <tr>\n",
              "      <th>29431</th>\n",
              "      <td>name[Aromi], eatType[coffee shop], food[Italia...</td>\n",
              "      <td>Found in the City centre area, Aromi coffee sh...</td>\n",
              "    </tr>\n",
              "    <tr>\n",
              "      <th>27525</th>\n",
              "      <td>name[The Wrestlers], eatType[coffee shop], foo...</td>\n",
              "      <td>The Wrestlers is a high priced range family fr...</td>\n",
              "    </tr>\n",
              "    <tr>\n",
              "      <th>5876</th>\n",
              "      <td>name[Loch Fyne], food[Japanese], customer rati...</td>\n",
              "      <td>By the Riverside is a restaurant named Loch Fy...</td>\n",
              "    </tr>\n",
              "    <tr>\n",
              "      <th>409</th>\n",
              "      <td>name[Zizzi], eatType[pub], food[Italian], cust...</td>\n",
              "      <td>With a customer rating of 1 out of 5, Zizzi is...</td>\n",
              "    </tr>\n",
              "    <tr>\n",
              "      <th>18710</th>\n",
              "      <td>name[Alimentum], food[Italian], priceRange[che...</td>\n",
              "      <td>Alimentum is a cheap Italian restaurant. Locat...</td>\n",
              "    </tr>\n",
              "  </tbody>\n",
              "</table>\n",
              "</div>"
            ],
            "text/plain": [
              "                                                      mr  \\\n",
              "38616  name[Strada], eatType[pub], food[Japanese], cu...   \n",
              "14677  name[Alimentum], food[Chinese], priceRange[hig...   \n",
              "32197  name[Aromi], eatType[coffee shop], food[Fast f...   \n",
              "25545  name[The Rice Boat], food[English], customer r...   \n",
              "32422  name[Travellers Rest Beefeater], eatType[resta...   \n",
              "22897  name[Blue Spice], food[Fast food], priceRange[...   \n",
              "39410  name[The Wrestlers], food[English], priceRange...   \n",
              "9651   name[The Cambridge Blue], eatType[restaurant],...   \n",
              "29372  name[Alimentum], food[English], priceRange[mor...   \n",
              "32793  name[The Eagle], priceRange[£20-25], customer ...   \n",
              "28920  name[Cotto], eatType[coffee shop], food[Italia...   \n",
              "23581  name[Green Man], food[Fast food], priceRange[h...   \n",
              "24781  name[The Phoenix], food[Chinese], priceRange[h...   \n",
              "27037  name[Fitzbillies], priceRange[£20-25], custome...   \n",
              "10693  name[Fitzbillies], food[Japanese], priceRange[...   \n",
              "29431  name[Aromi], eatType[coffee shop], food[Italia...   \n",
              "27525  name[The Wrestlers], eatType[coffee shop], foo...   \n",
              "5876   name[Loch Fyne], food[Japanese], customer rati...   \n",
              "409    name[Zizzi], eatType[pub], food[Italian], cust...   \n",
              "18710  name[Alimentum], food[Italian], priceRange[che...   \n",
              "\n",
              "                                                     ref  \n",
              "38616  Strada is a five star sushi restaurant located...  \n",
              "14677  The Alimentum is a Chinese food restaurant wit...  \n",
              "32197  Aromi is a family-friendly coffee shop that se...  \n",
              "25545  The Rice Boat is an English food serving place...  \n",
              "32422  A restaurant called Travellers Rest Beefeater ...  \n",
              "22897  The Blue Spice offers Fast food in riverside f...  \n",
              "39410  The Wrestlers is an English food serving estab...  \n",
              "9651   Come sit down at The Cambridge Blue for some E...  \n",
              "29372  Alimentum is situated near the Yippee Noodle B...  \n",
              "32793  The Eagle is on the riverside. It costs £20 - ...  \n",
              "28920  Near The Portland Arms down to the riverside i...  \n",
              "23581  Green Man is located next to the river outside...  \n",
              "24781  The Phoenix is a high-priced Chinese restauran...  \n",
              "27037  Fitzbillies is a kids-friendly place with a hi...  \n",
              "10693  Near The Six Bells with a price range of less ...  \n",
              "29431  Found in the City centre area, Aromi coffee sh...  \n",
              "27525  The Wrestlers is a high priced range family fr...  \n",
              "5876   By the Riverside is a restaurant named Loch Fy...  \n",
              "409    With a customer rating of 1 out of 5, Zizzi is...  \n",
              "18710  Alimentum is a cheap Italian restaurant. Locat...  "
            ]
          },
          "execution_count": 6,
          "metadata": {},
          "output_type": "execute_result"
        }
      ],
      "source": [
        "#restaurants_df = pd.read_csv(\"/content/trainset.csv\")\n",
        "restaurants_df = pd.read_csv(\"datasets/trainset.csv\")\n",
        "\n",
        "restaurants_df.sample(20)"
      ]
    },
    {
      "cell_type": "markdown",
      "metadata": {
        "id": "LwrxkKcCz9Mj"
      },
      "source": [
        "Checking the shape of the dataset"
      ]
    },
    {
      "cell_type": "code",
      "execution_count": 7,
      "metadata": {
        "colab": {
          "base_uri": "https://localhost:8080/"
        },
        "id": "ERksbcGeGOcE",
        "outputId": "ffb11946-6988-4c05-86be-123d767e3baf"
      },
      "outputs": [
        {
          "data": {
            "text/plain": [
              "(42061, 2)"
            ]
          },
          "execution_count": 7,
          "metadata": {},
          "output_type": "execute_result"
        }
      ],
      "source": [
        "restaurants_df.shape"
      ]
    },
    {
      "cell_type": "markdown",
      "metadata": {
        "id": "B1lWpUj20FOL"
      },
      "source": [
        "Checking one instance of data.\n",
        "Column's description:\n",
        "mr – textual meaning representation (MR)\n",
        "ref – corresponding natural language utterance (human reference)"
      ]
    },
    {
      "cell_type": "code",
      "execution_count": 6,
      "metadata": {
        "colab": {
          "base_uri": "https://localhost:8080/",
          "height": 35
        },
        "id": "tcFavjoBMipt",
        "outputId": "2359b115-03be-4896-cc03-763190ffa157"
      },
      "outputs": [
        {
          "data": {
            "application/vnd.google.colaboratory.intrinsic+json": {
              "type": "string"
            },
            "text/plain": [
              "'name[The Mill], eatType[coffee shop], food[French], priceRange[£20-25], area[riverside], near[The Sorrento]'"
            ]
          },
          "execution_count": 6,
          "metadata": {},
          "output_type": "execute_result"
        }
      ],
      "source": [
        "restaurants_df[\"mr\"][3]"
      ]
    },
    {
      "cell_type": "code",
      "execution_count": 8,
      "metadata": {
        "colab": {
          "base_uri": "https://localhost:8080/",
          "height": 35
        },
        "id": "pToCT6rSNA8H",
        "outputId": "74c8cc5a-a89f-4277-c85d-202824d30a45"
      },
      "outputs": [
        {
          "data": {
            "text/plain": [
              "'Located near The Sorrento is a French Theme eatery and coffee shop called The Mill, with a price range at £20-£25 it is in the riverside area.'"
            ]
          },
          "execution_count": 8,
          "metadata": {},
          "output_type": "execute_result"
        }
      ],
      "source": [
        "restaurants_df[\"ref\"][3]"
      ]
    },
    {
      "cell_type": "code",
      "execution_count": 9,
      "metadata": {
        "colab": {
          "base_uri": "https://localhost:8080/",
          "height": 35
        },
        "id": "tmwv8xVoSGK5",
        "outputId": "dcee86ba-63c9-4e9f-8e20-95bf1df195f7"
      },
      "outputs": [
        {
          "data": {
            "text/plain": [
              "'name[Browns Cambridge], food[French], area[riverside], familyFriendly[yes], near[The Sorrento]'"
            ]
          },
          "execution_count": 9,
          "metadata": {},
          "output_type": "execute_result"
        }
      ],
      "source": [
        "restaurants_df[\"mr\"][1101]"
      ]
    },
    {
      "cell_type": "code",
      "execution_count": 10,
      "metadata": {
        "colab": {
          "base_uri": "https://localhost:8080/",
          "height": 35
        },
        "id": "TcWXaJOlSJxB",
        "outputId": "36568598-4f1a-4653-8ab5-e5e7676ccf17"
      },
      "outputs": [
        {
          "data": {
            "text/plain": [
              "'Browns Cambridge, a kid friendly French food restaurant, is located riverside near The Sorrento.'"
            ]
          },
          "execution_count": 10,
          "metadata": {},
          "output_type": "execute_result"
        }
      ],
      "source": [
        "restaurants_df[\"ref\"][1101]"
      ]
    },
    {
      "cell_type": "markdown",
      "metadata": {
        "id": "ft18bhxDq6Fg"
      },
      "source": [
        "We are sampling a fraction of  data from whole dataset in order to have faster training"
      ]
    },
    {
      "cell_type": "code",
      "execution_count": 11,
      "metadata": {
        "colab": {
          "base_uri": "https://localhost:8080/"
        },
        "id": "ES5RxESXGOY8",
        "outputId": "baf70985-e120-41a6-abf2-90b5c692c038"
      },
      "outputs": [
        {
          "data": {
            "text/plain": [
              "(12618, 2)"
            ]
          },
          "execution_count": 11,
          "metadata": {},
          "output_type": "execute_result"
        }
      ],
      "source": [
        "restaurants_df_sampled = restaurants_df.sample(frac = 0.3)\n",
        "\n",
        "restaurants_df_sampled.shape"
      ]
    },
    {
      "cell_type": "markdown",
      "metadata": {
        "id": "DCIuYH2PNwCp"
      },
      "source": [
        "Configuring and checking device"
      ]
    },
    {
      "cell_type": "code",
      "execution_count": 12,
      "metadata": {
        "colab": {
          "base_uri": "https://localhost:8080/"
        },
        "id": "rIf8uAsQGOWV",
        "outputId": "7ede8662-6a17-4090-a001-fd5830db85c3"
      },
      "outputs": [
        {
          "name": "stdout",
          "output_type": "stream",
          "text": [
            "Using cpu device\n"
          ]
        }
      ],
      "source": [
        "device = (\n",
        "    \"cuda\"\n",
        "    if torch.cuda.is_available()\n",
        "    else \"mps\"\n",
        "    if torch.backends.mps.is_available()\n",
        "    else \"cpu\"\n",
        ")\n",
        "\n",
        "print(f\"Using {device} device\")"
      ]
    },
    {
      "cell_type": "code",
      "execution_count": 13,
      "metadata": {
        "colab": {
          "base_uri": "https://localhost:8080/"
        },
        "collapsed": true,
        "id": "UtqC6VcbRi7d",
        "outputId": "ec645ae8-3eb7-4870-93c0-537160e4e92e"
      },
      "outputs": [
        {
          "data": {
            "application/vnd.jupyter.widget-view+json": {
              "model_id": "5a2a9210bbf742b786007b79d2a1b8e9",
              "version_major": 2,
              "version_minor": 0
            },
            "text/plain": [
              "Downloading tokenizer_config.json:   0%|          | 0.00/2.32k [00:00<?, ?B/s]"
            ]
          },
          "metadata": {},
          "output_type": "display_data"
        },
        {
          "name": "stderr",
          "output_type": "stream",
          "text": [
            "c:\\Users\\Nik-i7\\miniconda3\\envs\\PilotPythonProject\\lib\\site-packages\\huggingface_hub\\file_download.py:133: UserWarning: `huggingface_hub` cache-system uses symlinks by default to efficiently store duplicated files but your machine does not support them in C:\\Users\\Nik-i7\\.cache\\huggingface\\hub. Caching files will still work but in a degraded version that might require more space on your disk. This warning can be disabled by setting the `HF_HUB_DISABLE_SYMLINKS_WARNING` environment variable. For more details, see https://huggingface.co/docs/huggingface_hub/how-to-cache#limitations.\n",
            "To support symlinks on Windows, you either need to activate Developer Mode or to run Python as an administrator. In order to see activate developer mode, see this article: https://docs.microsoft.com/en-us/windows/apps/get-started/enable-your-device-for-development\n",
            "  warnings.warn(message)\n"
          ]
        },
        {
          "data": {
            "application/vnd.jupyter.widget-view+json": {
              "model_id": "6e71011752a343c7815df34b1b533522",
              "version_major": 2,
              "version_minor": 0
            },
            "text/plain": [
              "Downloading spiece.model:   0%|          | 0.00/792k [00:00<?, ?B/s]"
            ]
          },
          "metadata": {},
          "output_type": "display_data"
        },
        {
          "data": {
            "application/vnd.jupyter.widget-view+json": {
              "model_id": "31e0d058f07547a8941f75e0fa239f54",
              "version_major": 2,
              "version_minor": 0
            },
            "text/plain": [
              "Downloading tokenizer.json:   0%|          | 0.00/1.39M [00:00<?, ?B/s]"
            ]
          },
          "metadata": {},
          "output_type": "display_data"
        },
        {
          "name": "stderr",
          "output_type": "stream",
          "text": [
            "Using bos_token, but it is not set yet.\n",
            "Using sep_token, but it is not set yet.\n",
            "Using cls_token, but it is not set yet.\n",
            "Using mask_token, but it is not set yet.\n"
          ]
        },
        {
          "data": {
            "text/plain": [
              "T5Tokenizer(name_or_path='t5-small', vocab_size=32000, model_max_length=512, is_fast=False, padding_side='right', truncation_side='right', special_tokens={'eos_token': '</s>', 'unk_token': '<unk>', 'pad_token': '<pad>', 'additional_special_tokens': ['<extra_id_0>', '<extra_id_1>', '<extra_id_2>', '<extra_id_3>', '<extra_id_4>', '<extra_id_5>', '<extra_id_6>', '<extra_id_7>', '<extra_id_8>', '<extra_id_9>', '<extra_id_10>', '<extra_id_11>', '<extra_id_12>', '<extra_id_13>', '<extra_id_14>', '<extra_id_15>', '<extra_id_16>', '<extra_id_17>', '<extra_id_18>', '<extra_id_19>', '<extra_id_20>', '<extra_id_21>', '<extra_id_22>', '<extra_id_23>', '<extra_id_24>', '<extra_id_25>', '<extra_id_26>', '<extra_id_27>', '<extra_id_28>', '<extra_id_29>', '<extra_id_30>', '<extra_id_31>', '<extra_id_32>', '<extra_id_33>', '<extra_id_34>', '<extra_id_35>', '<extra_id_36>', '<extra_id_37>', '<extra_id_38>', '<extra_id_39>', '<extra_id_40>', '<extra_id_41>', '<extra_id_42>', '<extra_id_43>', '<extra_id_44>', '<extra_id_45>', '<extra_id_46>', '<extra_id_47>', '<extra_id_48>', '<extra_id_49>', '<extra_id_50>', '<extra_id_51>', '<extra_id_52>', '<extra_id_53>', '<extra_id_54>', '<extra_id_55>', '<extra_id_56>', '<extra_id_57>', '<extra_id_58>', '<extra_id_59>', '<extra_id_60>', '<extra_id_61>', '<extra_id_62>', '<extra_id_63>', '<extra_id_64>', '<extra_id_65>', '<extra_id_66>', '<extra_id_67>', '<extra_id_68>', '<extra_id_69>', '<extra_id_70>', '<extra_id_71>', '<extra_id_72>', '<extra_id_73>', '<extra_id_74>', '<extra_id_75>', '<extra_id_76>', '<extra_id_77>', '<extra_id_78>', '<extra_id_79>', '<extra_id_80>', '<extra_id_81>', '<extra_id_82>', '<extra_id_83>', '<extra_id_84>', '<extra_id_85>', '<extra_id_86>', '<extra_id_87>', '<extra_id_88>', '<extra_id_89>', '<extra_id_90>', '<extra_id_91>', '<extra_id_92>', '<extra_id_93>', '<extra_id_94>', '<extra_id_95>', '<extra_id_96>', '<extra_id_97>', '<extra_id_98>', '<extra_id_99>']}, clean_up_tokenization_spaces=True),  added_tokens_decoder={\n",
              "\t0: AddedToken(\"<pad>\", rstrip=False, lstrip=False, single_word=False, normalized=False, special=False),\n",
              "\t1: AddedToken(\"</s>\", rstrip=False, lstrip=False, single_word=False, normalized=False, special=False),\n",
              "\t2: AddedToken(\"<unk>\", rstrip=False, lstrip=False, single_word=False, normalized=False, special=False),\n",
              "\t32000: AddedToken(\"<extra_id_99>\", rstrip=False, lstrip=False, single_word=False, normalized=False, special=False),\n",
              "\t32001: AddedToken(\"<extra_id_98>\", rstrip=False, lstrip=False, single_word=False, normalized=False, special=False),\n",
              "\t32002: AddedToken(\"<extra_id_97>\", rstrip=False, lstrip=False, single_word=False, normalized=False, special=False),\n",
              "\t32003: AddedToken(\"<extra_id_96>\", rstrip=False, lstrip=False, single_word=False, normalized=False, special=False),\n",
              "\t32004: AddedToken(\"<extra_id_95>\", rstrip=False, lstrip=False, single_word=False, normalized=False, special=False),\n",
              "\t32005: AddedToken(\"<extra_id_94>\", rstrip=False, lstrip=False, single_word=False, normalized=False, special=False),\n",
              "\t32006: AddedToken(\"<extra_id_93>\", rstrip=False, lstrip=False, single_word=False, normalized=False, special=False),\n",
              "\t32007: AddedToken(\"<extra_id_92>\", rstrip=False, lstrip=False, single_word=False, normalized=False, special=False),\n",
              "\t32008: AddedToken(\"<extra_id_91>\", rstrip=False, lstrip=False, single_word=False, normalized=False, special=False),\n",
              "\t32009: AddedToken(\"<extra_id_90>\", rstrip=False, lstrip=False, single_word=False, normalized=False, special=False),\n",
              "\t32010: AddedToken(\"<extra_id_89>\", rstrip=False, lstrip=False, single_word=False, normalized=False, special=False),\n",
              "\t32011: AddedToken(\"<extra_id_88>\", rstrip=False, lstrip=False, single_word=False, normalized=False, special=False),\n",
              "\t32012: AddedToken(\"<extra_id_87>\", rstrip=False, lstrip=False, single_word=False, normalized=False, special=False),\n",
              "\t32013: AddedToken(\"<extra_id_86>\", rstrip=False, lstrip=False, single_word=False, normalized=False, special=False),\n",
              "\t32014: AddedToken(\"<extra_id_85>\", rstrip=False, lstrip=False, single_word=False, normalized=False, special=False),\n",
              "\t32015: AddedToken(\"<extra_id_84>\", rstrip=False, lstrip=False, single_word=False, normalized=False, special=False),\n",
              "\t32016: AddedToken(\"<extra_id_83>\", rstrip=False, lstrip=False, single_word=False, normalized=False, special=False),\n",
              "\t32017: AddedToken(\"<extra_id_82>\", rstrip=False, lstrip=False, single_word=False, normalized=False, special=False),\n",
              "\t32018: AddedToken(\"<extra_id_81>\", rstrip=False, lstrip=False, single_word=False, normalized=False, special=False),\n",
              "\t32019: AddedToken(\"<extra_id_80>\", rstrip=False, lstrip=False, single_word=False, normalized=False, special=False),\n",
              "\t32020: AddedToken(\"<extra_id_79>\", rstrip=False, lstrip=False, single_word=False, normalized=False, special=False),\n",
              "\t32021: AddedToken(\"<extra_id_78>\", rstrip=False, lstrip=False, single_word=False, normalized=False, special=False),\n",
              "\t32022: AddedToken(\"<extra_id_77>\", rstrip=False, lstrip=False, single_word=False, normalized=False, special=False),\n",
              "\t32023: AddedToken(\"<extra_id_76>\", rstrip=False, lstrip=False, single_word=False, normalized=False, special=False),\n",
              "\t32024: AddedToken(\"<extra_id_75>\", rstrip=False, lstrip=False, single_word=False, normalized=False, special=False),\n",
              "\t32025: AddedToken(\"<extra_id_74>\", rstrip=False, lstrip=False, single_word=False, normalized=False, special=False),\n",
              "\t32026: AddedToken(\"<extra_id_73>\", rstrip=False, lstrip=False, single_word=False, normalized=False, special=False),\n",
              "\t32027: AddedToken(\"<extra_id_72>\", rstrip=False, lstrip=False, single_word=False, normalized=False, special=False),\n",
              "\t32028: AddedToken(\"<extra_id_71>\", rstrip=False, lstrip=False, single_word=False, normalized=False, special=False),\n",
              "\t32029: AddedToken(\"<extra_id_70>\", rstrip=False, lstrip=False, single_word=False, normalized=False, special=False),\n",
              "\t32030: AddedToken(\"<extra_id_69>\", rstrip=False, lstrip=False, single_word=False, normalized=False, special=False),\n",
              "\t32031: AddedToken(\"<extra_id_68>\", rstrip=False, lstrip=False, single_word=False, normalized=False, special=False),\n",
              "\t32032: AddedToken(\"<extra_id_67>\", rstrip=False, lstrip=False, single_word=False, normalized=False, special=False),\n",
              "\t32033: AddedToken(\"<extra_id_66>\", rstrip=False, lstrip=False, single_word=False, normalized=False, special=False),\n",
              "\t32034: AddedToken(\"<extra_id_65>\", rstrip=False, lstrip=False, single_word=False, normalized=False, special=False),\n",
              "\t32035: AddedToken(\"<extra_id_64>\", rstrip=False, lstrip=False, single_word=False, normalized=False, special=False),\n",
              "\t32036: AddedToken(\"<extra_id_63>\", rstrip=False, lstrip=False, single_word=False, normalized=False, special=False),\n",
              "\t32037: AddedToken(\"<extra_id_62>\", rstrip=False, lstrip=False, single_word=False, normalized=False, special=False),\n",
              "\t32038: AddedToken(\"<extra_id_61>\", rstrip=False, lstrip=False, single_word=False, normalized=False, special=False),\n",
              "\t32039: AddedToken(\"<extra_id_60>\", rstrip=False, lstrip=False, single_word=False, normalized=False, special=False),\n",
              "\t32040: AddedToken(\"<extra_id_59>\", rstrip=False, lstrip=False, single_word=False, normalized=False, special=False),\n",
              "\t32041: AddedToken(\"<extra_id_58>\", rstrip=False, lstrip=False, single_word=False, normalized=False, special=False),\n",
              "\t32042: AddedToken(\"<extra_id_57>\", rstrip=False, lstrip=False, single_word=False, normalized=False, special=False),\n",
              "\t32043: AddedToken(\"<extra_id_56>\", rstrip=False, lstrip=False, single_word=False, normalized=False, special=False),\n",
              "\t32044: AddedToken(\"<extra_id_55>\", rstrip=False, lstrip=False, single_word=False, normalized=False, special=False),\n",
              "\t32045: AddedToken(\"<extra_id_54>\", rstrip=False, lstrip=False, single_word=False, normalized=False, special=False),\n",
              "\t32046: AddedToken(\"<extra_id_53>\", rstrip=False, lstrip=False, single_word=False, normalized=False, special=False),\n",
              "\t32047: AddedToken(\"<extra_id_52>\", rstrip=False, lstrip=False, single_word=False, normalized=False, special=False),\n",
              "\t32048: AddedToken(\"<extra_id_51>\", rstrip=False, lstrip=False, single_word=False, normalized=False, special=False),\n",
              "\t32049: AddedToken(\"<extra_id_50>\", rstrip=False, lstrip=False, single_word=False, normalized=False, special=False),\n",
              "\t32050: AddedToken(\"<extra_id_49>\", rstrip=False, lstrip=False, single_word=False, normalized=False, special=False),\n",
              "\t32051: AddedToken(\"<extra_id_48>\", rstrip=False, lstrip=False, single_word=False, normalized=False, special=False),\n",
              "\t32052: AddedToken(\"<extra_id_47>\", rstrip=False, lstrip=False, single_word=False, normalized=False, special=False),\n",
              "\t32053: AddedToken(\"<extra_id_46>\", rstrip=False, lstrip=False, single_word=False, normalized=False, special=False),\n",
              "\t32054: AddedToken(\"<extra_id_45>\", rstrip=False, lstrip=False, single_word=False, normalized=False, special=False),\n",
              "\t32055: AddedToken(\"<extra_id_44>\", rstrip=False, lstrip=False, single_word=False, normalized=False, special=False),\n",
              "\t32056: AddedToken(\"<extra_id_43>\", rstrip=False, lstrip=False, single_word=False, normalized=False, special=False),\n",
              "\t32057: AddedToken(\"<extra_id_42>\", rstrip=False, lstrip=False, single_word=False, normalized=False, special=False),\n",
              "\t32058: AddedToken(\"<extra_id_41>\", rstrip=False, lstrip=False, single_word=False, normalized=False, special=False),\n",
              "\t32059: AddedToken(\"<extra_id_40>\", rstrip=False, lstrip=False, single_word=False, normalized=False, special=False),\n",
              "\t32060: AddedToken(\"<extra_id_39>\", rstrip=False, lstrip=False, single_word=False, normalized=False, special=False),\n",
              "\t32061: AddedToken(\"<extra_id_38>\", rstrip=False, lstrip=False, single_word=False, normalized=False, special=False),\n",
              "\t32062: AddedToken(\"<extra_id_37>\", rstrip=False, lstrip=False, single_word=False, normalized=False, special=False),\n",
              "\t32063: AddedToken(\"<extra_id_36>\", rstrip=False, lstrip=False, single_word=False, normalized=False, special=False),\n",
              "\t32064: AddedToken(\"<extra_id_35>\", rstrip=False, lstrip=False, single_word=False, normalized=False, special=False),\n",
              "\t32065: AddedToken(\"<extra_id_34>\", rstrip=False, lstrip=False, single_word=False, normalized=False, special=False),\n",
              "\t32066: AddedToken(\"<extra_id_33>\", rstrip=False, lstrip=False, single_word=False, normalized=False, special=False),\n",
              "\t32067: AddedToken(\"<extra_id_32>\", rstrip=False, lstrip=False, single_word=False, normalized=False, special=False),\n",
              "\t32068: AddedToken(\"<extra_id_31>\", rstrip=False, lstrip=False, single_word=False, normalized=False, special=False),\n",
              "\t32069: AddedToken(\"<extra_id_30>\", rstrip=False, lstrip=False, single_word=False, normalized=False, special=False),\n",
              "\t32070: AddedToken(\"<extra_id_29>\", rstrip=False, lstrip=False, single_word=False, normalized=False, special=False),\n",
              "\t32071: AddedToken(\"<extra_id_28>\", rstrip=False, lstrip=False, single_word=False, normalized=False, special=False),\n",
              "\t32072: AddedToken(\"<extra_id_27>\", rstrip=False, lstrip=False, single_word=False, normalized=False, special=False),\n",
              "\t32073: AddedToken(\"<extra_id_26>\", rstrip=False, lstrip=False, single_word=False, normalized=False, special=False),\n",
              "\t32074: AddedToken(\"<extra_id_25>\", rstrip=False, lstrip=False, single_word=False, normalized=False, special=False),\n",
              "\t32075: AddedToken(\"<extra_id_24>\", rstrip=False, lstrip=False, single_word=False, normalized=False, special=False),\n",
              "\t32076: AddedToken(\"<extra_id_23>\", rstrip=False, lstrip=False, single_word=False, normalized=False, special=False),\n",
              "\t32077: AddedToken(\"<extra_id_22>\", rstrip=False, lstrip=False, single_word=False, normalized=False, special=False),\n",
              "\t32078: AddedToken(\"<extra_id_21>\", rstrip=False, lstrip=False, single_word=False, normalized=False, special=False),\n",
              "\t32079: AddedToken(\"<extra_id_20>\", rstrip=False, lstrip=False, single_word=False, normalized=False, special=False),\n",
              "\t32080: AddedToken(\"<extra_id_19>\", rstrip=False, lstrip=False, single_word=False, normalized=False, special=False),\n",
              "\t32081: AddedToken(\"<extra_id_18>\", rstrip=False, lstrip=False, single_word=False, normalized=False, special=False),\n",
              "\t32082: AddedToken(\"<extra_id_17>\", rstrip=False, lstrip=False, single_word=False, normalized=False, special=False),\n",
              "\t32083: AddedToken(\"<extra_id_16>\", rstrip=False, lstrip=False, single_word=False, normalized=False, special=False),\n",
              "\t32084: AddedToken(\"<extra_id_15>\", rstrip=False, lstrip=False, single_word=False, normalized=False, special=False),\n",
              "\t32085: AddedToken(\"<extra_id_14>\", rstrip=False, lstrip=False, single_word=False, normalized=False, special=False),\n",
              "\t32086: AddedToken(\"<extra_id_13>\", rstrip=False, lstrip=False, single_word=False, normalized=False, special=False),\n",
              "\t32087: AddedToken(\"<extra_id_12>\", rstrip=False, lstrip=False, single_word=False, normalized=False, special=False),\n",
              "\t32088: AddedToken(\"<extra_id_11>\", rstrip=False, lstrip=False, single_word=False, normalized=False, special=False),\n",
              "\t32089: AddedToken(\"<extra_id_10>\", rstrip=False, lstrip=False, single_word=False, normalized=False, special=False),\n",
              "\t32090: AddedToken(\"<extra_id_9>\", rstrip=False, lstrip=False, single_word=False, normalized=False, special=False),\n",
              "\t32091: AddedToken(\"<extra_id_8>\", rstrip=False, lstrip=False, single_word=False, normalized=False, special=False),\n",
              "\t32092: AddedToken(\"<extra_id_7>\", rstrip=False, lstrip=False, single_word=False, normalized=False, special=False),\n",
              "\t32093: AddedToken(\"<extra_id_6>\", rstrip=False, lstrip=False, single_word=False, normalized=False, special=False),\n",
              "\t32094: AddedToken(\"<extra_id_5>\", rstrip=False, lstrip=False, single_word=False, normalized=False, special=False),\n",
              "\t32095: AddedToken(\"<extra_id_4>\", rstrip=False, lstrip=False, single_word=False, normalized=False, special=False),\n",
              "\t32096: AddedToken(\"<extra_id_3>\", rstrip=False, lstrip=False, single_word=False, normalized=False, special=False),\n",
              "\t32097: AddedToken(\"<extra_id_2>\", rstrip=False, lstrip=False, single_word=False, normalized=False, special=False),\n",
              "\t32098: AddedToken(\"<extra_id_1>\", rstrip=False, lstrip=False, single_word=False, normalized=False, special=False),\n",
              "\t32099: AddedToken(\"<extra_id_0>\", rstrip=False, lstrip=False, single_word=False, normalized=False, special=False),\n",
              "}"
            ]
          },
          "execution_count": 13,
          "metadata": {},
          "output_type": "execute_result"
        }
      ],
      "source": [
        "tokenizer = T5Tokenizer.from_pretrained(\"t5-small\", legacy=False)\n",
        "\n",
        "tokenizer"
      ]
    },
    {
      "cell_type": "code",
      "execution_count": 14,
      "metadata": {
        "colab": {
          "base_uri": "https://localhost:8080/"
        },
        "id": "_oV9SnRwTIJv",
        "outputId": "48d9cda1-66e4-422e-f57d-5668d1479d62"
      },
      "outputs": [
        {
          "data": {
            "text/plain": [
              "{'input_ids': [[182, 1487, 18, 4905, 2062, 1]], 'attention_mask': [[1, 1, 1, 1, 1, 1]]}"
            ]
          },
          "execution_count": 14,
          "metadata": {},
          "output_type": "execute_result"
        }
      ],
      "source": [
        "tokenizer([\"very budget-friendly restaurant\"])"
      ]
    },
    {
      "cell_type": "code",
      "execution_count": 15,
      "metadata": {
        "colab": {
          "base_uri": "https://localhost:8080/"
        },
        "id": "y5DxHOrsTG54",
        "outputId": "81555049-0d05-4beb-d1f3-bfcdd39048b0"
      },
      "outputs": [
        {
          "data": {
            "text/plain": [
              "['▁very', '▁budget', '-', 'friendly', '▁restaurant']"
            ]
          },
          "execution_count": 15,
          "metadata": {},
          "output_type": "execute_result"
        }
      ],
      "source": [
        "tokens = tokenizer.tokenize(\"very budget-friendly restaurant\")\n",
        "\n",
        "tokens"
      ]
    },
    {
      "cell_type": "code",
      "execution_count": 16,
      "metadata": {
        "colab": {
          "base_uri": "https://localhost:8080/"
        },
        "id": "mNuLWg8fTZcC",
        "outputId": "20474e34-614e-450f-ddea-2d068d92a272"
      },
      "outputs": [
        {
          "data": {
            "text/plain": [
              "[182, 1487, 18, 4905, 2062]"
            ]
          },
          "execution_count": 16,
          "metadata": {},
          "output_type": "execute_result"
        }
      ],
      "source": [
        "ids = tokenizer.convert_tokens_to_ids(tokens)\n",
        "\n",
        "ids"
      ]
    },
    {
      "cell_type": "code",
      "execution_count": 17,
      "metadata": {
        "id": "MarHZ3fbGOT4"
      },
      "outputs": [
        {
          "data": {
            "application/vnd.jupyter.widget-view+json": {
              "model_id": "3309a7c627d940eebd163bf78456796e",
              "version_major": 2,
              "version_minor": 0
            },
            "text/plain": [
              "Downloading config.json:   0%|          | 0.00/1.21k [00:00<?, ?B/s]"
            ]
          },
          "metadata": {},
          "output_type": "display_data"
        },
        {
          "data": {
            "application/vnd.jupyter.widget-view+json": {
              "model_id": "c6ad6066b8c24863a4bab469332bc07c",
              "version_major": 2,
              "version_minor": 0
            },
            "text/plain": [
              "Downloading model.safetensors:   0%|          | 0.00/242M [00:00<?, ?B/s]"
            ]
          },
          "metadata": {},
          "output_type": "display_data"
        },
        {
          "data": {
            "application/vnd.jupyter.widget-view+json": {
              "model_id": "c507fe49c4404c50a18ff88beaa08ff0",
              "version_major": 2,
              "version_minor": 0
            },
            "text/plain": [
              "Downloading generation_config.json:   0%|          | 0.00/147 [00:00<?, ?B/s]"
            ]
          },
          "metadata": {},
          "output_type": "display_data"
        }
      ],
      "source": [
        "model = T5ForConditionalGeneration.from_pretrained(\"t5-small\", return_dict = True)\n",
        "\n",
        "model = model.to(device)"
      ]
    },
    {
      "cell_type": "markdown",
      "metadata": {
        "id": "sWFaDomR5JEl"
      },
      "source": [
        "We are generating output from the model without training and output seems to be random."
      ]
    },
    {
      "cell_type": "code",
      "execution_count": 18,
      "metadata": {
        "colab": {
          "base_uri": "https://localhost:8080/",
          "height": 35
        },
        "id": "prmT1l1s5WDL",
        "outputId": "7f74a540-de58-468b-f864-eb1d925b678f"
      },
      "outputs": [
        {
          "data": {
            "text/plain": [
              "'name[Browns Cambridge], food[Fast food], area[riverside], familyFriendly[no], near[The Sorrento]'"
            ]
          },
          "execution_count": 18,
          "metadata": {},
          "output_type": "execute_result"
        }
      ],
      "source": [
        "restaurants_df['mr'][10]"
      ]
    },
    {
      "cell_type": "code",
      "execution_count": 19,
      "metadata": {
        "colab": {
          "base_uri": "https://localhost:8080/"
        },
        "id": "42aWDREY3xRY",
        "outputId": "5bbb5b41-c063-432e-d3da-72c440d9a97e"
      },
      "outputs": [
        {
          "data": {
            "text/plain": [
              "tensor([[  564,  6306,   279,  3623,    29,     7, 10096, 13679,   542,  6306,\n",
              "           371,     9,     7,    17,   542, 13679,   616,  6306,  5927,    49,\n",
              "          1583, 13679,   384, 17701,   120,  6306,    29,    32, 13679,  1084,\n",
              "          6306,   634,   264,    52,  5320,    32,   908,     1]])"
            ]
          },
          "execution_count": 19,
          "metadata": {},
          "output_type": "execute_result"
        }
      ],
      "source": [
        "model.eval()\n",
        "\n",
        "# Batch size 1\n",
        "input_ids = tokenizer.encode(\"name[Browns Cambridge], food[Fast food], area[riverside], familyFriendly[no], near[The Sorrento]\", return_tensors = \"pt\")\n",
        "\n",
        "input_ids"
      ]
    },
    {
      "cell_type": "code",
      "execution_count": 20,
      "metadata": {
        "colab": {
          "base_uri": "https://localhost:8080/"
        },
        "id": "kJgARjgAxb4g",
        "outputId": "21dea7d6-185c-4c9f-a9ea-ac7e4674d1dd"
      },
      "outputs": [
        {
          "data": {
            "text/plain": [
              "tensor([[    0,   465,    51,  6306,   279,  3623,    29,     7, 10096, 13679,\n",
              "           542,  6306,   371,     9,     7,    17,   542, 13679,   616,  6306,\n",
              "          5927,    49,  1583, 13679,   384, 17701,   120,  6306,    29,    32,\n",
              "         13679,  1084,  6306,   634,   264,    52,  5320,    32,   908,     1]])"
            ]
          },
          "execution_count": 20,
          "metadata": {},
          "output_type": "execute_result"
        }
      ],
      "source": [
        "input_ids = input_ids.to(device)\n",
        "\n",
        "outputs = model.generate(input_ids, max_new_tokens=50)\n",
        "\n",
        "outputs"
      ]
    },
    {
      "cell_type": "code",
      "execution_count": 21,
      "metadata": {
        "colab": {
          "base_uri": "https://localhost:8080/",
          "height": 35
        },
        "id": "LShB9BZBxwia",
        "outputId": "23e57dc4-3c9e-4084-a738-850acd87cb8c"
      },
      "outputs": [
        {
          "data": {
            "text/plain": [
              "'<pad> Nom[Browns Cambridge], food[Fast food], area[riverside], familyFriendly[no], near[The Sorrento]</s>'"
            ]
          },
          "execution_count": 21,
          "metadata": {},
          "output_type": "execute_result"
        }
      ],
      "source": [
        "tokenizer.decode(outputs[0])"
      ]
    },
    {
      "cell_type": "code",
      "execution_count": 22,
      "metadata": {
        "colab": {
          "base_uri": "https://localhost:8080/"
        },
        "id": "GT9p7QqyV35C",
        "outputId": "a59fbb41-39bf-4f38-cb20-2b2277cf8140"
      },
      "outputs": [
        {
          "name": "stdout",
          "output_type": "stream",
          "text": [
            "rouge1:\n",
            "  Precision: 1.0\n",
            "  Recall: 1.0\n",
            "  F1 Score: 1.0\n",
            "rouge2:\n",
            "  Precision: 1.0\n",
            "  Recall: 1.0\n",
            "  F1 Score: 1.0\n",
            "rougeL:\n",
            "  Precision: 1.0\n",
            "  Recall: 1.0\n",
            "  F1 Score: 1.0\n"
          ]
        }
      ],
      "source": [
        "# Define the reference summary and predicted summary\n",
        "reference_text = \"Bibimbap House is a moderately priced restaurant who's main cuisine is English food.\"\n",
        "predicted_text = \"Bibimbap House is a moderately priced restaurant who's main cuisine is English food.\"\n",
        "\n",
        "# Initialize the ROUGE scorer\n",
        "scorer = rouge_scorer.RougeScorer(['rouge1', 'rouge2', 'rougeL'], use_stemmer = True)\n",
        "\n",
        "# Compute ROUGE scores\n",
        "rouge_scores = scorer.score(reference_text, predicted_text)\n",
        "\n",
        "# Print ROUGE scores\n",
        "for metric, scores in rouge_scores.items():\n",
        "    print(f'{metric}:')\n",
        "    print(f'  Precision: {scores.precision}')\n",
        "    print(f'  Recall: {scores.recall}')\n",
        "    print(f'  F1 Score: {scores.fmeasure}')"
      ]
    },
    {
      "cell_type": "code",
      "execution_count": 23,
      "metadata": {
        "colab": {
          "base_uri": "https://localhost:8080/"
        },
        "id": "Vi3dakRoT3IF",
        "outputId": "4b61b432-3114-4cc7-e20c-dfad0d897ac6"
      },
      "outputs": [
        {
          "name": "stdout",
          "output_type": "stream",
          "text": [
            "rouge1:\n",
            "  Precision: 0.8\n",
            "  Recall: 0.5714285714285714\n",
            "  F1 Score: 0.6666666666666666\n",
            "rouge2:\n",
            "  Precision: 0.5555555555555556\n",
            "  Recall: 0.38461538461538464\n",
            "  F1 Score: 0.4545454545454546\n",
            "rougeL:\n",
            "  Precision: 0.8\n",
            "  Recall: 0.5714285714285714\n",
            "  F1 Score: 0.6666666666666666\n"
          ]
        }
      ],
      "source": [
        "# Define the reference summary and predicted summary\n",
        "reference_text = \"Bibimbap House is a moderately priced restaurant who's main cuisine is English food.\"\n",
        "predicted_text = \"Bibimbap House is a fairly priced restaurant serving English food\"\n",
        "\n",
        "# Initialize the ROUGE scorer\n",
        "scorer = rouge_scorer.RougeScorer(['rouge1', 'rouge2', 'rougeL'], use_stemmer = True)\n",
        "\n",
        "# Compute ROUGE scores\n",
        "rouge_scores = scorer.score(reference_text, predicted_text)\n",
        "\n",
        "# Print ROUGE scores\n",
        "for metric, scores in rouge_scores.items():\n",
        "    print(f'{metric}:')\n",
        "    print(f'  Precision: {scores.precision}')\n",
        "    print(f'  Recall: {scores.recall}')\n",
        "    print(f'  F1 Score: {scores.fmeasure}')"
      ]
    },
    {
      "cell_type": "code",
      "execution_count": 24,
      "metadata": {
        "colab": {
          "base_uri": "https://localhost:8080/"
        },
        "id": "mdcB5LuNT3f9",
        "outputId": "e225c211-e8c8-473e-e8f9-07ea60acc099"
      },
      "outputs": [
        {
          "name": "stdout",
          "output_type": "stream",
          "text": [
            "rouge1:\n",
            "  Precision: 0.7142857142857143\n",
            "  Recall: 0.35714285714285715\n",
            "  F1 Score: 0.4761904761904762\n",
            "rouge2:\n",
            "  Precision: 0.3333333333333333\n",
            "  Recall: 0.15384615384615385\n",
            "  F1 Score: 0.21052631578947367\n",
            "rougeL:\n",
            "  Precision: 0.7142857142857143\n",
            "  Recall: 0.35714285714285715\n",
            "  F1 Score: 0.4761904761904762\n"
          ]
        }
      ],
      "source": [
        "# Define the reference summary and predicted summary\n",
        "reference_text = \"Bibimbap House is a moderately priced restaurant who's main cuisine is English food.\"\n",
        "predicted_text = \"House is a restaurant serving French food\"\n",
        "\n",
        "# Initialize the ROUGE scorer\n",
        "scorer = rouge_scorer.RougeScorer(['rouge1', 'rouge2', 'rougeL'], use_stemmer = True)\n",
        "\n",
        "# Compute ROUGE scores\n",
        "rouge_scores = scorer.score(reference_text, predicted_text)\n",
        "\n",
        "# Print ROUGE scores\n",
        "for metric, scores in rouge_scores.items():\n",
        "    print(f'{metric}:')\n",
        "    print(f'  Precision: {scores.precision}')\n",
        "    print(f'  Recall: {scores.recall}')\n",
        "    print(f'  F1 Score: {scores.fmeasure}')"
      ]
    },
    {
      "cell_type": "markdown",
      "metadata": {
        "id": "XVMOT9pP1kCf"
      },
      "source": [
        "Initializing the Adafactor optimizer with parameter values suggested for t5"
      ]
    },
    {
      "cell_type": "code",
      "execution_count": 25,
      "metadata": {
        "id": "blcc7mQhGOQ_"
      },
      "outputs": [],
      "source": [
        "optimizer = Adafactor(\n",
        "    model.parameters(),\n",
        "    lr = 1e-6,\n",
        "    eps = (1e-30, 1e-3),\n",
        "    clip_threshold = 1.0,\n",
        "    decay_rate = -0.8,\n",
        "    beta1 = None,\n",
        "    weight_decay = 0.0,\n",
        "    relative_step = False,\n",
        "    scale_parameter = False,\n",
        "    warmup_init = False\n",
        ")"
      ]
    },
    {
      "cell_type": "markdown",
      "metadata": {
        "id": "O2or5nJ12KfY"
      },
      "source": [
        "Splitting data into Training and Validation sets"
      ]
    },
    {
      "cell_type": "code",
      "execution_count": 26,
      "metadata": {
        "colab": {
          "base_uri": "https://localhost:8080/"
        },
        "id": "LpQQXAO5s6jp",
        "outputId": "b73da83f-8af2-43d4-c7bf-f834234475f3"
      },
      "outputs": [
        {
          "data": {
            "text/plain": [
              "((10094, 2), (2524, 2))"
            ]
          },
          "execution_count": 26,
          "metadata": {},
          "output_type": "execute_result"
        }
      ],
      "source": [
        "from sklearn.model_selection import train_test_split\n",
        "\n",
        "X_train, X_val = train_test_split(restaurants_df_sampled, test_size = 0.2, random_state = 123)\n",
        "\n",
        "X_train.shape, X_val.shape"
      ]
    },
    {
      "cell_type": "code",
      "execution_count": 27,
      "metadata": {
        "colab": {
          "base_uri": "https://localhost:8080/",
          "height": 424
        },
        "id": "3SmBkt78EhCE",
        "outputId": "78f8bd61-e909-4982-83f7-9951d4f6347a"
      },
      "outputs": [
        {
          "data": {
            "text/html": [
              "<div>\n",
              "<style scoped>\n",
              "    .dataframe tbody tr th:only-of-type {\n",
              "        vertical-align: middle;\n",
              "    }\n",
              "\n",
              "    .dataframe tbody tr th {\n",
              "        vertical-align: top;\n",
              "    }\n",
              "\n",
              "    .dataframe thead th {\n",
              "        text-align: right;\n",
              "    }\n",
              "</style>\n",
              "<table border=\"1\" class=\"dataframe\">\n",
              "  <thead>\n",
              "    <tr style=\"text-align: right;\">\n",
              "      <th></th>\n",
              "      <th>mr</th>\n",
              "      <th>ref</th>\n",
              "    </tr>\n",
              "  </thead>\n",
              "  <tbody>\n",
              "    <tr>\n",
              "      <th>36921</th>\n",
              "      <td>name[Fitzbillies], eatType[coffee shop], food[...</td>\n",
              "      <td>Fitzbillies coffee shop providers of fine Indi...</td>\n",
              "    </tr>\n",
              "    <tr>\n",
              "      <th>5467</th>\n",
              "      <td>name[Alimentum], food[Fast food], priceRange[l...</td>\n",
              "      <td>Alimentum is a Fast food restaurant located in...</td>\n",
              "    </tr>\n",
              "    <tr>\n",
              "      <th>19176</th>\n",
              "      <td>name[Midsummer House], food[Italian], customer...</td>\n",
              "      <td>For a nice three star meal try the Midsummer H...</td>\n",
              "    </tr>\n",
              "    <tr>\n",
              "      <th>23538</th>\n",
              "      <td>name[Browns Cambridge], food[French], priceRan...</td>\n",
              "      <td>There is a Browns Cambridge ,with an average c...</td>\n",
              "    </tr>\n",
              "    <tr>\n",
              "      <th>7251</th>\n",
              "      <td>name[Midsummer House], food[French], priceRang...</td>\n",
              "      <td>Midsummer House offers food and wine and is ne...</td>\n",
              "    </tr>\n",
              "    <tr>\n",
              "      <th>...</th>\n",
              "      <td>...</td>\n",
              "      <td>...</td>\n",
              "    </tr>\n",
              "    <tr>\n",
              "      <th>34615</th>\n",
              "      <td>name[The Golden Curry], food[Italian], custome...</td>\n",
              "      <td>The Golden Curry is an Italian restaurant with...</td>\n",
              "    </tr>\n",
              "    <tr>\n",
              "      <th>9896</th>\n",
              "      <td>name[The Punter], food[French], priceRange[les...</td>\n",
              "      <td>Cheap French cuisine is served at a restaurant...</td>\n",
              "    </tr>\n",
              "    <tr>\n",
              "      <th>506</th>\n",
              "      <td>name[The Cambridge Blue], eatType[pub], food[E...</td>\n",
              "      <td>Located near the Café Brazil you will find the...</td>\n",
              "    </tr>\n",
              "    <tr>\n",
              "      <th>41002</th>\n",
              "      <td>name[Blue Spice], priceRange[less than £20], a...</td>\n",
              "      <td>Blue Spice is near the riverside and has price...</td>\n",
              "    </tr>\n",
              "    <tr>\n",
              "      <th>38331</th>\n",
              "      <td>name[The Phoenix], food[French], priceRange[ch...</td>\n",
              "      <td>The Phoenix has a customer rating of 5 out of ...</td>\n",
              "    </tr>\n",
              "  </tbody>\n",
              "</table>\n",
              "<p>2524 rows × 2 columns</p>\n",
              "</div>"
            ],
            "text/plain": [
              "                                                      mr  \\\n",
              "36921  name[Fitzbillies], eatType[coffee shop], food[...   \n",
              "5467   name[Alimentum], food[Fast food], priceRange[l...   \n",
              "19176  name[Midsummer House], food[Italian], customer...   \n",
              "23538  name[Browns Cambridge], food[French], priceRan...   \n",
              "7251   name[Midsummer House], food[French], priceRang...   \n",
              "...                                                  ...   \n",
              "34615  name[The Golden Curry], food[Italian], custome...   \n",
              "9896   name[The Punter], food[French], priceRange[les...   \n",
              "506    name[The Cambridge Blue], eatType[pub], food[E...   \n",
              "41002  name[Blue Spice], priceRange[less than £20], a...   \n",
              "38331  name[The Phoenix], food[French], priceRange[ch...   \n",
              "\n",
              "                                                     ref  \n",
              "36921  Fitzbillies coffee shop providers of fine Indi...  \n",
              "5467   Alimentum is a Fast food restaurant located in...  \n",
              "19176  For a nice three star meal try the Midsummer H...  \n",
              "23538  There is a Browns Cambridge ,with an average c...  \n",
              "7251   Midsummer House offers food and wine and is ne...  \n",
              "...                                                  ...  \n",
              "34615  The Golden Curry is an Italian restaurant with...  \n",
              "9896   Cheap French cuisine is served at a restaurant...  \n",
              "506    Located near the Café Brazil you will find the...  \n",
              "41002  Blue Spice is near the riverside and has price...  \n",
              "38331  The Phoenix has a customer rating of 5 out of ...  \n",
              "\n",
              "[2524 rows x 2 columns]"
            ]
          },
          "execution_count": 27,
          "metadata": {},
          "output_type": "execute_result"
        }
      ],
      "source": [
        "X_val"
      ]
    },
    {
      "cell_type": "markdown",
      "metadata": {
        "id": "VmvK1BSdPzzL"
      },
      "source": [
        "Setting parameters for training"
      ]
    },
    {
      "cell_type": "code",
      "execution_count": 28,
      "metadata": {
        "id": "8fvTP0K0JVqR"
      },
      "outputs": [],
      "source": [
        "batch_size = 8\n",
        "\n",
        "num_of_epochs = 10"
      ]
    },
    {
      "cell_type": "code",
      "execution_count": 29,
      "metadata": {
        "id": "v3wVyBUX1ewd"
      },
      "outputs": [],
      "source": [
        "loss_stats = {\n",
        "    \"train\": [],\n",
        "    \"val\": []\n",
        "}"
      ]
    },
    {
      "cell_type": "markdown",
      "metadata": {
        "id": "MMlx9EdRP3Y6"
      },
      "source": [
        "Model training is done"
      ]
    },
    {
      "cell_type": "code",
      "execution_count": 30,
      "metadata": {
        "colab": {
          "base_uri": "https://localhost:8080/"
        },
        "id": "5xvk8qwdjKAV",
        "outputId": "855c002a-0daa-48a3-c354-15a6124a5248"
      },
      "outputs": [
        {
          "name": "stdout",
          "output_type": "stream",
          "text": [
            "Running epoch: 1\n",
            "Epoch 1: | Train Loss: 4.341 | Val Loss: 2.559\n",
            "Running epoch: 2\n"
          ]
        }
      ],
      "source": [
        "# Sets the module in training mode\n",
        "model.train()\n",
        "\n",
        "for epoch in range(0, num_of_epochs + 1):\n",
        "    print(\"Running epoch: {}\".format(epoch + 1))\n",
        "\n",
        "    train_running_loss = 0\n",
        "\n",
        "    num_of_batches = len(X_train) / batch_size\n",
        "\n",
        "    for i in range(int(num_of_batches)):\n",
        "        X_train_batch = []\n",
        "        y_train_batch = []\n",
        "\n",
        "        batch_df = X_train[i * batch_size: i * batch_size + batch_size]\n",
        "\n",
        "        for _, row in batch_df.iterrows():\n",
        "            X_train_row = row[\"mr\"]\n",
        "            y_train_row = row[\"ref\"]\n",
        "\n",
        "            X_train_batch.append(X_train_row)\n",
        "            y_train_batch.append(y_train_row)\n",
        "\n",
        "        X_train_batch = tokenizer.batch_encode_plus(X_train_batch, padding = True, truncation = True,\n",
        "                                                    max_length = 256, return_tensors = \"pt\")[\"input_ids\"]\n",
        "        y_train_batch = tokenizer.batch_encode_plus(y_train_batch, padding = True, truncation = True,\n",
        "                                                    max_length = 256, return_tensors = \"pt\")[\"input_ids\"]\n",
        "\n",
        "        X_train_batch = X_train_batch.to(device)\n",
        "        y_train_batch = y_train_batch.to(device)\n",
        "\n",
        "        # clear out the gradients of all Variables\n",
        "        optimizer.zero_grad()\n",
        "\n",
        "        # Forward propogation\n",
        "        train_outputs = model(input_ids = X_train_batch, labels = y_train_batch)\n",
        "\n",
        "        train_loss = train_outputs.loss\n",
        "        train_loss.backward()\n",
        "\n",
        "        train_loss_num = train_loss.item()\n",
        "        train_running_loss += train_loss_num\n",
        "\n",
        "        #updating the params\n",
        "        optimizer.step()\n",
        "\n",
        "    train_loss = train_running_loss / int(num_of_batches)\n",
        "\n",
        "    # VALIDATION\n",
        "    with torch.no_grad():\n",
        "         val_running_loss = 0\n",
        "\n",
        "         model.eval()\n",
        "         num_of_batches = len(X_val)/batch_size\n",
        "\n",
        "         for i in range(int(num_of_batches)):\n",
        "             X_val_batch = []\n",
        "             y_val_batch = []\n",
        "\n",
        "             val_batch_df = X_val[i * batch_size: i * batch_size + batch_size]\n",
        "\n",
        "             for idx, row in val_batch_df.iterrows():\n",
        "                 X_val_row = row[\"mr\"]\n",
        "                 y_val_row = row[\"ref\"]\n",
        "\n",
        "                 X_val_batch.append(X_val_row)\n",
        "                 y_val_batch.append(y_val_row)\n",
        "\n",
        "             X_val_batch = tokenizer.batch_encode_plus(X_val_batch, padding = True, truncation = True,\n",
        "                                                       max_length = 256, return_tensors = \"pt\")[\"input_ids\"]\n",
        "             y_val_batch = tokenizer.batch_encode_plus(y_val_batch, padding = True, truncation = True,\n",
        "                                                       max_length = 256, return_tensors = \"pt\")[\"input_ids\"]\n",
        "             X_val_batch = X_val_batch.to(device)\n",
        "             y_val_batch = y_val_batch.to(device)\n",
        "\n",
        "             val_outputs = model(input_ids = X_val_batch, labels = y_val_batch)\n",
        "\n",
        "             val_loss = val_outputs.loss\n",
        "\n",
        "             val_loss_num = val_loss.item()\n",
        "             val_running_loss += val_loss_num\n",
        "\n",
        "    val_loss = val_running_loss / int(num_of_batches)\n",
        "\n",
        "    loss_stats[\"train\"].append(train_loss)\n",
        "    loss_stats[\"val\"].append(val_loss)\n",
        "\n",
        "    print(f\"Epoch {epoch+1:01}: | Train Loss: {train_loss:.3f} | Val Loss: {val_loss:.3f}\")"
      ]
    },
    {
      "cell_type": "code",
      "execution_count": 69,
      "metadata": {
        "colab": {
          "base_uri": "https://localhost:8080/",
          "height": 206
        },
        "id": "w5RupB14Ail5",
        "outputId": "7c65edb4-edd8-4dcb-b2f8-fdbeac74b0a5"
      },
      "outputs": [
        {
          "data": {
            "text/html": [
              "\n",
              "  <div id=\"df-39a6fe74-efd7-49ec-a444-7e9b7dfd6358\" class=\"colab-df-container\">\n",
              "    <div>\n",
              "<style scoped>\n",
              "    .dataframe tbody tr th:only-of-type {\n",
              "        vertical-align: middle;\n",
              "    }\n",
              "\n",
              "    .dataframe tbody tr th {\n",
              "        vertical-align: top;\n",
              "    }\n",
              "\n",
              "    .dataframe thead th {\n",
              "        text-align: right;\n",
              "    }\n",
              "</style>\n",
              "<table border=\"1\" class=\"dataframe\">\n",
              "  <thead>\n",
              "    <tr style=\"text-align: right;\">\n",
              "      <th></th>\n",
              "      <th>epochs</th>\n",
              "      <th>variable</th>\n",
              "      <th>value</th>\n",
              "    </tr>\n",
              "  </thead>\n",
              "  <tbody>\n",
              "    <tr>\n",
              "      <th>0</th>\n",
              "      <td>0</td>\n",
              "      <td>train</td>\n",
              "      <td>4.388359</td>\n",
              "    </tr>\n",
              "    <tr>\n",
              "      <th>1</th>\n",
              "      <td>1</td>\n",
              "      <td>train</td>\n",
              "      <td>2.252302</td>\n",
              "    </tr>\n",
              "    <tr>\n",
              "      <th>2</th>\n",
              "      <td>2</td>\n",
              "      <td>train</td>\n",
              "      <td>1.801845</td>\n",
              "    </tr>\n",
              "    <tr>\n",
              "      <th>3</th>\n",
              "      <td>3</td>\n",
              "      <td>train</td>\n",
              "      <td>1.560804</td>\n",
              "    </tr>\n",
              "    <tr>\n",
              "      <th>4</th>\n",
              "      <td>4</td>\n",
              "      <td>train</td>\n",
              "      <td>1.430088</td>\n",
              "    </tr>\n",
              "  </tbody>\n",
              "</table>\n",
              "</div>\n",
              "    <div class=\"colab-df-buttons\">\n",
              "\n",
              "  <div class=\"colab-df-container\">\n",
              "    <button class=\"colab-df-convert\" onclick=\"convertToInteractive('df-39a6fe74-efd7-49ec-a444-7e9b7dfd6358')\"\n",
              "            title=\"Convert this dataframe to an interactive table.\"\n",
              "            style=\"display:none;\">\n",
              "\n",
              "  <svg xmlns=\"http://www.w3.org/2000/svg\" height=\"24px\" viewBox=\"0 -960 960 960\">\n",
              "    <path d=\"M120-120v-720h720v720H120Zm60-500h600v-160H180v160Zm220 220h160v-160H400v160Zm0 220h160v-160H400v160ZM180-400h160v-160H180v160Zm440 0h160v-160H620v160ZM180-180h160v-160H180v160Zm440 0h160v-160H620v160Z\"/>\n",
              "  </svg>\n",
              "    </button>\n",
              "\n",
              "  <style>\n",
              "    .colab-df-container {\n",
              "      display:flex;\n",
              "      gap: 12px;\n",
              "    }\n",
              "\n",
              "    .colab-df-convert {\n",
              "      background-color: #E8F0FE;\n",
              "      border: none;\n",
              "      border-radius: 50%;\n",
              "      cursor: pointer;\n",
              "      display: none;\n",
              "      fill: #1967D2;\n",
              "      height: 32px;\n",
              "      padding: 0 0 0 0;\n",
              "      width: 32px;\n",
              "    }\n",
              "\n",
              "    .colab-df-convert:hover {\n",
              "      background-color: #E2EBFA;\n",
              "      box-shadow: 0px 1px 2px rgba(60, 64, 67, 0.3), 0px 1px 3px 1px rgba(60, 64, 67, 0.15);\n",
              "      fill: #174EA6;\n",
              "    }\n",
              "\n",
              "    .colab-df-buttons div {\n",
              "      margin-bottom: 4px;\n",
              "    }\n",
              "\n",
              "    [theme=dark] .colab-df-convert {\n",
              "      background-color: #3B4455;\n",
              "      fill: #D2E3FC;\n",
              "    }\n",
              "\n",
              "    [theme=dark] .colab-df-convert:hover {\n",
              "      background-color: #434B5C;\n",
              "      box-shadow: 0px 1px 3px 1px rgba(0, 0, 0, 0.15);\n",
              "      filter: drop-shadow(0px 1px 2px rgba(0, 0, 0, 0.3));\n",
              "      fill: #FFFFFF;\n",
              "    }\n",
              "  </style>\n",
              "\n",
              "    <script>\n",
              "      const buttonEl =\n",
              "        document.querySelector('#df-39a6fe74-efd7-49ec-a444-7e9b7dfd6358 button.colab-df-convert');\n",
              "      buttonEl.style.display =\n",
              "        google.colab.kernel.accessAllowed ? 'block' : 'none';\n",
              "\n",
              "      async function convertToInteractive(key) {\n",
              "        const element = document.querySelector('#df-39a6fe74-efd7-49ec-a444-7e9b7dfd6358');\n",
              "        const dataTable =\n",
              "          await google.colab.kernel.invokeFunction('convertToInteractive',\n",
              "                                                    [key], {});\n",
              "        if (!dataTable) return;\n",
              "\n",
              "        const docLinkHtml = 'Like what you see? Visit the ' +\n",
              "          '<a target=\"_blank\" href=https://colab.research.google.com/notebooks/data_table.ipynb>data table notebook</a>'\n",
              "          + ' to learn more about interactive tables.';\n",
              "        element.innerHTML = '';\n",
              "        dataTable['output_type'] = 'display_data';\n",
              "        await google.colab.output.renderOutput(dataTable, element);\n",
              "        const docLink = document.createElement('div');\n",
              "        docLink.innerHTML = docLinkHtml;\n",
              "        element.appendChild(docLink);\n",
              "      }\n",
              "    </script>\n",
              "  </div>\n",
              "\n",
              "\n",
              "<div id=\"df-9fd50efa-0d22-4d3a-a7fc-131dfac12326\">\n",
              "  <button class=\"colab-df-quickchart\" onclick=\"quickchart('df-9fd50efa-0d22-4d3a-a7fc-131dfac12326')\"\n",
              "            title=\"Suggest charts\"\n",
              "            style=\"display:none;\">\n",
              "\n",
              "<svg xmlns=\"http://www.w3.org/2000/svg\" height=\"24px\"viewBox=\"0 0 24 24\"\n",
              "     width=\"24px\">\n",
              "    <g>\n",
              "        <path d=\"M19 3H5c-1.1 0-2 .9-2 2v14c0 1.1.9 2 2 2h14c1.1 0 2-.9 2-2V5c0-1.1-.9-2-2-2zM9 17H7v-7h2v7zm4 0h-2V7h2v10zm4 0h-2v-4h2v4z\"/>\n",
              "    </g>\n",
              "</svg>\n",
              "  </button>\n",
              "\n",
              "<style>\n",
              "  .colab-df-quickchart {\n",
              "      --bg-color: #E8F0FE;\n",
              "      --fill-color: #1967D2;\n",
              "      --hover-bg-color: #E2EBFA;\n",
              "      --hover-fill-color: #174EA6;\n",
              "      --disabled-fill-color: #AAA;\n",
              "      --disabled-bg-color: #DDD;\n",
              "  }\n",
              "\n",
              "  [theme=dark] .colab-df-quickchart {\n",
              "      --bg-color: #3B4455;\n",
              "      --fill-color: #D2E3FC;\n",
              "      --hover-bg-color: #434B5C;\n",
              "      --hover-fill-color: #FFFFFF;\n",
              "      --disabled-bg-color: #3B4455;\n",
              "      --disabled-fill-color: #666;\n",
              "  }\n",
              "\n",
              "  .colab-df-quickchart {\n",
              "    background-color: var(--bg-color);\n",
              "    border: none;\n",
              "    border-radius: 50%;\n",
              "    cursor: pointer;\n",
              "    display: none;\n",
              "    fill: var(--fill-color);\n",
              "    height: 32px;\n",
              "    padding: 0;\n",
              "    width: 32px;\n",
              "  }\n",
              "\n",
              "  .colab-df-quickchart:hover {\n",
              "    background-color: var(--hover-bg-color);\n",
              "    box-shadow: 0 1px 2px rgba(60, 64, 67, 0.3), 0 1px 3px 1px rgba(60, 64, 67, 0.15);\n",
              "    fill: var(--button-hover-fill-color);\n",
              "  }\n",
              "\n",
              "  .colab-df-quickchart-complete:disabled,\n",
              "  .colab-df-quickchart-complete:disabled:hover {\n",
              "    background-color: var(--disabled-bg-color);\n",
              "    fill: var(--disabled-fill-color);\n",
              "    box-shadow: none;\n",
              "  }\n",
              "\n",
              "  .colab-df-spinner {\n",
              "    border: 2px solid var(--fill-color);\n",
              "    border-color: transparent;\n",
              "    border-bottom-color: var(--fill-color);\n",
              "    animation:\n",
              "      spin 1s steps(1) infinite;\n",
              "  }\n",
              "\n",
              "  @keyframes spin {\n",
              "    0% {\n",
              "      border-color: transparent;\n",
              "      border-bottom-color: var(--fill-color);\n",
              "      border-left-color: var(--fill-color);\n",
              "    }\n",
              "    20% {\n",
              "      border-color: transparent;\n",
              "      border-left-color: var(--fill-color);\n",
              "      border-top-color: var(--fill-color);\n",
              "    }\n",
              "    30% {\n",
              "      border-color: transparent;\n",
              "      border-left-color: var(--fill-color);\n",
              "      border-top-color: var(--fill-color);\n",
              "      border-right-color: var(--fill-color);\n",
              "    }\n",
              "    40% {\n",
              "      border-color: transparent;\n",
              "      border-right-color: var(--fill-color);\n",
              "      border-top-color: var(--fill-color);\n",
              "    }\n",
              "    60% {\n",
              "      border-color: transparent;\n",
              "      border-right-color: var(--fill-color);\n",
              "    }\n",
              "    80% {\n",
              "      border-color: transparent;\n",
              "      border-right-color: var(--fill-color);\n",
              "      border-bottom-color: var(--fill-color);\n",
              "    }\n",
              "    90% {\n",
              "      border-color: transparent;\n",
              "      border-bottom-color: var(--fill-color);\n",
              "    }\n",
              "  }\n",
              "</style>\n",
              "\n",
              "  <script>\n",
              "    async function quickchart(key) {\n",
              "      const quickchartButtonEl =\n",
              "        document.querySelector('#' + key + ' button');\n",
              "      quickchartButtonEl.disabled = true;  // To prevent multiple clicks.\n",
              "      quickchartButtonEl.classList.add('colab-df-spinner');\n",
              "      try {\n",
              "        const charts = await google.colab.kernel.invokeFunction(\n",
              "            'suggestCharts', [key], {});\n",
              "      } catch (error) {\n",
              "        console.error('Error during call to suggestCharts:', error);\n",
              "      }\n",
              "      quickchartButtonEl.classList.remove('colab-df-spinner');\n",
              "      quickchartButtonEl.classList.add('colab-df-quickchart-complete');\n",
              "    }\n",
              "    (() => {\n",
              "      let quickchartButtonEl =\n",
              "        document.querySelector('#df-9fd50efa-0d22-4d3a-a7fc-131dfac12326 button');\n",
              "      quickchartButtonEl.style.display =\n",
              "        google.colab.kernel.accessAllowed ? 'block' : 'none';\n",
              "    })();\n",
              "  </script>\n",
              "</div>\n",
              "    </div>\n",
              "  </div>\n"
            ],
            "text/plain": [
              "   epochs variable     value\n",
              "0       0    train  4.388359\n",
              "1       1    train  2.252302\n",
              "2       2    train  1.801845\n",
              "3       3    train  1.560804\n",
              "4       4    train  1.430088"
            ]
          },
          "execution_count": 69,
          "metadata": {},
          "output_type": "execute_result"
        }
      ],
      "source": [
        "train_val_loss_df = pd.DataFrame.from_dict(loss_stats). \\\n",
        "    reset_index().melt(id_vars = [\"index\"]). \\\n",
        "    rename(columns = {\"index\": \"epochs\"})\n",
        "\n",
        "train_val_loss_df.head()"
      ]
    },
    {
      "cell_type": "code",
      "execution_count": 70,
      "metadata": {
        "colab": {
          "base_uri": "https://localhost:8080/",
          "height": 206
        },
        "id": "4Mjx14m8AoZV",
        "outputId": "a992a5e2-8cec-40df-aa1f-2a2d3fbf6655"
      },
      "outputs": [
        {
          "data": {
            "text/html": [
              "\n",
              "  <div id=\"df-e1dcf930-4cc9-4af2-944b-304b47f04993\" class=\"colab-df-container\">\n",
              "    <div>\n",
              "<style scoped>\n",
              "    .dataframe tbody tr th:only-of-type {\n",
              "        vertical-align: middle;\n",
              "    }\n",
              "\n",
              "    .dataframe tbody tr th {\n",
              "        vertical-align: top;\n",
              "    }\n",
              "\n",
              "    .dataframe thead th {\n",
              "        text-align: right;\n",
              "    }\n",
              "</style>\n",
              "<table border=\"1\" class=\"dataframe\">\n",
              "  <thead>\n",
              "    <tr style=\"text-align: right;\">\n",
              "      <th></th>\n",
              "      <th>epochs</th>\n",
              "      <th>variable</th>\n",
              "      <th>value</th>\n",
              "    </tr>\n",
              "  </thead>\n",
              "  <tbody>\n",
              "    <tr>\n",
              "      <th>17</th>\n",
              "      <td>6</td>\n",
              "      <td>val</td>\n",
              "      <td>1.287142</td>\n",
              "    </tr>\n",
              "    <tr>\n",
              "      <th>18</th>\n",
              "      <td>7</td>\n",
              "      <td>val</td>\n",
              "      <td>1.246493</td>\n",
              "    </tr>\n",
              "    <tr>\n",
              "      <th>19</th>\n",
              "      <td>8</td>\n",
              "      <td>val</td>\n",
              "      <td>1.214407</td>\n",
              "    </tr>\n",
              "    <tr>\n",
              "      <th>20</th>\n",
              "      <td>9</td>\n",
              "      <td>val</td>\n",
              "      <td>1.187951</td>\n",
              "    </tr>\n",
              "    <tr>\n",
              "      <th>21</th>\n",
              "      <td>10</td>\n",
              "      <td>val</td>\n",
              "      <td>1.163588</td>\n",
              "    </tr>\n",
              "  </tbody>\n",
              "</table>\n",
              "</div>\n",
              "    <div class=\"colab-df-buttons\">\n",
              "\n",
              "  <div class=\"colab-df-container\">\n",
              "    <button class=\"colab-df-convert\" onclick=\"convertToInteractive('df-e1dcf930-4cc9-4af2-944b-304b47f04993')\"\n",
              "            title=\"Convert this dataframe to an interactive table.\"\n",
              "            style=\"display:none;\">\n",
              "\n",
              "  <svg xmlns=\"http://www.w3.org/2000/svg\" height=\"24px\" viewBox=\"0 -960 960 960\">\n",
              "    <path d=\"M120-120v-720h720v720H120Zm60-500h600v-160H180v160Zm220 220h160v-160H400v160Zm0 220h160v-160H400v160ZM180-400h160v-160H180v160Zm440 0h160v-160H620v160ZM180-180h160v-160H180v160Zm440 0h160v-160H620v160Z\"/>\n",
              "  </svg>\n",
              "    </button>\n",
              "\n",
              "  <style>\n",
              "    .colab-df-container {\n",
              "      display:flex;\n",
              "      gap: 12px;\n",
              "    }\n",
              "\n",
              "    .colab-df-convert {\n",
              "      background-color: #E8F0FE;\n",
              "      border: none;\n",
              "      border-radius: 50%;\n",
              "      cursor: pointer;\n",
              "      display: none;\n",
              "      fill: #1967D2;\n",
              "      height: 32px;\n",
              "      padding: 0 0 0 0;\n",
              "      width: 32px;\n",
              "    }\n",
              "\n",
              "    .colab-df-convert:hover {\n",
              "      background-color: #E2EBFA;\n",
              "      box-shadow: 0px 1px 2px rgba(60, 64, 67, 0.3), 0px 1px 3px 1px rgba(60, 64, 67, 0.15);\n",
              "      fill: #174EA6;\n",
              "    }\n",
              "\n",
              "    .colab-df-buttons div {\n",
              "      margin-bottom: 4px;\n",
              "    }\n",
              "\n",
              "    [theme=dark] .colab-df-convert {\n",
              "      background-color: #3B4455;\n",
              "      fill: #D2E3FC;\n",
              "    }\n",
              "\n",
              "    [theme=dark] .colab-df-convert:hover {\n",
              "      background-color: #434B5C;\n",
              "      box-shadow: 0px 1px 3px 1px rgba(0, 0, 0, 0.15);\n",
              "      filter: drop-shadow(0px 1px 2px rgba(0, 0, 0, 0.3));\n",
              "      fill: #FFFFFF;\n",
              "    }\n",
              "  </style>\n",
              "\n",
              "    <script>\n",
              "      const buttonEl =\n",
              "        document.querySelector('#df-e1dcf930-4cc9-4af2-944b-304b47f04993 button.colab-df-convert');\n",
              "      buttonEl.style.display =\n",
              "        google.colab.kernel.accessAllowed ? 'block' : 'none';\n",
              "\n",
              "      async function convertToInteractive(key) {\n",
              "        const element = document.querySelector('#df-e1dcf930-4cc9-4af2-944b-304b47f04993');\n",
              "        const dataTable =\n",
              "          await google.colab.kernel.invokeFunction('convertToInteractive',\n",
              "                                                    [key], {});\n",
              "        if (!dataTable) return;\n",
              "\n",
              "        const docLinkHtml = 'Like what you see? Visit the ' +\n",
              "          '<a target=\"_blank\" href=https://colab.research.google.com/notebooks/data_table.ipynb>data table notebook</a>'\n",
              "          + ' to learn more about interactive tables.';\n",
              "        element.innerHTML = '';\n",
              "        dataTable['output_type'] = 'display_data';\n",
              "        await google.colab.output.renderOutput(dataTable, element);\n",
              "        const docLink = document.createElement('div');\n",
              "        docLink.innerHTML = docLinkHtml;\n",
              "        element.appendChild(docLink);\n",
              "      }\n",
              "    </script>\n",
              "  </div>\n",
              "\n",
              "\n",
              "<div id=\"df-98b18cc1-e418-4f7f-8d41-04e1ac2b4329\">\n",
              "  <button class=\"colab-df-quickchart\" onclick=\"quickchart('df-98b18cc1-e418-4f7f-8d41-04e1ac2b4329')\"\n",
              "            title=\"Suggest charts\"\n",
              "            style=\"display:none;\">\n",
              "\n",
              "<svg xmlns=\"http://www.w3.org/2000/svg\" height=\"24px\"viewBox=\"0 0 24 24\"\n",
              "     width=\"24px\">\n",
              "    <g>\n",
              "        <path d=\"M19 3H5c-1.1 0-2 .9-2 2v14c0 1.1.9 2 2 2h14c1.1 0 2-.9 2-2V5c0-1.1-.9-2-2-2zM9 17H7v-7h2v7zm4 0h-2V7h2v10zm4 0h-2v-4h2v4z\"/>\n",
              "    </g>\n",
              "</svg>\n",
              "  </button>\n",
              "\n",
              "<style>\n",
              "  .colab-df-quickchart {\n",
              "      --bg-color: #E8F0FE;\n",
              "      --fill-color: #1967D2;\n",
              "      --hover-bg-color: #E2EBFA;\n",
              "      --hover-fill-color: #174EA6;\n",
              "      --disabled-fill-color: #AAA;\n",
              "      --disabled-bg-color: #DDD;\n",
              "  }\n",
              "\n",
              "  [theme=dark] .colab-df-quickchart {\n",
              "      --bg-color: #3B4455;\n",
              "      --fill-color: #D2E3FC;\n",
              "      --hover-bg-color: #434B5C;\n",
              "      --hover-fill-color: #FFFFFF;\n",
              "      --disabled-bg-color: #3B4455;\n",
              "      --disabled-fill-color: #666;\n",
              "  }\n",
              "\n",
              "  .colab-df-quickchart {\n",
              "    background-color: var(--bg-color);\n",
              "    border: none;\n",
              "    border-radius: 50%;\n",
              "    cursor: pointer;\n",
              "    display: none;\n",
              "    fill: var(--fill-color);\n",
              "    height: 32px;\n",
              "    padding: 0;\n",
              "    width: 32px;\n",
              "  }\n",
              "\n",
              "  .colab-df-quickchart:hover {\n",
              "    background-color: var(--hover-bg-color);\n",
              "    box-shadow: 0 1px 2px rgba(60, 64, 67, 0.3), 0 1px 3px 1px rgba(60, 64, 67, 0.15);\n",
              "    fill: var(--button-hover-fill-color);\n",
              "  }\n",
              "\n",
              "  .colab-df-quickchart-complete:disabled,\n",
              "  .colab-df-quickchart-complete:disabled:hover {\n",
              "    background-color: var(--disabled-bg-color);\n",
              "    fill: var(--disabled-fill-color);\n",
              "    box-shadow: none;\n",
              "  }\n",
              "\n",
              "  .colab-df-spinner {\n",
              "    border: 2px solid var(--fill-color);\n",
              "    border-color: transparent;\n",
              "    border-bottom-color: var(--fill-color);\n",
              "    animation:\n",
              "      spin 1s steps(1) infinite;\n",
              "  }\n",
              "\n",
              "  @keyframes spin {\n",
              "    0% {\n",
              "      border-color: transparent;\n",
              "      border-bottom-color: var(--fill-color);\n",
              "      border-left-color: var(--fill-color);\n",
              "    }\n",
              "    20% {\n",
              "      border-color: transparent;\n",
              "      border-left-color: var(--fill-color);\n",
              "      border-top-color: var(--fill-color);\n",
              "    }\n",
              "    30% {\n",
              "      border-color: transparent;\n",
              "      border-left-color: var(--fill-color);\n",
              "      border-top-color: var(--fill-color);\n",
              "      border-right-color: var(--fill-color);\n",
              "    }\n",
              "    40% {\n",
              "      border-color: transparent;\n",
              "      border-right-color: var(--fill-color);\n",
              "      border-top-color: var(--fill-color);\n",
              "    }\n",
              "    60% {\n",
              "      border-color: transparent;\n",
              "      border-right-color: var(--fill-color);\n",
              "    }\n",
              "    80% {\n",
              "      border-color: transparent;\n",
              "      border-right-color: var(--fill-color);\n",
              "      border-bottom-color: var(--fill-color);\n",
              "    }\n",
              "    90% {\n",
              "      border-color: transparent;\n",
              "      border-bottom-color: var(--fill-color);\n",
              "    }\n",
              "  }\n",
              "</style>\n",
              "\n",
              "  <script>\n",
              "    async function quickchart(key) {\n",
              "      const quickchartButtonEl =\n",
              "        document.querySelector('#' + key + ' button');\n",
              "      quickchartButtonEl.disabled = true;  // To prevent multiple clicks.\n",
              "      quickchartButtonEl.classList.add('colab-df-spinner');\n",
              "      try {\n",
              "        const charts = await google.colab.kernel.invokeFunction(\n",
              "            'suggestCharts', [key], {});\n",
              "      } catch (error) {\n",
              "        console.error('Error during call to suggestCharts:', error);\n",
              "      }\n",
              "      quickchartButtonEl.classList.remove('colab-df-spinner');\n",
              "      quickchartButtonEl.classList.add('colab-df-quickchart-complete');\n",
              "    }\n",
              "    (() => {\n",
              "      let quickchartButtonEl =\n",
              "        document.querySelector('#df-98b18cc1-e418-4f7f-8d41-04e1ac2b4329 button');\n",
              "      quickchartButtonEl.style.display =\n",
              "        google.colab.kernel.accessAllowed ? 'block' : 'none';\n",
              "    })();\n",
              "  </script>\n",
              "</div>\n",
              "    </div>\n",
              "  </div>\n"
            ],
            "text/plain": [
              "    epochs variable     value\n",
              "17       6      val  1.287142\n",
              "18       7      val  1.246493\n",
              "19       8      val  1.214407\n",
              "20       9      val  1.187951\n",
              "21      10      val  1.163588"
            ]
          },
          "execution_count": 70,
          "metadata": {},
          "output_type": "execute_result"
        }
      ],
      "source": [
        "train_val_loss_df.tail()"
      ]
    },
    {
      "cell_type": "code",
      "execution_count": 71,
      "metadata": {
        "colab": {
          "base_uri": "https://localhost:8080/",
          "height": 504
        },
        "id": "klwe8cguAsHl",
        "outputId": "d7623166-1467-4f96-e4e9-685e65546f85"
      },
      "outputs": [
        {
          "data": {
            "text/plain": [
              "Text(0.5, 1.0, 'Train-Val Loss vs Epoch')"
            ]
          },
          "execution_count": 71,
          "metadata": {},
          "output_type": "execute_result"
        },
        {
          "data": {
            "image/png": "[encoded data removed]",
            "text/plain": [
              "<Figure size 1000x500 with 1 Axes>"
            ]
          },
          "metadata": {},
          "output_type": "display_data"
        }
      ],
      "source": [
        "import seaborn as sns\n",
        "import matplotlib.pyplot as plt\n",
        "plt.figure(figsize = (10, 5))\n",
        "\n",
        "sns.lineplot(data = train_val_loss_df,\n",
        "             x = \"epochs\", y = \"value\",\n",
        "             hue = \"variable\"\n",
        ").set_title(\"Train-Val Loss vs Epoch\")"
      ]
    },
    {
      "cell_type": "code",
      "execution_count": 72,
      "metadata": {
        "colab": {
          "base_uri": "https://localhost:8080/"
        },
        "id": "F_oka8tmeATv",
        "outputId": "82744bab-a5b2-4309-9457-a0089743be2d"
      },
      "outputs": [
        {
          "data": {
            "text/plain": [
              "T5ForConditionalGeneration(\n",
              "  (shared): Embedding(32128, 512)\n",
              "  (encoder): T5Stack(\n",
              "    (embed_tokens): Embedding(32128, 512)\n",
              "    (block): ModuleList(\n",
              "      (0): T5Block(\n",
              "        (layer): ModuleList(\n",
              "          (0): T5LayerSelfAttention(\n",
              "            (SelfAttention): T5Attention(\n",
              "              (q): Linear(in_features=512, out_features=512, bias=False)\n",
              "              (k): Linear(in_features=512, out_features=512, bias=False)\n",
              "              (v): Linear(in_features=512, out_features=512, bias=False)\n",
              "              (o): Linear(in_features=512, out_features=512, bias=False)\n",
              "              (relative_attention_bias): Embedding(32, 8)\n",
              "            )\n",
              "            (layer_norm): T5LayerNorm()\n",
              "            (dropout): Dropout(p=0.1, inplace=False)\n",
              "          )\n",
              "          (1): T5LayerFF(\n",
              "            (DenseReluDense): T5DenseActDense(\n",
              "              (wi): Linear(in_features=512, out_features=2048, bias=False)\n",
              "              (wo): Linear(in_features=2048, out_features=512, bias=False)\n",
              "              (dropout): Dropout(p=0.1, inplace=False)\n",
              "              (act): ReLU()\n",
              "            )\n",
              "            (layer_norm): T5LayerNorm()\n",
              "            (dropout): Dropout(p=0.1, inplace=False)\n",
              "          )\n",
              "        )\n",
              "      )\n",
              "      (1-5): 5 x T5Block(\n",
              "        (layer): ModuleList(\n",
              "          (0): T5LayerSelfAttention(\n",
              "            (SelfAttention): T5Attention(\n",
              "              (q): Linear(in_features=512, out_features=512, bias=False)\n",
              "              (k): Linear(in_features=512, out_features=512, bias=False)\n",
              "              (v): Linear(in_features=512, out_features=512, bias=False)\n",
              "              (o): Linear(in_features=512, out_features=512, bias=False)\n",
              "            )\n",
              "            (layer_norm): T5LayerNorm()\n",
              "            (dropout): Dropout(p=0.1, inplace=False)\n",
              "          )\n",
              "          (1): T5LayerFF(\n",
              "            (DenseReluDense): T5DenseActDense(\n",
              "              (wi): Linear(in_features=512, out_features=2048, bias=False)\n",
              "              (wo): Linear(in_features=2048, out_features=512, bias=False)\n",
              "              (dropout): Dropout(p=0.1, inplace=False)\n",
              "              (act): ReLU()\n",
              "            )\n",
              "            (layer_norm): T5LayerNorm()\n",
              "            (dropout): Dropout(p=0.1, inplace=False)\n",
              "          )\n",
              "        )\n",
              "      )\n",
              "    )\n",
              "    (final_layer_norm): T5LayerNorm()\n",
              "    (dropout): Dropout(p=0.1, inplace=False)\n",
              "  )\n",
              "  (decoder): T5Stack(\n",
              "    (embed_tokens): Embedding(32128, 512)\n",
              "    (block): ModuleList(\n",
              "      (0): T5Block(\n",
              "        (layer): ModuleList(\n",
              "          (0): T5LayerSelfAttention(\n",
              "            (SelfAttention): T5Attention(\n",
              "              (q): Linear(in_features=512, out_features=512, bias=False)\n",
              "              (k): Linear(in_features=512, out_features=512, bias=False)\n",
              "              (v): Linear(in_features=512, out_features=512, bias=False)\n",
              "              (o): Linear(in_features=512, out_features=512, bias=False)\n",
              "              (relative_attention_bias): Embedding(32, 8)\n",
              "            )\n",
              "            (layer_norm): T5LayerNorm()\n",
              "            (dropout): Dropout(p=0.1, inplace=False)\n",
              "          )\n",
              "          (1): T5LayerCrossAttention(\n",
              "            (EncDecAttention): T5Attention(\n",
              "              (q): Linear(in_features=512, out_features=512, bias=False)\n",
              "              (k): Linear(in_features=512, out_features=512, bias=False)\n",
              "              (v): Linear(in_features=512, out_features=512, bias=False)\n",
              "              (o): Linear(in_features=512, out_features=512, bias=False)\n",
              "            )\n",
              "            (layer_norm): T5LayerNorm()\n",
              "            (dropout): Dropout(p=0.1, inplace=False)\n",
              "          )\n",
              "          (2): T5LayerFF(\n",
              "            (DenseReluDense): T5DenseActDense(\n",
              "              (wi): Linear(in_features=512, out_features=2048, bias=False)\n",
              "              (wo): Linear(in_features=2048, out_features=512, bias=False)\n",
              "              (dropout): Dropout(p=0.1, inplace=False)\n",
              "              (act): ReLU()\n",
              "            )\n",
              "            (layer_norm): T5LayerNorm()\n",
              "            (dropout): Dropout(p=0.1, inplace=False)\n",
              "          )\n",
              "        )\n",
              "      )\n",
              "      (1-5): 5 x T5Block(\n",
              "        (layer): ModuleList(\n",
              "          (0): T5LayerSelfAttention(\n",
              "            (SelfAttention): T5Attention(\n",
              "              (q): Linear(in_features=512, out_features=512, bias=False)\n",
              "              (k): Linear(in_features=512, out_features=512, bias=False)\n",
              "              (v): Linear(in_features=512, out_features=512, bias=False)\n",
              "              (o): Linear(in_features=512, out_features=512, bias=False)\n",
              "            )\n",
              "            (layer_norm): T5LayerNorm()\n",
              "            (dropout): Dropout(p=0.1, inplace=False)\n",
              "          )\n",
              "          (1): T5LayerCrossAttention(\n",
              "            (EncDecAttention): T5Attention(\n",
              "              (q): Linear(in_features=512, out_features=512, bias=False)\n",
              "              (k): Linear(in_features=512, out_features=512, bias=False)\n",
              "              (v): Linear(in_features=512, out_features=512, bias=False)\n",
              "              (o): Linear(in_features=512, out_features=512, bias=False)\n",
              "            )\n",
              "            (layer_norm): T5LayerNorm()\n",
              "            (dropout): Dropout(p=0.1, inplace=False)\n",
              "          )\n",
              "          (2): T5LayerFF(\n",
              "            (DenseReluDense): T5DenseActDense(\n",
              "              (wi): Linear(in_features=512, out_features=2048, bias=False)\n",
              "              (wo): Linear(in_features=2048, out_features=512, bias=False)\n",
              "              (dropout): Dropout(p=0.1, inplace=False)\n",
              "              (act): ReLU()\n",
              "            )\n",
              "            (layer_norm): T5LayerNorm()\n",
              "            (dropout): Dropout(p=0.1, inplace=False)\n",
              "          )\n",
              "        )\n",
              "      )\n",
              "    )\n",
              "    (final_layer_norm): T5LayerNorm()\n",
              "    (dropout): Dropout(p=0.1, inplace=False)\n",
              "  )\n",
              "  (lm_head): Linear(in_features=512, out_features=32128, bias=False)\n",
              ")"
            ]
          },
          "execution_count": 72,
          "metadata": {},
          "output_type": "execute_result"
        }
      ],
      "source": [
        "model.eval()"
      ]
    },
    {
      "cell_type": "code",
      "execution_count": 73,
      "metadata": {
        "id": "GzAvurfYpEO2"
      },
      "outputs": [],
      "source": [
        "scorer = rouge_scorer.RougeScorer(['rouge1', 'rouge2', 'rougeL'], use_stemmer = True)"
      ]
    },
    {
      "cell_type": "code",
      "execution_count": 95,
      "metadata": {
        "colab": {
          "base_uri": "https://localhost:8080/",
          "height": 206
        },
        "id": "uDhnVbFeogn6",
        "outputId": "7cb6537f-8ae3-4a5b-96de-9c6911908520"
      },
      "outputs": [
        {
          "data": {
            "text/html": [
              "\n",
              "  <div id=\"df-03542c5b-da78-4d43-934c-bd22feb137c9\" class=\"colab-df-container\">\n",
              "    <div>\n",
              "<style scoped>\n",
              "    .dataframe tbody tr th:only-of-type {\n",
              "        vertical-align: middle;\n",
              "    }\n",
              "\n",
              "    .dataframe tbody tr th {\n",
              "        vertical-align: top;\n",
              "    }\n",
              "\n",
              "    .dataframe thead th {\n",
              "        text-align: right;\n",
              "    }\n",
              "</style>\n",
              "<table border=\"1\" class=\"dataframe\">\n",
              "  <thead>\n",
              "    <tr style=\"text-align: right;\">\n",
              "      <th></th>\n",
              "      <th>mr</th>\n",
              "      <th>ref</th>\n",
              "    </tr>\n",
              "  </thead>\n",
              "  <tbody>\n",
              "    <tr>\n",
              "      <th>31608</th>\n",
              "      <td>name[The Phoenix], food[Indian], customer rati...</td>\n",
              "      <td>Situated on the riverside is The Phoenix. The ...</td>\n",
              "    </tr>\n",
              "    <tr>\n",
              "      <th>22184</th>\n",
              "      <td>name[The Olive Grove], eatType[pub], food[Fast...</td>\n",
              "      <td>There is a cheap pub that provides fast food c...</td>\n",
              "    </tr>\n",
              "    <tr>\n",
              "      <th>7990</th>\n",
              "      <td>name[Cotto], priceRange[high], area[riverside]...</td>\n",
              "      <td>Cotto is a high priced place in the riverside ...</td>\n",
              "    </tr>\n",
              "    <tr>\n",
              "      <th>38987</th>\n",
              "      <td>name[Loch Fyne], eatType[restaurant], food[Ita...</td>\n",
              "      <td>Loch Fyne is an Italian restaurant that is not...</td>\n",
              "    </tr>\n",
              "    <tr>\n",
              "      <th>18146</th>\n",
              "      <td>name[Alimentum], food[Fast food], priceRange[m...</td>\n",
              "      <td>In the riverside are is the moderately priced ...</td>\n",
              "    </tr>\n",
              "  </tbody>\n",
              "</table>\n",
              "</div>\n",
              "    <div class=\"colab-df-buttons\">\n",
              "\n",
              "  <div class=\"colab-df-container\">\n",
              "    <button class=\"colab-df-convert\" onclick=\"convertToInteractive('df-03542c5b-da78-4d43-934c-bd22feb137c9')\"\n",
              "            title=\"Convert this dataframe to an interactive table.\"\n",
              "            style=\"display:none;\">\n",
              "\n",
              "  <svg xmlns=\"http://www.w3.org/2000/svg\" height=\"24px\" viewBox=\"0 -960 960 960\">\n",
              "    <path d=\"M120-120v-720h720v720H120Zm60-500h600v-160H180v160Zm220 220h160v-160H400v160Zm0 220h160v-160H400v160ZM180-400h160v-160H180v160Zm440 0h160v-160H620v160ZM180-180h160v-160H180v160Zm440 0h160v-160H620v160Z\"/>\n",
              "  </svg>\n",
              "    </button>\n",
              "\n",
              "  <style>\n",
              "    .colab-df-container {\n",
              "      display:flex;\n",
              "      gap: 12px;\n",
              "    }\n",
              "\n",
              "    .colab-df-convert {\n",
              "      background-color: #E8F0FE;\n",
              "      border: none;\n",
              "      border-radius: 50%;\n",
              "      cursor: pointer;\n",
              "      display: none;\n",
              "      fill: #1967D2;\n",
              "      height: 32px;\n",
              "      padding: 0 0 0 0;\n",
              "      width: 32px;\n",
              "    }\n",
              "\n",
              "    .colab-df-convert:hover {\n",
              "      background-color: #E2EBFA;\n",
              "      box-shadow: 0px 1px 2px rgba(60, 64, 67, 0.3), 0px 1px 3px 1px rgba(60, 64, 67, 0.15);\n",
              "      fill: #174EA6;\n",
              "    }\n",
              "\n",
              "    .colab-df-buttons div {\n",
              "      margin-bottom: 4px;\n",
              "    }\n",
              "\n",
              "    [theme=dark] .colab-df-convert {\n",
              "      background-color: #3B4455;\n",
              "      fill: #D2E3FC;\n",
              "    }\n",
              "\n",
              "    [theme=dark] .colab-df-convert:hover {\n",
              "      background-color: #434B5C;\n",
              "      box-shadow: 0px 1px 3px 1px rgba(0, 0, 0, 0.15);\n",
              "      filter: drop-shadow(0px 1px 2px rgba(0, 0, 0, 0.3));\n",
              "      fill: #FFFFFF;\n",
              "    }\n",
              "  </style>\n",
              "\n",
              "    <script>\n",
              "      const buttonEl =\n",
              "        document.querySelector('#df-03542c5b-da78-4d43-934c-bd22feb137c9 button.colab-df-convert');\n",
              "      buttonEl.style.display =\n",
              "        google.colab.kernel.accessAllowed ? 'block' : 'none';\n",
              "\n",
              "      async function convertToInteractive(key) {\n",
              "        const element = document.querySelector('#df-03542c5b-da78-4d43-934c-bd22feb137c9');\n",
              "        const dataTable =\n",
              "          await google.colab.kernel.invokeFunction('convertToInteractive',\n",
              "                                                    [key], {});\n",
              "        if (!dataTable) return;\n",
              "\n",
              "        const docLinkHtml = 'Like what you see? Visit the ' +\n",
              "          '<a target=\"_blank\" href=https://colab.research.google.com/notebooks/data_table.ipynb>data table notebook</a>'\n",
              "          + ' to learn more about interactive tables.';\n",
              "        element.innerHTML = '';\n",
              "        dataTable['output_type'] = 'display_data';\n",
              "        await google.colab.output.renderOutput(dataTable, element);\n",
              "        const docLink = document.createElement('div');\n",
              "        docLink.innerHTML = docLinkHtml;\n",
              "        element.appendChild(docLink);\n",
              "      }\n",
              "    </script>\n",
              "  </div>\n",
              "\n",
              "\n",
              "<div id=\"df-b4941a85-4dac-4b65-9691-66e2d5f90aa4\">\n",
              "  <button class=\"colab-df-quickchart\" onclick=\"quickchart('df-b4941a85-4dac-4b65-9691-66e2d5f90aa4')\"\n",
              "            title=\"Suggest charts\"\n",
              "            style=\"display:none;\">\n",
              "\n",
              "<svg xmlns=\"http://www.w3.org/2000/svg\" height=\"24px\"viewBox=\"0 0 24 24\"\n",
              "     width=\"24px\">\n",
              "    <g>\n",
              "        <path d=\"M19 3H5c-1.1 0-2 .9-2 2v14c0 1.1.9 2 2 2h14c1.1 0 2-.9 2-2V5c0-1.1-.9-2-2-2zM9 17H7v-7h2v7zm4 0h-2V7h2v10zm4 0h-2v-4h2v4z\"/>\n",
              "    </g>\n",
              "</svg>\n",
              "  </button>\n",
              "\n",
              "<style>\n",
              "  .colab-df-quickchart {\n",
              "      --bg-color: #E8F0FE;\n",
              "      --fill-color: #1967D2;\n",
              "      --hover-bg-color: #E2EBFA;\n",
              "      --hover-fill-color: #174EA6;\n",
              "      --disabled-fill-color: #AAA;\n",
              "      --disabled-bg-color: #DDD;\n",
              "  }\n",
              "\n",
              "  [theme=dark] .colab-df-quickchart {\n",
              "      --bg-color: #3B4455;\n",
              "      --fill-color: #D2E3FC;\n",
              "      --hover-bg-color: #434B5C;\n",
              "      --hover-fill-color: #FFFFFF;\n",
              "      --disabled-bg-color: #3B4455;\n",
              "      --disabled-fill-color: #666;\n",
              "  }\n",
              "\n",
              "  .colab-df-quickchart {\n",
              "    background-color: var(--bg-color);\n",
              "    border: none;\n",
              "    border-radius: 50%;\n",
              "    cursor: pointer;\n",
              "    display: none;\n",
              "    fill: var(--fill-color);\n",
              "    height: 32px;\n",
              "    padding: 0;\n",
              "    width: 32px;\n",
              "  }\n",
              "\n",
              "  .colab-df-quickchart:hover {\n",
              "    background-color: var(--hover-bg-color);\n",
              "    box-shadow: 0 1px 2px rgba(60, 64, 67, 0.3), 0 1px 3px 1px rgba(60, 64, 67, 0.15);\n",
              "    fill: var(--button-hover-fill-color);\n",
              "  }\n",
              "\n",
              "  .colab-df-quickchart-complete:disabled,\n",
              "  .colab-df-quickchart-complete:disabled:hover {\n",
              "    background-color: var(--disabled-bg-color);\n",
              "    fill: var(--disabled-fill-color);\n",
              "    box-shadow: none;\n",
              "  }\n",
              "\n",
              "  .colab-df-spinner {\n",
              "    border: 2px solid var(--fill-color);\n",
              "    border-color: transparent;\n",
              "    border-bottom-color: var(--fill-color);\n",
              "    animation:\n",
              "      spin 1s steps(1) infinite;\n",
              "  }\n",
              "\n",
              "  @keyframes spin {\n",
              "    0% {\n",
              "      border-color: transparent;\n",
              "      border-bottom-color: var(--fill-color);\n",
              "      border-left-color: var(--fill-color);\n",
              "    }\n",
              "    20% {\n",
              "      border-color: transparent;\n",
              "      border-left-color: var(--fill-color);\n",
              "      border-top-color: var(--fill-color);\n",
              "    }\n",
              "    30% {\n",
              "      border-color: transparent;\n",
              "      border-left-color: var(--fill-color);\n",
              "      border-top-color: var(--fill-color);\n",
              "      border-right-color: var(--fill-color);\n",
              "    }\n",
              "    40% {\n",
              "      border-color: transparent;\n",
              "      border-right-color: var(--fill-color);\n",
              "      border-top-color: var(--fill-color);\n",
              "    }\n",
              "    60% {\n",
              "      border-color: transparent;\n",
              "      border-right-color: var(--fill-color);\n",
              "    }\n",
              "    80% {\n",
              "      border-color: transparent;\n",
              "      border-right-color: var(--fill-color);\n",
              "      border-bottom-color: var(--fill-color);\n",
              "    }\n",
              "    90% {\n",
              "      border-color: transparent;\n",
              "      border-bottom-color: var(--fill-color);\n",
              "    }\n",
              "  }\n",
              "</style>\n",
              "\n",
              "  <script>\n",
              "    async function quickchart(key) {\n",
              "      const quickchartButtonEl =\n",
              "        document.querySelector('#' + key + ' button');\n",
              "      quickchartButtonEl.disabled = true;  // To prevent multiple clicks.\n",
              "      quickchartButtonEl.classList.add('colab-df-spinner');\n",
              "      try {\n",
              "        const charts = await google.colab.kernel.invokeFunction(\n",
              "            'suggestCharts', [key], {});\n",
              "      } catch (error) {\n",
              "        console.error('Error during call to suggestCharts:', error);\n",
              "      }\n",
              "      quickchartButtonEl.classList.remove('colab-df-spinner');\n",
              "      quickchartButtonEl.classList.add('colab-df-quickchart-complete');\n",
              "    }\n",
              "    (() => {\n",
              "      let quickchartButtonEl =\n",
              "        document.querySelector('#df-b4941a85-4dac-4b65-9691-66e2d5f90aa4 button');\n",
              "      quickchartButtonEl.style.display =\n",
              "        google.colab.kernel.accessAllowed ? 'block' : 'none';\n",
              "    })();\n",
              "  </script>\n",
              "</div>\n",
              "    </div>\n",
              "  </div>\n"
            ],
            "text/plain": [
              "                                                      mr  \\\n",
              "31608  name[The Phoenix], food[Indian], customer rati...   \n",
              "22184  name[The Olive Grove], eatType[pub], food[Fast...   \n",
              "7990   name[Cotto], priceRange[high], area[riverside]...   \n",
              "38987  name[Loch Fyne], eatType[restaurant], food[Ita...   \n",
              "18146  name[Alimentum], food[Fast food], priceRange[m...   \n",
              "\n",
              "                                                     ref  \n",
              "31608  Situated on the riverside is The Phoenix. The ...  \n",
              "22184  There is a cheap pub that provides fast food c...  \n",
              "7990   Cotto is a high priced place in the riverside ...  \n",
              "38987  Loch Fyne is an Italian restaurant that is not...  \n",
              "18146  In the riverside are is the moderately priced ...  "
            ]
          },
          "execution_count": 95,
          "metadata": {},
          "output_type": "execute_result"
        }
      ],
      "source": [
        "X_val.sample(5)"
      ]
    },
    {
      "cell_type": "code",
      "execution_count": 77,
      "metadata": {
        "colab": {
          "base_uri": "https://localhost:8080/",
          "height": 35
        },
        "id": "cHZhCnw_q_uK",
        "outputId": "6a653811-7c1e-4c70-db10-a2c3475a018b"
      },
      "outputs": [
        {
          "data": {
            "application/vnd.google.colaboratory.intrinsic+json": {
              "type": "string"
            },
            "text/plain": [
              "'name[Midsummer House], food[French], priceRange[cheap], customer rating[5 out of 5], near[All Bar One]'"
            ]
          },
          "execution_count": 77,
          "metadata": {},
          "output_type": "execute_result"
        }
      ],
      "source": [
        "X_val[\"mr\"][16677]"
      ]
    },
    {
      "cell_type": "code",
      "execution_count": 78,
      "metadata": {
        "colab": {
          "base_uri": "https://localhost:8080/",
          "height": 35
        },
        "id": "Cj2QzKo3og80",
        "outputId": "a9af6085-3d8d-4b44-fddf-997f4ac572d4"
      },
      "outputs": [
        {
          "data": {
            "application/vnd.google.colaboratory.intrinsic+json": {
              "type": "string"
            },
            "text/plain": [
              "'<pad> The Midsummer House is a French restaurant with a 5-star rating. It is near All Bar One.</s>'"
            ]
          },
          "execution_count": 78,
          "metadata": {},
          "output_type": "execute_result"
        }
      ],
      "source": [
        "input_ids = tokenizer.encode(X_val[\"mr\"][16677], return_tensors = \"pt\")\n",
        "\n",
        "input_ids = input_ids.to(device)\n",
        "\n",
        "outputs = model.generate(input_ids, max_new_tokens=100)\n",
        "\n",
        "predicted_text = tokenizer.decode(outputs[0])\n",
        "\n",
        "predicted_text"
      ]
    },
    {
      "cell_type": "code",
      "execution_count": 79,
      "metadata": {
        "colab": {
          "base_uri": "https://localhost:8080/",
          "height": 35
        },
        "id": "9csxazOuowG0",
        "outputId": "5385c32e-cf21-4be6-f553-06f8857aeeb6"
      },
      "outputs": [
        {
          "data": {
            "application/vnd.google.colaboratory.intrinsic+json": {
              "type": "string"
            },
            "text/plain": [
              "'The Midsummer House is a French restaurant with a 5-star rating. It is near All Bar One.'"
            ]
          },
          "execution_count": 79,
          "metadata": {},
          "output_type": "execute_result"
        }
      ],
      "source": [
        "predicted_text = predicted_text.strip(' <>/pads')\n",
        "\n",
        "predicted_text"
      ]
    },
    {
      "cell_type": "code",
      "execution_count": 81,
      "metadata": {
        "colab": {
          "base_uri": "https://localhost:8080/",
          "height": 35
        },
        "id": "AmKisrvYpJA1",
        "outputId": "2bc81e9c-06cd-4bc8-fe72-b87c7ca97a30"
      },
      "outputs": [
        {
          "data": {
            "application/vnd.google.colaboratory.intrinsic+json": {
              "type": "string"
            },
            "text/plain": [
              "'Midsummer House, near to All Bar One in Cambridge, has a low-priced menu of wines, cheeses, soups and breads.'"
            ]
          },
          "execution_count": 81,
          "metadata": {},
          "output_type": "execute_result"
        }
      ],
      "source": [
        "reference_text = X_val[\"ref\"][16677]\n",
        "\n",
        "reference_text"
      ]
    },
    {
      "cell_type": "code",
      "execution_count": 82,
      "metadata": {
        "colab": {
          "base_uri": "https://localhost:8080/"
        },
        "id": "2qDtiqmPpARN",
        "outputId": "35cc17c7-d39b-406e-c39f-a83c4a0fcc9e"
      },
      "outputs": [
        {
          "name": "stdout",
          "output_type": "stream",
          "text": [
            "rouge1:\n",
            "  Precision: 0.3888888888888889\n",
            "  Recall: 0.35\n",
            "  F1 Score: 0.36842105263157887\n",
            "rouge2:\n",
            "  Precision: 0.17647058823529413\n",
            "  Recall: 0.15789473684210525\n",
            "  F1 Score: 0.16666666666666669\n",
            "rougeL:\n",
            "  Precision: 0.3333333333333333\n",
            "  Recall: 0.3\n",
            "  F1 Score: 0.3157894736842105\n"
          ]
        }
      ],
      "source": [
        "rouge_scores = scorer.score(reference_text, predicted_text)\n",
        "\n",
        "for metric, scores in rouge_scores.items():\n",
        "    print(f'{metric}:')\n",
        "    print(f'  Precision: {scores.precision}')\n",
        "    print(f'  Recall: {scores.recall}')\n",
        "    print(f'  F1 Score: {scores.fmeasure}')"
      ]
    },
    {
      "cell_type": "code",
      "execution_count": 90,
      "metadata": {
        "id": "pFjChacPdkwZ"
      },
      "outputs": [],
      "source": [
        "def generate_text_and_compute_score(random_index):\n",
        "\n",
        "  input_ids = tokenizer.encode(X_val[\"mr\"][random_index], return_tensors = \"pt\")\n",
        "  input_ids = input_ids.to(device)\n",
        "  outputs = model.generate(input_ids, max_new_tokens=100)\n",
        "\n",
        "  predicted_text = tokenizer.decode(outputs[0])\n",
        "  predicted_text = predicted_text.strip(' <>/pads')\n",
        "\n",
        "  reference_text = X_val[\"ref\"][random_index]\n",
        "\n",
        "  rouge_scores = scorer.score(reference_text, predicted_text)\n",
        "\n",
        "  print(\"MR: \", X_val[\"mr\"][random_index])\n",
        "  print(\"Reference: \", reference_text)\n",
        "  print(\"Predicted: \", predicted_text)\n",
        "\n",
        "  for metric, scores in rouge_scores.items():\n",
        "      print(f'{metric}:')\n",
        "      print(f'  Precision: {scores.precision}')\n",
        "      print(f'  Recall: {scores.recall}')\n",
        "      print(f'  F1 Score: {scores.fmeasure}')"
      ]
    },
    {
      "cell_type": "code",
      "execution_count": 91,
      "metadata": {
        "colab": {
          "base_uri": "https://localhost:8080/"
        },
        "id": "j6hIy0FBdlMI",
        "outputId": "380fafbd-4764-4b3e-84b2-797f9bad5b38"
      },
      "outputs": [
        {
          "name": "stdout",
          "output_type": "stream",
          "text": [
            "MR:  name[The Golden Curry], food[Indian], customer rating[average], area[city centre], familyFriendly[no], near[Café Rouge]\n",
            "Reference:  The Golden Curry offers Indian food located in the centre of the city near Café Rouge. It is not family friendly and only has an average customer rating.\n",
            "Predicted:  The Golden Curry is a food Indian restaurant near Café Rouge. It is a family friendly restaurant.\n",
            "rouge1:\n",
            "  Precision: 0.7058823529411765\n",
            "  Recall: 0.42857142857142855\n",
            "  F1 Score: 0.5333333333333333\n",
            "rouge2:\n",
            "  Precision: 0.4375\n",
            "  Recall: 0.25925925925925924\n",
            "  F1 Score: 0.3255813953488372\n",
            "rougeL:\n",
            "  Precision: 0.6470588235294118\n",
            "  Recall: 0.39285714285714285\n",
            "  F1 Score: 0.4888888888888888\n"
          ]
        }
      ],
      "source": [
        "generate_text_and_compute_score(10533)"
      ]
    },
    {
      "cell_type": "code",
      "execution_count": 93,
      "metadata": {
        "colab": {
          "base_uri": "https://localhost:8080/"
        },
        "id": "10D2-nW1dmEF",
        "outputId": "21af9433-8a71-4818-882c-c248e0d1ab22"
      },
      "outputs": [
        {
          "name": "stdout",
          "output_type": "stream",
          "text": [
            "MR:  name[The Olive Grove], eatType[pub], food[Fast food], priceRange[moderate], area[riverside], familyFriendly[no]\n",
            "Reference:  The Olive Grove serves Fast food in a pub. Not kid friendly and located in riverside. Priced moderate.\n",
            "Predicted:  The Olive Grove is a family-friendly pub that serves fast food. It is located in the riverside area.\n",
            "rouge1:\n",
            "  Precision: 0.631578947368421\n",
            "  Recall: 0.6666666666666666\n",
            "  F1 Score: 0.6486486486486486\n",
            "rouge2:\n",
            "  Precision: 0.2777777777777778\n",
            "  Recall: 0.29411764705882354\n",
            "  F1 Score: 0.28571428571428575\n",
            "rougeL:\n",
            "  Precision: 0.47368421052631576\n",
            "  Recall: 0.5\n",
            "  F1 Score: 0.4864864864864865\n"
          ]
        }
      ],
      "source": [
        "generate_text_and_compute_score(37100)"
      ]
    },
    {
      "cell_type": "code",
      "execution_count": 94,
      "metadata": {
        "colab": {
          "base_uri": "https://localhost:8080/"
        },
        "id": "zZMnk0qOdmSr",
        "outputId": "0b1d37ea-22e1-4fd1-ef88-ce8f01fe01b7"
      },
      "outputs": [
        {
          "name": "stdout",
          "output_type": "stream",
          "text": [
            "MR:  name[The Cambridge Blue], eatType[restaurant], food[English], customer rating[1 out of 5]\n",
            "Reference:  The Cambridge Blue is a low rated English food restaurant.\n",
            "Predicted:  The Cambridge Blue is a restaurant that is rated 1 out of 5 by customer. It is based on the customer rating.\n",
            "rouge1:\n",
            "  Precision: 0.3181818181818182\n",
            "  Recall: 0.7\n",
            "  F1 Score: 0.4375\n",
            "rouge2:\n",
            "  Precision: 0.19047619047619047\n",
            "  Recall: 0.4444444444444444\n",
            "  F1 Score: 0.26666666666666666\n",
            "rougeL:\n",
            "  Precision: 0.2727272727272727\n",
            "  Recall: 0.6\n",
            "  F1 Score: 0.37499999999999994\n"
          ]
        }
      ],
      "source": [
        "generate_text_and_compute_score(41105)"
      ]
    },
    {
      "cell_type": "code",
      "execution_count": 96,
      "metadata": {
        "colab": {
          "base_uri": "https://localhost:8080/"
        },
        "id": "wipBM5R9tBCM",
        "outputId": "4dab7311-1bb6-41f2-ab61-f6f0d33a96d4"
      },
      "outputs": [
        {
          "name": "stdout",
          "output_type": "stream",
          "text": [
            "MR:  name[Cotto], priceRange[high], area[riverside], near[All Bar One]\n",
            "Reference:  Cotto is a high priced place in the riverside area, near the All Bar One.\n",
            "Predicted:  Cotto is a high price-rive, located in the riverside, near All Bar One.\n",
            "rouge1:\n",
            "  Precision: 0.8571428571428571\n",
            "  Recall: 0.8\n",
            "  F1 Score: 0.8275862068965518\n",
            "rouge2:\n",
            "  Precision: 0.6153846153846154\n",
            "  Recall: 0.5714285714285714\n",
            "  F1 Score: 0.5925925925925927\n",
            "rougeL:\n",
            "  Precision: 0.8571428571428571\n",
            "  Recall: 0.8\n",
            "  F1 Score: 0.8275862068965518\n"
          ]
        }
      ],
      "source": [
        "generate_text_and_compute_score(7990)"
      ]
    }
  ],
  "metadata": {
    "accelerator": "GPU",
    "colab": {
      "gpuType": "T4",
      "provenance": []
    },
    "kernelspec": {
      "display_name": "Python 3",
      "name": "python3"
    },
    "language_info": {
      "codemirror_mode": {
        "name": "ipython",
        "version": 3
      },
      "file_extension": ".py",
      "mimetype": "text/x-python",
      "name": "python",
      "nbconvert_exporter": "python",
      "pygments_lexer": "ipython3",
      "version": "3.8.5"
    }
  },
  "nbformat": 4,
  "nbformat_minor": 0
}
