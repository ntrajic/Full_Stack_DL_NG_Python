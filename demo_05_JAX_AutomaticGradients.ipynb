{
  "cells": [
    {
      "cell_type": "markdown",
      "metadata": {
        "id": "WRr20om83GpH"
      },
      "source": [
        "Importing required libraries and modules"
      ],
      "id": "WRr20om83GpH"
    },
    {
      "cell_type": "code",
      "execution_count": 37,
      "metadata": {
        "_cell_guid": "b1076dfc-b9ad-4769-8c92-a6c4dae69d19",
        "_uuid": "8f2839f25d086af736a60e9eeb907d3b93b6e0e5",
        "execution": {
          "iopub.execute_input": "2021-11-05T13:18:20.131319Z",
          "iopub.status.busy": "2021-11-05T13:18:20.130757Z",
          "iopub.status.idle": "2021-11-05T13:18:21.752698Z",
          "shell.execute_reply": "2021-11-05T13:18:21.753211Z",
          "shell.execute_reply.started": "2021-11-05T12:45:33.586596Z"
        },
        "id": "296d6972",
        "papermill": {
          "duration": 1.651121,
          "end_time": "2021-11-05T13:18:21.753568",
          "exception": false,
          "start_time": "2021-11-05T13:18:20.102447",
          "status": "completed"
        },
        "tags": []
      },
      "outputs": [],
      "source": [
        "import jax\n",
        "import numpy as np\n",
        "import jax.numpy as jnp\n",
        "\n",
        "from jax import make_jaxpr\n",
        "from jax import grad, value_and_grad\n",
        "\n",
        "import matplotlib.pyplot as plt"
      ],
      "id": "296d6972"
    },
    {
      "cell_type": "markdown",
      "metadata": {
        "id": "NWMeDIl43M8_"
      },
      "source": [
        "Defining a linear function and passing values to obtain returned value"
      ],
      "id": "NWMeDIl43M8_"
    },
    {
      "cell_type": "code",
      "source": [
        "def linear_func(x, w, b):\n",
        "    y = w * x + b\n",
        "    return y"
      ],
      "metadata": {
        "id": "jgfeFIaiXWuX"
      },
      "id": "jgfeFIaiXWuX",
      "execution_count": 38,
      "outputs": []
    },
    {
      "cell_type": "code",
      "execution_count": 39,
      "metadata": {
        "colab": {
          "base_uri": "https://localhost:8080/"
        },
        "id": "e_ZuKp_SjbL7",
        "outputId": "a09e4f52-2de8-4c63-90e3-435673fb822e"
      },
      "outputs": [
        {
          "output_type": "execute_result",
          "data": {
            "text/plain": [
              "14.0"
            ]
          },
          "metadata": {},
          "execution_count": 39
        }
      ],
      "source": [
        "x = 4.0\n",
        "w = 3.0\n",
        "b = 2.0\n",
        "\n",
        "linear_func(x, w, b)"
      ],
      "id": "e_ZuKp_SjbL7"
    },
    {
      "cell_type": "markdown",
      "metadata": {
        "id": "729iMHPQsIUZ"
      },
      "source": [
        "The `grad` function in JAX is used for computing the gradients. As we know that the basic idea behind JAX is to work with function compositions,`grad` also takes a callable as input and returns a callable. So, whenever we want to do the computation of the gradients, we need to pass a callable to `grad` first. Let's take an example to make it more clear\n",
        "\n",
        "The grad() function can let us find out the differentiation of function with respect to a parameter which accepts python list, dictionary, and tuple as well . It'll differentiate input function with respect to all jax arrays given through python list, dict, or tuple."
      ],
      "id": "729iMHPQsIUZ"
    },
    {
      "cell_type": "code",
      "execution_count": 29,
      "metadata": {
        "colab": {
          "base_uri": "https://localhost:8080/"
        },
        "id": "eF45cFQmlVrV",
        "outputId": "8935014f-e8ec-4771-c66e-92357f990a28"
      },
      "outputs": [
        {
          "output_type": "execute_result",
          "data": {
            "text/plain": [
              "DeviceArray(3., dtype=float32, weak_type=True)"
            ]
          },
          "metadata": {},
          "execution_count": 29
        }
      ],
      "source": [
        "dx = grad(linear_func)(x, w, b)\n",
        "\n",
        "dx"
      ],
      "id": "eF45cFQmlVrV"
    },
    {
      "cell_type": "code",
      "execution_count": 30,
      "metadata": {
        "colab": {
          "base_uri": "https://localhost:8080/"
        },
        "id": "Qdu0Nzk6ARKs",
        "outputId": "a4ebd700-1bcb-4123-f0cf-f894a2aa1752"
      },
      "outputs": [
        {
          "output_type": "execute_result",
          "data": {
            "text/plain": [
              "DeviceArray(4., dtype=float32, weak_type=True)"
            ]
          },
          "metadata": {},
          "execution_count": 30
        }
      ],
      "source": [
        "dw = grad(linear_func, argnums = 1)(x, w, b)\n",
        "\n",
        "dw"
      ],
      "id": "Qdu0Nzk6ARKs"
    },
    {
      "cell_type": "markdown",
      "metadata": {
        "id": "HVQpSZorXjPR"
      },
      "source": [
        "As we can combine function transforms in JAX, we can make `jaxprs` from the grad function to understand what is going on behind the scene. Notice that the argument other than the one wrt which we are differentiating is a constant with a value of `1`."
      ],
      "id": "HVQpSZorXjPR"
    },
    {
      "cell_type": "code",
      "execution_count": 31,
      "metadata": {
        "colab": {
          "base_uri": "https://localhost:8080/"
        },
        "id": "zFZGFGhG-0qK",
        "outputId": "f02e8832-ba18-421f-dd53-7e1a53a5406c"
      },
      "outputs": [
        {
          "output_type": "execute_result",
          "data": {
            "text/plain": [
              "{ lambda ; a:f32[] b:f32[] c:f32[]. let\n",
              "    d:f32[] = mul b a\n",
              "    _:f32[] = add d c\n",
              "    e:f32[] = mul b 1.0\n",
              "  in (e,) }"
            ]
          },
          "metadata": {},
          "execution_count": 31
        }
      ],
      "source": [
        "make_jaxpr(grad(linear_func, argnums = 0))(x, w, b)"
      ],
      "id": "zFZGFGhG-0qK"
    },
    {
      "cell_type": "code",
      "execution_count": 32,
      "metadata": {
        "colab": {
          "base_uri": "https://localhost:8080/"
        },
        "id": "8qcFD0on_Wjg",
        "outputId": "9cc656aa-0f78-48b7-9e60-9bf34cf68c11"
      },
      "outputs": [
        {
          "output_type": "execute_result",
          "data": {
            "text/plain": [
              "{ lambda ; a:f32[] b:f32[] c:f32[]. let\n",
              "    d:f32[] = mul b a\n",
              "    _:f32[] = add d c\n",
              "    e:f32[] = mul 1.0 a\n",
              "  in (e,) }"
            ]
          },
          "metadata": {},
          "execution_count": 32
        }
      ],
      "source": [
        "make_jaxpr(grad(linear_func, argnums = 1))(x, w, b)"
      ],
      "id": "8qcFD0on_Wjg"
    },
    {
      "cell_type": "markdown",
      "metadata": {
        "id": "EwLn9gmzJrSV"
      },
      "source": [
        "Obtaining gradients in one go"
      ],
      "id": "EwLn9gmzJrSV"
    },
    {
      "cell_type": "code",
      "execution_count": 34,
      "metadata": {
        "colab": {
          "base_uri": "https://localhost:8080/"
        },
        "id": "cqviuSG_mGdg",
        "outputId": "150aa12d-04a5-44ee-bbf2-af1f621ec36f"
      },
      "outputs": [
        {
          "output_type": "execute_result",
          "data": {
            "text/plain": [
              "(DeviceArray(3., dtype=float32, weak_type=True),\n",
              " DeviceArray(4., dtype=float32, weak_type=True),\n",
              " DeviceArray(1., dtype=float32, weak_type=True))"
            ]
          },
          "metadata": {},
          "execution_count": 34
        }
      ],
      "source": [
        "dx, dw, db = jax.grad(linear_func, argnums = (0, 1, 2))(x, w, b)\n",
        "\n",
        "dx, dw, db"
      ],
      "id": "cqviuSG_mGdg"
    },
    {
      "cell_type": "markdown",
      "metadata": {
        "id": "F9VDHMOm4Myl"
      },
      "source": [
        "Another convenient function is value_and_grad for efficiently computing both a function’s value as well as its gradient’s value."
      ],
      "id": "F9VDHMOm4Myl"
    },
    {
      "cell_type": "code",
      "execution_count": 40,
      "metadata": {
        "colab": {
          "base_uri": "https://localhost:8080/"
        },
        "id": "jU9ntYmXmfE-",
        "outputId": "5e93a540-fabe-4ee2-bedd-089d839051e3"
      },
      "outputs": [
        {
          "output_type": "execute_result",
          "data": {
            "text/plain": [
              "(DeviceArray(14., dtype=float32, weak_type=True),\n",
              " DeviceArray(3., dtype=float32, weak_type=True))"
            ]
          },
          "metadata": {},
          "execution_count": 40
        }
      ],
      "source": [
        "func_value, dx = value_and_grad(linear_func)(x, w, b)\n",
        "\n",
        "func_value, dx"
      ],
      "id": "jU9ntYmXmfE-"
    },
    {
      "cell_type": "markdown",
      "source": [
        "# Higher Order Gradients\n",
        "\n",
        "`grad` function takes a callable as an input and returns another function. We can compose the function returned by the transformation with `grad` again and again to compute higher-order derivates of any order. Let's take an example to see it in action."
      ],
      "metadata": {
        "id": "AokQhPVAgsoB"
      },
      "id": "AokQhPVAgsoB"
    },
    {
      "cell_type": "code",
      "source": [
        "def plot(fn, l=-10, r=10, n=1000):\n",
        "\n",
        "    x = np.linspace(l, r, num=n)\n",
        "\n",
        "    y = fn(x)\n",
        "\n",
        "    plt.plot(x, y); \n",
        "    plt.show()"
      ],
      "metadata": {
        "id": "MFgXdSg9YfbD"
      },
      "id": "MFgXdSg9YfbD",
      "execution_count": 51,
      "outputs": []
    },
    {
      "cell_type": "code",
      "source": [
        "def random_polynomial(x):\n",
        "  return x**3 + x**2 + x + 1"
      ],
      "metadata": {
        "id": "sLbNc-EnYbQr"
      },
      "id": "sLbNc-EnYbQr",
      "execution_count": 52,
      "outputs": []
    },
    {
      "cell_type": "code",
      "source": [
        "plot(random_polynomial)"
      ],
      "metadata": {
        "colab": {
          "base_uri": "https://localhost:8080/",
          "height": 265
        },
        "id": "2zJu1LWGY5Ov",
        "outputId": "5139d9ea-2067-46db-d443-a8f21281dbe8"
      },
      "id": "2zJu1LWGY5Ov",
      "execution_count": 53,
      "outputs": [
        {
          "output_type": "display_data",
          "data": {
            "text/plain": [
              "<Figure size 432x288 with 1 Axes>"
            ],
            "image/png": "[encoded data removed]"
          },
          "metadata": {
            "needs_background": "light"
          }
        }
      ]
    },
    {
      "cell_type": "code",
      "source": [
        "def plot_grad(fn, l=-10, r=10, n=1000):\n",
        "\n",
        "    x_array = np.linspace(l, r, num=n)\n",
        "\n",
        "    y_array = []\n",
        "\n",
        "    for x  in x_array:\n",
        "      y_array.append(fn(x))\n",
        "\n",
        "    plt.plot(x_array, y_array); \n",
        "    plt.show()"
      ],
      "metadata": {
        "id": "BSJM8r6RfW_3"
      },
      "id": "BSJM8r6RfW_3",
      "execution_count": 47,
      "outputs": []
    },
    {
      "cell_type": "code",
      "source": [
        "# 3x**2 + 2x + 1\n",
        "dx_fn = grad(random_polynomial)\n",
        "\n",
        "plot_grad(dx_fn)"
      ],
      "metadata": {
        "colab": {
          "base_uri": "https://localhost:8080/",
          "height": 265
        },
        "id": "bX6-YJlVfpBh",
        "outputId": "27edd010-8fd5-483f-c8dc-402d6e62148e"
      },
      "id": "bX6-YJlVfpBh",
      "execution_count": 48,
      "outputs": [
        {
          "output_type": "display_data",
          "data": {
            "text/plain": [
              "<Figure size 432x288 with 1 Axes>"
            ],
            "image/png": "[encoded data removed]"
          },
          "metadata": {
            "needs_background": "light"
          }
        }
      ]
    },
    {
      "cell_type": "code",
      "source": [
        "# 6x + 2\n",
        "d2x_fn = grad(grad(random_polynomial))\n",
        "\n",
        "plot_grad(d2x_fn)"
      ],
      "metadata": {
        "colab": {
          "base_uri": "https://localhost:8080/",
          "height": 265
        },
        "id": "BXIRf2RSf2fL",
        "outputId": "1166e6d9-7e22-4254-8cc2-c8027aab8526"
      },
      "id": "BXIRf2RSf2fL",
      "execution_count": 49,
      "outputs": [
        {
          "output_type": "display_data",
          "data": {
            "text/plain": [
              "<Figure size 432x288 with 1 Axes>"
            ],
            "image/png": "[encoded data removed]"
          },
          "metadata": {
            "needs_background": "light"
          }
        }
      ]
    },
    {
      "cell_type": "code",
      "source": [
        "# 6\n",
        "d3x_fn = grad(grad(grad(random_polynomial)))\n",
        "\n",
        "plot_grad(d3x_fn)"
      ],
      "metadata": {
        "colab": {
          "base_uri": "https://localhost:8080/",
          "height": 265
        },
        "id": "geH37fwugFIk",
        "outputId": "bb6b7ff5-c2c9-4910-960e-bbdc0e49db3f"
      },
      "id": "geH37fwugFIk",
      "execution_count": 50,
      "outputs": [
        {
          "output_type": "display_data",
          "data": {
            "text/plain": [
              "<Figure size 432x288 with 1 Axes>"
            ],
            "image/png": "[encoded data removed]"
          },
          "metadata": {
            "needs_background": "light"
          }
        }
      ]
    },
    {
      "cell_type": "code",
      "source": [
        "f = lambda x: abs(x)\n",
        "\n",
        "plot(f)"
      ],
      "metadata": {
        "colab": {
          "base_uri": "https://localhost:8080/",
          "height": 265
        },
        "id": "FVIexyL-g-hm",
        "outputId": "b0930d1d-35be-4aeb-ab4a-b4b0840028d2"
      },
      "id": "FVIexyL-g-hm",
      "execution_count": 54,
      "outputs": [
        {
          "output_type": "display_data",
          "data": {
            "text/plain": [
              "<Figure size 432x288 with 1 Axes>"
            ],
            "image/png": "[encoded data removed]"
          },
          "metadata": {
            "needs_background": "light"
          }
        }
      ]
    },
    {
      "cell_type": "code",
      "source": [
        "f(1), f(-1)"
      ],
      "metadata": {
        "colab": {
          "base_uri": "https://localhost:8080/"
        },
        "id": "RxgUB0AYg-wt",
        "outputId": "58c3f4a3-fc1f-45df-e2eb-e11156c431d8"
      },
      "id": "RxgUB0AYg-wt",
      "execution_count": 59,
      "outputs": [
        {
          "output_type": "execute_result",
          "data": {
            "text/plain": [
              "(1, 1)"
            ]
          },
          "metadata": {},
          "execution_count": 59
        }
      ]
    },
    {
      "cell_type": "code",
      "source": [
        "dfdx = grad(f)\n",
        "\n",
        "plot_grad(dfdx)"
      ],
      "metadata": {
        "colab": {
          "base_uri": "https://localhost:8080/",
          "height": 265
        },
        "id": "9GaYRBKvjc2i",
        "outputId": "ec94f1ea-2959-4ace-a697-7104b9afe36d"
      },
      "id": "9GaYRBKvjc2i",
      "execution_count": 63,
      "outputs": [
        {
          "output_type": "display_data",
          "data": {
            "text/plain": [
              "<Figure size 432x288 with 1 Axes>"
            ],
            "image/png": "[encoded data removed]"
          },
          "metadata": {
            "needs_background": "light"
          }
        }
      ]
    },
    {
      "cell_type": "code",
      "source": [
        "dfdx(0.000001), dfdx(-0.000001)"
      ],
      "metadata": {
        "colab": {
          "base_uri": "https://localhost:8080/"
        },
        "id": "Rks0M-2Xg--N",
        "outputId": "0492b34d-af95-478a-bc07-4c863e852165"
      },
      "id": "Rks0M-2Xg--N",
      "execution_count": 64,
      "outputs": [
        {
          "output_type": "execute_result",
          "data": {
            "text/plain": [
              "(DeviceArray(1., dtype=float32, weak_type=True),\n",
              " DeviceArray(-1., dtype=float32, weak_type=True))"
            ]
          },
          "metadata": {},
          "execution_count": 64
        }
      ]
    },
    {
      "cell_type": "code",
      "source": [
        "dfdx(0.)"
      ],
      "metadata": {
        "colab": {
          "base_uri": "https://localhost:8080/"
        },
        "id": "5FfBcfNhg_Wc",
        "outputId": "14a6cefa-c268-476c-ff8d-afc1a854e798"
      },
      "id": "5FfBcfNhg_Wc",
      "execution_count": 65,
      "outputs": [
        {
          "output_type": "execute_result",
          "data": {
            "text/plain": [
              "DeviceArray(1., dtype=float32, weak_type=True)"
            ]
          },
          "metadata": {},
          "execution_count": 65
        }
      ]
    },
    {
      "cell_type": "markdown",
      "source": [
        "# Gradients using `grad`\n",
        "\n",
        "The `grad` function can compute gradients only on functions that operate on vectors to produce scalers"
      ],
      "metadata": {
        "id": "KpPZv9CqkeOz"
      },
      "id": "KpPZv9CqkeOz"
    },
    {
      "cell_type": "code",
      "source": [
        "def f(x):\n",
        "  return jnp.sum(x**2)\n",
        "\n",
        "dfdx = grad(f)"
      ],
      "metadata": {
        "id": "ECDPJjoMkS1A"
      },
      "id": "ECDPJjoMkS1A",
      "execution_count": 73,
      "outputs": []
    },
    {
      "cell_type": "code",
      "source": [
        "dfdx(4.)"
      ],
      "metadata": {
        "colab": {
          "base_uri": "https://localhost:8080/"
        },
        "id": "nRFg8zR1kceJ",
        "outputId": "32b7b710-cb01-49c8-e951-20475fb2525b"
      },
      "id": "nRFg8zR1kceJ",
      "execution_count": 76,
      "outputs": [
        {
          "output_type": "execute_result",
          "data": {
            "text/plain": [
              "DeviceArray(8., dtype=float32, weak_type=True)"
            ]
          },
          "metadata": {},
          "execution_count": 76
        }
      ]
    },
    {
      "cell_type": "code",
      "source": [
        "dfdx(jnp.array([2., 3., 4.]))"
      ],
      "metadata": {
        "colab": {
          "base_uri": "https://localhost:8080/"
        },
        "id": "jwvRi2_bk_pd",
        "outputId": "11d3480c-a8ba-4066-bcba-a36f1df3b064"
      },
      "id": "jwvRi2_bk_pd",
      "execution_count": 78,
      "outputs": [
        {
          "output_type": "execute_result",
          "data": {
            "text/plain": [
              "DeviceArray([4., 6., 8.], dtype=float32)"
            ]
          },
          "metadata": {},
          "execution_count": 78
        }
      ]
    },
    {
      "cell_type": "markdown",
      "metadata": {
        "id": "--1ijSTQ9TMQ"
      },
      "source": [
        "# Stopping Gradients computation\n",
        "\n",
        "Sometimes we do not want the gradients to flow through some of the variables involved in a specific computation. In that case, we need to tell JAX explicitly that we don't want the gradients to flow through the specified set of variables."
      ],
      "id": "--1ijSTQ9TMQ"
    },
    {
      "cell_type": "code",
      "source": [
        "x, w, b"
      ],
      "metadata": {
        "colab": {
          "base_uri": "https://localhost:8080/"
        },
        "id": "FomfdAgUjxO0",
        "outputId": "4a1a377f-d818-475f-82de-a32533308486"
      },
      "id": "FomfdAgUjxO0",
      "execution_count": 66,
      "outputs": [
        {
          "output_type": "execute_result",
          "data": {
            "text/plain": [
              "(4.0, 3.0, 2.0)"
            ]
          },
          "metadata": {},
          "execution_count": 66
        }
      ]
    },
    {
      "cell_type": "code",
      "execution_count": 67,
      "metadata": {
        "id": "_lXfAtRC9Uth"
      },
      "outputs": [],
      "source": [
        "def linear_func_stop_grad(x, w, b):\n",
        "\n",
        "    y = w * jax.lax.stop_gradient(x) + b\n",
        "\n",
        "    return y"
      ],
      "id": "_lXfAtRC9Uth"
    },
    {
      "cell_type": "code",
      "execution_count": 68,
      "metadata": {
        "colab": {
          "base_uri": "https://localhost:8080/"
        },
        "id": "ZEDzTTU69buK",
        "outputId": "6225b7c3-10a5-4994-d278-a95f288a927c"
      },
      "outputs": [
        {
          "output_type": "execute_result",
          "data": {
            "text/plain": [
              "DeviceArray(0., dtype=float32, weak_type=True)"
            ]
          },
          "metadata": {},
          "execution_count": 68
        }
      ],
      "source": [
        "dx = grad(linear_func_stop_grad, argnums = 0)(x, w, b)\n",
        "\n",
        "dx"
      ],
      "id": "ZEDzTTU69buK"
    },
    {
      "cell_type": "markdown",
      "source": [
        "# Jacobian and Hessian for Vector-Valued Functions\n",
        "For vector-valued functions which map vectors to vectors, the analogue to the gradient is the Jacobian. With the function transformations jacfwd() and jacrev(), corresponding to forward mode differentiation and reverse mode differentiation."
      ],
      "metadata": {
        "id": "dUk-lFPimYeR"
      },
      "id": "dUk-lFPimYeR"
    },
    {
      "cell_type": "code",
      "source": [
        "from jax import jacfwd\n",
        "\n",
        "def mapping(v):\n",
        " \n",
        "  x = v[0]\n",
        "  y = v[1]\n",
        "  z = v[2]\n",
        "  return jnp.array([x*y, y*z])"
      ],
      "metadata": {
        "id": "pjzcYRPJmQ0A"
      },
      "id": "pjzcYRPJmQ0A",
      "execution_count": 79,
      "outputs": []
    },
    {
      "cell_type": "code",
      "source": [
        "# 3 inputs, 2 outputs\n",
        "\n",
        "# [d/dx x*y , d/dy x*y, d/dz x*y]\n",
        "# [d/dx y*z , d/dy y*z, d/dz y*z]\n",
        "\n",
        "# [y, x, 0]\n",
        "# [0, z, y]\n",
        "\n",
        "f = jacfwd(mapping)\n",
        "\n",
        "print(f(jnp.array([2., 3., 4.])))"
      ],
      "metadata": {
        "colab": {
          "base_uri": "https://localhost:8080/"
        },
        "id": "TxVJQXgzmRcB",
        "outputId": "16b0d9f0-60fb-4f30-c67b-7a6e15e01bb0"
      },
      "id": "TxVJQXgzmRcB",
      "execution_count": 84,
      "outputs": [
        {
          "output_type": "stream",
          "name": "stdout",
          "text": [
            "[[3. 2. 0.]\n",
            " [0. 4. 3.]]\n"
          ]
        }
      ]
    },
    {
      "cell_type": "markdown",
      "source": [
        "The Hessian matrix or Hessian is a square matrix of second-order partial derivatives of a scalar-valued function, or scalar field."
      ],
      "metadata": {
        "id": "MQR0Cs8romq5"
      },
      "id": "MQR0Cs8romq5"
    },
    {
      "cell_type": "code",
      "source": [
        "def f(x):\n",
        "  return jnp.dot(x, x)\n",
        "\n",
        "def hessian(f):\n",
        "  return jacfwd(grad(f))\n",
        "\n",
        "hessian(f)(jnp.array([1., 2., 3.]))"
      ],
      "metadata": {
        "colab": {
          "base_uri": "https://localhost:8080/"
        },
        "id": "htsFuk0emSJ5",
        "outputId": "27043386-da07-402f-fc06-9b1799246c16"
      },
      "id": "htsFuk0emSJ5",
      "execution_count": 83,
      "outputs": [
        {
          "output_type": "execute_result",
          "data": {
            "text/plain": [
              "DeviceArray([[2., 0., 0.],\n",
              "             [0., 2., 0.],\n",
              "             [0., 0., 2.]], dtype=float32)"
            ]
          },
          "metadata": {},
          "execution_count": 83
        }
      ]
    },
    {
      "cell_type": "code",
      "source": [
        ""
      ],
      "metadata": {
        "id": "b2MCOOzRmS5Z"
      },
      "id": "b2MCOOzRmS5Z",
      "execution_count": 78,
      "outputs": []
    }
  ],
  "metadata": {
    "colab": {
      "collapsed_sections": [],
      "name": "demo_05_AutomaticGradients.ipynb",
      "provenance": []
    },
    "kernelspec": {
      "display_name": "Python 3",
      "language": "python",
      "name": "python3"
    },
    "language_info": {
      "codemirror_mode": {
        "name": "ipython",
        "version": 3
      },
      "file_extension": ".py",
      "mimetype": "text/x-python",
      "name": "python",
      "nbconvert_exporter": "python",
      "pygments_lexer": "ipython3",
      "version": "3.8.5"
    },
    "papermill": {
      "default_parameters": {},
      "duration": 15.952425,
      "end_time": "2021-11-05T13:18:28.208164",
      "environment_variables": {},
      "exception": null,
      "input_path": "__notebook__.ipynb",
      "output_path": "__notebook__.ipynb",
      "parameters": {},
      "start_time": "2021-11-05T13:18:12.255739",
      "version": "2.3.3"
    }
  },
  "nbformat": 4,
  "nbformat_minor": 5
}