{
  "cells": [
    {
      "cell_type": "markdown",
      "source": [
        "## TODO Recording:\n",
        "\n",
        "- First go to HuggingFace\n",
        "- Under \"Models\" search for \"T5 small\" and show the model card page\n",
        "- Go to Colab and log in (cloud.user@)\n",
        "- Import this notebook from local machine\n",
        "- Go to runtime and show that we are using the TPU\n",
        "- After running pip install of libraries, please restart the kernel"
      ],
      "metadata": {
        "id": "G5Vq_BXB9bEr"
      }
    },
    {
      "cell_type": "markdown",
      "metadata": {
        "id": "xrsDZMB0HiDb"
      },
      "source": [
        "Installing required huggingface libraries/modules"
      ]
    },
    {
      "cell_type": "code",
      "source": [
        "pip install transformers datasets evaluate rouge_score accelerate"
      ],
      "metadata": {
        "id": "t8B09G1QHpjY",
        "outputId": "5e779c04-5345-48ec-db97-95035abb53b3",
        "colab": {
          "base_uri": "https://localhost:8080/"
        }
      },
      "execution_count": null,
      "outputs": [
        {
          "output_type": "stream",
          "name": "stdout",
          "text": [
            "Requirement already satisfied: transformers in /usr/local/lib/python3.10/dist-packages (4.31.0)\n",
            "Requirement already satisfied: datasets in /usr/local/lib/python3.10/dist-packages (2.14.3)\n",
            "Requirement already satisfied: evaluate in /usr/local/lib/python3.10/dist-packages (0.4.0)\n",
            "Requirement already satisfied: rouge_score in /usr/local/lib/python3.10/dist-packages (0.1.2)\n",
            "Requirement already satisfied: accelerate in /usr/local/lib/python3.10/dist-packages (0.21.0)\n",
            "Requirement already satisfied: filelock in /usr/local/lib/python3.10/dist-packages (from transformers) (3.12.2)\n",
            "Requirement already satisfied: huggingface-hub<1.0,>=0.14.1 in /usr/local/lib/python3.10/dist-packages (from transformers) (0.16.4)\n",
            "Requirement already satisfied: numpy>=1.17 in /usr/local/lib/python3.10/dist-packages (from transformers) (1.22.4)\n",
            "Requirement already satisfied: packaging>=20.0 in /usr/local/lib/python3.10/dist-packages (from transformers) (23.1)\n",
            "Requirement already satisfied: pyyaml>=5.1 in /usr/local/lib/python3.10/dist-packages (from transformers) (6.0.1)\n",
            "Requirement already satisfied: regex!=2019.12.17 in /usr/local/lib/python3.10/dist-packages (from transformers) (2022.10.31)\n",
            "Requirement already satisfied: requests in /usr/local/lib/python3.10/dist-packages (from transformers) (2.27.1)\n",
            "Requirement already satisfied: tokenizers!=0.11.3,<0.14,>=0.11.1 in /usr/local/lib/python3.10/dist-packages (from transformers) (0.13.3)\n",
            "Requirement already satisfied: safetensors>=0.3.1 in /usr/local/lib/python3.10/dist-packages (from transformers) (0.3.1)\n",
            "Requirement already satisfied: tqdm>=4.27 in /usr/local/lib/python3.10/dist-packages (from transformers) (4.65.0)\n",
            "Requirement already satisfied: pyarrow>=8.0.0 in /usr/local/lib/python3.10/dist-packages (from datasets) (9.0.0)\n",
            "Requirement already satisfied: dill<0.3.8,>=0.3.0 in /usr/local/lib/python3.10/dist-packages (from datasets) (0.3.7)\n",
            "Requirement already satisfied: pandas in /usr/local/lib/python3.10/dist-packages (from datasets) (1.5.3)\n",
            "Requirement already satisfied: xxhash in /usr/local/lib/python3.10/dist-packages (from datasets) (3.3.0)\n",
            "Requirement already satisfied: multiprocess in /usr/local/lib/python3.10/dist-packages (from datasets) (0.70.15)\n",
            "Requirement already satisfied: fsspec[http]>=2021.11.1 in /usr/local/lib/python3.10/dist-packages (from datasets) (2023.6.0)\n",
            "Requirement already satisfied: aiohttp in /usr/local/lib/python3.10/dist-packages (from datasets) (3.8.5)\n",
            "Requirement already satisfied: responses<0.19 in /usr/local/lib/python3.10/dist-packages (from evaluate) (0.18.0)\n",
            "Requirement already satisfied: absl-py in /usr/local/lib/python3.10/dist-packages (from rouge_score) (1.4.0)\n",
            "Requirement already satisfied: nltk in /usr/local/lib/python3.10/dist-packages (from rouge_score) (3.8.1)\n",
            "Requirement already satisfied: six>=1.14.0 in /usr/local/lib/python3.10/dist-packages (from rouge_score) (1.16.0)\n",
            "Requirement already satisfied: psutil in /usr/local/lib/python3.10/dist-packages (from accelerate) (5.9.5)\n",
            "Requirement already satisfied: torch>=1.10.0 in /usr/local/lib/python3.10/dist-packages (from accelerate) (2.0.1+cu118)\n",
            "Requirement already satisfied: attrs>=17.3.0 in /usr/local/lib/python3.10/dist-packages (from aiohttp->datasets) (23.1.0)\n",
            "Requirement already satisfied: charset-normalizer<4.0,>=2.0 in /usr/local/lib/python3.10/dist-packages (from aiohttp->datasets) (2.0.12)\n",
            "Requirement already satisfied: multidict<7.0,>=4.5 in /usr/local/lib/python3.10/dist-packages (from aiohttp->datasets) (6.0.4)\n",
            "Requirement already satisfied: async-timeout<5.0,>=4.0.0a3 in /usr/local/lib/python3.10/dist-packages (from aiohttp->datasets) (4.0.2)\n",
            "Requirement already satisfied: yarl<2.0,>=1.0 in /usr/local/lib/python3.10/dist-packages (from aiohttp->datasets) (1.9.2)\n",
            "Requirement already satisfied: frozenlist>=1.1.1 in /usr/local/lib/python3.10/dist-packages (from aiohttp->datasets) (1.4.0)\n",
            "Requirement already satisfied: aiosignal>=1.1.2 in /usr/local/lib/python3.10/dist-packages (from aiohttp->datasets) (1.3.1)\n",
            "Requirement already satisfied: typing-extensions>=3.7.4.3 in /usr/local/lib/python3.10/dist-packages (from huggingface-hub<1.0,>=0.14.1->transformers) (4.7.1)\n",
            "Requirement already satisfied: urllib3<1.27,>=1.21.1 in /usr/local/lib/python3.10/dist-packages (from requests->transformers) (1.26.16)\n",
            "Requirement already satisfied: certifi>=2017.4.17 in /usr/local/lib/python3.10/dist-packages (from requests->transformers) (2023.7.22)\n",
            "Requirement already satisfied: idna<4,>=2.5 in /usr/local/lib/python3.10/dist-packages (from requests->transformers) (3.4)\n",
            "Requirement already satisfied: sympy in /usr/local/lib/python3.10/dist-packages (from torch>=1.10.0->accelerate) (1.11.1)\n",
            "Requirement already satisfied: networkx in /usr/local/lib/python3.10/dist-packages (from torch>=1.10.0->accelerate) (3.1)\n",
            "Requirement already satisfied: jinja2 in /usr/local/lib/python3.10/dist-packages (from torch>=1.10.0->accelerate) (3.1.2)\n",
            "Requirement already satisfied: triton==2.0.0 in /usr/local/lib/python3.10/dist-packages (from torch>=1.10.0->accelerate) (2.0.0)\n",
            "Requirement already satisfied: cmake in /usr/local/lib/python3.10/dist-packages (from triton==2.0.0->torch>=1.10.0->accelerate) (3.25.2)\n",
            "Requirement already satisfied: lit in /usr/local/lib/python3.10/dist-packages (from triton==2.0.0->torch>=1.10.0->accelerate) (16.0.6)\n",
            "Requirement already satisfied: click in /usr/local/lib/python3.10/dist-packages (from nltk->rouge_score) (8.1.6)\n",
            "Requirement already satisfied: joblib in /usr/local/lib/python3.10/dist-packages (from nltk->rouge_score) (1.3.1)\n",
            "Requirement already satisfied: python-dateutil>=2.8.1 in /usr/local/lib/python3.10/dist-packages (from pandas->datasets) (2.8.2)\n",
            "Requirement already satisfied: pytz>=2020.1 in /usr/local/lib/python3.10/dist-packages (from pandas->datasets) (2022.7.1)\n",
            "Requirement already satisfied: MarkupSafe>=2.0 in /usr/local/lib/python3.10/dist-packages (from jinja2->torch>=1.10.0->accelerate) (2.1.3)\n",
            "Requirement already satisfied: mpmath>=0.19 in /usr/local/lib/python3.10/dist-packages (from sympy->torch>=1.10.0->accelerate) (1.3.0)\n"
          ]
        }
      ]
    },
    {
      "cell_type": "markdown",
      "source": [
        "Checking transformers version"
      ],
      "metadata": {
        "id": "EZjYfHI-04vs"
      }
    },
    {
      "cell_type": "code",
      "source": [
        "import transformers\n",
        "\n",
        "transformers.__version__"
      ],
      "metadata": {
        "colab": {
          "base_uri": "https://localhost:8080/",
          "height": 35
        },
        "id": "c6qVtimZhBFd",
        "outputId": "bb7c0bb1-da59-448a-a59f-1f26669becf4"
      },
      "execution_count": null,
      "outputs": [
        {
          "output_type": "execute_result",
          "data": {
            "text/plain": [
              "'4.31.0'"
            ],
            "application/vnd.google.colaboratory.intrinsic+json": {
              "type": "string"
            }
          },
          "metadata": {},
          "execution_count": 2
        }
      ]
    },
    {
      "cell_type": "markdown",
      "source": [
        "## TODO Recording\n",
        "\n",
        "- Go to the HuggingFace site\n",
        "- Click on the Account on the top right -> Profile -> Settings -> Access Tokens\n",
        "- Generate a new token and copy it\n",
        "- Then run the cell below\n"
      ],
      "metadata": {
        "id": "PUIo_Qz41cgA"
      }
    },
    {
      "cell_type": "code",
      "execution_count": null,
      "metadata": {
        "id": "JK75VXu1HiDh",
        "outputId": "ad60dca9-af6f-49f9-b282-bc9a8223049d",
        "colab": {
          "base_uri": "https://localhost:8080/",
          "height": 145,
          "referenced_widgets": [
            "6f24c13c427046ce81fa8be1342664a1",
            "9ffa53725dfb4bff83eb218b87d461f6",
            "6c7663abdac143fa8ad88831a630ef16",
            "e95f003abd2f41e3be0a8584a45c02b4",
            "7cd07d2fb63145d6a3a7d6dca812bd1c",
            "c26acfececb642c3b20b18588e1e9e98",
            "11fa045f55a24c0aa081aad9ee0c0203",
            "9f5739adee3c43f482ea5372c37fbc0a",
            "90ccca0eeff44937a4eccdad75dc14d1",
            "2d5e5ea1a7634954a023e334a4a7f978",
            "7a92bb19000145aa914b438c73bd34fb",
            "c9b069884e05420a8c5e7db7ccc6660a",
            "dfb867662b3245278392077ac8edf794",
            "880de9aeaf3848238fa8131402fa5e20",
            "688b571fbe5f419b82958aba4ce34176",
            "a2eeb2b3f0094c30b872e6f2e8393c0f",
            "aca97c621faf439e95d6d9bb4b4abc24",
            "3f8bff2626e1406a8069f601eabfd1fe",
            "da53691af9564e0ebe53396496debc15",
            "9c10f4cfbf0a4e5a822f46f009e1a975",
            "3f5fd852a1824d0dbe794edd40cab88d",
            "10fc9193e7a54a24bb7269721e2dfe0d",
            "a139ebe590c14d9d91603812ee1719fb",
            "261efa9405cf463492a781c608535a16",
            "d996bd3145524ded8b189f3d918d3173",
            "5038b99cba7b4bac96c29c1a21eb4724",
            "87ae2f5de1334a778678c1e77767b2ff",
            "f927c1535da0473da9c623de09e46b68",
            "b0574c3cba744e5eae1ae83db0f41bde",
            "9283d49cda014c1c972368308bd55bb8",
            "b441841d4e8b4b0fae94eedd10bbdb1c",
            "9eea6b6d45b8432bb6f2f051d5fa4c84"
          ]
        }
      },
      "outputs": [
        {
          "output_type": "display_data",
          "data": {
            "text/plain": [
              "VBox(children=(HTML(value='<center> <img\\nsrc=https://huggingface.co/front/assets/huggingface_logo-noborder.sv…"
            ],
            "application/vnd.jupyter.widget-view+json": {
              "version_major": 2,
              "version_minor": 0,
              "model_id": "6f24c13c427046ce81fa8be1342664a1"
            }
          },
          "metadata": {}
        }
      ],
      "source": [
        "from huggingface_hub import notebook_login\n",
        "\n",
        "notebook_login()"
      ]
    },
    {
      "cell_type": "markdown",
      "source": [
        "https://huggingface.co/docs/datasets/v1.2.0/loading_datasets.html\n",
        "Checking all datasets available in huggingface hub"
      ],
      "metadata": {
        "id": "8Z96vGDD27aC"
      }
    },
    {
      "cell_type": "code",
      "source": [
        "from huggingface_hub import list_datasets\n",
        "\n",
        "datasets_list = list_datasets()\n",
        "\n",
        "num = 0\n",
        "for dataset in datasets_list:\n",
        "  print(dataset)\n",
        "\n",
        "  if (num > 10):\n",
        "    break\n",
        "\n",
        "  num += 1"
      ],
      "metadata": {
        "colab": {
          "base_uri": "https://localhost:8080/"
        },
        "id": "D1zu4SEHgTPP",
        "outputId": "b90a9dce-fe0e-4fa8-a0da-057c2736c74d"
      },
      "execution_count": null,
      "outputs": [
        {
          "output_type": "stream",
          "name": "stdout",
          "text": [
            "Dataset Name: acronym_identification, Tags: ['task_categories:token-classification', 'annotations_creators:expert-generated', 'language_creators:found', 'multilinguality:monolingual', 'size_categories:10K<n<100K', 'source_datasets:original', 'language:en', 'license:mit', 'acronym-identification', 'arxiv:2010.14678', 'region:us']\n",
            "Dataset Name: ade_corpus_v2, Tags: ['task_categories:text-classification', 'task_categories:token-classification', 'task_ids:coreference-resolution', 'task_ids:fact-checking', 'annotations_creators:expert-generated', 'language_creators:found', 'multilinguality:monolingual', 'size_categories:10K<n<100K', 'size_categories:1K<n<10K', 'size_categories:n<1K', 'source_datasets:original', 'language:en', 'license:unknown', 'region:us']\n",
            "Dataset Name: adversarial_qa, Tags: ['task_categories:question-answering', 'task_ids:extractive-qa', 'task_ids:open-domain-qa', 'annotations_creators:crowdsourced', 'language_creators:found', 'multilinguality:monolingual', 'size_categories:10K<n<100K', 'source_datasets:original', 'language:en', 'license:cc-by-sa-4.0', 'arxiv:2002.00293', 'arxiv:1606.05250', 'region:us']\n",
            "Dataset Name: aeslc, Tags: ['task_categories:summarization', 'annotations_creators:crowdsourced', 'language_creators:found', 'multilinguality:monolingual', 'size_categories:10K<n<100K', 'source_datasets:original', 'language:en', 'license:unknown', 'aspect-based-summarization', 'conversations-summarization', 'multi-document-summarization', 'email-headline-generation', 'arxiv:1906.03497', 'region:us']\n",
            "Dataset Name: afrikaans_ner_corpus, Tags: ['task_categories:token-classification', 'task_ids:named-entity-recognition', 'annotations_creators:expert-generated', 'language_creators:expert-generated', 'multilinguality:monolingual', 'size_categories:1K<n<10K', 'source_datasets:original', 'language:af', 'license:other', 'region:us']\n",
            "Dataset Name: ag_news, Tags: ['task_categories:text-classification', 'task_ids:topic-classification', 'annotations_creators:found', 'language_creators:found', 'multilinguality:monolingual', 'size_categories:100K<n<1M', 'source_datasets:original', 'language:en', 'license:unknown', 'region:us']\n",
            "Dataset Name: ai2_arc, Tags: ['task_categories:question-answering', 'task_ids:open-domain-qa', 'task_ids:multiple-choice-qa', 'annotations_creators:found', 'language_creators:found', 'multilinguality:monolingual', 'size_categories:1K<n<10K', 'source_datasets:original', 'language:en', 'license:cc-by-sa-4.0', 'region:us']\n",
            "Dataset Name: air_dialogue, Tags: ['task_categories:conversational', 'task_categories:text-generation', 'task_categories:fill-mask', 'task_ids:dialogue-generation', 'task_ids:dialogue-modeling', 'task_ids:language-modeling', 'task_ids:masked-language-modeling', 'annotations_creators:crowdsourced', 'language_creators:machine-generated', 'multilinguality:monolingual', 'size_categories:100K<n<1M', 'source_datasets:original', 'language:en', 'license:cc-by-nc-4.0']\n",
            "Dataset Name: ajgt_twitter_ar, Tags: ['task_categories:text-classification', 'task_ids:sentiment-classification', 'annotations_creators:found', 'language_creators:found', 'multilinguality:monolingual', 'size_categories:1K<n<10K', 'source_datasets:original', 'language:ar', 'license:unknown', 'region:us']\n",
            "Dataset Name: allegro_reviews, Tags: ['task_categories:text-classification', 'task_ids:sentiment-scoring', 'task_ids:text-scoring', 'annotations_creators:found', 'language_creators:found', 'multilinguality:monolingual', 'size_categories:10K<n<100K', 'source_datasets:original', 'language:pl', 'license:cc-by-sa-4.0', 'region:us']\n",
            "Dataset Name: allocine, Tags: ['task_categories:text-classification', 'task_ids:sentiment-classification', 'annotations_creators:no-annotation', 'language_creators:found', 'multilinguality:monolingual', 'size_categories:100K<n<1M', 'source_datasets:original', 'language:fr', 'license:mit', 'region:us']\n",
            "Dataset Name: alt, Tags: ['task_categories:translation', 'task_categories:token-classification', 'task_ids:parsing', 'annotations_creators:expert-generated', 'language_creators:crowdsourced', 'multilinguality:multilingual', 'multilinguality:translation', 'size_categories:100K<n<1M', 'size_categories:10K<n<100K', 'source_datasets:original', 'language:bn', 'language:en', 'language:fil', 'language:hi', 'language:id', 'language:ja', 'language:km', 'language:lo', 'language:ms', 'language:my', 'language:th', 'language:vi', 'language:zh', 'license:cc-by-4.0', 'region:us']\n"
          ]
        }
      ]
    },
    {
      "cell_type": "markdown",
      "source": [
        "Loading cnn daily mail dataset"
      ],
      "metadata": {
        "id": "uB4iL8Ftvd28"
      }
    },
    {
      "cell_type": "code",
      "source": [
        "from datasets import load_dataset\n",
        "\n",
        "cnn_news_summary_ds = load_dataset(\"cnn_dailymail\", \"3.0.0\")\n",
        "\n",
        "cnn_news_summary_ds"
      ],
      "metadata": {
        "id": "DEI4HAA333n4",
        "colab": {
          "base_uri": "https://localhost:8080/"
        },
        "outputId": "3ea3dae2-5e5e-4cb4-918e-1e34030e5bce"
      },
      "execution_count": null,
      "outputs": [
        {
          "output_type": "execute_result",
          "data": {
            "text/plain": [
              "DatasetDict({\n",
              "    train: Dataset({\n",
              "        features: ['article', 'highlights', 'id'],\n",
              "        num_rows: 287113\n",
              "    })\n",
              "    validation: Dataset({\n",
              "        features: ['article', 'highlights', 'id'],\n",
              "        num_rows: 13368\n",
              "    })\n",
              "    test: Dataset({\n",
              "        features: ['article', 'highlights', 'id'],\n",
              "        num_rows: 11490\n",
              "    })\n",
              "})"
            ]
          },
          "metadata": {},
          "execution_count": 5
        }
      ]
    },
    {
      "cell_type": "markdown",
      "source": [
        "Dataset dictionary can be seen. As the dataset is quite large, we would be taking a subset of training data only."
      ],
      "metadata": {
        "id": "vPgEu8Zu68ZG"
      }
    },
    {
      "cell_type": "code",
      "source": [
        "cnn_news_summary_ds = load_dataset(\"cnn_dailymail\", \"3.0.0\", split = \"train[:3%]\")\n",
        "\n",
        "cnn_news_summary_ds"
      ],
      "metadata": {
        "colab": {
          "base_uri": "https://localhost:8080/"
        },
        "id": "iDRAgEWP7Zxh",
        "outputId": "344bd87c-c12e-4ca3-8e0e-00b948767e11"
      },
      "execution_count": null,
      "outputs": [
        {
          "output_type": "execute_result",
          "data": {
            "text/plain": [
              "Dataset({\n",
              "    features: ['article', 'highlights', 'id'],\n",
              "    num_rows: 8613\n",
              "})"
            ]
          },
          "metadata": {},
          "execution_count": 6
        }
      ]
    },
    {
      "cell_type": "markdown",
      "source": [
        "Subset data's dimensions can be checked"
      ],
      "metadata": {
        "id": "PGjiZGy79-tv"
      }
    },
    {
      "cell_type": "code",
      "source": [
        "cnn_news_summary_ds.shape"
      ],
      "metadata": {
        "colab": {
          "base_uri": "https://localhost:8080/"
        },
        "id": "qJjt6hQLvKFt",
        "outputId": "ace612c1-25b3-458e-f7b6-50ae42b9af45"
      },
      "execution_count": null,
      "outputs": [
        {
          "output_type": "execute_result",
          "data": {
            "text/plain": [
              "(8613, 3)"
            ]
          },
          "metadata": {},
          "execution_count": 7
        }
      ]
    },
    {
      "cell_type": "markdown",
      "source": [
        "dataset description, features, homepage can be obtained\n",
        "https://huggingface.co/docs/datasets/v1.2.0/exploring.html"
      ],
      "metadata": {
        "id": "IyL6MAVL-W-l"
      }
    },
    {
      "cell_type": "code",
      "source": [
        "print(cnn_news_summary_ds.description)"
      ],
      "metadata": {
        "colab": {
          "base_uri": "https://localhost:8080/"
        },
        "id": "Sgy-X7dZ-gvp",
        "outputId": "91c7a17a-0383-4ec8-d5e0-b03fea040b29"
      },
      "execution_count": null,
      "outputs": [
        {
          "output_type": "stream",
          "name": "stdout",
          "text": [
            "CNN/DailyMail non-anonymized summarization dataset.\n",
            "\n",
            "There are two features:\n",
            "  - article: text of news article, used as the document to be summarized\n",
            "  - highlights: joined text of highlights with <s> and </s> around each\n",
            "    highlight, which is the target summary\n",
            "\n"
          ]
        }
      ]
    },
    {
      "cell_type": "code",
      "source": [
        "cnn_news_summary_ds.features"
      ],
      "metadata": {
        "colab": {
          "base_uri": "https://localhost:8080/"
        },
        "id": "yp-o9KVV89vN",
        "outputId": "71e7cda5-137a-4715-cca3-2efb11e3e0ad"
      },
      "execution_count": null,
      "outputs": [
        {
          "output_type": "execute_result",
          "data": {
            "text/plain": [
              "{'article': Value(dtype='string', id=None),\n",
              " 'highlights': Value(dtype='string', id=None),\n",
              " 'id': Value(dtype='string', id=None)}"
            ]
          },
          "metadata": {},
          "execution_count": 9
        }
      ]
    },
    {
      "cell_type": "code",
      "source": [
        "cnn_news_summary_ds.homepage"
      ],
      "metadata": {
        "colab": {
          "base_uri": "https://localhost:8080/",
          "height": 35
        },
        "id": "S3qjG_Vp9azB",
        "outputId": "936c25b6-8b58-4c95-f224-1bd99ad1fddc"
      },
      "execution_count": null,
      "outputs": [
        {
          "output_type": "execute_result",
          "data": {
            "text/plain": [
              "'https://github.com/abisee/cnn-dailymail'"
            ],
            "application/vnd.google.colaboratory.intrinsic+json": {
              "type": "string"
            }
          },
          "metadata": {},
          "execution_count": 10
        }
      ]
    },
    {
      "cell_type": "markdown",
      "source": [
        "One row of example can be obtained"
      ],
      "metadata": {
        "id": "yVIKcsi1-t6E"
      }
    },
    {
      "cell_type": "code",
      "source": [
        "cnn_news_summary_ds[0]"
      ],
      "metadata": {
        "colab": {
          "base_uri": "https://localhost:8080/"
        },
        "id": "fjV0uQT6vYCI",
        "outputId": "047c8ef4-5335-4dd0-cc86-a0dbc19e2509"
      },
      "execution_count": null,
      "outputs": [
        {
          "output_type": "execute_result",
          "data": {
            "text/plain": [
              "{'article': 'LONDON, England (Reuters) -- Harry Potter star Daniel Radcliffe gains access to a reported £20 million ($41.1 million) fortune as he turns 18 on Monday, but he insists the money won\\'t cast a spell on him. Daniel Radcliffe as Harry Potter in \"Harry Potter and the Order of the Phoenix\" To the disappointment of gossip columnists around the world, the young actor says he has no plans to fritter his cash away on fast cars, drink and celebrity parties. \"I don\\'t plan to be one of those people who, as soon as they turn 18, suddenly buy themselves a massive sports car collection or something similar,\" he told an Australian interviewer earlier this month. \"I don\\'t think I\\'ll be particularly extravagant. \"The things I like buying are things that cost about 10 pounds -- books and CDs and DVDs.\" At 18, Radcliffe will be able to gamble in a casino, buy a drink in a pub or see the horror film \"Hostel: Part II,\" currently six places below his number one movie on the UK box office chart. Details of how he\\'ll mark his landmark birthday are under wraps. His agent and publicist had no comment on his plans. \"I\\'ll definitely have some sort of party,\" he said in an interview. \"Hopefully none of you will be reading about it.\" Radcliffe\\'s earnings from the first five Potter films have been held in a trust fund which he has not been able to touch. Despite his growing fame and riches, the actor says he is keeping his feet firmly on the ground. \"People are always looking to say \\'kid star goes off the rails,\\'\" he told reporters last month. \"But I try very hard not to go that way because it would be too easy for them.\" His latest outing as the boy wizard in \"Harry Potter and the Order of the Phoenix\" is breaking records on both sides of the Atlantic and he will reprise the role in the last two films.  Watch I-Reporter give her review of Potter\\'s latest » . There is life beyond Potter, however. The Londoner has filmed a TV movie called \"My Boy Jack,\" about author Rudyard Kipling and his son, due for release later this year. He will also appear in \"December Boys,\" an Australian film about four boys who escape an orphanage. Earlier this year, he made his stage debut playing a tortured teenager in Peter Shaffer\\'s \"Equus.\" Meanwhile, he is braced for even closer media scrutiny now that he\\'s legally an adult: \"I just think I\\'m going to be more sort of fair game,\" he told Reuters. E-mail to a friend . Copyright 2007 Reuters. All rights reserved.This material may not be published, broadcast, rewritten, or redistributed.',\n",
              " 'highlights': \"Harry Potter star Daniel Radcliffe gets £20M fortune as he turns 18 Monday .\\nYoung actor says he has no plans to fritter his cash away .\\nRadcliffe's earnings from first five Potter films have been held in trust fund .\",\n",
              " 'id': '42c027e4ff9730fbb3de84c1af0d2c506e41c3e4'}"
            ]
          },
          "metadata": {},
          "execution_count": 11
        }
      ]
    },
    {
      "cell_type": "markdown",
      "source": [
        "Dataset is split into train and test sets"
      ],
      "metadata": {
        "id": "W0Yf6W6KxC-V"
      }
    },
    {
      "cell_type": "code",
      "source": [
        "cnn_news_summary_ds = cnn_news_summary_ds.train_test_split(test_size = 0.2, seed = 42)\n",
        "\n",
        "cnn_news_summary_ds"
      ],
      "metadata": {
        "id": "V9ydpvCEMukh",
        "colab": {
          "base_uri": "https://localhost:8080/"
        },
        "outputId": "dab7bb39-c7c0-4ec9-9fcc-60764efb8aa0"
      },
      "execution_count": null,
      "outputs": [
        {
          "output_type": "execute_result",
          "data": {
            "text/plain": [
              "DatasetDict({\n",
              "    train: Dataset({\n",
              "        features: ['article', 'highlights', 'id'],\n",
              "        num_rows: 6890\n",
              "    })\n",
              "    test: Dataset({\n",
              "        features: ['article', 'highlights', 'id'],\n",
              "        num_rows: 1723\n",
              "    })\n",
              "})"
            ]
          },
          "metadata": {},
          "execution_count": 12
        }
      ]
    },
    {
      "cell_type": "markdown",
      "source": [
        "Text cleaning function is defined"
      ],
      "metadata": {
        "id": "PGPYPaoLt7hV"
      }
    },
    {
      "cell_type": "code",
      "source": [
        "def clean_txt(example):\n",
        "    for txt in [\"article\", \"highlights\"]:\n",
        "       example[txt]  = example[txt].lower()\n",
        "       example[txt]  = example[txt].replace(\"\\\\\", \"\")\n",
        "       example[txt]  = example[txt].replace(\"/\", \"\")\n",
        "       example[txt]  = example[txt].replace(\"\\n\", \"\")\n",
        "       example[txt]  = example[txt].replace(\"``\", \"\")\n",
        "       example[txt]  = example[txt].replace('\"', '')\n",
        "       example[txt]  = example[txt].replace(\"--\", \"\")\n",
        "\n",
        "    return example\n"
      ],
      "metadata": {
        "id": "4sRkNvNA0Qqh"
      },
      "execution_count": null,
      "outputs": []
    },
    {
      "cell_type": "markdown",
      "source": [
        "Both train and test sets are cleaned using 'map' method"
      ],
      "metadata": {
        "id": "Am4yEP_DuACT"
      }
    },
    {
      "cell_type": "code",
      "source": [
        "cleaned_cnn_news_summary_ds = cnn_news_summary_ds.map(clean_txt)\n",
        "\n",
        "cleaned_cnn_news_summary_ds"
      ],
      "metadata": {
        "colab": {
          "base_uri": "https://localhost:8080/"
        },
        "id": "cuWs0JPonSfC",
        "outputId": "d6da7136-da00-4319-8673-4c52d55d99b2"
      },
      "execution_count": null,
      "outputs": [
        {
          "output_type": "execute_result",
          "data": {
            "text/plain": [
              "DatasetDict({\n",
              "    train: Dataset({\n",
              "        features: ['article', 'highlights', 'id'],\n",
              "        num_rows: 6890\n",
              "    })\n",
              "    test: Dataset({\n",
              "        features: ['article', 'highlights', 'id'],\n",
              "        num_rows: 1723\n",
              "    })\n",
              "})"
            ]
          },
          "metadata": {},
          "execution_count": 14
        }
      ]
    },
    {
      "cell_type": "markdown",
      "source": [
        "Taking a look at a raw example"
      ],
      "metadata": {
        "id": "wFT5o8wuuPRt"
      }
    },
    {
      "cell_type": "code",
      "source": [
        "cnn_news_summary_ds[\"train\"][\"article\"][7]"
      ],
      "metadata": {
        "colab": {
          "base_uri": "https://localhost:8080/",
          "height": 105
        },
        "id": "IUfC2Vz5BJHh",
        "outputId": "9e5f9163-8c1c-45df-ebff-11b6b33ace65"
      },
      "execution_count": null,
      "outputs": [
        {
          "output_type": "execute_result",
          "data": {
            "text/plain": [
              "'(CNN)  -- Four-time defending champion Rafael Nadal slid to an astonishing 6-2 6-7 6-4 7-6 defeat to Sweden\\'s Robin Soderling at the French Open on Sunday. Soderling savors his unlikely triumph against Nadal in the French Open fourth round. Soderling, the 23rd seed, was a rank outsider against the world number one who had never lost a match on the clay at Roland Garros and was a short-priced favorite to win a record fifth straight title. But Soderling never looked back after breezing through the first set of their fourth round match and closed out victory as Nadal sent a volley wide after bravely saving a matchpoint in the fourth set tiebreak. The Spaniard tried to look on the positives after his shock defeat. \"It\\'s not a tragedy, losing here in Paris,\" he told the official tournament Web site www.rolandgarros.com . \"It had to happen one day, and this is an excellent season for me. \"Of course it\\'s a bit sad, but I have to overcome this as quickly as possible. No one remembers defeats on the long run. People remember victories. So I have to move forward and try and prepare the best I can.\" King of clay Nadal had compiled a 31-match winning streak at the French Open and was attempting to win the second grand slam of the year after beating world number two Roger Federer in the final of the Australian Open. Soderling took advantage of a strong serve and big forehands to give Nadal a torrid time in front of a stunned crowd on the Philippe Chatrier court. Defeat for Nadal opens up his side of the draw with world number three Andy Murray a possible beneficiary. Murray, who was seeded to meet Nadal in the semifinals, beat Marin Cilic of Croatia 7-5 7-6 6-1 in their earlier fourth round match. He will play Fernando Gonzalez of Chile for a place in the semifinals. Gonzalez beat Victor Hanescu of Romania 6-2 6-4 6-2 in their fourth round match. Soderling will next play Nikolay Davydenko of Russia as the 10th seed beat  eighth-ranked Fernando Verdasco of Spain 6-2 6-2 6-4.in the final last 16 match of a dramatic day.'"
            ],
            "application/vnd.google.colaboratory.intrinsic+json": {
              "type": "string"
            }
          },
          "metadata": {},
          "execution_count": 15
        }
      ]
    },
    {
      "cell_type": "markdown",
      "source": [
        "Now observing cleaned up version of the same raw data"
      ],
      "metadata": {
        "id": "MJXS7IaeudmL"
      }
    },
    {
      "cell_type": "code",
      "source": [
        "cleaned_cnn_news_summary_ds[\"train\"][\"article\"][7]"
      ],
      "metadata": {
        "colab": {
          "base_uri": "https://localhost:8080/",
          "height": 105
        },
        "id": "WtRDu9jv4ZmT",
        "outputId": "5cb25dd5-9547-4399-dabc-5ff7263b4df8"
      },
      "execution_count": null,
      "outputs": [
        {
          "output_type": "execute_result",
          "data": {
            "text/plain": [
              "\"(cnn)   four-time defending champion rafael nadal slid to an astonishing 6-2 6-7 6-4 7-6 defeat to sweden's robin soderling at the french open on sunday. soderling savors his unlikely triumph against nadal in the french open fourth round. soderling, the 23rd seed, was a rank outsider against the world number one who had never lost a match on the clay at roland garros and was a short-priced favorite to win a record fifth straight title. but soderling never looked back after breezing through the first set of their fourth round match and closed out victory as nadal sent a volley wide after bravely saving a matchpoint in the fourth set tiebreak. the spaniard tried to look on the positives after his shock defeat. it's not a tragedy, losing here in paris, he told the official tournament web site www.rolandgarros.com . it had to happen one day, and this is an excellent season for me. of course it's a bit sad, but i have to overcome this as quickly as possible. no one remembers defeats on the long run. people remember victories. so i have to move forward and try and prepare the best i can. king of clay nadal had compiled a 31-match winning streak at the french open and was attempting to win the second grand slam of the year after beating world number two roger federer in the final of the australian open. soderling took advantage of a strong serve and big forehands to give nadal a torrid time in front of a stunned crowd on the philippe chatrier court. defeat for nadal opens up his side of the draw with world number three andy murray a possible beneficiary. murray, who was seeded to meet nadal in the semifinals, beat marin cilic of croatia 7-5 7-6 6-1 in their earlier fourth round match. he will play fernando gonzalez of chile for a place in the semifinals. gonzalez beat victor hanescu of romania 6-2 6-4 6-2 in their fourth round match. soderling will next play nikolay davydenko of russia as the 10th seed beat  eighth-ranked fernando verdasco of spain 6-2 6-2 6-4.in the final last 16 match of a dramatic day.\""
            ],
            "application/vnd.google.colaboratory.intrinsic+json": {
              "type": "string"
            }
          },
          "metadata": {},
          "execution_count": 16
        }
      ]
    },
    {
      "cell_type": "markdown",
      "source": [
        "Similarly,both raw and cleaned up version of highlights(summary) of same example can be seen"
      ],
      "metadata": {
        "id": "2CRQDsnYul4s"
      }
    },
    {
      "cell_type": "code",
      "source": [
        "cnn_news_summary_ds[\"train\"][\"highlights\"][0]"
      ],
      "metadata": {
        "colab": {
          "base_uri": "https://localhost:8080/",
          "height": 35
        },
        "id": "KLF-XGjYGaKW",
        "outputId": "5a6481fd-f629-400b-86a3-1f0858d83b3a"
      },
      "execution_count": null,
      "outputs": [
        {
          "output_type": "execute_result",
          "data": {
            "text/plain": [
              "'Maradona staying a clinic in Italy when tax authorities swooped .\\nReports: Argentina coach owes millions in taxes from his time playing in Italy .\\nMaradona says Serie A club should have paid the taxes .'"
            ],
            "application/vnd.google.colaboratory.intrinsic+json": {
              "type": "string"
            }
          },
          "metadata": {},
          "execution_count": 17
        }
      ]
    },
    {
      "cell_type": "code",
      "source": [
        "cleaned_cnn_news_summary_ds[\"train\"][\"highlights\"][0]"
      ],
      "metadata": {
        "colab": {
          "base_uri": "https://localhost:8080/",
          "height": 35
        },
        "id": "creOZ-Li2uVl",
        "outputId": "411e9b8e-c36b-48e4-a2be-44b68fe10d4d"
      },
      "execution_count": null,
      "outputs": [
        {
          "output_type": "execute_result",
          "data": {
            "text/plain": [
              "'maradona staying a clinic in italy when tax authorities swooped .reports: argentina coach owes millions in taxes from his time playing in italy .maradona says serie a club should have paid the taxes .'"
            ],
            "application/vnd.google.colaboratory.intrinsic+json": {
              "type": "string"
            }
          },
          "metadata": {},
          "execution_count": 18
        }
      ]
    },
    {
      "cell_type": "markdown",
      "source": [
        "taking a random article for summarising"
      ],
      "metadata": {
        "id": "ambqnbMQ1YDd"
      }
    },
    {
      "cell_type": "code",
      "source": [
        "EXAMPLE_TEXT_INDEX = 33\n",
        "\n",
        "example_text = cleaned_cnn_news_summary_ds[\"test\"][\"article\"][EXAMPLE_TEXT_INDEX]\n",
        "\n",
        "example_text"
      ],
      "metadata": {
        "colab": {
          "base_uri": "https://localhost:8080/",
          "height": 105
        },
        "id": "xVJ3JdrHCJo0",
        "outputId": "a26279d6-8a12-43e1-ab38-9df694931d65"
      },
      "execution_count": null,
      "outputs": [
        {
          "output_type": "execute_result",
          "data": {
            "text/plain": [
              "\"(cnn)  every dog has his day, but sir lancelot  or at least his carbon copy  has a second one. edgar and nina otto show off 10-week-old lancey, a clone of the most human of any dog we've ever had. a boca raton, florida, couple paid a california firm $155,000 to clone their beloved labrador retriever, who died from cancer a year ago. the clone, a 10-week-old puppy dubbed lancey, was hand-delivered to them earlier this week by lou hawthorne, chairman of bioarts international, a biotechnology company. one minute with lancey and you know he's special. he's both extremely aware and very sweet, hawthorne said in a bioarts statement. edgar and nina otto said they began thinking about cloning sir lancelot about five years ago. i said 'well, you know, it wouldn't hurt to have his dna frozen,' and that's what we did, nina otto told cnn affiliate wpbf. the ottos were one of five families to bid and win a bioarts auction for a chance to clone their family dog, according to a bioarts statement. lancey is the world's first commercially cloned dog, the company said; the ottos are the first of six current clients to receive their clone. sir lancelot's dna sample was sent to the sooam biotech research foundation in seoul, south korea, which provides cloning services to bioarts. researchers there put the dna into an egg, and lancey was born november 18, according to bioarts. the ottos said they have had many beloved dogs over the years  and have nine others currently  but maintain sir lancelot was special. sir lancelot was the most human of any dog we've ever had, edgar otto said in the bioarts statement. he was a prince among dogs. in an interview with wpbf, edgar otto said sir lancelot was a very, very, very special dog to us. and we've given a lot more to the humane society than we've ever spent on this project.  watch the ottos talk about lancelot and lancey » . for its part, the humane society of the united states says it's against the commercial cloning of animals. given the current pet overpopulation problem, which costs millions of animals their lives and millions in public tax dollars each year, the cloning of pets has no social value and in fact may lead to increased animal suffering, the organization said on its web site. for those looking to replace a lost pet, cloning will not create an animal identical to the one who is gone; cloning cannot replicate an animal's uniqueness. cloning can only replicate the pet's genetics, which influence but do not determine his physical attributes or personality. the ottos, however, said replicating sir lancelot's genetics is enough for them. edgar otto said he realizes lancey might not be just like their departed dog, but if he's different, we're not going to love him any less. edgar otto is the son of the late edwin otto, who was part of the founding of nascar and a motorsports pioneer, according to www.ottomotorsports.com.\""
            ],
            "application/vnd.google.colaboratory.intrinsic+json": {
              "type": "string"
            }
          },
          "metadata": {},
          "execution_count": 19
        }
      ]
    },
    {
      "cell_type": "code",
      "source": [
        "MODEL_NAME = \"t5-small\""
      ],
      "metadata": {
        "id": "-OFfCV5JWyQ0"
      },
      "execution_count": null,
      "outputs": []
    },
    {
      "cell_type": "code",
      "source": [
        "from transformers import pipeline\n",
        "\n",
        "prefix = \"summarize: \"\n",
        "\n",
        "summarizer = pipeline(\"summarization\", model = MODEL_NAME)\n",
        "\n",
        "summary_txt = summarizer(prefix + example_text)\n",
        "\n",
        "summary_txt"
      ],
      "metadata": {
        "colab": {
          "base_uri": "https://localhost:8080/"
        },
        "id": "k2y-A7pkCgwm",
        "outputId": "acbaabbd-79f2-4702-b879-e96374c12c96"
      },
      "execution_count": null,
      "outputs": [
        {
          "output_type": "stream",
          "name": "stderr",
          "text": [
            "Token indices sequence length is longer than the specified maximum sequence length for this model (887 > 512). Running this sequence through the model will result in indexing errors\n"
          ]
        },
        {
          "output_type": "execute_result",
          "data": {
            "text/plain": [
              "[{'summary_text': \"edgar and nina otto paid california firm $155,000 to clone their beloved labrador retriever . lancey, a 10-week-old puppy, was hand-delivered to them earlier this week . he's the most human of any dog we've ever had, the company says .\"}]"
            ]
          },
          "metadata": {},
          "execution_count": 21
        }
      ]
    },
    {
      "cell_type": "code",
      "source": [
        "summarizer = pipeline(\"summarization\", model = MODEL_NAME, truncation=True)\n",
        "\n",
        "summary_txt = summarizer(prefix + example_text)\n",
        "\n",
        "summary_txt"
      ],
      "metadata": {
        "colab": {
          "base_uri": "https://localhost:8080/"
        },
        "id": "LTtU9sViUNci",
        "outputId": "a3849602-ae85-456b-ea79-94e62ab98b3b"
      },
      "execution_count": null,
      "outputs": [
        {
          "output_type": "execute_result",
          "data": {
            "text/plain": [
              "[{'summary_text': 'edgar and nina otto paid a california firm $155,000 to clone their beloved labrador retriever . the 10-week-old puppy was hand-delivered to them earlier this week by lou hawthorne .'}]"
            ]
          },
          "metadata": {},
          "execution_count": 22
        }
      ]
    },
    {
      "cell_type": "markdown",
      "source": [
        "Gold/Reference summary is obtained"
      ],
      "metadata": {
        "id": "6pSR5vWiSQzQ"
      }
    },
    {
      "cell_type": "code",
      "source": [
        "ref_txt = cleaned_cnn_news_summary_ds[\"test\"][\"highlights\"][EXAMPLE_TEXT_INDEX]\n",
        "\n",
        "ref_txt"
      ],
      "metadata": {
        "colab": {
          "base_uri": "https://localhost:8080/",
          "height": 53
        },
        "id": "Q5xJzt2LKgGh",
        "outputId": "3aae50be-5628-4f11-c974-f3fb99e02312"
      },
      "execution_count": null,
      "outputs": [
        {
          "output_type": "execute_result",
          "data": {
            "text/plain": [
              "\"couple won auction to clone family dog, biotech company says .lancey is world's first commercially cloned dog, company says .dna of deceased dog sent to s. korea, and cloned puppy born november 18 .humane society says it's against commercial cloning of animals .\""
            ],
            "application/vnd.google.colaboratory.intrinsic+json": {
              "type": "string"
            }
          },
          "metadata": {},
          "execution_count": 23
        }
      ]
    },
    {
      "cell_type": "markdown",
      "source": [
        "Rouge metric is instantiated"
      ],
      "metadata": {
        "id": "CkfRN8otSW8g"
      }
    },
    {
      "cell_type": "code",
      "source": [
        "import evaluate\n",
        "\n",
        "rouge = evaluate.load(\"rouge\")\n",
        "\n",
        "rouge"
      ],
      "metadata": {
        "colab": {
          "base_uri": "https://localhost:8080/"
        },
        "id": "FRuHkN5_L_SU",
        "outputId": "2096c47a-355d-4897-eb64-999afa53bbee"
      },
      "execution_count": null,
      "outputs": [
        {
          "output_type": "execute_result",
          "data": {
            "text/plain": [
              "EvaluationModule(name: \"rouge\", module_type: \"metric\", features: [{'predictions': Value(dtype='string', id='sequence'), 'references': Sequence(feature=Value(dtype='string', id='sequence'), length=-1, id=None)}, {'predictions': Value(dtype='string', id='sequence'), 'references': Value(dtype='string', id='sequence')}], usage: \"\"\"\n",
              "Calculates average rouge scores for a list of hypotheses and references\n",
              "Args:\n",
              "    predictions: list of predictions to score. Each prediction\n",
              "        should be a string with tokens separated by spaces.\n",
              "    references: list of reference for each prediction. Each\n",
              "        reference should be a string with tokens separated by spaces.\n",
              "    rouge_types: A list of rouge types to calculate.\n",
              "        Valid names:\n",
              "        `\"rouge{n}\"` (e.g. `\"rouge1\"`, `\"rouge2\"`) where: {n} is the n-gram based scoring,\n",
              "        `\"rougeL\"`: Longest common subsequence based scoring.\n",
              "        `\"rougeLsum\"`: rougeLsum splits text using `\"\n",
              "\"`.\n",
              "        See details in https://github.com/huggingface/datasets/issues/617\n",
              "    use_stemmer: Bool indicating whether Porter stemmer should be used to strip word suffixes.\n",
              "    use_aggregator: Return aggregates if this is set to True\n",
              "Returns:\n",
              "    rouge1: rouge_1 (f1),\n",
              "    rouge2: rouge_2 (f1),\n",
              "    rougeL: rouge_l (f1),\n",
              "    rougeLsum: rouge_lsum (f1)\n",
              "Examples:\n",
              "\n",
              "    >>> rouge = evaluate.load('rouge')\n",
              "    >>> predictions = [\"hello there\", \"general kenobi\"]\n",
              "    >>> references = [\"hello there\", \"general kenobi\"]\n",
              "    >>> results = rouge.compute(predictions=predictions, references=references)\n",
              "    >>> print(results)\n",
              "    {'rouge1': 1.0, 'rouge2': 1.0, 'rougeL': 1.0, 'rougeLsum': 1.0}\n",
              "\"\"\", stored examples: 0)"
            ]
          },
          "metadata": {},
          "execution_count": 24
        }
      ]
    },
    {
      "cell_type": "code",
      "source": [
        "reference = \"the elephant was found near the river and everyone was glad\"\n",
        "\n",
        "ex_1 = \"the big elephant was found near the turbulent river and everyone was ecstatic\"\n",
        "\n",
        "ex_2 = \"the big elephant was found near the river and made everyone glad\""
      ],
      "metadata": {
        "id": "XDvW0F3Y4Rzm"
      },
      "execution_count": null,
      "outputs": []
    },
    {
      "cell_type": "markdown",
      "source": [
        "Rouge score with extra words in summary in comparison to reference(gold summary)"
      ],
      "metadata": {
        "id": "CKUdafnmD92P"
      }
    },
    {
      "cell_type": "code",
      "source": [
        "results = rouge.compute(predictions = [ex_1], references = [reference])\n",
        "\n",
        "results"
      ],
      "metadata": {
        "colab": {
          "base_uri": "https://localhost:8080/"
        },
        "id": "-XR0p8Ca5BpL",
        "outputId": "e0a15b90-dd4f-4f94-d107-d069a347afd8"
      },
      "execution_count": null,
      "outputs": [
        {
          "output_type": "execute_result",
          "data": {
            "text/plain": [
              "{'rouge1': 0.8333333333333333,\n",
              " 'rouge2': 0.6363636363636365,\n",
              " 'rougeL': 0.8333333333333333,\n",
              " 'rougeLsum': 0.8333333333333333}"
            ]
          },
          "metadata": {},
          "execution_count": 26
        }
      ]
    },
    {
      "cell_type": "markdown",
      "source": [
        "Fewer extra words and better the score"
      ],
      "metadata": {
        "id": "NKwTLcdXEa0n"
      }
    },
    {
      "cell_type": "code",
      "source": [
        "results = rouge.compute(predictions = [ex_2], references = [reference])\n",
        "\n",
        "results"
      ],
      "metadata": {
        "colab": {
          "base_uri": "https://localhost:8080/"
        },
        "id": "_7Of4TtD7ITs",
        "outputId": "7b9a4c0c-f209-4438-d4c9-dfa6b7655ecd"
      },
      "execution_count": null,
      "outputs": [
        {
          "output_type": "execute_result",
          "data": {
            "text/plain": [
              "{'rouge1': 0.8695652173913043,\n",
              " 'rouge2': 0.5714285714285713,\n",
              " 'rougeL': 0.8695652173913043,\n",
              " 'rougeLsum': 0.8695652173913043}"
            ]
          },
          "metadata": {},
          "execution_count": 27
        }
      ]
    },
    {
      "cell_type": "markdown",
      "source": [
        "Coming back to our predicted summary"
      ],
      "metadata": {
        "id": "r3Xmd9ZG85-k"
      }
    },
    {
      "cell_type": "code",
      "source": [
        "summary_txt[0][\"summary_text\"]"
      ],
      "metadata": {
        "colab": {
          "base_uri": "https://localhost:8080/",
          "height": 35
        },
        "id": "kSkzl5-E78RJ",
        "outputId": "4d506314-d120-4390-faa3-b99b590549a1"
      },
      "execution_count": null,
      "outputs": [
        {
          "output_type": "execute_result",
          "data": {
            "text/plain": [
              "'edgar and nina otto paid a california firm $155,000 to clone their beloved labrador retriever . the 10-week-old puppy was hand-delivered to them earlier this week by lou hawthorne .'"
            ],
            "application/vnd.google.colaboratory.intrinsic+json": {
              "type": "string"
            }
          },
          "metadata": {},
          "execution_count": 28
        }
      ]
    },
    {
      "cell_type": "markdown",
      "source": [
        "Rouge score for that text summary is obtained"
      ],
      "metadata": {
        "id": "AND8xxB8SMRu"
      }
    },
    {
      "cell_type": "code",
      "source": [
        "result = rouge.compute(predictions = [summary_txt[0][\"summary_text\"]],\n",
        "                       references = [ref_txt], use_stemmer = True)\n",
        "result"
      ],
      "metadata": {
        "colab": {
          "base_uri": "https://localhost:8080/"
        },
        "id": "diuZBop2Lpbs",
        "outputId": "0c048552-1b85-4572-adf3-b3fb6e877355"
      },
      "execution_count": null,
      "outputs": [
        {
          "output_type": "execute_result",
          "data": {
            "text/plain": [
              "{'rouge1': 0.13157894736842105,\n",
              " 'rouge2': 0.027027027027027025,\n",
              " 'rougeL': 0.07894736842105263,\n",
              " 'rougeLsum': 0.07894736842105263}"
            ]
          },
          "metadata": {},
          "execution_count": 29
        }
      ]
    },
    {
      "cell_type": "markdown",
      "source": [
        "All article texts and summaries are defined in a list"
      ],
      "metadata": {
        "id": "cdyVNMYeR1i8"
      }
    },
    {
      "cell_type": "code",
      "source": [
        "article_texts = cleaned_cnn_news_summary_ds[\"test\"][\"article\"]\n",
        "\n",
        "article_summaries = cleaned_cnn_news_summary_ds[\"test\"][\"highlights\"]"
      ],
      "metadata": {
        "id": "WXRYxEY_M0M3"
      },
      "execution_count": null,
      "outputs": []
    },
    {
      "cell_type": "markdown",
      "source": [
        "Generating summaries (zero shot) for first 50 rows only as it will takes a very long time in summarizing whole set of examples"
      ],
      "metadata": {
        "id": "7qhii1bgVu-B"
      }
    },
    {
      "cell_type": "code",
      "source": [
        "from tqdm import tqdm\n",
        "\n",
        "candidate_summaries = []\n",
        "\n",
        "prefix = \"summarize: \"\n",
        "\n",
        "for i, text in enumerate(tqdm(article_texts[:50])):\n",
        "\n",
        "    candidate = summarizer(prefix + text)\n",
        "\n",
        "    candidate_summaries.append(candidate[0][\"summary_text\"])"
      ],
      "metadata": {
        "colab": {
          "base_uri": "https://localhost:8080/"
        },
        "id": "mmSmCWbNNkc8",
        "outputId": "913b684e-06ee-46f2-9540-4b839233a451"
      },
      "execution_count": null,
      "outputs": [
        {
          "output_type": "stream",
          "name": "stderr",
          "text": [
            "  2%|▏         | 1/50 [00:03<02:39,  3.25s/it]Your max_length is set to 200, but your input_length is only 171. Since this is a summarization task, where outputs shorter than the input are typically wanted, you might consider decreasing max_length manually, e.g. summarizer('...', max_length=85)\n",
            "100%|██████████| 50/50 [02:54<00:00,  3.48s/it]\n"
          ]
        }
      ]
    },
    {
      "cell_type": "markdown",
      "source": [
        "Aggregated rouge scores are obtained"
      ],
      "metadata": {
        "id": "mYp8QjAT9vDE"
      }
    },
    {
      "cell_type": "code",
      "source": [
        "result_agg = rouge.compute(predictions = candidate_summaries,\n",
        "                           references = article_summaries[:50],\n",
        "                           use_stemmer = True)\n",
        "result_agg"
      ],
      "metadata": {
        "colab": {
          "base_uri": "https://localhost:8080/"
        },
        "id": "F6Ic-98x9p5K",
        "outputId": "46ae54ef-9ff4-4ab4-f174-e8f08a3ca786"
      },
      "execution_count": null,
      "outputs": [
        {
          "output_type": "execute_result",
          "data": {
            "text/plain": [
              "{'rouge1': 0.3260855947309701,\n",
              " 'rouge2': 0.13869246671837798,\n",
              " 'rougeL': 0.23975283049133256,\n",
              " 'rougeLsum': 0.24004941836207294}"
            ]
          },
          "metadata": {},
          "execution_count": 32
        }
      ]
    },
    {
      "cell_type": "markdown",
      "source": [
        "Here case by case rouge scores are obtained."
      ],
      "metadata": {
        "id": "LiLZ7QjU-tKE"
      }
    },
    {
      "cell_type": "code",
      "source": [
        "result_unagg = rouge.compute(predictions = candidate_summaries,\n",
        "                             references = article_summaries[:50],\n",
        "                             use_stemmer = True,\n",
        "                             use_aggregator = False)\n",
        "result_unagg"
      ],
      "metadata": {
        "colab": {
          "base_uri": "https://localhost:8080/"
        },
        "id": "OvsMALqs-bgA",
        "outputId": "8885a736-5454-4018-8192-7ae94258c525"
      },
      "execution_count": null,
      "outputs": [
        {
          "output_type": "execute_result",
          "data": {
            "text/plain": [
              "{'rouge1': [0.34146341463414637,\n",
              "  0.38805970149253727,\n",
              "  0.2608695652173913,\n",
              "  0.28125,\n",
              "  0.27848101265822783,\n",
              "  0.18181818181818182,\n",
              "  0.3855421686746988,\n",
              "  0.24615384615384614,\n",
              "  0.5974025974025975,\n",
              "  0.3076923076923077,\n",
              "  0.33766233766233766,\n",
              "  0.3235294117647059,\n",
              "  0.17821782178217824,\n",
              "  0.1917808219178082,\n",
              "  0.2278481012658228,\n",
              "  0.3582089552238805,\n",
              "  0.2702702702702703,\n",
              "  0.3235294117647059,\n",
              "  0.2682926829268293,\n",
              "  0.32432432432432434,\n",
              "  0.35443037974683544,\n",
              "  0.28205128205128205,\n",
              "  0.40540540540540543,\n",
              "  0.10666666666666667,\n",
              "  0.3116883116883117,\n",
              "  0.36363636363636365,\n",
              "  0.32558139534883723,\n",
              "  0.5757575757575758,\n",
              "  0.42857142857142855,\n",
              "  0.24444444444444444,\n",
              "  0.271604938271605,\n",
              "  0.37288135593220334,\n",
              "  0.3,\n",
              "  0.13157894736842105,\n",
              "  0.3820224719101123,\n",
              "  0.44,\n",
              "  0.4507042253521127,\n",
              "  0.5217391304347826,\n",
              "  0.647887323943662,\n",
              "  0.2105263157894737,\n",
              "  0.1038961038961039,\n",
              "  0.2153846153846154,\n",
              "  0.1590909090909091,\n",
              "  0.3711340206185567,\n",
              "  0.3548387096774194,\n",
              "  0.2571428571428571,\n",
              "  0.5263157894736841,\n",
              "  0.17241379310344826,\n",
              "  0.49315068493150693,\n",
              "  0.4444444444444445],\n",
              " 'rouge2': [0.05,\n",
              "  0.15384615384615385,\n",
              "  0.08888888888888888,\n",
              "  0.12903225806451615,\n",
              "  0.15584415584415584,\n",
              "  0.10666666666666666,\n",
              "  0.14814814814814814,\n",
              "  0.09523809523809525,\n",
              "  0.3733333333333333,\n",
              "  0.13725490196078433,\n",
              "  0.08,\n",
              "  0.12121212121212123,\n",
              "  0.0,\n",
              "  0.028169014084507043,\n",
              "  0.0,\n",
              "  0.12307692307692308,\n",
              "  0.05555555555555555,\n",
              "  0.09090909090909091,\n",
              "  0.05,\n",
              "  0.08333333333333333,\n",
              "  0.1558441558441558,\n",
              "  0.10526315789473685,\n",
              "  0.19444444444444445,\n",
              "  0.0273972602739726,\n",
              "  0.10666666666666667,\n",
              "  0.24000000000000002,\n",
              "  0.023809523809523808,\n",
              "  0.4375,\n",
              "  0.23529411764705882,\n",
              "  0.06818181818181818,\n",
              "  0.05063291139240506,\n",
              "  0.07017543859649122,\n",
              "  0.23076923076923075,\n",
              "  0.027027027027027025,\n",
              "  0.06896551724137931,\n",
              "  0.2040816326530612,\n",
              "  0.2898550724637681,\n",
              "  0.3582089552238806,\n",
              "  0.49275362318840576,\n",
              "  0.03636363636363636,\n",
              "  0.026666666666666665,\n",
              "  0.09523809523809525,\n",
              "  0.023255813953488372,\n",
              "  0.16842105263157894,\n",
              "  0.16666666666666666,\n",
              "  0.029411764705882356,\n",
              "  0.32432432432432434,\n",
              "  0.07142857142857142,\n",
              "  0.3098591549295775,\n",
              "  0.2692307692307692],\n",
              " 'rougeL': [0.17073170731707318,\n",
              "  0.23880597014925375,\n",
              "  0.19565217391304346,\n",
              "  0.21875,\n",
              "  0.1772151898734177,\n",
              "  0.12987012987012986,\n",
              "  0.28915662650602414,\n",
              "  0.15384615384615385,\n",
              "  0.4155844155844156,\n",
              "  0.24999999999999994,\n",
              "  0.15584415584415587,\n",
              "  0.2058823529411765,\n",
              "  0.1188118811881188,\n",
              "  0.1095890410958904,\n",
              "  0.12658227848101264,\n",
              "  0.2985074626865672,\n",
              "  0.18918918918918917,\n",
              "  0.20588235294117646,\n",
              "  0.14634146341463417,\n",
              "  0.21621621621621623,\n",
              "  0.2278481012658228,\n",
              "  0.17948717948717946,\n",
              "  0.27027027027027023,\n",
              "  0.05333333333333334,\n",
              "  0.2077922077922078,\n",
              "  0.33766233766233766,\n",
              "  0.186046511627907,\n",
              "  0.5454545454545455,\n",
              "  0.34285714285714286,\n",
              "  0.15555555555555556,\n",
              "  0.19753086419753085,\n",
              "  0.20338983050847456,\n",
              "  0.3,\n",
              "  0.07894736842105263,\n",
              "  0.29213483146067415,\n",
              "  0.3,\n",
              "  0.3943661971830986,\n",
              "  0.463768115942029,\n",
              "  0.4507042253521127,\n",
              "  0.1754385964912281,\n",
              "  0.1038961038961039,\n",
              "  0.18461538461538463,\n",
              "  0.1590909090909091,\n",
              "  0.30927835051546393,\n",
              "  0.3548387096774194,\n",
              "  0.1714285714285714,\n",
              "  0.2894736842105263,\n",
              "  0.17241379310344826,\n",
              "  0.410958904109589,\n",
              "  0.4444444444444445],\n",
              " 'rougeLsum': [0.17073170731707318,\n",
              "  0.23880597014925375,\n",
              "  0.19565217391304346,\n",
              "  0.21875,\n",
              "  0.1772151898734177,\n",
              "  0.12987012987012986,\n",
              "  0.28915662650602414,\n",
              "  0.15384615384615385,\n",
              "  0.4155844155844156,\n",
              "  0.24999999999999994,\n",
              "  0.15584415584415587,\n",
              "  0.2058823529411765,\n",
              "  0.1188118811881188,\n",
              "  0.1095890410958904,\n",
              "  0.12658227848101264,\n",
              "  0.2985074626865672,\n",
              "  0.18918918918918917,\n",
              "  0.20588235294117646,\n",
              "  0.14634146341463417,\n",
              "  0.21621621621621623,\n",
              "  0.2278481012658228,\n",
              "  0.17948717948717946,\n",
              "  0.27027027027027023,\n",
              "  0.05333333333333334,\n",
              "  0.2077922077922078,\n",
              "  0.33766233766233766,\n",
              "  0.186046511627907,\n",
              "  0.5454545454545455,\n",
              "  0.34285714285714286,\n",
              "  0.15555555555555556,\n",
              "  0.19753086419753085,\n",
              "  0.20338983050847456,\n",
              "  0.3,\n",
              "  0.07894736842105263,\n",
              "  0.29213483146067415,\n",
              "  0.3,\n",
              "  0.3943661971830986,\n",
              "  0.463768115942029,\n",
              "  0.4507042253521127,\n",
              "  0.1754385964912281,\n",
              "  0.1038961038961039,\n",
              "  0.18461538461538463,\n",
              "  0.1590909090909091,\n",
              "  0.30927835051546393,\n",
              "  0.3548387096774194,\n",
              "  0.1714285714285714,\n",
              "  0.2894736842105263,\n",
              "  0.17241379310344826,\n",
              "  0.410958904109589,\n",
              "  0.4444444444444445]}"
            ]
          },
          "metadata": {},
          "execution_count": 33
        }
      ]
    },
    {
      "cell_type": "markdown",
      "source": [
        "Minimum and maximum Rouge score indices are obtained to check best and worst summaries"
      ],
      "metadata": {
        "id": "HE1SzmuKGCs0"
      }
    },
    {
      "cell_type": "code",
      "source": [
        "import numpy as np\n",
        "\n",
        "result_unagg_rsum = np.array(result_unagg[\"rouge2\"])\n",
        "\n",
        "np.argmax(result_unagg_rsum), np.argmin(result_unagg_rsum)"
      ],
      "metadata": {
        "colab": {
          "base_uri": "https://localhost:8080/"
        },
        "id": "6JHhw5sb1r3H",
        "outputId": "1b0adb45-4fdf-4995-a162-f4a433209a4a"
      },
      "execution_count": null,
      "outputs": [
        {
          "output_type": "execute_result",
          "data": {
            "text/plain": [
              "(38, 12)"
            ]
          },
          "metadata": {},
          "execution_count": 34
        }
      ]
    },
    {
      "cell_type": "markdown",
      "source": [
        "Actual vs Predicted summaries dataframe is obtained"
      ],
      "metadata": {
        "id": "jGeyNeNZ_ufO"
      }
    },
    {
      "cell_type": "code",
      "source": [
        "import pandas as pd\n",
        "\n",
        "act_vs_pred_summaries_df = pd.DataFrame(list(zip(candidate_summaries, article_summaries[:50])),\n",
        "                                        columns = [\"Predicted_Summaries\", \"Reference_summaries\"])\n",
        "act_vs_pred_summaries_df.head()"
      ],
      "metadata": {
        "colab": {
          "base_uri": "https://localhost:8080/",
          "height": 206
        },
        "id": "0tAktC5z_oX7",
        "outputId": "2892e929-fa15-4be9-e097-0f82661ffdf1"
      },
      "execution_count": null,
      "outputs": [
        {
          "output_type": "execute_result",
          "data": {
            "text/plain": [
              "                                 Predicted_Summaries  \\\n",
              "0  firefighter jimmy senk went inside a burning a...   \n",
              "1  nigeria's princess nikky onyeri has dedicated ...   \n",
              "2  troy davis has always maintained his innocence...   \n",
              "3  more than 11,500 public servants have been sus...   \n",
              "4  human rights watch says the displaced sri lank...   \n",
              "\n",
              "                                 Reference_summaries  \n",
              "0  horia cretan became a hero for carrying boy fr...  \n",
              "1  health advocate from nigeria campaigns for bet...  \n",
              "2  supreme court's latest ruling means troy davis...  \n",
              "3  international transparency poll: businesses in...  \n",
              "4  group: more than 280,000 displaced tamil civil...  "
            ],
            "text/html": [
              "\n",
              "\n",
              "  <div id=\"df-c0643100-9508-4242-a9e7-b40ea5884b89\">\n",
              "    <div class=\"colab-df-container\">\n",
              "      <div>\n",
              "<style scoped>\n",
              "    .dataframe tbody tr th:only-of-type {\n",
              "        vertical-align: middle;\n",
              "    }\n",
              "\n",
              "    .dataframe tbody tr th {\n",
              "        vertical-align: top;\n",
              "    }\n",
              "\n",
              "    .dataframe thead th {\n",
              "        text-align: right;\n",
              "    }\n",
              "</style>\n",
              "<table border=\"1\" class=\"dataframe\">\n",
              "  <thead>\n",
              "    <tr style=\"text-align: right;\">\n",
              "      <th></th>\n",
              "      <th>Predicted_Summaries</th>\n",
              "      <th>Reference_summaries</th>\n",
              "    </tr>\n",
              "  </thead>\n",
              "  <tbody>\n",
              "    <tr>\n",
              "      <th>0</th>\n",
              "      <td>firefighter jimmy senk went inside a burning a...</td>\n",
              "      <td>horia cretan became a hero for carrying boy fr...</td>\n",
              "    </tr>\n",
              "    <tr>\n",
              "      <th>1</th>\n",
              "      <td>nigeria's princess nikky onyeri has dedicated ...</td>\n",
              "      <td>health advocate from nigeria campaigns for bet...</td>\n",
              "    </tr>\n",
              "    <tr>\n",
              "      <th>2</th>\n",
              "      <td>troy davis has always maintained his innocence...</td>\n",
              "      <td>supreme court's latest ruling means troy davis...</td>\n",
              "    </tr>\n",
              "    <tr>\n",
              "      <th>3</th>\n",
              "      <td>more than 11,500 public servants have been sus...</td>\n",
              "      <td>international transparency poll: businesses in...</td>\n",
              "    </tr>\n",
              "    <tr>\n",
              "      <th>4</th>\n",
              "      <td>human rights watch says the displaced sri lank...</td>\n",
              "      <td>group: more than 280,000 displaced tamil civil...</td>\n",
              "    </tr>\n",
              "  </tbody>\n",
              "</table>\n",
              "</div>\n",
              "      <button class=\"colab-df-convert\" onclick=\"convertToInteractive('df-c0643100-9508-4242-a9e7-b40ea5884b89')\"\n",
              "              title=\"Convert this dataframe to an interactive table.\"\n",
              "              style=\"display:none;\">\n",
              "\n",
              "  <svg xmlns=\"http://www.w3.org/2000/svg\" height=\"24px\"viewBox=\"0 0 24 24\"\n",
              "       width=\"24px\">\n",
              "    <path d=\"M0 0h24v24H0V0z\" fill=\"none\"/>\n",
              "    <path d=\"M18.56 5.44l.94 2.06.94-2.06 2.06-.94-2.06-.94-.94-2.06-.94 2.06-2.06.94zm-11 1L8.5 8.5l.94-2.06 2.06-.94-2.06-.94L8.5 2.5l-.94 2.06-2.06.94zm10 10l.94 2.06.94-2.06 2.06-.94-2.06-.94-.94-2.06-.94 2.06-2.06.94z\"/><path d=\"M17.41 7.96l-1.37-1.37c-.4-.4-.92-.59-1.43-.59-.52 0-1.04.2-1.43.59L10.3 9.45l-7.72 7.72c-.78.78-.78 2.05 0 2.83L4 21.41c.39.39.9.59 1.41.59.51 0 1.02-.2 1.41-.59l7.78-7.78 2.81-2.81c.8-.78.8-2.07 0-2.86zM5.41 20L4 18.59l7.72-7.72 1.47 1.35L5.41 20z\"/>\n",
              "  </svg>\n",
              "      </button>\n",
              "\n",
              "\n",
              "\n",
              "    <div id=\"df-976a19c9-2585-47f3-bcdd-8a3d63f2f9f9\">\n",
              "      <button class=\"colab-df-quickchart\" onclick=\"quickchart('df-976a19c9-2585-47f3-bcdd-8a3d63f2f9f9')\"\n",
              "              title=\"Suggest charts.\"\n",
              "              style=\"display:none;\">\n",
              "\n",
              "<svg xmlns=\"http://www.w3.org/2000/svg\" height=\"24px\"viewBox=\"0 0 24 24\"\n",
              "     width=\"24px\">\n",
              "    <g>\n",
              "        <path d=\"M19 3H5c-1.1 0-2 .9-2 2v14c0 1.1.9 2 2 2h14c1.1 0 2-.9 2-2V5c0-1.1-.9-2-2-2zM9 17H7v-7h2v7zm4 0h-2V7h2v10zm4 0h-2v-4h2v4z\"/>\n",
              "    </g>\n",
              "</svg>\n",
              "      </button>\n",
              "    </div>\n",
              "\n",
              "<style>\n",
              "  .colab-df-quickchart {\n",
              "    background-color: #E8F0FE;\n",
              "    border: none;\n",
              "    border-radius: 50%;\n",
              "    cursor: pointer;\n",
              "    display: none;\n",
              "    fill: #1967D2;\n",
              "    height: 32px;\n",
              "    padding: 0 0 0 0;\n",
              "    width: 32px;\n",
              "  }\n",
              "\n",
              "  .colab-df-quickchart:hover {\n",
              "    background-color: #E2EBFA;\n",
              "    box-shadow: 0px 1px 2px rgba(60, 64, 67, 0.3), 0px 1px 3px 1px rgba(60, 64, 67, 0.15);\n",
              "    fill: #174EA6;\n",
              "  }\n",
              "\n",
              "  [theme=dark] .colab-df-quickchart {\n",
              "    background-color: #3B4455;\n",
              "    fill: #D2E3FC;\n",
              "  }\n",
              "\n",
              "  [theme=dark] .colab-df-quickchart:hover {\n",
              "    background-color: #434B5C;\n",
              "    box-shadow: 0px 1px 3px 1px rgba(0, 0, 0, 0.15);\n",
              "    filter: drop-shadow(0px 1px 2px rgba(0, 0, 0, 0.3));\n",
              "    fill: #FFFFFF;\n",
              "  }\n",
              "</style>\n",
              "\n",
              "    <script>\n",
              "      async function quickchart(key) {\n",
              "        const containerElement = document.querySelector('#' + key);\n",
              "        const charts = await google.colab.kernel.invokeFunction(\n",
              "            'suggestCharts', [key], {});\n",
              "      }\n",
              "    </script>\n",
              "\n",
              "      <script>\n",
              "\n",
              "function displayQuickchartButton(domScope) {\n",
              "  let quickchartButtonEl =\n",
              "    domScope.querySelector('#df-976a19c9-2585-47f3-bcdd-8a3d63f2f9f9 button.colab-df-quickchart');\n",
              "  quickchartButtonEl.style.display =\n",
              "    google.colab.kernel.accessAllowed ? 'block' : 'none';\n",
              "}\n",
              "\n",
              "        displayQuickchartButton(document);\n",
              "      </script>\n",
              "      <style>\n",
              "    .colab-df-container {\n",
              "      display:flex;\n",
              "      flex-wrap:wrap;\n",
              "      gap: 12px;\n",
              "    }\n",
              "\n",
              "    .colab-df-convert {\n",
              "      background-color: #E8F0FE;\n",
              "      border: none;\n",
              "      border-radius: 50%;\n",
              "      cursor: pointer;\n",
              "      display: none;\n",
              "      fill: #1967D2;\n",
              "      height: 32px;\n",
              "      padding: 0 0 0 0;\n",
              "      width: 32px;\n",
              "    }\n",
              "\n",
              "    .colab-df-convert:hover {\n",
              "      background-color: #E2EBFA;\n",
              "      box-shadow: 0px 1px 2px rgba(60, 64, 67, 0.3), 0px 1px 3px 1px rgba(60, 64, 67, 0.15);\n",
              "      fill: #174EA6;\n",
              "    }\n",
              "\n",
              "    [theme=dark] .colab-df-convert {\n",
              "      background-color: #3B4455;\n",
              "      fill: #D2E3FC;\n",
              "    }\n",
              "\n",
              "    [theme=dark] .colab-df-convert:hover {\n",
              "      background-color: #434B5C;\n",
              "      box-shadow: 0px 1px 3px 1px rgba(0, 0, 0, 0.15);\n",
              "      filter: drop-shadow(0px 1px 2px rgba(0, 0, 0, 0.3));\n",
              "      fill: #FFFFFF;\n",
              "    }\n",
              "  </style>\n",
              "\n",
              "      <script>\n",
              "        const buttonEl =\n",
              "          document.querySelector('#df-c0643100-9508-4242-a9e7-b40ea5884b89 button.colab-df-convert');\n",
              "        buttonEl.style.display =\n",
              "          google.colab.kernel.accessAllowed ? 'block' : 'none';\n",
              "\n",
              "        async function convertToInteractive(key) {\n",
              "          const element = document.querySelector('#df-c0643100-9508-4242-a9e7-b40ea5884b89');\n",
              "          const dataTable =\n",
              "            await google.colab.kernel.invokeFunction('convertToInteractive',\n",
              "                                                     [key], {});\n",
              "          if (!dataTable) return;\n",
              "\n",
              "          const docLinkHtml = 'Like what you see? Visit the ' +\n",
              "            '<a target=\"_blank\" href=https://colab.research.google.com/notebooks/data_table.ipynb>data table notebook</a>'\n",
              "            + ' to learn more about interactive tables.';\n",
              "          element.innerHTML = '';\n",
              "          dataTable['output_type'] = 'display_data';\n",
              "          await google.colab.output.renderOutput(dataTable, element);\n",
              "          const docLink = document.createElement('div');\n",
              "          docLink.innerHTML = docLinkHtml;\n",
              "          element.appendChild(docLink);\n",
              "        }\n",
              "      </script>\n",
              "    </div>\n",
              "  </div>\n"
            ]
          },
          "metadata": {},
          "execution_count": 35
        }
      ]
    },
    {
      "cell_type": "markdown",
      "source": [
        "For the best rouge score, we can observe the predicted and reference summaries"
      ],
      "metadata": {
        "id": "iktBriBxEA1_"
      }
    },
    {
      "cell_type": "code",
      "source": [
        "print(\"Actual Summary\")\n",
        "print(act_vs_pred_summaries_df._get_value(38, \"Predicted_Summaries\"))\n",
        "\n",
        "print(\"Reference Summary\")\n",
        "print(act_vs_pred_summaries_df._get_value(38, \"Reference_summaries\"))"
      ],
      "metadata": {
        "colab": {
          "base_uri": "https://localhost:8080/"
        },
        "id": "7RbS2VIKD21_",
        "outputId": "9e2826ed-bdde-4d63-b8d2-61b0667dbacd"
      },
      "execution_count": null,
      "outputs": [
        {
          "output_type": "stream",
          "name": "stdout",
          "text": [
            "Actual Summary\n",
            "the statue of kate moss will be displayed in the british museum in october . it is the largest gold statue built since ancient egypt . the statue will be part of a group of major sculptures .\n",
            "Reference Summary\n",
            "statue of kate moss billed as largest gold statue built since ancient egypt .called siren, the statue will be on display at the british museum .moss statue will be displayed in gallery housing ancient greek sculpture .\n"
          ]
        }
      ]
    },
    {
      "cell_type": "code",
      "source": [
        "print(\"Actual Summary\")\n",
        "print(act_vs_pred_summaries_df._get_value(12, \"Predicted_Summaries\"))\n",
        "\n",
        "print(\"Reference Summary\")\n",
        "print(act_vs_pred_summaries_df._get_value(12, \"Reference_summaries\"))"
      ],
      "metadata": {
        "colab": {
          "base_uri": "https://localhost:8080/"
        },
        "id": "dOv_oZsCD2v1",
        "outputId": "e73d06fc-fa39-4b9a-9997-d2beaba62db4"
      },
      "execution_count": null,
      "outputs": [
        {
          "output_type": "stream",
          "name": "stdout",
          "text": [
            "Actual Summary\n",
            "mobile computer chips have gotten so powerful and affordable, and it doesn't make much sense to ship a gadget with dedicated, stagnant functionality . developers have created 100,000 apps for the store at no cost to apple, which takes a cut of revenues .\n",
            "Reference Summary\n",
            "companies are opening app stores and bringing applications to tvs, netbooks and even cars .intel launched an app store for netbooks at the consumer electronics show this week .samsung will launch an app store later this year for hdtvs and blu-ray players .ford motor co. will make select apps available for new vehicles later in 2010 .\n"
          ]
        }
      ]
    },
    {
      "cell_type": "markdown",
      "source": [
        "Loading  a T5 tokenizer to process text and summary"
      ],
      "metadata": {
        "id": "RWE6xPn3Vwjk"
      }
    },
    {
      "cell_type": "code",
      "source": [
        "from transformers import AutoTokenizer\n",
        "\n",
        "tokenizer = AutoTokenizer.from_pretrained(MODEL_NAME)"
      ],
      "metadata": {
        "id": "cbP75WBqxRcq"
      },
      "execution_count": null,
      "outputs": []
    },
    {
      "cell_type": "markdown",
      "source": [
        "Tokenizer is applied and token ids can be seen"
      ],
      "metadata": {
        "id": "zYvh65xBMoV2"
      }
    },
    {
      "cell_type": "code",
      "source": [
        "tokenizer([\"four-time defending champion\"])"
      ],
      "metadata": {
        "colab": {
          "base_uri": "https://localhost:8080/"
        },
        "id": "gIlG9EP65rl2",
        "outputId": "967e2eaf-8411-4c01-d344-0755249af5b3"
      },
      "execution_count": null,
      "outputs": [
        {
          "output_type": "execute_result",
          "data": {
            "text/plain": [
              "{'input_ids': [[662, 18, 715, 3, 20309, 6336, 1]], 'attention_mask': [[1, 1, 1, 1, 1, 1, 1]]}"
            ]
          },
          "metadata": {},
          "execution_count": 39
        }
      ]
    },
    {
      "cell_type": "code",
      "source": [
        "tokens = tokenizer.tokenize(\"four-time defending champion\")\n",
        "\n",
        "tokens"
      ],
      "metadata": {
        "colab": {
          "base_uri": "https://localhost:8080/"
        },
        "id": "hw4X7X3aSBBN",
        "outputId": "d519052b-ce8d-45db-dac0-cb72a12158d3"
      },
      "execution_count": null,
      "outputs": [
        {
          "output_type": "execute_result",
          "data": {
            "text/plain": [
              "['▁four', '-', 'time', '▁', 'defending', '▁champion']"
            ]
          },
          "metadata": {},
          "execution_count": 40
        }
      ]
    },
    {
      "cell_type": "code",
      "source": [
        "ids = tokenizer.convert_tokens_to_ids(tokens)\n",
        "\n",
        "ids"
      ],
      "metadata": {
        "colab": {
          "base_uri": "https://localhost:8080/"
        },
        "id": "QUOw00jXSXpX",
        "outputId": "890c4934-8635-4688-acd3-6e82f9a09ef6"
      },
      "execution_count": null,
      "outputs": [
        {
          "output_type": "execute_result",
          "data": {
            "text/plain": [
              "[662, 18, 715, 3, 20309, 6336]"
            ]
          },
          "metadata": {},
          "execution_count": 41
        }
      ]
    },
    {
      "cell_type": "markdown",
      "source": [
        "Loading T5 Model with AutoModelForSeq2SeqLM"
      ],
      "metadata": {
        "id": "3QqfCMkORum4"
      }
    },
    {
      "cell_type": "code",
      "source": [
        "from transformers import AutoModelForSeq2SeqLM, Seq2SeqTrainingArguments, Seq2SeqTrainer\n",
        "\n",
        "model = AutoModelForSeq2SeqLM.from_pretrained(MODEL_NAME)"
      ],
      "metadata": {
        "id": "1BikSdonVvnq"
      },
      "execution_count": null,
      "outputs": []
    },
    {
      "cell_type": "markdown",
      "source": [
        "The preprocessing function you want to create needs to:\n",
        "\n",
        "Prefix the input with a prompt so T5 knows this is a summarization task. Some models capable of multiple NLP tasks require prompting for specific tasks.\n",
        "Use the keyword text_target argument when tokenizing labels.\n",
        "Truncate sequences to be no longer than the maximum length set by the max_length parameter."
      ],
      "metadata": {
        "id": "89FjWBvk9lAa"
      }
    },
    {
      "cell_type": "code",
      "source": [
        "prefix = \"summarize: \"\n",
        "\n",
        "\n",
        "def preprocess_function(examples):\n",
        "\n",
        "    inputs = [prefix + doc for doc in examples[\"article\"]]\n",
        "    model_inputs = tokenizer(inputs, max_length = 1024, truncation = True)\n",
        "\n",
        "    labels = tokenizer(text_target = examples[\"highlights\"], max_length = 128, truncation = True)\n",
        "\n",
        "    model_inputs[\"labels\"] = labels[\"input_ids\"]\n",
        "\n",
        "    return model_inputs"
      ],
      "metadata": {
        "id": "XPR3hstoWNvc"
      },
      "execution_count": null,
      "outputs": []
    },
    {
      "cell_type": "markdown",
      "source": [
        "Applying the preprocessing function over the entire dataset by using 'map' method. We can speed up the map function by setting batched=True to process multiple elements of the dataset at once"
      ],
      "metadata": {
        "id": "TxDDuI5EShsq"
      }
    },
    {
      "cell_type": "code",
      "source": [
        "tokenized_cnn_news_summary_ds = cleaned_cnn_news_summary_ds.map(preprocess_function, batched = True)\n",
        "\n",
        "tokenized_cnn_news_summary_ds"
      ],
      "metadata": {
        "colab": {
          "base_uri": "https://localhost:8080/",
          "height": 223,
          "referenced_widgets": [
            "73e54af058b542d584190d705b74e653",
            "7acf05d80fd74ed5a7f89a967cd2288c",
            "c1109aa19c4a4ccf97f3ee76c0bdeb84",
            "e1da9bd353dd4d698fc42e6e9668d4d9",
            "8c84b05be09b420c998418a41b661a0f",
            "14682b8e9f4047df88178f7b150274f8",
            "ff408c275c6a41369a84a611bd475a1b",
            "2425b1a6f3f84456acf2f57c8f9a263a",
            "505594ae454f40aca999a1c4268f5754",
            "282cb9496b9f4e33a65a80eab0dc65b8",
            "0f791c06009a489c8f40e7c33441582f"
          ]
        },
        "id": "aqDxsUdK6pvP",
        "outputId": "e7346325-26e6-4108-e56c-4c5d03760aa6"
      },
      "execution_count": null,
      "outputs": [
        {
          "output_type": "display_data",
          "data": {
            "text/plain": [
              "Map:   0%|          | 0/6890 [00:00<?, ? examples/s]"
            ],
            "application/vnd.jupyter.widget-view+json": {
              "version_major": 2,
              "version_minor": 0,
              "model_id": "73e54af058b542d584190d705b74e653"
            }
          },
          "metadata": {}
        },
        {
          "output_type": "execute_result",
          "data": {
            "text/plain": [
              "DatasetDict({\n",
              "    train: Dataset({\n",
              "        features: ['article', 'highlights', 'id', 'input_ids', 'attention_mask', 'labels'],\n",
              "        num_rows: 6890\n",
              "    })\n",
              "    test: Dataset({\n",
              "        features: ['article', 'highlights', 'id', 'input_ids', 'attention_mask', 'labels'],\n",
              "        num_rows: 1723\n",
              "    })\n",
              "})"
            ]
          },
          "metadata": {},
          "execution_count": 44
        }
      ]
    },
    {
      "cell_type": "markdown",
      "source": [
        "Now create a batch of examples using DataCollatorForSeq2Seq. It’s more efficient to dynamically pad the sentences to the longest length in a batch during collation, instead of padding the whole dataset to the maximum length."
      ],
      "metadata": {
        "id": "mq4NciYMSaw6"
      }
    },
    {
      "cell_type": "code",
      "source": [
        "from transformers import DataCollatorForSeq2Seq\n",
        "\n",
        "data_collator = DataCollatorForSeq2Seq(tokenizer = tokenizer, model = MODEL_NAME)"
      ],
      "metadata": {
        "id": "G0Dtj4mGcrYq"
      },
      "execution_count": null,
      "outputs": []
    },
    {
      "cell_type": "code",
      "source": [
        "def compute_metrics(eval_pred):\n",
        "    predictions, labels = eval_pred\n",
        "    decoded_preds = tokenizer.batch_decode(predictions, skip_special_tokens = True)\n",
        "\n",
        "    labels = np.where(labels != -100, labels, tokenizer.pad_token_id)\n",
        "    decoded_labels = tokenizer.batch_decode(labels, skip_special_tokens = True)\n",
        "\n",
        "    result = rouge.compute(predictions = decoded_preds, references = decoded_labels, use_stemmer = True)\n",
        "\n",
        "    prediction_length = [np.count_nonzero(pred != tokenizer.pad_token_id) for pred in predictions]\n",
        "    result[\"generated_length\"] = np.mean(prediction_length)\n",
        "\n",
        "    return {k: round(v, 4) for k, v in result.items()}"
      ],
      "metadata": {
        "id": "dR56hzclc-dA"
      },
      "execution_count": null,
      "outputs": []
    },
    {
      "cell_type": "markdown",
      "source": [
        "\n",
        "Defining our training hyperparameters in Seq2SeqTrainingArguments. The only required parameter is output_dir which specifies where to save your model. We will push this model to the Hub by setting push_to_hub=True (you need to be signed in to Hugging Face to upload your model). At the end of each epoch, the Trainer will evaluate the ROUGE metric and save the training checkpoint.\n",
        "Passing the training arguments to Seq2SeqTrainer along with the model, dataset, tokenizer, data collator, and compute_metrics function.\n",
        "Calling train() to finetune your model."
      ],
      "metadata": {
        "id": "rddlJvo-RaoF"
      }
    },
    {
      "cell_type": "code",
      "source": [
        "training_args = Seq2SeqTrainingArguments(\n",
        "    output_dir = \"cnn_news_summary_model_trained_on_reduced_data\",\n",
        "    evaluation_strategy = \"epoch\",\n",
        "    learning_rate = 2e-5,\n",
        "    per_device_train_batch_size = 16,\n",
        "    per_device_eval_batch_size = 16,\n",
        "    weight_decay = 0.01,\n",
        "    save_total_limit = 3,\n",
        "    num_train_epochs = 3,\n",
        "    predict_with_generate = True,\n",
        "    fp16 = True,\n",
        "    push_to_hub = True,\n",
        ")\n",
        "\n",
        "trainer = Seq2SeqTrainer(\n",
        "    model = model,\n",
        "    args = training_args,\n",
        "    train_dataset = tokenized_cnn_news_summary_ds[\"train\"],\n",
        "    eval_dataset = tokenized_cnn_news_summary_ds[\"test\"],\n",
        "    tokenizer = tokenizer,\n",
        "    data_collator = data_collator,\n",
        "    compute_metrics = compute_metrics\n",
        ")\n",
        "\n",
        "trainer.train()"
      ],
      "metadata": {
        "colab": {
          "base_uri": "https://localhost:8080/",
          "height": 294
        },
        "id": "onwzAIEbdK9g",
        "outputId": "e28389ce-5487-4403-9b18-0022863f2426"
      },
      "execution_count": null,
      "outputs": [
        {
          "output_type": "stream",
          "name": "stderr",
          "text": [
            "/content/cnn_news_summary_model_trained_on_reduced_data is already a clone of https://huggingface.co/loony-user/cnn_news_summary_model_trained_on_reduced_data. Make sure you pull the latest changes with `repo.git_pull()`.\n",
            "WARNING:huggingface_hub.repository:/content/cnn_news_summary_model_trained_on_reduced_data is already a clone of https://huggingface.co/loony-user/cnn_news_summary_model_trained_on_reduced_data. Make sure you pull the latest changes with `repo.git_pull()`.\n",
            "/usr/local/lib/python3.10/dist-packages/transformers/optimization.py:411: FutureWarning: This implementation of AdamW is deprecated and will be removed in a future version. Use the PyTorch implementation torch.optim.AdamW instead, or set `no_deprecation_warning=True` to disable this warning\n",
            "  warnings.warn(\n"
          ]
        },
        {
          "output_type": "display_data",
          "data": {
            "text/plain": [
              "<IPython.core.display.HTML object>"
            ],
            "text/html": [
              "\n",
              "    <div>\n",
              "      \n",
              "      <progress value='1293' max='1293' style='width:300px; height:20px; vertical-align: middle;'></progress>\n",
              "      [1293/1293 23:55, Epoch 3/3]\n",
              "    </div>\n",
              "    <table border=\"1\" class=\"dataframe\">\n",
              "  <thead>\n",
              " <tr style=\"text-align: left;\">\n",
              "      <th>Epoch</th>\n",
              "      <th>Training Loss</th>\n",
              "      <th>Validation Loss</th>\n",
              "      <th>Rouge1</th>\n",
              "      <th>Rouge2</th>\n",
              "      <th>Rougel</th>\n",
              "      <th>Rougelsum</th>\n",
              "      <th>Generated Length</th>\n",
              "    </tr>\n",
              "  </thead>\n",
              "  <tbody>\n",
              "    <tr>\n",
              "      <td>1</td>\n",
              "      <td>No log</td>\n",
              "      <td>1.600637</td>\n",
              "      <td>0.218100</td>\n",
              "      <td>0.094400</td>\n",
              "      <td>0.183700</td>\n",
              "      <td>0.183800</td>\n",
              "      <td>19.000000</td>\n",
              "    </tr>\n",
              "    <tr>\n",
              "      <td>2</td>\n",
              "      <td>1.808300</td>\n",
              "      <td>1.592310</td>\n",
              "      <td>0.218700</td>\n",
              "      <td>0.095200</td>\n",
              "      <td>0.184200</td>\n",
              "      <td>0.184500</td>\n",
              "      <td>19.000000</td>\n",
              "    </tr>\n",
              "    <tr>\n",
              "      <td>3</td>\n",
              "      <td>1.800400</td>\n",
              "      <td>1.590927</td>\n",
              "      <td>0.218400</td>\n",
              "      <td>0.095100</td>\n",
              "      <td>0.184100</td>\n",
              "      <td>0.184300</td>\n",
              "      <td>19.000000</td>\n",
              "    </tr>\n",
              "  </tbody>\n",
              "</table><p>"
            ]
          },
          "metadata": {}
        },
        {
          "output_type": "execute_result",
          "data": {
            "text/plain": [
              "TrainOutput(global_step=1293, training_loss=1.8007458939814143, metrics={'train_runtime': 1435.8847, 'train_samples_per_second': 14.395, 'train_steps_per_second': 0.9, 'total_flos': 5595030072852480.0, 'train_loss': 1.8007458939814143, 'epoch': 3.0})"
            ]
          },
          "metadata": {},
          "execution_count": 49
        }
      ]
    },
    {
      "cell_type": "markdown",
      "source": [
        "## TODO Recording:\n",
        "\n",
        "- Immediately after training completes click on the link to the model on HuggingFace e.g. https://huggingface.co/loony-user/cnn_news_summary_model_trained_on_reduced_data\n",
        "- Click on Model Card - should be nothing there\n",
        "- Click on Files and Versions - should see the trained model files and some commits there\n",
        "- Click on Training Metrics - that will take you to TensorBoard - show the graphs there (click on all tabs)"
      ],
      "metadata": {
        "id": "laaCOmOdBte_"
      }
    },
    {
      "cell_type": "code",
      "source": [
        "trainer.push_to_hub()"
      ],
      "metadata": {
        "colab": {
          "base_uri": "https://localhost:8080/",
          "height": 308,
          "referenced_widgets": [
            "39026abdc1a449da86d9c76c6d31432b",
            "7d859e043ed04f1da99cb08cbd542f54",
            "174c52396fa8449ab4f89844e53caf57",
            "7080c985675041fabc073ae6996c7ea1",
            "016d5e7c4a384ff38b1228e93c382229",
            "1eaccae77d91405e994dce9042645501",
            "b55aac68703a4781ac48f802f5114fcf",
            "0dfb0f0fc44e465db5056d00dc6fced3",
            "93e050136f01471d80e113c4e4b1daff",
            "325002f415ae4f889f4d15ecbbfb9662",
            "1f8a2018f2154bdb99bc0870699bc92b",
            "738c85bd54174bb2b85b65482cca1063",
            "15d7cf93e6794183ad7e7a95d8442736",
            "9ab2b3c11de54fcf87096612abd4b8ea",
            "780455bc02c244dba178bda047bf8c87",
            "0d0bd6d543ea4f30927493cd327c6c3e",
            "e215c03d30da41e886ef960519a4f6ff",
            "5c68c79e9320438c8c65f97ed5134ebc",
            "1aedb6e1d75c42acb259baab41521b82",
            "ccdca671cd8149db979a04f451c7fa6d",
            "f6547f288b4143e6a83b4e97d138b6b7",
            "e9928402dd7f4308ac30a319e2de1f7b"
          ]
        },
        "id": "tJl0TnIF76tJ",
        "outputId": "282ac55c-37d9-4686-e0e9-1d70f84f58fb"
      },
      "execution_count": null,
      "outputs": [
        {
          "output_type": "display_data",
          "data": {
            "text/plain": [
              "Upload file pytorch_model.bin:   0%|          | 1.00/231M [00:00<?, ?B/s]"
            ],
            "application/vnd.jupyter.widget-view+json": {
              "version_major": 2,
              "version_minor": 0,
              "model_id": "39026abdc1a449da86d9c76c6d31432b"
            }
          },
          "metadata": {}
        },
        {
          "output_type": "display_data",
          "data": {
            "text/plain": [
              "Upload file runs/Aug06_13-13-19_c43c2ceb9006/events.out.tfevents.1691327602.c43c2ceb9006.50464.1:   0%|       …"
            ],
            "application/vnd.jupyter.widget-view+json": {
              "version_major": 2,
              "version_minor": 0,
              "model_id": "738c85bd54174bb2b85b65482cca1063"
            }
          },
          "metadata": {}
        },
        {
          "output_type": "stream",
          "name": "stderr",
          "text": [
            "To https://huggingface.co/loony-user/cnn_news_summary_model_trained_on_reduced_data\n",
            "   6deb92d..6f0f6bb  main -> main\n",
            "\n",
            "WARNING:huggingface_hub.repository:To https://huggingface.co/loony-user/cnn_news_summary_model_trained_on_reduced_data\n",
            "   6deb92d..6f0f6bb  main -> main\n",
            "\n",
            "To https://huggingface.co/loony-user/cnn_news_summary_model_trained_on_reduced_data\n",
            "   6f0f6bb..0a042df  main -> main\n",
            "\n",
            "WARNING:huggingface_hub.repository:To https://huggingface.co/loony-user/cnn_news_summary_model_trained_on_reduced_data\n",
            "   6f0f6bb..0a042df  main -> main\n",
            "\n"
          ]
        },
        {
          "output_type": "execute_result",
          "data": {
            "text/plain": [
              "'https://huggingface.co/loony-user/cnn_news_summary_model_trained_on_reduced_data/commit/6f0f6bb18d7b1039b5b343ca9977b2a3c2f5e231'"
            ],
            "application/vnd.google.colaboratory.intrinsic+json": {
              "type": "string"
            }
          },
          "metadata": {},
          "execution_count": 50
        }
      ]
    },
    {
      "cell_type": "markdown",
      "source": [
        "## TODO Recording:\n",
        "\n",
        "- Now go to the model on HuggingFace\n",
        "- Click on \"Model Card\" show that it has been generated\n",
        "- Click on \"Files and Versions\" and show"
      ],
      "metadata": {
        "id": "NzVAm0oSCVGS"
      }
    },
    {
      "cell_type": "code",
      "source": [
        "example_text"
      ],
      "metadata": {
        "colab": {
          "base_uri": "https://localhost:8080/",
          "height": 105
        },
        "id": "mYsJWgi-De9I",
        "outputId": "d2403e99-8b2d-48a7-82bc-2290055cb5de"
      },
      "execution_count": null,
      "outputs": [
        {
          "output_type": "execute_result",
          "data": {
            "text/plain": [
              "\"(cnn)  every dog has his day, but sir lancelot  or at least his carbon copy  has a second one. edgar and nina otto show off 10-week-old lancey, a clone of the most human of any dog we've ever had. a boca raton, florida, couple paid a california firm $155,000 to clone their beloved labrador retriever, who died from cancer a year ago. the clone, a 10-week-old puppy dubbed lancey, was hand-delivered to them earlier this week by lou hawthorne, chairman of bioarts international, a biotechnology company. one minute with lancey and you know he's special. he's both extremely aware and very sweet, hawthorne said in a bioarts statement. edgar and nina otto said they began thinking about cloning sir lancelot about five years ago. i said 'well, you know, it wouldn't hurt to have his dna frozen,' and that's what we did, nina otto told cnn affiliate wpbf. the ottos were one of five families to bid and win a bioarts auction for a chance to clone their family dog, according to a bioarts statement. lancey is the world's first commercially cloned dog, the company said; the ottos are the first of six current clients to receive their clone. sir lancelot's dna sample was sent to the sooam biotech research foundation in seoul, south korea, which provides cloning services to bioarts. researchers there put the dna into an egg, and lancey was born november 18, according to bioarts. the ottos said they have had many beloved dogs over the years  and have nine others currently  but maintain sir lancelot was special. sir lancelot was the most human of any dog we've ever had, edgar otto said in the bioarts statement. he was a prince among dogs. in an interview with wpbf, edgar otto said sir lancelot was a very, very, very special dog to us. and we've given a lot more to the humane society than we've ever spent on this project.  watch the ottos talk about lancelot and lancey » . for its part, the humane society of the united states says it's against the commercial cloning of animals. given the current pet overpopulation problem, which costs millions of animals their lives and millions in public tax dollars each year, the cloning of pets has no social value and in fact may lead to increased animal suffering, the organization said on its web site. for those looking to replace a lost pet, cloning will not create an animal identical to the one who is gone; cloning cannot replicate an animal's uniqueness. cloning can only replicate the pet's genetics, which influence but do not determine his physical attributes or personality. the ottos, however, said replicating sir lancelot's genetics is enough for them. edgar otto said he realizes lancey might not be just like their departed dog, but if he's different, we're not going to love him any less. edgar otto is the son of the late edwin otto, who was part of the founding of nascar and a motorsports pioneer, according to www.ottomotorsports.com.\""
            ],
            "application/vnd.google.colaboratory.intrinsic+json": {
              "type": "string"
            }
          },
          "metadata": {},
          "execution_count": 53
        }
      ]
    },
    {
      "cell_type": "markdown",
      "source": [
        "The simplest way to try out your finetuned model for inference is to use it in a pipeline(). Instantiate a pipeline for summarization with your model, and pass your text to it:"
      ],
      "metadata": {
        "id": "iID-4veYLMow"
      }
    },
    {
      "cell_type": "code",
      "source": [
        "from transformers import pipeline\n",
        "\n",
        "prefix = \"summarize: \"\n",
        "\n",
        "summarizer = pipeline(\n",
        "    \"summarization\",\n",
        "    model = \"loony-user/cnn_news_summary_model_trained_on_reduced_data\",\n",
        "    truncation=True\n",
        ")\n",
        "summary_txt = summarizer(prefix + example_text)\n",
        "\n",
        "summary_txt"
      ],
      "metadata": {
        "colab": {
          "base_uri": "https://localhost:8080/"
        },
        "id": "UG9NfhLY36Jg",
        "outputId": "6919a55f-c8d2-4178-9872-a458275b47e6"
      },
      "execution_count": null,
      "outputs": [
        {
          "output_type": "execute_result",
          "data": {
            "text/plain": [
              "[{'summary_text': \"edgar and nina otto paid california firm $155,000 to clone their beloved labrador retriever .the 10-week-old puppy, dubbed lancey, was hand-delivered to them earlier this week .otos were one of five families to bid and win a bioarts auction for a chance .sir lancelot's dna sample was sent to the sooam biotech research foundation in\"}]"
            ]
          },
          "metadata": {},
          "execution_count": 56
        }
      ]
    },
    {
      "cell_type": "markdown",
      "source": [
        "Alternative way of summarising text(manual method)"
      ],
      "metadata": {
        "id": "7Odqj5kc0JDk"
      }
    },
    {
      "cell_type": "code",
      "source": [
        "from transformers import AutoTokenizer\n",
        "\n",
        "tokenizer = AutoTokenizer.from_pretrained(\"loony-user/cnn_news_summary_model_trained_on_reduced_data\")\n",
        "\n",
        "inputs = tokenizer(prefix + example_text, return_tensors = \"pt\", truncation=True).input_ids"
      ],
      "metadata": {
        "id": "VM2h2IXBzxeH"
      },
      "execution_count": null,
      "outputs": []
    },
    {
      "cell_type": "code",
      "source": [
        "model = AutoModelForSeq2SeqLM.from_pretrained(\"loony-user/cnn_news_summary_model_trained_on_reduced_data\")\n",
        "\n",
        "outputs = model.generate(inputs, max_new_tokens = 100, do_sample = False)\n",
        "\n",
        "tokenizer.decode(outputs[0], skip_special_tokens = True)"
      ],
      "metadata": {
        "colab": {
          "base_uri": "https://localhost:8080/",
          "height": 53
        },
        "id": "hV5vu7fgz6Mr",
        "outputId": "788351ae-53aa-46d9-af0a-abb4ffc3e5f0"
      },
      "execution_count": null,
      "outputs": [
        {
          "output_type": "execute_result",
          "data": {
            "text/plain": [
              "'edgar and nina otto paid california firm $155,000 to clone their beloved labrador retriever.the 10-week-old puppy dubbed lancey was hand-delivered to them earlier this week.ottos are the first of six current clients to receive their clone.'"
            ],
            "application/vnd.google.colaboratory.intrinsic+json": {
              "type": "string"
            }
          },
          "metadata": {},
          "execution_count": 59
        }
      ]
    },
    {
      "cell_type": "code",
      "source": [
        "ref_txt"
      ],
      "metadata": {
        "colab": {
          "base_uri": "https://localhost:8080/",
          "height": 53
        },
        "id": "d1AK09DLRX2b",
        "outputId": "91538a4b-1b9e-43ac-9bd2-92395d2d70d2"
      },
      "execution_count": null,
      "outputs": [
        {
          "output_type": "execute_result",
          "data": {
            "text/plain": [
              "\"couple won auction to clone family dog, biotech company says .lancey is world's first commercially cloned dog, company says .dna of deceased dog sent to s. korea, and cloned puppy born november 18 .humane society says it's against commercial cloning of animals .\""
            ],
            "application/vnd.google.colaboratory.intrinsic+json": {
              "type": "string"
            }
          },
          "metadata": {},
          "execution_count": 60
        }
      ]
    },
    {
      "cell_type": "code",
      "source": [
        "result = rouge.compute(predictions = [summary_txt[0][\"summary_text\"]],\n",
        "                       references = [ref_txt], use_stemmer = False)\n",
        "result"
      ],
      "metadata": {
        "colab": {
          "base_uri": "https://localhost:8080/"
        },
        "id": "VEz6i4fID4vF",
        "outputId": "e731ae9b-351b-4bf1-c87f-f2e7f4d72566"
      },
      "execution_count": null,
      "outputs": [
        {
          "output_type": "execute_result",
          "data": {
            "text/plain": [
              "{'rouge1': 0.23076923076923075,\n",
              " 'rouge2': 0.0392156862745098,\n",
              " 'rougeL': 0.13461538461538464,\n",
              " 'rougeLsum': 0.13461538461538464}"
            ]
          },
          "metadata": {},
          "execution_count": 61
        }
      ]
    },
    {
      "cell_type": "code",
      "source": [
        "candidate_summaries = []\n",
        "\n",
        "for i, text in enumerate(tqdm(article_texts[:50])):\n",
        "\n",
        "  candidate = summarizer(prefix + text)\n",
        "\n",
        "  candidate_summaries.append(candidate[0][\"summary_text\"])"
      ],
      "metadata": {
        "colab": {
          "base_uri": "https://localhost:8080/"
        },
        "id": "X78IvaohEhUl",
        "outputId": "dd2c6641-8127-4ba1-ae23-836797c59fe1"
      },
      "execution_count": null,
      "outputs": [
        {
          "output_type": "stream",
          "name": "stderr",
          "text": [
            "  2%|▏         | 1/50 [00:05<04:25,  5.42s/it]Your max_length is set to 200, but your input_length is only 171. Since this is a summarization task, where outputs shorter than the input are typically wanted, you might consider decreasing max_length manually, e.g. summarizer('...', max_length=85)\n",
            "100%|██████████| 50/50 [04:02<00:00,  4.86s/it]\n"
          ]
        }
      ]
    },
    {
      "cell_type": "markdown",
      "source": [
        "Looks like zero shot untuned model is having slighly better performance than our fine tuned model."
      ],
      "metadata": {
        "id": "3SzyMC2rNYgO"
      }
    },
    {
      "cell_type": "code",
      "source": [
        "result_agg = rouge.compute(predictions = candidate_summaries,\n",
        "                           references = article_summaries[:50], use_stemmer = False)\n",
        "result_agg"
      ],
      "metadata": {
        "colab": {
          "base_uri": "https://localhost:8080/"
        },
        "id": "79EsaPZyD4iW",
        "outputId": "3acb4e52-35d3-4b4f-ab89-ead053715c42"
      },
      "execution_count": null,
      "outputs": [
        {
          "output_type": "execute_result",
          "data": {
            "text/plain": [
              "{'rouge1': 0.33933829483177846,\n",
              " 'rouge2': 0.15359698297170693,\n",
              " 'rougeL': 0.25293919302055723,\n",
              " 'rougeLsum': 0.2519742018631588}"
            ]
          },
          "metadata": {},
          "execution_count": 63
        }
      ]
    },
    {
      "cell_type": "code",
      "source": [
        "result_unagg = rouge.compute(predictions = candidate_summaries, references = article_summaries[:50],\n",
        "                             use_stemmer = True, use_aggregator = False)"
      ],
      "metadata": {
        "id": "u5z4DtSPUo02"
      },
      "execution_count": null,
      "outputs": []
    },
    {
      "cell_type": "code",
      "source": [
        "result_unagg_rsum = np.array(result_unagg[\"rougeLsum\"])\n",
        "\n",
        "np.argmax(result_unagg_rsum), np.argmin(result_unagg_rsum)"
      ],
      "metadata": {
        "colab": {
          "base_uri": "https://localhost:8080/"
        },
        "id": "jgEYET1P9P9G",
        "outputId": "414267ed-9745-41da-acdc-6a32c88b242b"
      },
      "execution_count": null,
      "outputs": [
        {
          "output_type": "execute_result",
          "data": {
            "text/plain": [
              "(27, 23)"
            ]
          },
          "metadata": {},
          "execution_count": 69
        }
      ]
    },
    {
      "cell_type": "markdown",
      "source": [
        "Actual vs Predicted summaries dataframe is obtained"
      ],
      "metadata": {
        "id": "DiG0axZm8MUB"
      }
    },
    {
      "cell_type": "code",
      "source": [
        "act_vs_pred_summaries_df = pd.DataFrame(list(zip(candidate_summaries, article_summaries[:50])),\n",
        "                                        columns = [\"Predicted_Summaries\", \"Reference_summaries\"])\n",
        "act_vs_pred_summaries_df.head()"
      ],
      "metadata": {
        "colab": {
          "base_uri": "https://localhost:8080/",
          "height": 206
        },
        "id": "3pFyZ9AN77ii",
        "outputId": "85db2e14-c152-4c26-bbad-18a9d90a45bc"
      },
      "execution_count": null,
      "outputs": [
        {
          "output_type": "execute_result",
          "data": {
            "text/plain": [
              "                                 Predicted_Summaries  \\\n",
              "0  bronx firefighter jimmy senk pulls 4-year-old ...   \n",
              "1  nigeria's princess nikky onyeri speaks out to ...   \n",
              "2  troy davis has always maintained his innocence...   \n",
              "3  more than 11,500 public servants suspended or ...   \n",
              "4  sri lankan government should release more than...   \n",
              "\n",
              "                                 Reference_summaries  \n",
              "0  horia cretan became a hero for carrying boy fr...  \n",
              "1  health advocate from nigeria campaigns for bet...  \n",
              "2  supreme court's latest ruling means troy davis...  \n",
              "3  international transparency poll: businesses in...  \n",
              "4  group: more than 280,000 displaced tamil civil...  "
            ],
            "text/html": [
              "\n",
              "\n",
              "  <div id=\"df-0aa06dfa-1a51-428f-a01f-02a614b28830\">\n",
              "    <div class=\"colab-df-container\">\n",
              "      <div>\n",
              "<style scoped>\n",
              "    .dataframe tbody tr th:only-of-type {\n",
              "        vertical-align: middle;\n",
              "    }\n",
              "\n",
              "    .dataframe tbody tr th {\n",
              "        vertical-align: top;\n",
              "    }\n",
              "\n",
              "    .dataframe thead th {\n",
              "        text-align: right;\n",
              "    }\n",
              "</style>\n",
              "<table border=\"1\" class=\"dataframe\">\n",
              "  <thead>\n",
              "    <tr style=\"text-align: right;\">\n",
              "      <th></th>\n",
              "      <th>Predicted_Summaries</th>\n",
              "      <th>Reference_summaries</th>\n",
              "    </tr>\n",
              "  </thead>\n",
              "  <tbody>\n",
              "    <tr>\n",
              "      <th>0</th>\n",
              "      <td>bronx firefighter jimmy senk pulls 4-year-old ...</td>\n",
              "      <td>horia cretan became a hero for carrying boy fr...</td>\n",
              "    </tr>\n",
              "    <tr>\n",
              "      <th>1</th>\n",
              "      <td>nigeria's princess nikky onyeri speaks out to ...</td>\n",
              "      <td>health advocate from nigeria campaigns for bet...</td>\n",
              "    </tr>\n",
              "    <tr>\n",
              "      <th>2</th>\n",
              "      <td>troy davis has always maintained his innocence...</td>\n",
              "      <td>supreme court's latest ruling means troy davis...</td>\n",
              "    </tr>\n",
              "    <tr>\n",
              "      <th>3</th>\n",
              "      <td>more than 11,500 public servants suspended or ...</td>\n",
              "      <td>international transparency poll: businesses in...</td>\n",
              "    </tr>\n",
              "    <tr>\n",
              "      <th>4</th>\n",
              "      <td>sri lankan government should release more than...</td>\n",
              "      <td>group: more than 280,000 displaced tamil civil...</td>\n",
              "    </tr>\n",
              "  </tbody>\n",
              "</table>\n",
              "</div>\n",
              "      <button class=\"colab-df-convert\" onclick=\"convertToInteractive('df-0aa06dfa-1a51-428f-a01f-02a614b28830')\"\n",
              "              title=\"Convert this dataframe to an interactive table.\"\n",
              "              style=\"display:none;\">\n",
              "\n",
              "  <svg xmlns=\"http://www.w3.org/2000/svg\" height=\"24px\"viewBox=\"0 0 24 24\"\n",
              "       width=\"24px\">\n",
              "    <path d=\"M0 0h24v24H0V0z\" fill=\"none\"/>\n",
              "    <path d=\"M18.56 5.44l.94 2.06.94-2.06 2.06-.94-2.06-.94-.94-2.06-.94 2.06-2.06.94zm-11 1L8.5 8.5l.94-2.06 2.06-.94-2.06-.94L8.5 2.5l-.94 2.06-2.06.94zm10 10l.94 2.06.94-2.06 2.06-.94-2.06-.94-.94-2.06-.94 2.06-2.06.94z\"/><path d=\"M17.41 7.96l-1.37-1.37c-.4-.4-.92-.59-1.43-.59-.52 0-1.04.2-1.43.59L10.3 9.45l-7.72 7.72c-.78.78-.78 2.05 0 2.83L4 21.41c.39.39.9.59 1.41.59.51 0 1.02-.2 1.41-.59l7.78-7.78 2.81-2.81c.8-.78.8-2.07 0-2.86zM5.41 20L4 18.59l7.72-7.72 1.47 1.35L5.41 20z\"/>\n",
              "  </svg>\n",
              "      </button>\n",
              "\n",
              "\n",
              "\n",
              "    <div id=\"df-eea442e8-7e8f-40ae-81fc-17cdfa65bb20\">\n",
              "      <button class=\"colab-df-quickchart\" onclick=\"quickchart('df-eea442e8-7e8f-40ae-81fc-17cdfa65bb20')\"\n",
              "              title=\"Suggest charts.\"\n",
              "              style=\"display:none;\">\n",
              "\n",
              "<svg xmlns=\"http://www.w3.org/2000/svg\" height=\"24px\"viewBox=\"0 0 24 24\"\n",
              "     width=\"24px\">\n",
              "    <g>\n",
              "        <path d=\"M19 3H5c-1.1 0-2 .9-2 2v14c0 1.1.9 2 2 2h14c1.1 0 2-.9 2-2V5c0-1.1-.9-2-2-2zM9 17H7v-7h2v7zm4 0h-2V7h2v10zm4 0h-2v-4h2v4z\"/>\n",
              "    </g>\n",
              "</svg>\n",
              "      </button>\n",
              "    </div>\n",
              "\n",
              "<style>\n",
              "  .colab-df-quickchart {\n",
              "    background-color: #E8F0FE;\n",
              "    border: none;\n",
              "    border-radius: 50%;\n",
              "    cursor: pointer;\n",
              "    display: none;\n",
              "    fill: #1967D2;\n",
              "    height: 32px;\n",
              "    padding: 0 0 0 0;\n",
              "    width: 32px;\n",
              "  }\n",
              "\n",
              "  .colab-df-quickchart:hover {\n",
              "    background-color: #E2EBFA;\n",
              "    box-shadow: 0px 1px 2px rgba(60, 64, 67, 0.3), 0px 1px 3px 1px rgba(60, 64, 67, 0.15);\n",
              "    fill: #174EA6;\n",
              "  }\n",
              "\n",
              "  [theme=dark] .colab-df-quickchart {\n",
              "    background-color: #3B4455;\n",
              "    fill: #D2E3FC;\n",
              "  }\n",
              "\n",
              "  [theme=dark] .colab-df-quickchart:hover {\n",
              "    background-color: #434B5C;\n",
              "    box-shadow: 0px 1px 3px 1px rgba(0, 0, 0, 0.15);\n",
              "    filter: drop-shadow(0px 1px 2px rgba(0, 0, 0, 0.3));\n",
              "    fill: #FFFFFF;\n",
              "  }\n",
              "</style>\n",
              "\n",
              "    <script>\n",
              "      async function quickchart(key) {\n",
              "        const containerElement = document.querySelector('#' + key);\n",
              "        const charts = await google.colab.kernel.invokeFunction(\n",
              "            'suggestCharts', [key], {});\n",
              "      }\n",
              "    </script>\n",
              "\n",
              "      <script>\n",
              "\n",
              "function displayQuickchartButton(domScope) {\n",
              "  let quickchartButtonEl =\n",
              "    domScope.querySelector('#df-eea442e8-7e8f-40ae-81fc-17cdfa65bb20 button.colab-df-quickchart');\n",
              "  quickchartButtonEl.style.display =\n",
              "    google.colab.kernel.accessAllowed ? 'block' : 'none';\n",
              "}\n",
              "\n",
              "        displayQuickchartButton(document);\n",
              "      </script>\n",
              "      <style>\n",
              "    .colab-df-container {\n",
              "      display:flex;\n",
              "      flex-wrap:wrap;\n",
              "      gap: 12px;\n",
              "    }\n",
              "\n",
              "    .colab-df-convert {\n",
              "      background-color: #E8F0FE;\n",
              "      border: none;\n",
              "      border-radius: 50%;\n",
              "      cursor: pointer;\n",
              "      display: none;\n",
              "      fill: #1967D2;\n",
              "      height: 32px;\n",
              "      padding: 0 0 0 0;\n",
              "      width: 32px;\n",
              "    }\n",
              "\n",
              "    .colab-df-convert:hover {\n",
              "      background-color: #E2EBFA;\n",
              "      box-shadow: 0px 1px 2px rgba(60, 64, 67, 0.3), 0px 1px 3px 1px rgba(60, 64, 67, 0.15);\n",
              "      fill: #174EA6;\n",
              "    }\n",
              "\n",
              "    [theme=dark] .colab-df-convert {\n",
              "      background-color: #3B4455;\n",
              "      fill: #D2E3FC;\n",
              "    }\n",
              "\n",
              "    [theme=dark] .colab-df-convert:hover {\n",
              "      background-color: #434B5C;\n",
              "      box-shadow: 0px 1px 3px 1px rgba(0, 0, 0, 0.15);\n",
              "      filter: drop-shadow(0px 1px 2px rgba(0, 0, 0, 0.3));\n",
              "      fill: #FFFFFF;\n",
              "    }\n",
              "  </style>\n",
              "\n",
              "      <script>\n",
              "        const buttonEl =\n",
              "          document.querySelector('#df-0aa06dfa-1a51-428f-a01f-02a614b28830 button.colab-df-convert');\n",
              "        buttonEl.style.display =\n",
              "          google.colab.kernel.accessAllowed ? 'block' : 'none';\n",
              "\n",
              "        async function convertToInteractive(key) {\n",
              "          const element = document.querySelector('#df-0aa06dfa-1a51-428f-a01f-02a614b28830');\n",
              "          const dataTable =\n",
              "            await google.colab.kernel.invokeFunction('convertToInteractive',\n",
              "                                                     [key], {});\n",
              "          if (!dataTable) return;\n",
              "\n",
              "          const docLinkHtml = 'Like what you see? Visit the ' +\n",
              "            '<a target=\"_blank\" href=https://colab.research.google.com/notebooks/data_table.ipynb>data table notebook</a>'\n",
              "            + ' to learn more about interactive tables.';\n",
              "          element.innerHTML = '';\n",
              "          dataTable['output_type'] = 'display_data';\n",
              "          await google.colab.output.renderOutput(dataTable, element);\n",
              "          const docLink = document.createElement('div');\n",
              "          docLink.innerHTML = docLinkHtml;\n",
              "          element.appendChild(docLink);\n",
              "        }\n",
              "      </script>\n",
              "    </div>\n",
              "  </div>\n"
            ]
          },
          "metadata": {},
          "execution_count": 66
        }
      ]
    },
    {
      "cell_type": "markdown",
      "source": [
        "Taking a look at the highest and lowest rouge score case's predicted and reference summaries"
      ],
      "metadata": {
        "id": "7-Ha8rt78a9V"
      }
    },
    {
      "cell_type": "code",
      "source": [
        "print(\"Actual Summary\")\n",
        "print(act_vs_pred_summaries_df._get_value(27, \"Predicted_Summaries\"))\n",
        "\n",
        "print(\"Reference Summary\")\n",
        "print(act_vs_pred_summaries_df._get_value(27, \"Reference_summaries\"))"
      ],
      "metadata": {
        "colab": {
          "base_uri": "https://localhost:8080/"
        },
        "id": "qArHv6qv8cIk",
        "outputId": "32bda2eb-7206-42b6-94a7-138e7f654be7"
      },
      "execution_count": null,
      "outputs": [
        {
          "output_type": "stream",
          "name": "stdout",
          "text": [
            "Actual Summary\n",
            "cnn's mainsail investigates what makes a classic yacht at one of the world's great yachting regattas .shirley robertson hitches a ride on board some of the most iconic yachts both ancient and modern .alghi team boss ernesto bertarelli drives the new alinghi 5 the defender of the america's cup .\n",
            "Reference Summary\n",
            "what makes a 'classic' yacht? mainsail takes up the challenge to find out .shirley robertson hitches a ride on some of the world's most iconic yachts .she drives the new alinghi 5, while chatting to alinghi team boss bertarelli .\n"
          ]
        }
      ]
    },
    {
      "cell_type": "code",
      "source": [
        "print(\"Actual Summary\")\n",
        "print(act_vs_pred_summaries_df._get_value(23, \"Predicted_Summaries\"))\n",
        "\n",
        "print(\"Reference Summary\")\n",
        "print(act_vs_pred_summaries_df._get_value(23, \"Reference_summaries\"))"
      ],
      "metadata": {
        "colab": {
          "base_uri": "https://localhost:8080/"
        },
        "id": "Q1kVczS88jsH",
        "outputId": "c2b25b73-7f64-4047-b937-4d9765555f9e"
      },
      "execution_count": null,
      "outputs": [
        {
          "output_type": "stream",
          "name": "stdout",
          "text": [
            "Actual Summary\n",
            "chandra levy's mother flew to atlanta just to talk to them .they mailed their findings to the police chief in washington, d.c. they never heard back, but on saturday, the text and phone messages began to fly .a week ago, the washington police chief called his parents .\n",
            "Reference Summary\n",
            "group can't divulge whom it named as a suspect in chandra levy case .arrest warrant completely validates 15 months of work, professor says .professor recalls levy's mother being grateful that students kept spotlight on case .about 80 students at bauder college are members of crime club .\n"
          ]
        }
      ]
    },
    {
      "cell_type": "code",
      "source": [],
      "metadata": {
        "id": "iNtQZBPiDPT-"
      },
      "execution_count": null,
      "outputs": []
    }
  ],
  "metadata": {
    "colab": {
      "provenance": [],
      "gpuType": "T4"
    },
    "language_info": {
      "name": "python"
    },
    "kernelspec": {
      "name": "python3",
      "display_name": "Python 3"
    },
    "widgets": {
      "application/vnd.jupyter.widget-state+json": {
        "6f24c13c427046ce81fa8be1342664a1": {
          "model_module": "@jupyter-widgets/controls",
          "model_name": "VBoxModel",
          "model_module_version": "1.5.0",
          "state": {
            "_dom_classes": [],
            "_model_module": "@jupyter-widgets/controls",
            "_model_module_version": "1.5.0",
            "_model_name": "VBoxModel",
            "_view_count": null,
            "_view_module": "@jupyter-widgets/controls",
            "_view_module_version": "1.5.0",
            "_view_name": "VBoxView",
            "box_style": "",
            "children": [
              "IPY_MODEL_3f5fd852a1824d0dbe794edd40cab88d",
              "IPY_MODEL_10fc9193e7a54a24bb7269721e2dfe0d",
              "IPY_MODEL_a139ebe590c14d9d91603812ee1719fb",
              "IPY_MODEL_261efa9405cf463492a781c608535a16"
            ],
            "layout": "IPY_MODEL_11fa045f55a24c0aa081aad9ee0c0203"
          }
        },
        "9ffa53725dfb4bff83eb218b87d461f6": {
          "model_module": "@jupyter-widgets/controls",
          "model_name": "HTMLModel",
          "model_module_version": "1.5.0",
          "state": {
            "_dom_classes": [],
            "_model_module": "@jupyter-widgets/controls",
            "_model_module_version": "1.5.0",
            "_model_name": "HTMLModel",
            "_view_count": null,
            "_view_module": "@jupyter-widgets/controls",
            "_view_module_version": "1.5.0",
            "_view_name": "HTMLView",
            "description": "",
            "description_tooltip": null,
            "layout": "IPY_MODEL_9f5739adee3c43f482ea5372c37fbc0a",
            "placeholder": "​",
            "style": "IPY_MODEL_90ccca0eeff44937a4eccdad75dc14d1",
            "value": "<center> <img\nsrc=https://huggingface.co/front/assets/huggingface_logo-noborder.svg\nalt='Hugging Face'> <br> Copy a token from <a\nhref=\"https://huggingface.co/settings/tokens\" target=\"_blank\">your Hugging Face\ntokens page</a> and paste it below. <br> Immediately click login after copying\nyour token or it might be stored in plain text in this notebook file. </center>"
          }
        },
        "6c7663abdac143fa8ad88831a630ef16": {
          "model_module": "@jupyter-widgets/controls",
          "model_name": "PasswordModel",
          "model_module_version": "1.5.0",
          "state": {
            "_dom_classes": [],
            "_model_module": "@jupyter-widgets/controls",
            "_model_module_version": "1.5.0",
            "_model_name": "PasswordModel",
            "_view_count": null,
            "_view_module": "@jupyter-widgets/controls",
            "_view_module_version": "1.5.0",
            "_view_name": "PasswordView",
            "continuous_update": true,
            "description": "Token:",
            "description_tooltip": null,
            "disabled": false,
            "layout": "IPY_MODEL_2d5e5ea1a7634954a023e334a4a7f978",
            "placeholder": "​",
            "style": "IPY_MODEL_7a92bb19000145aa914b438c73bd34fb",
            "value": ""
          }
        },
        "e95f003abd2f41e3be0a8584a45c02b4": {
          "model_module": "@jupyter-widgets/controls",
          "model_name": "CheckboxModel",
          "model_module_version": "1.5.0",
          "state": {
            "_dom_classes": [],
            "_model_module": "@jupyter-widgets/controls",
            "_model_module_version": "1.5.0",
            "_model_name": "CheckboxModel",
            "_view_count": null,
            "_view_module": "@jupyter-widgets/controls",
            "_view_module_version": "1.5.0",
            "_view_name": "CheckboxView",
            "description": "Add token as git credential?",
            "description_tooltip": null,
            "disabled": false,
            "indent": true,
            "layout": "IPY_MODEL_c9b069884e05420a8c5e7db7ccc6660a",
            "style": "IPY_MODEL_dfb867662b3245278392077ac8edf794",
            "value": true
          }
        },
        "7cd07d2fb63145d6a3a7d6dca812bd1c": {
          "model_module": "@jupyter-widgets/controls",
          "model_name": "ButtonModel",
          "model_module_version": "1.5.0",
          "state": {
            "_dom_classes": [],
            "_model_module": "@jupyter-widgets/controls",
            "_model_module_version": "1.5.0",
            "_model_name": "ButtonModel",
            "_view_count": null,
            "_view_module": "@jupyter-widgets/controls",
            "_view_module_version": "1.5.0",
            "_view_name": "ButtonView",
            "button_style": "",
            "description": "Login",
            "disabled": false,
            "icon": "",
            "layout": "IPY_MODEL_880de9aeaf3848238fa8131402fa5e20",
            "style": "IPY_MODEL_688b571fbe5f419b82958aba4ce34176",
            "tooltip": ""
          }
        },
        "c26acfececb642c3b20b18588e1e9e98": {
          "model_module": "@jupyter-widgets/controls",
          "model_name": "HTMLModel",
          "model_module_version": "1.5.0",
          "state": {
            "_dom_classes": [],
            "_model_module": "@jupyter-widgets/controls",
            "_model_module_version": "1.5.0",
            "_model_name": "HTMLModel",
            "_view_count": null,
            "_view_module": "@jupyter-widgets/controls",
            "_view_module_version": "1.5.0",
            "_view_name": "HTMLView",
            "description": "",
            "description_tooltip": null,
            "layout": "IPY_MODEL_a2eeb2b3f0094c30b872e6f2e8393c0f",
            "placeholder": "​",
            "style": "IPY_MODEL_aca97c621faf439e95d6d9bb4b4abc24",
            "value": "\n<b>Pro Tip:</b> If you don't already have one, you can create a dedicated\n'notebooks' token with 'write' access, that you can then easily reuse for all\nnotebooks. </center>"
          }
        },
        "11fa045f55a24c0aa081aad9ee0c0203": {
          "model_module": "@jupyter-widgets/base",
          "model_name": "LayoutModel",
          "model_module_version": "1.2.0",
          "state": {
            "_model_module": "@jupyter-widgets/base",
            "_model_module_version": "1.2.0",
            "_model_name": "LayoutModel",
            "_view_count": null,
            "_view_module": "@jupyter-widgets/base",
            "_view_module_version": "1.2.0",
            "_view_name": "LayoutView",
            "align_content": null,
            "align_items": "center",
            "align_self": null,
            "border": null,
            "bottom": null,
            "display": "flex",
            "flex": null,
            "flex_flow": "column",
            "grid_area": null,
            "grid_auto_columns": null,
            "grid_auto_flow": null,
            "grid_auto_rows": null,
            "grid_column": null,
            "grid_gap": null,
            "grid_row": null,
            "grid_template_areas": null,
            "grid_template_columns": null,
            "grid_template_rows": null,
            "height": null,
            "justify_content": null,
            "justify_items": null,
            "left": null,
            "margin": null,
            "max_height": null,
            "max_width": null,
            "min_height": null,
            "min_width": null,
            "object_fit": null,
            "object_position": null,
            "order": null,
            "overflow": null,
            "overflow_x": null,
            "overflow_y": null,
            "padding": null,
            "right": null,
            "top": null,
            "visibility": null,
            "width": "50%"
          }
        },
        "9f5739adee3c43f482ea5372c37fbc0a": {
          "model_module": "@jupyter-widgets/base",
          "model_name": "LayoutModel",
          "model_module_version": "1.2.0",
          "state": {
            "_model_module": "@jupyter-widgets/base",
            "_model_module_version": "1.2.0",
            "_model_name": "LayoutModel",
            "_view_count": null,
            "_view_module": "@jupyter-widgets/base",
            "_view_module_version": "1.2.0",
            "_view_name": "LayoutView",
            "align_content": null,
            "align_items": null,
            "align_self": null,
            "border": null,
            "bottom": null,
            "display": null,
            "flex": null,
            "flex_flow": null,
            "grid_area": null,
            "grid_auto_columns": null,
            "grid_auto_flow": null,
            "grid_auto_rows": null,
            "grid_column": null,
            "grid_gap": null,
            "grid_row": null,
            "grid_template_areas": null,
            "grid_template_columns": null,
            "grid_template_rows": null,
            "height": null,
            "justify_content": null,
            "justify_items": null,
            "left": null,
            "margin": null,
            "max_height": null,
            "max_width": null,
            "min_height": null,
            "min_width": null,
            "object_fit": null,
            "object_position": null,
            "order": null,
            "overflow": null,
            "overflow_x": null,
            "overflow_y": null,
            "padding": null,
            "right": null,
            "top": null,
            "visibility": null,
            "width": null
          }
        },
        "90ccca0eeff44937a4eccdad75dc14d1": {
          "model_module": "@jupyter-widgets/controls",
          "model_name": "DescriptionStyleModel",
          "model_module_version": "1.5.0",
          "state": {
            "_model_module": "@jupyter-widgets/controls",
            "_model_module_version": "1.5.0",
            "_model_name": "DescriptionStyleModel",
            "_view_count": null,
            "_view_module": "@jupyter-widgets/base",
            "_view_module_version": "1.2.0",
            "_view_name": "StyleView",
            "description_width": ""
          }
        },
        "2d5e5ea1a7634954a023e334a4a7f978": {
          "model_module": "@jupyter-widgets/base",
          "model_name": "LayoutModel",
          "model_module_version": "1.2.0",
          "state": {
            "_model_module": "@jupyter-widgets/base",
            "_model_module_version": "1.2.0",
            "_model_name": "LayoutModel",
            "_view_count": null,
            "_view_module": "@jupyter-widgets/base",
            "_view_module_version": "1.2.0",
            "_view_name": "LayoutView",
            "align_content": null,
            "align_items": null,
            "align_self": null,
            "border": null,
            "bottom": null,
            "display": null,
            "flex": null,
            "flex_flow": null,
            "grid_area": null,
            "grid_auto_columns": null,
            "grid_auto_flow": null,
            "grid_auto_rows": null,
            "grid_column": null,
            "grid_gap": null,
            "grid_row": null,
            "grid_template_areas": null,
            "grid_template_columns": null,
            "grid_template_rows": null,
            "height": null,
            "justify_content": null,
            "justify_items": null,
            "left": null,
            "margin": null,
            "max_height": null,
            "max_width": null,
            "min_height": null,
            "min_width": null,
            "object_fit": null,
            "object_position": null,
            "order": null,
            "overflow": null,
            "overflow_x": null,
            "overflow_y": null,
            "padding": null,
            "right": null,
            "top": null,
            "visibility": null,
            "width": null
          }
        },
        "7a92bb19000145aa914b438c73bd34fb": {
          "model_module": "@jupyter-widgets/controls",
          "model_name": "DescriptionStyleModel",
          "model_module_version": "1.5.0",
          "state": {
            "_model_module": "@jupyter-widgets/controls",
            "_model_module_version": "1.5.0",
            "_model_name": "DescriptionStyleModel",
            "_view_count": null,
            "_view_module": "@jupyter-widgets/base",
            "_view_module_version": "1.2.0",
            "_view_name": "StyleView",
            "description_width": ""
          }
        },
        "c9b069884e05420a8c5e7db7ccc6660a": {
          "model_module": "@jupyter-widgets/base",
          "model_name": "LayoutModel",
          "model_module_version": "1.2.0",
          "state": {
            "_model_module": "@jupyter-widgets/base",
            "_model_module_version": "1.2.0",
            "_model_name": "LayoutModel",
            "_view_count": null,
            "_view_module": "@jupyter-widgets/base",
            "_view_module_version": "1.2.0",
            "_view_name": "LayoutView",
            "align_content": null,
            "align_items": null,
            "align_self": null,
            "border": null,
            "bottom": null,
            "display": null,
            "flex": null,
            "flex_flow": null,
            "grid_area": null,
            "grid_auto_columns": null,
            "grid_auto_flow": null,
            "grid_auto_rows": null,
            "grid_column": null,
            "grid_gap": null,
            "grid_row": null,
            "grid_template_areas": null,
            "grid_template_columns": null,
            "grid_template_rows": null,
            "height": null,
            "justify_content": null,
            "justify_items": null,
            "left": null,
            "margin": null,
            "max_height": null,
            "max_width": null,
            "min_height": null,
            "min_width": null,
            "object_fit": null,
            "object_position": null,
            "order": null,
            "overflow": null,
            "overflow_x": null,
            "overflow_y": null,
            "padding": null,
            "right": null,
            "top": null,
            "visibility": null,
            "width": null
          }
        },
        "dfb867662b3245278392077ac8edf794": {
          "model_module": "@jupyter-widgets/controls",
          "model_name": "DescriptionStyleModel",
          "model_module_version": "1.5.0",
          "state": {
            "_model_module": "@jupyter-widgets/controls",
            "_model_module_version": "1.5.0",
            "_model_name": "DescriptionStyleModel",
            "_view_count": null,
            "_view_module": "@jupyter-widgets/base",
            "_view_module_version": "1.2.0",
            "_view_name": "StyleView",
            "description_width": ""
          }
        },
        "880de9aeaf3848238fa8131402fa5e20": {
          "model_module": "@jupyter-widgets/base",
          "model_name": "LayoutModel",
          "model_module_version": "1.2.0",
          "state": {
            "_model_module": "@jupyter-widgets/base",
            "_model_module_version": "1.2.0",
            "_model_name": "LayoutModel",
            "_view_count": null,
            "_view_module": "@jupyter-widgets/base",
            "_view_module_version": "1.2.0",
            "_view_name": "LayoutView",
            "align_content": null,
            "align_items": null,
            "align_self": null,
            "border": null,
            "bottom": null,
            "display": null,
            "flex": null,
            "flex_flow": null,
            "grid_area": null,
            "grid_auto_columns": null,
            "grid_auto_flow": null,
            "grid_auto_rows": null,
            "grid_column": null,
            "grid_gap": null,
            "grid_row": null,
            "grid_template_areas": null,
            "grid_template_columns": null,
            "grid_template_rows": null,
            "height": null,
            "justify_content": null,
            "justify_items": null,
            "left": null,
            "margin": null,
            "max_height": null,
            "max_width": null,
            "min_height": null,
            "min_width": null,
            "object_fit": null,
            "object_position": null,
            "order": null,
            "overflow": null,
            "overflow_x": null,
            "overflow_y": null,
            "padding": null,
            "right": null,
            "top": null,
            "visibility": null,
            "width": null
          }
        },
        "688b571fbe5f419b82958aba4ce34176": {
          "model_module": "@jupyter-widgets/controls",
          "model_name": "ButtonStyleModel",
          "model_module_version": "1.5.0",
          "state": {
            "_model_module": "@jupyter-widgets/controls",
            "_model_module_version": "1.5.0",
            "_model_name": "ButtonStyleModel",
            "_view_count": null,
            "_view_module": "@jupyter-widgets/base",
            "_view_module_version": "1.2.0",
            "_view_name": "StyleView",
            "button_color": null,
            "font_weight": ""
          }
        },
        "a2eeb2b3f0094c30b872e6f2e8393c0f": {
          "model_module": "@jupyter-widgets/base",
          "model_name": "LayoutModel",
          "model_module_version": "1.2.0",
          "state": {
            "_model_module": "@jupyter-widgets/base",
            "_model_module_version": "1.2.0",
            "_model_name": "LayoutModel",
            "_view_count": null,
            "_view_module": "@jupyter-widgets/base",
            "_view_module_version": "1.2.0",
            "_view_name": "LayoutView",
            "align_content": null,
            "align_items": null,
            "align_self": null,
            "border": null,
            "bottom": null,
            "display": null,
            "flex": null,
            "flex_flow": null,
            "grid_area": null,
            "grid_auto_columns": null,
            "grid_auto_flow": null,
            "grid_auto_rows": null,
            "grid_column": null,
            "grid_gap": null,
            "grid_row": null,
            "grid_template_areas": null,
            "grid_template_columns": null,
            "grid_template_rows": null,
            "height": null,
            "justify_content": null,
            "justify_items": null,
            "left": null,
            "margin": null,
            "max_height": null,
            "max_width": null,
            "min_height": null,
            "min_width": null,
            "object_fit": null,
            "object_position": null,
            "order": null,
            "overflow": null,
            "overflow_x": null,
            "overflow_y": null,
            "padding": null,
            "right": null,
            "top": null,
            "visibility": null,
            "width": null
          }
        },
        "aca97c621faf439e95d6d9bb4b4abc24": {
          "model_module": "@jupyter-widgets/controls",
          "model_name": "DescriptionStyleModel",
          "model_module_version": "1.5.0",
          "state": {
            "_model_module": "@jupyter-widgets/controls",
            "_model_module_version": "1.5.0",
            "_model_name": "DescriptionStyleModel",
            "_view_count": null,
            "_view_module": "@jupyter-widgets/base",
            "_view_module_version": "1.2.0",
            "_view_name": "StyleView",
            "description_width": ""
          }
        },
        "3f8bff2626e1406a8069f601eabfd1fe": {
          "model_module": "@jupyter-widgets/controls",
          "model_name": "LabelModel",
          "model_module_version": "1.5.0",
          "state": {
            "_dom_classes": [],
            "_model_module": "@jupyter-widgets/controls",
            "_model_module_version": "1.5.0",
            "_model_name": "LabelModel",
            "_view_count": null,
            "_view_module": "@jupyter-widgets/controls",
            "_view_module_version": "1.5.0",
            "_view_name": "LabelView",
            "description": "",
            "description_tooltip": null,
            "layout": "IPY_MODEL_da53691af9564e0ebe53396496debc15",
            "placeholder": "​",
            "style": "IPY_MODEL_9c10f4cfbf0a4e5a822f46f009e1a975",
            "value": "Connecting..."
          }
        },
        "da53691af9564e0ebe53396496debc15": {
          "model_module": "@jupyter-widgets/base",
          "model_name": "LayoutModel",
          "model_module_version": "1.2.0",
          "state": {
            "_model_module": "@jupyter-widgets/base",
            "_model_module_version": "1.2.0",
            "_model_name": "LayoutModel",
            "_view_count": null,
            "_view_module": "@jupyter-widgets/base",
            "_view_module_version": "1.2.0",
            "_view_name": "LayoutView",
            "align_content": null,
            "align_items": null,
            "align_self": null,
            "border": null,
            "bottom": null,
            "display": null,
            "flex": null,
            "flex_flow": null,
            "grid_area": null,
            "grid_auto_columns": null,
            "grid_auto_flow": null,
            "grid_auto_rows": null,
            "grid_column": null,
            "grid_gap": null,
            "grid_row": null,
            "grid_template_areas": null,
            "grid_template_columns": null,
            "grid_template_rows": null,
            "height": null,
            "justify_content": null,
            "justify_items": null,
            "left": null,
            "margin": null,
            "max_height": null,
            "max_width": null,
            "min_height": null,
            "min_width": null,
            "object_fit": null,
            "object_position": null,
            "order": null,
            "overflow": null,
            "overflow_x": null,
            "overflow_y": null,
            "padding": null,
            "right": null,
            "top": null,
            "visibility": null,
            "width": null
          }
        },
        "9c10f4cfbf0a4e5a822f46f009e1a975": {
          "model_module": "@jupyter-widgets/controls",
          "model_name": "DescriptionStyleModel",
          "model_module_version": "1.5.0",
          "state": {
            "_model_module": "@jupyter-widgets/controls",
            "_model_module_version": "1.5.0",
            "_model_name": "DescriptionStyleModel",
            "_view_count": null,
            "_view_module": "@jupyter-widgets/base",
            "_view_module_version": "1.2.0",
            "_view_name": "StyleView",
            "description_width": ""
          }
        },
        "3f5fd852a1824d0dbe794edd40cab88d": {
          "model_module": "@jupyter-widgets/controls",
          "model_name": "LabelModel",
          "model_module_version": "1.5.0",
          "state": {
            "_dom_classes": [],
            "_model_module": "@jupyter-widgets/controls",
            "_model_module_version": "1.5.0",
            "_model_name": "LabelModel",
            "_view_count": null,
            "_view_module": "@jupyter-widgets/controls",
            "_view_module_version": "1.5.0",
            "_view_name": "LabelView",
            "description": "",
            "description_tooltip": null,
            "layout": "IPY_MODEL_d996bd3145524ded8b189f3d918d3173",
            "placeholder": "​",
            "style": "IPY_MODEL_5038b99cba7b4bac96c29c1a21eb4724",
            "value": "Token is valid (permission: write)."
          }
        },
        "10fc9193e7a54a24bb7269721e2dfe0d": {
          "model_module": "@jupyter-widgets/controls",
          "model_name": "LabelModel",
          "model_module_version": "1.5.0",
          "state": {
            "_dom_classes": [],
            "_model_module": "@jupyter-widgets/controls",
            "_model_module_version": "1.5.0",
            "_model_name": "LabelModel",
            "_view_count": null,
            "_view_module": "@jupyter-widgets/controls",
            "_view_module_version": "1.5.0",
            "_view_name": "LabelView",
            "description": "",
            "description_tooltip": null,
            "layout": "IPY_MODEL_87ae2f5de1334a778678c1e77767b2ff",
            "placeholder": "​",
            "style": "IPY_MODEL_f927c1535da0473da9c623de09e46b68",
            "value": "Your token has been saved in your configured git credential helpers (store)."
          }
        },
        "a139ebe590c14d9d91603812ee1719fb": {
          "model_module": "@jupyter-widgets/controls",
          "model_name": "LabelModel",
          "model_module_version": "1.5.0",
          "state": {
            "_dom_classes": [],
            "_model_module": "@jupyter-widgets/controls",
            "_model_module_version": "1.5.0",
            "_model_name": "LabelModel",
            "_view_count": null,
            "_view_module": "@jupyter-widgets/controls",
            "_view_module_version": "1.5.0",
            "_view_name": "LabelView",
            "description": "",
            "description_tooltip": null,
            "layout": "IPY_MODEL_b0574c3cba744e5eae1ae83db0f41bde",
            "placeholder": "​",
            "style": "IPY_MODEL_9283d49cda014c1c972368308bd55bb8",
            "value": "Your token has been saved to /root/.cache/huggingface/token"
          }
        },
        "261efa9405cf463492a781c608535a16": {
          "model_module": "@jupyter-widgets/controls",
          "model_name": "LabelModel",
          "model_module_version": "1.5.0",
          "state": {
            "_dom_classes": [],
            "_model_module": "@jupyter-widgets/controls",
            "_model_module_version": "1.5.0",
            "_model_name": "LabelModel",
            "_view_count": null,
            "_view_module": "@jupyter-widgets/controls",
            "_view_module_version": "1.5.0",
            "_view_name": "LabelView",
            "description": "",
            "description_tooltip": null,
            "layout": "IPY_MODEL_b441841d4e8b4b0fae94eedd10bbdb1c",
            "placeholder": "​",
            "style": "IPY_MODEL_9eea6b6d45b8432bb6f2f051d5fa4c84",
            "value": "Login successful"
          }
        },
        "d996bd3145524ded8b189f3d918d3173": {
          "model_module": "@jupyter-widgets/base",
          "model_name": "LayoutModel",
          "model_module_version": "1.2.0",
          "state": {
            "_model_module": "@jupyter-widgets/base",
            "_model_module_version": "1.2.0",
            "_model_name": "LayoutModel",
            "_view_count": null,
            "_view_module": "@jupyter-widgets/base",
            "_view_module_version": "1.2.0",
            "_view_name": "LayoutView",
            "align_content": null,
            "align_items": null,
            "align_self": null,
            "border": null,
            "bottom": null,
            "display": null,
            "flex": null,
            "flex_flow": null,
            "grid_area": null,
            "grid_auto_columns": null,
            "grid_auto_flow": null,
            "grid_auto_rows": null,
            "grid_column": null,
            "grid_gap": null,
            "grid_row": null,
            "grid_template_areas": null,
            "grid_template_columns": null,
            "grid_template_rows": null,
            "height": null,
            "justify_content": null,
            "justify_items": null,
            "left": null,
            "margin": null,
            "max_height": null,
            "max_width": null,
            "min_height": null,
            "min_width": null,
            "object_fit": null,
            "object_position": null,
            "order": null,
            "overflow": null,
            "overflow_x": null,
            "overflow_y": null,
            "padding": null,
            "right": null,
            "top": null,
            "visibility": null,
            "width": null
          }
        },
        "5038b99cba7b4bac96c29c1a21eb4724": {
          "model_module": "@jupyter-widgets/controls",
          "model_name": "DescriptionStyleModel",
          "model_module_version": "1.5.0",
          "state": {
            "_model_module": "@jupyter-widgets/controls",
            "_model_module_version": "1.5.0",
            "_model_name": "DescriptionStyleModel",
            "_view_count": null,
            "_view_module": "@jupyter-widgets/base",
            "_view_module_version": "1.2.0",
            "_view_name": "StyleView",
            "description_width": ""
          }
        },
        "87ae2f5de1334a778678c1e77767b2ff": {
          "model_module": "@jupyter-widgets/base",
          "model_name": "LayoutModel",
          "model_module_version": "1.2.0",
          "state": {
            "_model_module": "@jupyter-widgets/base",
            "_model_module_version": "1.2.0",
            "_model_name": "LayoutModel",
            "_view_count": null,
            "_view_module": "@jupyter-widgets/base",
            "_view_module_version": "1.2.0",
            "_view_name": "LayoutView",
            "align_content": null,
            "align_items": null,
            "align_self": null,
            "border": null,
            "bottom": null,
            "display": null,
            "flex": null,
            "flex_flow": null,
            "grid_area": null,
            "grid_auto_columns": null,
            "grid_auto_flow": null,
            "grid_auto_rows": null,
            "grid_column": null,
            "grid_gap": null,
            "grid_row": null,
            "grid_template_areas": null,
            "grid_template_columns": null,
            "grid_template_rows": null,
            "height": null,
            "justify_content": null,
            "justify_items": null,
            "left": null,
            "margin": null,
            "max_height": null,
            "max_width": null,
            "min_height": null,
            "min_width": null,
            "object_fit": null,
            "object_position": null,
            "order": null,
            "overflow": null,
            "overflow_x": null,
            "overflow_y": null,
            "padding": null,
            "right": null,
            "top": null,
            "visibility": null,
            "width": null
          }
        },
        "f927c1535da0473da9c623de09e46b68": {
          "model_module": "@jupyter-widgets/controls",
          "model_name": "DescriptionStyleModel",
          "model_module_version": "1.5.0",
          "state": {
            "_model_module": "@jupyter-widgets/controls",
            "_model_module_version": "1.5.0",
            "_model_name": "DescriptionStyleModel",
            "_view_count": null,
            "_view_module": "@jupyter-widgets/base",
            "_view_module_version": "1.2.0",
            "_view_name": "StyleView",
            "description_width": ""
          }
        },
        "b0574c3cba744e5eae1ae83db0f41bde": {
          "model_module": "@jupyter-widgets/base",
          "model_name": "LayoutModel",
          "model_module_version": "1.2.0",
          "state": {
            "_model_module": "@jupyter-widgets/base",
            "_model_module_version": "1.2.0",
            "_model_name": "LayoutModel",
            "_view_count": null,
            "_view_module": "@jupyter-widgets/base",
            "_view_module_version": "1.2.0",
            "_view_name": "LayoutView",
            "align_content": null,
            "align_items": null,
            "align_self": null,
            "border": null,
            "bottom": null,
            "display": null,
            "flex": null,
            "flex_flow": null,
            "grid_area": null,
            "grid_auto_columns": null,
            "grid_auto_flow": null,
            "grid_auto_rows": null,
            "grid_column": null,
            "grid_gap": null,
            "grid_row": null,
            "grid_template_areas": null,
            "grid_template_columns": null,
            "grid_template_rows": null,
            "height": null,
            "justify_content": null,
            "justify_items": null,
            "left": null,
            "margin": null,
            "max_height": null,
            "max_width": null,
            "min_height": null,
            "min_width": null,
            "object_fit": null,
            "object_position": null,
            "order": null,
            "overflow": null,
            "overflow_x": null,
            "overflow_y": null,
            "padding": null,
            "right": null,
            "top": null,
            "visibility": null,
            "width": null
          }
        },
        "9283d49cda014c1c972368308bd55bb8": {
          "model_module": "@jupyter-widgets/controls",
          "model_name": "DescriptionStyleModel",
          "model_module_version": "1.5.0",
          "state": {
            "_model_module": "@jupyter-widgets/controls",
            "_model_module_version": "1.5.0",
            "_model_name": "DescriptionStyleModel",
            "_view_count": null,
            "_view_module": "@jupyter-widgets/base",
            "_view_module_version": "1.2.0",
            "_view_name": "StyleView",
            "description_width": ""
          }
        },
        "b441841d4e8b4b0fae94eedd10bbdb1c": {
          "model_module": "@jupyter-widgets/base",
          "model_name": "LayoutModel",
          "model_module_version": "1.2.0",
          "state": {
            "_model_module": "@jupyter-widgets/base",
            "_model_module_version": "1.2.0",
            "_model_name": "LayoutModel",
            "_view_count": null,
            "_view_module": "@jupyter-widgets/base",
            "_view_module_version": "1.2.0",
            "_view_name": "LayoutView",
            "align_content": null,
            "align_items": null,
            "align_self": null,
            "border": null,
            "bottom": null,
            "display": null,
            "flex": null,
            "flex_flow": null,
            "grid_area": null,
            "grid_auto_columns": null,
            "grid_auto_flow": null,
            "grid_auto_rows": null,
            "grid_column": null,
            "grid_gap": null,
            "grid_row": null,
            "grid_template_areas": null,
            "grid_template_columns": null,
            "grid_template_rows": null,
            "height": null,
            "justify_content": null,
            "justify_items": null,
            "left": null,
            "margin": null,
            "max_height": null,
            "max_width": null,
            "min_height": null,
            "min_width": null,
            "object_fit": null,
            "object_position": null,
            "order": null,
            "overflow": null,
            "overflow_x": null,
            "overflow_y": null,
            "padding": null,
            "right": null,
            "top": null,
            "visibility": null,
            "width": null
          }
        },
        "9eea6b6d45b8432bb6f2f051d5fa4c84": {
          "model_module": "@jupyter-widgets/controls",
          "model_name": "DescriptionStyleModel",
          "model_module_version": "1.5.0",
          "state": {
            "_model_module": "@jupyter-widgets/controls",
            "_model_module_version": "1.5.0",
            "_model_name": "DescriptionStyleModel",
            "_view_count": null,
            "_view_module": "@jupyter-widgets/base",
            "_view_module_version": "1.2.0",
            "_view_name": "StyleView",
            "description_width": ""
          }
        },
        "73e54af058b542d584190d705b74e653": {
          "model_module": "@jupyter-widgets/controls",
          "model_name": "HBoxModel",
          "model_module_version": "1.5.0",
          "state": {
            "_dom_classes": [],
            "_model_module": "@jupyter-widgets/controls",
            "_model_module_version": "1.5.0",
            "_model_name": "HBoxModel",
            "_view_count": null,
            "_view_module": "@jupyter-widgets/controls",
            "_view_module_version": "1.5.0",
            "_view_name": "HBoxView",
            "box_style": "",
            "children": [
              "IPY_MODEL_7acf05d80fd74ed5a7f89a967cd2288c",
              "IPY_MODEL_c1109aa19c4a4ccf97f3ee76c0bdeb84",
              "IPY_MODEL_e1da9bd353dd4d698fc42e6e9668d4d9"
            ],
            "layout": "IPY_MODEL_8c84b05be09b420c998418a41b661a0f"
          }
        },
        "7acf05d80fd74ed5a7f89a967cd2288c": {
          "model_module": "@jupyter-widgets/controls",
          "model_name": "HTMLModel",
          "model_module_version": "1.5.0",
          "state": {
            "_dom_classes": [],
            "_model_module": "@jupyter-widgets/controls",
            "_model_module_version": "1.5.0",
            "_model_name": "HTMLModel",
            "_view_count": null,
            "_view_module": "@jupyter-widgets/controls",
            "_view_module_version": "1.5.0",
            "_view_name": "HTMLView",
            "description": "",
            "description_tooltip": null,
            "layout": "IPY_MODEL_14682b8e9f4047df88178f7b150274f8",
            "placeholder": "​",
            "style": "IPY_MODEL_ff408c275c6a41369a84a611bd475a1b",
            "value": "Map: 100%"
          }
        },
        "c1109aa19c4a4ccf97f3ee76c0bdeb84": {
          "model_module": "@jupyter-widgets/controls",
          "model_name": "FloatProgressModel",
          "model_module_version": "1.5.0",
          "state": {
            "_dom_classes": [],
            "_model_module": "@jupyter-widgets/controls",
            "_model_module_version": "1.5.0",
            "_model_name": "FloatProgressModel",
            "_view_count": null,
            "_view_module": "@jupyter-widgets/controls",
            "_view_module_version": "1.5.0",
            "_view_name": "ProgressView",
            "bar_style": "success",
            "description": "",
            "description_tooltip": null,
            "layout": "IPY_MODEL_2425b1a6f3f84456acf2f57c8f9a263a",
            "max": 6890,
            "min": 0,
            "orientation": "horizontal",
            "style": "IPY_MODEL_505594ae454f40aca999a1c4268f5754",
            "value": 6890
          }
        },
        "e1da9bd353dd4d698fc42e6e9668d4d9": {
          "model_module": "@jupyter-widgets/controls",
          "model_name": "HTMLModel",
          "model_module_version": "1.5.0",
          "state": {
            "_dom_classes": [],
            "_model_module": "@jupyter-widgets/controls",
            "_model_module_version": "1.5.0",
            "_model_name": "HTMLModel",
            "_view_count": null,
            "_view_module": "@jupyter-widgets/controls",
            "_view_module_version": "1.5.0",
            "_view_name": "HTMLView",
            "description": "",
            "description_tooltip": null,
            "layout": "IPY_MODEL_282cb9496b9f4e33a65a80eab0dc65b8",
            "placeholder": "​",
            "style": "IPY_MODEL_0f791c06009a489c8f40e7c33441582f",
            "value": " 6890/6890 [00:25&lt;00:00, 220.47 examples/s]"
          }
        },
        "8c84b05be09b420c998418a41b661a0f": {
          "model_module": "@jupyter-widgets/base",
          "model_name": "LayoutModel",
          "model_module_version": "1.2.0",
          "state": {
            "_model_module": "@jupyter-widgets/base",
            "_model_module_version": "1.2.0",
            "_model_name": "LayoutModel",
            "_view_count": null,
            "_view_module": "@jupyter-widgets/base",
            "_view_module_version": "1.2.0",
            "_view_name": "LayoutView",
            "align_content": null,
            "align_items": null,
            "align_self": null,
            "border": null,
            "bottom": null,
            "display": null,
            "flex": null,
            "flex_flow": null,
            "grid_area": null,
            "grid_auto_columns": null,
            "grid_auto_flow": null,
            "grid_auto_rows": null,
            "grid_column": null,
            "grid_gap": null,
            "grid_row": null,
            "grid_template_areas": null,
            "grid_template_columns": null,
            "grid_template_rows": null,
            "height": null,
            "justify_content": null,
            "justify_items": null,
            "left": null,
            "margin": null,
            "max_height": null,
            "max_width": null,
            "min_height": null,
            "min_width": null,
            "object_fit": null,
            "object_position": null,
            "order": null,
            "overflow": null,
            "overflow_x": null,
            "overflow_y": null,
            "padding": null,
            "right": null,
            "top": null,
            "visibility": null,
            "width": null
          }
        },
        "14682b8e9f4047df88178f7b150274f8": {
          "model_module": "@jupyter-widgets/base",
          "model_name": "LayoutModel",
          "model_module_version": "1.2.0",
          "state": {
            "_model_module": "@jupyter-widgets/base",
            "_model_module_version": "1.2.0",
            "_model_name": "LayoutModel",
            "_view_count": null,
            "_view_module": "@jupyter-widgets/base",
            "_view_module_version": "1.2.0",
            "_view_name": "LayoutView",
            "align_content": null,
            "align_items": null,
            "align_self": null,
            "border": null,
            "bottom": null,
            "display": null,
            "flex": null,
            "flex_flow": null,
            "grid_area": null,
            "grid_auto_columns": null,
            "grid_auto_flow": null,
            "grid_auto_rows": null,
            "grid_column": null,
            "grid_gap": null,
            "grid_row": null,
            "grid_template_areas": null,
            "grid_template_columns": null,
            "grid_template_rows": null,
            "height": null,
            "justify_content": null,
            "justify_items": null,
            "left": null,
            "margin": null,
            "max_height": null,
            "max_width": null,
            "min_height": null,
            "min_width": null,
            "object_fit": null,
            "object_position": null,
            "order": null,
            "overflow": null,
            "overflow_x": null,
            "overflow_y": null,
            "padding": null,
            "right": null,
            "top": null,
            "visibility": null,
            "width": null
          }
        },
        "ff408c275c6a41369a84a611bd475a1b": {
          "model_module": "@jupyter-widgets/controls",
          "model_name": "DescriptionStyleModel",
          "model_module_version": "1.5.0",
          "state": {
            "_model_module": "@jupyter-widgets/controls",
            "_model_module_version": "1.5.0",
            "_model_name": "DescriptionStyleModel",
            "_view_count": null,
            "_view_module": "@jupyter-widgets/base",
            "_view_module_version": "1.2.0",
            "_view_name": "StyleView",
            "description_width": ""
          }
        },
        "2425b1a6f3f84456acf2f57c8f9a263a": {
          "model_module": "@jupyter-widgets/base",
          "model_name": "LayoutModel",
          "model_module_version": "1.2.0",
          "state": {
            "_model_module": "@jupyter-widgets/base",
            "_model_module_version": "1.2.0",
            "_model_name": "LayoutModel",
            "_view_count": null,
            "_view_module": "@jupyter-widgets/base",
            "_view_module_version": "1.2.0",
            "_view_name": "LayoutView",
            "align_content": null,
            "align_items": null,
            "align_self": null,
            "border": null,
            "bottom": null,
            "display": null,
            "flex": null,
            "flex_flow": null,
            "grid_area": null,
            "grid_auto_columns": null,
            "grid_auto_flow": null,
            "grid_auto_rows": null,
            "grid_column": null,
            "grid_gap": null,
            "grid_row": null,
            "grid_template_areas": null,
            "grid_template_columns": null,
            "grid_template_rows": null,
            "height": null,
            "justify_content": null,
            "justify_items": null,
            "left": null,
            "margin": null,
            "max_height": null,
            "max_width": null,
            "min_height": null,
            "min_width": null,
            "object_fit": null,
            "object_position": null,
            "order": null,
            "overflow": null,
            "overflow_x": null,
            "overflow_y": null,
            "padding": null,
            "right": null,
            "top": null,
            "visibility": null,
            "width": null
          }
        },
        "505594ae454f40aca999a1c4268f5754": {
          "model_module": "@jupyter-widgets/controls",
          "model_name": "ProgressStyleModel",
          "model_module_version": "1.5.0",
          "state": {
            "_model_module": "@jupyter-widgets/controls",
            "_model_module_version": "1.5.0",
            "_model_name": "ProgressStyleModel",
            "_view_count": null,
            "_view_module": "@jupyter-widgets/base",
            "_view_module_version": "1.2.0",
            "_view_name": "StyleView",
            "bar_color": null,
            "description_width": ""
          }
        },
        "282cb9496b9f4e33a65a80eab0dc65b8": {
          "model_module": "@jupyter-widgets/base",
          "model_name": "LayoutModel",
          "model_module_version": "1.2.0",
          "state": {
            "_model_module": "@jupyter-widgets/base",
            "_model_module_version": "1.2.0",
            "_model_name": "LayoutModel",
            "_view_count": null,
            "_view_module": "@jupyter-widgets/base",
            "_view_module_version": "1.2.0",
            "_view_name": "LayoutView",
            "align_content": null,
            "align_items": null,
            "align_self": null,
            "border": null,
            "bottom": null,
            "display": null,
            "flex": null,
            "flex_flow": null,
            "grid_area": null,
            "grid_auto_columns": null,
            "grid_auto_flow": null,
            "grid_auto_rows": null,
            "grid_column": null,
            "grid_gap": null,
            "grid_row": null,
            "grid_template_areas": null,
            "grid_template_columns": null,
            "grid_template_rows": null,
            "height": null,
            "justify_content": null,
            "justify_items": null,
            "left": null,
            "margin": null,
            "max_height": null,
            "max_width": null,
            "min_height": null,
            "min_width": null,
            "object_fit": null,
            "object_position": null,
            "order": null,
            "overflow": null,
            "overflow_x": null,
            "overflow_y": null,
            "padding": null,
            "right": null,
            "top": null,
            "visibility": null,
            "width": null
          }
        },
        "0f791c06009a489c8f40e7c33441582f": {
          "model_module": "@jupyter-widgets/controls",
          "model_name": "DescriptionStyleModel",
          "model_module_version": "1.5.0",
          "state": {
            "_model_module": "@jupyter-widgets/controls",
            "_model_module_version": "1.5.0",
            "_model_name": "DescriptionStyleModel",
            "_view_count": null,
            "_view_module": "@jupyter-widgets/base",
            "_view_module_version": "1.2.0",
            "_view_name": "StyleView",
            "description_width": ""
          }
        },
        "39026abdc1a449da86d9c76c6d31432b": {
          "model_module": "@jupyter-widgets/controls",
          "model_name": "HBoxModel",
          "model_module_version": "1.5.0",
          "state": {
            "_dom_classes": [],
            "_model_module": "@jupyter-widgets/controls",
            "_model_module_version": "1.5.0",
            "_model_name": "HBoxModel",
            "_view_count": null,
            "_view_module": "@jupyter-widgets/controls",
            "_view_module_version": "1.5.0",
            "_view_name": "HBoxView",
            "box_style": "",
            "children": [
              "IPY_MODEL_7d859e043ed04f1da99cb08cbd542f54",
              "IPY_MODEL_174c52396fa8449ab4f89844e53caf57",
              "IPY_MODEL_7080c985675041fabc073ae6996c7ea1"
            ],
            "layout": "IPY_MODEL_016d5e7c4a384ff38b1228e93c382229"
          }
        },
        "7d859e043ed04f1da99cb08cbd542f54": {
          "model_module": "@jupyter-widgets/controls",
          "model_name": "HTMLModel",
          "model_module_version": "1.5.0",
          "state": {
            "_dom_classes": [],
            "_model_module": "@jupyter-widgets/controls",
            "_model_module_version": "1.5.0",
            "_model_name": "HTMLModel",
            "_view_count": null,
            "_view_module": "@jupyter-widgets/controls",
            "_view_module_version": "1.5.0",
            "_view_name": "HTMLView",
            "description": "",
            "description_tooltip": null,
            "layout": "IPY_MODEL_1eaccae77d91405e994dce9042645501",
            "placeholder": "​",
            "style": "IPY_MODEL_b55aac68703a4781ac48f802f5114fcf",
            "value": "Upload file pytorch_model.bin: 100%"
          }
        },
        "174c52396fa8449ab4f89844e53caf57": {
          "model_module": "@jupyter-widgets/controls",
          "model_name": "FloatProgressModel",
          "model_module_version": "1.5.0",
          "state": {
            "_dom_classes": [],
            "_model_module": "@jupyter-widgets/controls",
            "_model_module_version": "1.5.0",
            "_model_name": "FloatProgressModel",
            "_view_count": null,
            "_view_module": "@jupyter-widgets/controls",
            "_view_module_version": "1.5.0",
            "_view_name": "ProgressView",
            "bar_style": "success",
            "description": "",
            "description_tooltip": null,
            "layout": "IPY_MODEL_0dfb0f0fc44e465db5056d00dc6fced3",
            "max": 242071641,
            "min": 0,
            "orientation": "horizontal",
            "style": "IPY_MODEL_93e050136f01471d80e113c4e4b1daff",
            "value": 242071641
          }
        },
        "7080c985675041fabc073ae6996c7ea1": {
          "model_module": "@jupyter-widgets/controls",
          "model_name": "HTMLModel",
          "model_module_version": "1.5.0",
          "state": {
            "_dom_classes": [],
            "_model_module": "@jupyter-widgets/controls",
            "_model_module_version": "1.5.0",
            "_model_name": "HTMLModel",
            "_view_count": null,
            "_view_module": "@jupyter-widgets/controls",
            "_view_module_version": "1.5.0",
            "_view_name": "HTMLView",
            "description": "",
            "description_tooltip": null,
            "layout": "IPY_MODEL_325002f415ae4f889f4d15ecbbfb9662",
            "placeholder": "​",
            "style": "IPY_MODEL_1f8a2018f2154bdb99bc0870699bc92b",
            "value": " 231M/231M [00:06&lt;00:00, 39.0MB/s]"
          }
        },
        "016d5e7c4a384ff38b1228e93c382229": {
          "model_module": "@jupyter-widgets/base",
          "model_name": "LayoutModel",
          "model_module_version": "1.2.0",
          "state": {
            "_model_module": "@jupyter-widgets/base",
            "_model_module_version": "1.2.0",
            "_model_name": "LayoutModel",
            "_view_count": null,
            "_view_module": "@jupyter-widgets/base",
            "_view_module_version": "1.2.0",
            "_view_name": "LayoutView",
            "align_content": null,
            "align_items": null,
            "align_self": null,
            "border": null,
            "bottom": null,
            "display": null,
            "flex": null,
            "flex_flow": null,
            "grid_area": null,
            "grid_auto_columns": null,
            "grid_auto_flow": null,
            "grid_auto_rows": null,
            "grid_column": null,
            "grid_gap": null,
            "grid_row": null,
            "grid_template_areas": null,
            "grid_template_columns": null,
            "grid_template_rows": null,
            "height": null,
            "justify_content": null,
            "justify_items": null,
            "left": null,
            "margin": null,
            "max_height": null,
            "max_width": null,
            "min_height": null,
            "min_width": null,
            "object_fit": null,
            "object_position": null,
            "order": null,
            "overflow": null,
            "overflow_x": null,
            "overflow_y": null,
            "padding": null,
            "right": null,
            "top": null,
            "visibility": null,
            "width": null
          }
        },
        "1eaccae77d91405e994dce9042645501": {
          "model_module": "@jupyter-widgets/base",
          "model_name": "LayoutModel",
          "model_module_version": "1.2.0",
          "state": {
            "_model_module": "@jupyter-widgets/base",
            "_model_module_version": "1.2.0",
            "_model_name": "LayoutModel",
            "_view_count": null,
            "_view_module": "@jupyter-widgets/base",
            "_view_module_version": "1.2.0",
            "_view_name": "LayoutView",
            "align_content": null,
            "align_items": null,
            "align_self": null,
            "border": null,
            "bottom": null,
            "display": null,
            "flex": null,
            "flex_flow": null,
            "grid_area": null,
            "grid_auto_columns": null,
            "grid_auto_flow": null,
            "grid_auto_rows": null,
            "grid_column": null,
            "grid_gap": null,
            "grid_row": null,
            "grid_template_areas": null,
            "grid_template_columns": null,
            "grid_template_rows": null,
            "height": null,
            "justify_content": null,
            "justify_items": null,
            "left": null,
            "margin": null,
            "max_height": null,
            "max_width": null,
            "min_height": null,
            "min_width": null,
            "object_fit": null,
            "object_position": null,
            "order": null,
            "overflow": null,
            "overflow_x": null,
            "overflow_y": null,
            "padding": null,
            "right": null,
            "top": null,
            "visibility": null,
            "width": null
          }
        },
        "b55aac68703a4781ac48f802f5114fcf": {
          "model_module": "@jupyter-widgets/controls",
          "model_name": "DescriptionStyleModel",
          "model_module_version": "1.5.0",
          "state": {
            "_model_module": "@jupyter-widgets/controls",
            "_model_module_version": "1.5.0",
            "_model_name": "DescriptionStyleModel",
            "_view_count": null,
            "_view_module": "@jupyter-widgets/base",
            "_view_module_version": "1.2.0",
            "_view_name": "StyleView",
            "description_width": ""
          }
        },
        "0dfb0f0fc44e465db5056d00dc6fced3": {
          "model_module": "@jupyter-widgets/base",
          "model_name": "LayoutModel",
          "model_module_version": "1.2.0",
          "state": {
            "_model_module": "@jupyter-widgets/base",
            "_model_module_version": "1.2.0",
            "_model_name": "LayoutModel",
            "_view_count": null,
            "_view_module": "@jupyter-widgets/base",
            "_view_module_version": "1.2.0",
            "_view_name": "LayoutView",
            "align_content": null,
            "align_items": null,
            "align_self": null,
            "border": null,
            "bottom": null,
            "display": null,
            "flex": null,
            "flex_flow": null,
            "grid_area": null,
            "grid_auto_columns": null,
            "grid_auto_flow": null,
            "grid_auto_rows": null,
            "grid_column": null,
            "grid_gap": null,
            "grid_row": null,
            "grid_template_areas": null,
            "grid_template_columns": null,
            "grid_template_rows": null,
            "height": null,
            "justify_content": null,
            "justify_items": null,
            "left": null,
            "margin": null,
            "max_height": null,
            "max_width": null,
            "min_height": null,
            "min_width": null,
            "object_fit": null,
            "object_position": null,
            "order": null,
            "overflow": null,
            "overflow_x": null,
            "overflow_y": null,
            "padding": null,
            "right": null,
            "top": null,
            "visibility": null,
            "width": null
          }
        },
        "93e050136f01471d80e113c4e4b1daff": {
          "model_module": "@jupyter-widgets/controls",
          "model_name": "ProgressStyleModel",
          "model_module_version": "1.5.0",
          "state": {
            "_model_module": "@jupyter-widgets/controls",
            "_model_module_version": "1.5.0",
            "_model_name": "ProgressStyleModel",
            "_view_count": null,
            "_view_module": "@jupyter-widgets/base",
            "_view_module_version": "1.2.0",
            "_view_name": "StyleView",
            "bar_color": null,
            "description_width": ""
          }
        },
        "325002f415ae4f889f4d15ecbbfb9662": {
          "model_module": "@jupyter-widgets/base",
          "model_name": "LayoutModel",
          "model_module_version": "1.2.0",
          "state": {
            "_model_module": "@jupyter-widgets/base",
            "_model_module_version": "1.2.0",
            "_model_name": "LayoutModel",
            "_view_count": null,
            "_view_module": "@jupyter-widgets/base",
            "_view_module_version": "1.2.0",
            "_view_name": "LayoutView",
            "align_content": null,
            "align_items": null,
            "align_self": null,
            "border": null,
            "bottom": null,
            "display": null,
            "flex": null,
            "flex_flow": null,
            "grid_area": null,
            "grid_auto_columns": null,
            "grid_auto_flow": null,
            "grid_auto_rows": null,
            "grid_column": null,
            "grid_gap": null,
            "grid_row": null,
            "grid_template_areas": null,
            "grid_template_columns": null,
            "grid_template_rows": null,
            "height": null,
            "justify_content": null,
            "justify_items": null,
            "left": null,
            "margin": null,
            "max_height": null,
            "max_width": null,
            "min_height": null,
            "min_width": null,
            "object_fit": null,
            "object_position": null,
            "order": null,
            "overflow": null,
            "overflow_x": null,
            "overflow_y": null,
            "padding": null,
            "right": null,
            "top": null,
            "visibility": null,
            "width": null
          }
        },
        "1f8a2018f2154bdb99bc0870699bc92b": {
          "model_module": "@jupyter-widgets/controls",
          "model_name": "DescriptionStyleModel",
          "model_module_version": "1.5.0",
          "state": {
            "_model_module": "@jupyter-widgets/controls",
            "_model_module_version": "1.5.0",
            "_model_name": "DescriptionStyleModel",
            "_view_count": null,
            "_view_module": "@jupyter-widgets/base",
            "_view_module_version": "1.2.0",
            "_view_name": "StyleView",
            "description_width": ""
          }
        },
        "738c85bd54174bb2b85b65482cca1063": {
          "model_module": "@jupyter-widgets/controls",
          "model_name": "HBoxModel",
          "model_module_version": "1.5.0",
          "state": {
            "_dom_classes": [],
            "_model_module": "@jupyter-widgets/controls",
            "_model_module_version": "1.5.0",
            "_model_name": "HBoxModel",
            "_view_count": null,
            "_view_module": "@jupyter-widgets/controls",
            "_view_module_version": "1.5.0",
            "_view_name": "HBoxView",
            "box_style": "",
            "children": [
              "IPY_MODEL_15d7cf93e6794183ad7e7a95d8442736",
              "IPY_MODEL_9ab2b3c11de54fcf87096612abd4b8ea",
              "IPY_MODEL_780455bc02c244dba178bda047bf8c87"
            ],
            "layout": "IPY_MODEL_0d0bd6d543ea4f30927493cd327c6c3e"
          }
        },
        "15d7cf93e6794183ad7e7a95d8442736": {
          "model_module": "@jupyter-widgets/controls",
          "model_name": "HTMLModel",
          "model_module_version": "1.5.0",
          "state": {
            "_dom_classes": [],
            "_model_module": "@jupyter-widgets/controls",
            "_model_module_version": "1.5.0",
            "_model_name": "HTMLModel",
            "_view_count": null,
            "_view_module": "@jupyter-widgets/controls",
            "_view_module_version": "1.5.0",
            "_view_name": "HTMLView",
            "description": "",
            "description_tooltip": null,
            "layout": "IPY_MODEL_e215c03d30da41e886ef960519a4f6ff",
            "placeholder": "​",
            "style": "IPY_MODEL_5c68c79e9320438c8c65f97ed5134ebc",
            "value": "Upload file runs/Aug06_13-13-19_c43c2ceb9006/events.out.tfevents.1691327602.c43c2ceb9006.50464.1: 100%"
          }
        },
        "9ab2b3c11de54fcf87096612abd4b8ea": {
          "model_module": "@jupyter-widgets/controls",
          "model_name": "FloatProgressModel",
          "model_module_version": "1.5.0",
          "state": {
            "_dom_classes": [],
            "_model_module": "@jupyter-widgets/controls",
            "_model_module_version": "1.5.0",
            "_model_name": "FloatProgressModel",
            "_view_count": null,
            "_view_module": "@jupyter-widgets/controls",
            "_view_module_version": "1.5.0",
            "_view_name": "ProgressView",
            "bar_style": "success",
            "description": "",
            "description_tooltip": null,
            "layout": "IPY_MODEL_1aedb6e1d75c42acb259baab41521b82",
            "max": 7358,
            "min": 0,
            "orientation": "horizontal",
            "style": "IPY_MODEL_ccdca671cd8149db979a04f451c7fa6d",
            "value": 7358
          }
        },
        "780455bc02c244dba178bda047bf8c87": {
          "model_module": "@jupyter-widgets/controls",
          "model_name": "HTMLModel",
          "model_module_version": "1.5.0",
          "state": {
            "_dom_classes": [],
            "_model_module": "@jupyter-widgets/controls",
            "_model_module_version": "1.5.0",
            "_model_name": "HTMLModel",
            "_view_count": null,
            "_view_module": "@jupyter-widgets/controls",
            "_view_module_version": "1.5.0",
            "_view_name": "HTMLView",
            "description": "",
            "description_tooltip": null,
            "layout": "IPY_MODEL_f6547f288b4143e6a83b4e97d138b6b7",
            "placeholder": "​",
            "style": "IPY_MODEL_e9928402dd7f4308ac30a319e2de1f7b",
            "value": " 7.19k/7.19k [00:06&lt;00:00, 2.65MB/s]"
          }
        },
        "0d0bd6d543ea4f30927493cd327c6c3e": {
          "model_module": "@jupyter-widgets/base",
          "model_name": "LayoutModel",
          "model_module_version": "1.2.0",
          "state": {
            "_model_module": "@jupyter-widgets/base",
            "_model_module_version": "1.2.0",
            "_model_name": "LayoutModel",
            "_view_count": null,
            "_view_module": "@jupyter-widgets/base",
            "_view_module_version": "1.2.0",
            "_view_name": "LayoutView",
            "align_content": null,
            "align_items": null,
            "align_self": null,
            "border": null,
            "bottom": null,
            "display": null,
            "flex": null,
            "flex_flow": null,
            "grid_area": null,
            "grid_auto_columns": null,
            "grid_auto_flow": null,
            "grid_auto_rows": null,
            "grid_column": null,
            "grid_gap": null,
            "grid_row": null,
            "grid_template_areas": null,
            "grid_template_columns": null,
            "grid_template_rows": null,
            "height": null,
            "justify_content": null,
            "justify_items": null,
            "left": null,
            "margin": null,
            "max_height": null,
            "max_width": null,
            "min_height": null,
            "min_width": null,
            "object_fit": null,
            "object_position": null,
            "order": null,
            "overflow": null,
            "overflow_x": null,
            "overflow_y": null,
            "padding": null,
            "right": null,
            "top": null,
            "visibility": null,
            "width": null
          }
        },
        "e215c03d30da41e886ef960519a4f6ff": {
          "model_module": "@jupyter-widgets/base",
          "model_name": "LayoutModel",
          "model_module_version": "1.2.0",
          "state": {
            "_model_module": "@jupyter-widgets/base",
            "_model_module_version": "1.2.0",
            "_model_name": "LayoutModel",
            "_view_count": null,
            "_view_module": "@jupyter-widgets/base",
            "_view_module_version": "1.2.0",
            "_view_name": "LayoutView",
            "align_content": null,
            "align_items": null,
            "align_self": null,
            "border": null,
            "bottom": null,
            "display": null,
            "flex": null,
            "flex_flow": null,
            "grid_area": null,
            "grid_auto_columns": null,
            "grid_auto_flow": null,
            "grid_auto_rows": null,
            "grid_column": null,
            "grid_gap": null,
            "grid_row": null,
            "grid_template_areas": null,
            "grid_template_columns": null,
            "grid_template_rows": null,
            "height": null,
            "justify_content": null,
            "justify_items": null,
            "left": null,
            "margin": null,
            "max_height": null,
            "max_width": null,
            "min_height": null,
            "min_width": null,
            "object_fit": null,
            "object_position": null,
            "order": null,
            "overflow": null,
            "overflow_x": null,
            "overflow_y": null,
            "padding": null,
            "right": null,
            "top": null,
            "visibility": null,
            "width": null
          }
        },
        "5c68c79e9320438c8c65f97ed5134ebc": {
          "model_module": "@jupyter-widgets/controls",
          "model_name": "DescriptionStyleModel",
          "model_module_version": "1.5.0",
          "state": {
            "_model_module": "@jupyter-widgets/controls",
            "_model_module_version": "1.5.0",
            "_model_name": "DescriptionStyleModel",
            "_view_count": null,
            "_view_module": "@jupyter-widgets/base",
            "_view_module_version": "1.2.0",
            "_view_name": "StyleView",
            "description_width": ""
          }
        },
        "1aedb6e1d75c42acb259baab41521b82": {
          "model_module": "@jupyter-widgets/base",
          "model_name": "LayoutModel",
          "model_module_version": "1.2.0",
          "state": {
            "_model_module": "@jupyter-widgets/base",
            "_model_module_version": "1.2.0",
            "_model_name": "LayoutModel",
            "_view_count": null,
            "_view_module": "@jupyter-widgets/base",
            "_view_module_version": "1.2.0",
            "_view_name": "LayoutView",
            "align_content": null,
            "align_items": null,
            "align_self": null,
            "border": null,
            "bottom": null,
            "display": null,
            "flex": null,
            "flex_flow": null,
            "grid_area": null,
            "grid_auto_columns": null,
            "grid_auto_flow": null,
            "grid_auto_rows": null,
            "grid_column": null,
            "grid_gap": null,
            "grid_row": null,
            "grid_template_areas": null,
            "grid_template_columns": null,
            "grid_template_rows": null,
            "height": null,
            "justify_content": null,
            "justify_items": null,
            "left": null,
            "margin": null,
            "max_height": null,
            "max_width": null,
            "min_height": null,
            "min_width": null,
            "object_fit": null,
            "object_position": null,
            "order": null,
            "overflow": null,
            "overflow_x": null,
            "overflow_y": null,
            "padding": null,
            "right": null,
            "top": null,
            "visibility": null,
            "width": null
          }
        },
        "ccdca671cd8149db979a04f451c7fa6d": {
          "model_module": "@jupyter-widgets/controls",
          "model_name": "ProgressStyleModel",
          "model_module_version": "1.5.0",
          "state": {
            "_model_module": "@jupyter-widgets/controls",
            "_model_module_version": "1.5.0",
            "_model_name": "ProgressStyleModel",
            "_view_count": null,
            "_view_module": "@jupyter-widgets/base",
            "_view_module_version": "1.2.0",
            "_view_name": "StyleView",
            "bar_color": null,
            "description_width": ""
          }
        },
        "f6547f288b4143e6a83b4e97d138b6b7": {
          "model_module": "@jupyter-widgets/base",
          "model_name": "LayoutModel",
          "model_module_version": "1.2.0",
          "state": {
            "_model_module": "@jupyter-widgets/base",
            "_model_module_version": "1.2.0",
            "_model_name": "LayoutModel",
            "_view_count": null,
            "_view_module": "@jupyter-widgets/base",
            "_view_module_version": "1.2.0",
            "_view_name": "LayoutView",
            "align_content": null,
            "align_items": null,
            "align_self": null,
            "border": null,
            "bottom": null,
            "display": null,
            "flex": null,
            "flex_flow": null,
            "grid_area": null,
            "grid_auto_columns": null,
            "grid_auto_flow": null,
            "grid_auto_rows": null,
            "grid_column": null,
            "grid_gap": null,
            "grid_row": null,
            "grid_template_areas": null,
            "grid_template_columns": null,
            "grid_template_rows": null,
            "height": null,
            "justify_content": null,
            "justify_items": null,
            "left": null,
            "margin": null,
            "max_height": null,
            "max_width": null,
            "min_height": null,
            "min_width": null,
            "object_fit": null,
            "object_position": null,
            "order": null,
            "overflow": null,
            "overflow_x": null,
            "overflow_y": null,
            "padding": null,
            "right": null,
            "top": null,
            "visibility": null,
            "width": null
          }
        },
        "e9928402dd7f4308ac30a319e2de1f7b": {
          "model_module": "@jupyter-widgets/controls",
          "model_name": "DescriptionStyleModel",
          "model_module_version": "1.5.0",
          "state": {
            "_model_module": "@jupyter-widgets/controls",
            "_model_module_version": "1.5.0",
            "_model_name": "DescriptionStyleModel",
            "_view_count": null,
            "_view_module": "@jupyter-widgets/base",
            "_view_module_version": "1.2.0",
            "_view_name": "StyleView",
            "description_width": ""
          }
        }
      }
    },
    "accelerator": "GPU"
  },
  "nbformat": 4,
  "nbformat_minor": 0
}